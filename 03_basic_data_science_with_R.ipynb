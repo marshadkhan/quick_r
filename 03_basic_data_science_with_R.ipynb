{
 "cells": [
  {
   "cell_type": "code",
   "execution_count": 1,
   "metadata": {},
   "outputs": [],
   "source": [
    "options(jupyter.rich_display = FALSE)"
   ]
  },
  {
   "cell_type": "markdown",
   "metadata": {},
   "source": [
    "# Basic data science with R"
   ]
  },
  {
   "cell_type": "markdown",
   "metadata": {},
   "source": [
    "## Reshaping data"
   ]
  },
  {
   "cell_type": "markdown",
   "metadata": {},
   "source": [
    "Multivariate data can be represented in wide or long format:\n",
    "\n",
    "- Reshaping a data in wide format into a long format is known as \"melting\"\n",
    "- Reshaping a data in long format into a wide format is known as \"casting\"\n",
    "\n",
    "Different shapes of data can be utilized for specific purposes"
   ]
  },
  {
   "cell_type": "markdown",
   "metadata": {},
   "source": [
    "### Melting"
   ]
  },
  {
   "cell_type": "markdown",
   "metadata": {},
   "source": [
    "A chessboard is in a 8x8 shape"
   ]
  },
  {
   "cell_type": "markdown",
   "metadata": {},
   "source": [
    "Suppose we have a chessboard with random configuration: Each of the 32 pieces by any player is given a unique number and empty squares are 0:"
   ]
  },
  {
   "cell_type": "markdown",
   "metadata": {},
   "source": [
    "First create a random vector:"
   ]
  },
  {
   "cell_type": "code",
   "execution_count": 2,
   "metadata": {},
   "outputs": [
    {
     "data": {
      "text/plain": [
       " [1]  0 18 23 22  2  0  0  0  0  0  0  0  0 14  0  0  0  0 30 16  5 25 19  0  0\n",
       "[26]  0 31  0  3  0 12 11  0 26 20  6 27  0  0 32 15 17  0  0  0  0 24 21  0  0\n",
       "[51]  0 28  0  9  1  8 13 10  7  4  0 29  0  0"
      ]
     },
     "metadata": {},
     "output_type": "display_data"
    }
   ],
   "source": [
    "chess_vec <- integer(64)\n",
    "chess_vec[1:32] <- 1:32\n",
    "chess_vec_r <- sample(chess_vec)\n",
    "chess_vec_r"
   ]
  },
  {
   "cell_type": "markdown",
   "metadata": {},
   "source": [
    "And convert to a matrix:"
   ]
  },
  {
   "cell_type": "code",
   "execution_count": 3,
   "metadata": {},
   "outputs": [
    {
     "data": {
      "text/plain": [
       "     [,1] [,2] [,3] [,4] [,5] [,6] [,7] [,8]\n",
       "[1,]  0    0    0    0    0   15    0   13  \n",
       "[2,] 18    0    0    0   26   17    0   10  \n",
       "[3,] 23    0   30   31   20    0    0    7  \n",
       "[4,] 22    0   16    0    6    0   28    4  \n",
       "[5,]  2    0    5    3   27    0    0    0  \n",
       "[6,]  0   14   25    0    0    0    9   29  \n",
       "[7,]  0    0   19   12    0   24    1    0  \n",
       "[8,]  0    0    0   11   32   21    8    0  "
      ]
     },
     "metadata": {},
     "output_type": "display_data"
    }
   ],
   "source": [
    "chess_mat <- matrix(chess_vec_r, nrow = 8)\n",
    "chess_mat"
   ]
  },
  {
   "cell_type": "code",
   "execution_count": 4,
   "metadata": {},
   "outputs": [
    {
     "data": {
      "text/plain": [
       "  V1 V2 V3 V4 V5 V6 V7 V8\n",
       "1  0  0  0  0  0 15  0 13\n",
       "2 18  0  0  0 26 17  0 10\n",
       "3 23  0 30 31 20  0  0  7\n",
       "4 22  0 16  0  6  0 28  4\n",
       "5  2  0  5  3 27  0  0  0\n",
       "6  0 14 25  0  0  0  9 29\n",
       "7  0  0 19 12  0 24  1  0\n",
       "8  0  0  0 11 32 21  8  0"
      ]
     },
     "metadata": {},
     "output_type": "display_data"
    }
   ],
   "source": [
    "chess_df <- as.data.frame(chess_mat)\n",
    "chess_df"
   ]
  },
  {
   "cell_type": "markdown",
   "metadata": {},
   "source": [
    "Our task is to create a function to convert this matrix into a format in which we have three columns:\n",
    "- One for the row index of the original matrix\n",
    "- One for the column index of the original matrix\n",
    "- One for the value"
   ]
  },
  {
   "cell_type": "markdown",
   "metadata": {},
   "source": [
    "We will use the base function reshape()"
   ]
  },
  {
   "cell_type": "code",
   "execution_count": 5,
   "metadata": {},
   "outputs": [],
   "source": [
    "?reshape"
   ]
  },
  {
   "cell_type": "markdown",
   "metadata": {},
   "source": [
    "```\n",
    "reshape(data, varying = NULL, v.names = NULL, timevar = \"time\",\n",
    "             idvar = \"id\", ids = 1:NROW(data),\n",
    "             times = seq_along(varying[[1]]),\n",
    "             drop = NULL, direction, new.row.names = NULL,\n",
    "             sep = \".\",\n",
    "             split = if (sep == \"\") {\n",
    "                 list(regexp = \"[A-Za-z][0-9]\", include = TRUE)\n",
    "             } else {\n",
    "                 list(regexp = sep, include = FALSE, fixed = TRUE)}\n",
    "             )\n",
    "     \n",
    "Arguments:\n",
    "\n",
    "    data: a data frame\n",
    "\n",
    " varying: names of sets of variables in the wide format that correspond\n",
    "          to single variables in long format (‘time-varying’).  This is\n",
    "          canonically a list of vectors of variable names, but it can\n",
    "          optionally be a matrix of names, or a single vector of names.\n",
    "          In each case, the names can be replaced by indices which are\n",
    "          interpreted as referring to ‘names(data)’.  See ‘Details’ for\n",
    "          more details and options.\n",
    "\n",
    " v.names: names of variables in the long format that correspond to\n",
    "          multiple variables in the wide format.  See ‘Details’.\n",
    "\n",
    " timevar: the variable in long format that differentiates multiple\n",
    "          records from the same group or individual.  If more than one\n",
    "          record matches, the first will be taken (with a warning).\n",
    "\n",
    "   idvar: Names of one or more variables in long format that identify\n",
    "          multiple records from the same group/individual.  These\n",
    "          variables may also be present in wide format.\n",
    "\n",
    "     ids: the values to use for a newly created ‘idvar’ variable in\n",
    "          long format.\n",
    "\n",
    "   times: the values to use for a newly created ‘timevar’ variable in\n",
    "          long format.  See ‘Details’.\n",
    "\n",
    "    drop: a vector of names of variables to drop before reshaping.\n",
    "\n",
    "direction: character string, partially matched to either ‘\"wide\"’ to\n",
    "          reshape to wide format, or ‘\"long\"’ to reshape to long\n",
    "          format.\n",
    "```"
   ]
  },
  {
   "cell_type": "markdown",
   "metadata": {},
   "source": [
    "First, let's convert the matrix into a data.frame:"
   ]
  },
  {
   "cell_type": "code",
   "execution_count": 6,
   "metadata": {},
   "outputs": [
    {
     "data": {
      "text/plain": [
       "  V1 V2 V3 V4 V5 V6 V7 V8\n",
       "1  0  0  0  0  0 15  0 13\n",
       "2 18  0  0  0 26 17  0 10\n",
       "3 23  0 30 31 20  0  0  7\n",
       "4 22  0 16  0  6  0 28  4\n",
       "5  2  0  5  3 27  0  0  0\n",
       "6  0 14 25  0  0  0  9 29\n",
       "7  0  0 19 12  0 24  1  0\n",
       "8  0  0  0 11 32 21  8  0"
      ]
     },
     "metadata": {},
     "output_type": "display_data"
    }
   ],
   "source": [
    "chess_df <- as.data.frame(chess_mat)\n",
    "chess_df"
   ]
  },
  {
   "cell_type": "markdown",
   "metadata": {},
   "source": [
    "- idvar is the variable which need to be left unaltered\n",
    "- varying are the ones that needs to converted from wide to long\n",
    "- v.names are the values that should be against the times in the resultant data frame.\n",
    "- new.row.names is used to assign row names to the resultant dataset\n",
    "- direction is, to which format the data needs to be transformed"
   ]
  },
  {
   "cell_type": "code",
   "execution_count": 7,
   "metadata": {},
   "outputs": [],
   "source": [
    "chess_long <- reshape(chess_df,\n",
    "                      idvar = \"rows\",\n",
    "                      varying = 1:8,\n",
    "                      v.name = \"piece\",\n",
    "                      direction = \"long\")"
   ]
  },
  {
   "cell_type": "code",
   "execution_count": 8,
   "metadata": {},
   "outputs": [
    {
     "data": {
      "text/plain": [
       "    time piece rows\n",
       "1.1 1     0    1   \n",
       "2.1 1    18    2   \n",
       "3.1 1    23    3   \n",
       "4.1 1    22    4   \n",
       "5.1 1     2    5   \n",
       "6.1 1     0    6   \n",
       "7.1 1     0    7   \n",
       "8.1 1     0    8   \n",
       "1.2 2     0    1   \n",
       "2.2 2     0    2   \n",
       "3.2 2     0    3   \n",
       "4.2 2     0    4   \n",
       "5.2 2     0    5   \n",
       "6.2 2    14    6   \n",
       "7.2 2     0    7   \n",
       "8.2 2     0    8   \n",
       "1.3 3     0    1   \n",
       "2.3 3     0    2   \n",
       "3.3 3    30    3   \n",
       "4.3 3    16    4   \n",
       "5.3 3     5    5   \n",
       "6.3 3    25    6   \n",
       "7.3 3    19    7   \n",
       "8.3 3     0    8   \n",
       "1.4 4     0    1   \n",
       "2.4 4     0    2   \n",
       "3.4 4    31    3   \n",
       "4.4 4     0    4   \n",
       "5.4 4     3    5   \n",
       "6.4 4     0    6   \n",
       "⋮   ⋮    ⋮     ⋮   \n",
       "3.5 5    20    3   \n",
       "4.5 5     6    4   \n",
       "5.5 5    27    5   \n",
       "6.5 5     0    6   \n",
       "7.5 5     0    7   \n",
       "8.5 5    32    8   \n",
       "1.6 6    15    1   \n",
       "2.6 6    17    2   \n",
       "3.6 6     0    3   \n",
       "4.6 6     0    4   \n",
       "5.6 6     0    5   \n",
       "6.6 6     0    6   \n",
       "7.6 6    24    7   \n",
       "8.6 6    21    8   \n",
       "1.7 7     0    1   \n",
       "2.7 7     0    2   \n",
       "3.7 7     0    3   \n",
       "4.7 7    28    4   \n",
       "5.7 7     0    5   \n",
       "6.7 7     9    6   \n",
       "7.7 7     1    7   \n",
       "8.7 7     8    8   \n",
       "1.8 8    13    1   \n",
       "2.8 8    10    2   \n",
       "3.8 8     7    3   \n",
       "4.8 8     4    4   \n",
       "5.8 8     0    5   \n",
       "6.8 8    29    6   \n",
       "7.8 8     0    7   \n",
       "8.8 8     0    8   "
      ]
     },
     "metadata": {},
     "output_type": "display_data"
    }
   ],
   "source": [
    "chess_long"
   ]
  },
  {
   "cell_type": "markdown",
   "metadata": {},
   "source": [
    "We can change the default name of column \"time\" to \"cols\" and rearrange the columns: "
   ]
  },
  {
   "cell_type": "code",
   "execution_count": 9,
   "metadata": {},
   "outputs": [
    {
     "data": {
      "text/plain": [
       "    cols rows piece\n",
       "1.1 1    1     0   \n",
       "2.1 1    2    18   \n",
       "3.1 1    3    23   \n",
       "4.1 1    4    22   \n",
       "5.1 1    5     2   \n",
       "6.1 1    6     0   \n",
       "7.1 1    7     0   \n",
       "8.1 1    8     0   \n",
       "1.2 2    1     0   \n",
       "2.2 2    2     0   \n",
       "3.2 2    3     0   \n",
       "4.2 2    4     0   \n",
       "5.2 2    5     0   \n",
       "6.2 2    6    14   \n",
       "7.2 2    7     0   \n",
       "8.2 2    8     0   \n",
       "1.3 3    1     0   \n",
       "2.3 3    2     0   \n",
       "3.3 3    3    30   \n",
       "4.3 3    4    16   \n",
       "5.3 3    5     5   \n",
       "6.3 3    6    25   \n",
       "7.3 3    7    19   \n",
       "8.3 3    8     0   \n",
       "1.4 4    1     0   \n",
       "2.4 4    2     0   \n",
       "3.4 4    3    31   \n",
       "4.4 4    4     0   \n",
       "5.4 4    5     3   \n",
       "6.4 4    6     0   \n",
       "⋮   ⋮    ⋮    ⋮    \n",
       "3.5 5    3    20   \n",
       "4.5 5    4     6   \n",
       "5.5 5    5    27   \n",
       "6.5 5    6     0   \n",
       "7.5 5    7     0   \n",
       "8.5 5    8    32   \n",
       "1.6 6    1    15   \n",
       "2.6 6    2    17   \n",
       "3.6 6    3     0   \n",
       "4.6 6    4     0   \n",
       "5.6 6    5     0   \n",
       "6.6 6    6     0   \n",
       "7.6 6    7    24   \n",
       "8.6 6    8    21   \n",
       "1.7 7    1     0   \n",
       "2.7 7    2     0   \n",
       "3.7 7    3     0   \n",
       "4.7 7    4    28   \n",
       "5.7 7    5     0   \n",
       "6.7 7    6     9   \n",
       "7.7 7    7     1   \n",
       "8.7 7    8     8   \n",
       "1.8 8    1    13   \n",
       "2.8 8    2    10   \n",
       "3.8 8    3     7   \n",
       "4.8 8    4     4   \n",
       "5.8 8    5     0   \n",
       "6.8 8    6    29   \n",
       "7.8 8    7     0   \n",
       "8.8 8    8     0   "
      ]
     },
     "metadata": {},
     "output_type": "display_data"
    }
   ],
   "source": [
    "names(chess_long)[1] <- \"cols\"\n",
    "chess_long <- chess_long[,c(\"cols\", \"rows\", \"piece\")]\n",
    "chess_long"
   ]
  },
  {
   "cell_type": "markdown",
   "metadata": {},
   "source": [
    "### Casting"
   ]
  },
  {
   "cell_type": "markdown",
   "metadata": {},
   "source": [
    "Now let's convert the long chessboard back to a wide 8x8 one:\n",
    "\n",
    "- idvar is the variable which need to be left unaltered\n",
    "- timevar are the variables that needs to converted to wide format\n",
    "- v.names are the value variable\n",
    "- direction is, to which format the data needs to be transformed"
   ]
  },
  {
   "cell_type": "code",
   "execution_count": 10,
   "metadata": {},
   "outputs": [
    {
     "data": {
      "text/plain": [
       "    rows piece.1 piece.2 piece.3 piece.4 piece.5 piece.6 piece.7 piece.8\n",
       "1.1 1     0       0       0       0       0      15       0      13     \n",
       "2.1 2    18       0       0       0      26      17       0      10     \n",
       "3.1 3    23       0      30      31      20       0       0       7     \n",
       "4.1 4    22       0      16       0       6       0      28       4     \n",
       "5.1 5     2       0       5       3      27       0       0       0     \n",
       "6.1 6     0      14      25       0       0       0       9      29     \n",
       "7.1 7     0       0      19      12       0      24       1       0     \n",
       "8.1 8     0       0       0      11      32      21       8       0     "
      ]
     },
     "metadata": {},
     "output_type": "display_data"
    }
   ],
   "source": [
    "chess_wide <- reshape(chess_long,\n",
    "       idvar = \"rows\",\n",
    "       v.names = \"piece\",\n",
    "       timevar = \"cols\",\n",
    "       direction = \"wide\")\n",
    "\n",
    "chess_wide"
   ]
  },
  {
   "cell_type": "markdown",
   "metadata": {},
   "source": [
    "We delete the first column, which is unneccessary in our example:"
   ]
  },
  {
   "cell_type": "code",
   "execution_count": 11,
   "metadata": {},
   "outputs": [
    {
     "data": {
      "text/plain": [
       "    piece.1 piece.2 piece.3 piece.4 piece.5 piece.6 piece.7 piece.8\n",
       "1.1  0       0       0       0       0      15       0      13     \n",
       "2.1 18       0       0       0      26      17       0      10     \n",
       "3.1 23       0      30      31      20       0       0       7     \n",
       "4.1 22       0      16       0       6       0      28       4     \n",
       "5.1  2       0       5       3      27       0       0       0     \n",
       "6.1  0      14      25       0       0       0       9      29     \n",
       "7.1  0       0      19      12       0      24       1       0     \n",
       "8.1  0       0       0      11      32      21       8       0     "
      ]
     },
     "metadata": {},
     "output_type": "display_data"
    }
   ],
   "source": [
    "chess_wide <- chess_wide[,-1]\n",
    "chess_wide"
   ]
  },
  {
   "cell_type": "markdown",
   "metadata": {},
   "source": [
    "and let's compare whether all values are unchanged vis-a-vis the original object:"
   ]
  },
  {
   "cell_type": "code",
   "execution_count": 12,
   "metadata": {},
   "outputs": [
    {
     "data": {
      "text/plain": [
       "[1] TRUE"
      ]
     },
     "metadata": {},
     "output_type": "display_data"
    }
   ],
   "source": [
    "all(chess_wide == chess_mat)"
   ]
  },
  {
   "cell_type": "markdown",
   "metadata": {},
   "source": [
    "### Real data example: Reshaping IMF WEO database"
   ]
  },
  {
   "cell_type": "markdown",
   "metadata": {},
   "source": [
    "First read the tsv data into R using read.delim() function (a read.table wrapper for tsv files):"
   ]
  },
  {
   "cell_type": "code",
   "execution_count": 13,
   "metadata": {},
   "outputs": [],
   "source": [
    "?read.table"
   ]
  },
  {
   "cell_type": "code",
   "execution_count": 14,
   "metadata": {},
   "outputs": [],
   "source": [
    "#weo <- read.table(\"data/WEO_Data.xls\", sep = \"\\t\", header = T, na.strings = c(\"n/a\", \"--\", \"\"), stringsAsFactors = T, dec = \".\")\n",
    "weo <- read.delim(\"data/WEO_Data.xls\", na.strings = c(\"n/a\", \"--\", \"\"), stringsAsFactors = T, dec = \".\")\n",
    "#weo <- read.delim(\"~/Downloads/WEO_Data.xls\", na.strings = c(\"n/a\", \"--\", \"\"), stringsAsFactors = T, dec = \".\")"
   ]
  },
  {
   "cell_type": "markdown",
   "metadata": {},
   "source": [
    "Let's view the structure of the data:"
   ]
  },
  {
   "cell_type": "code",
   "execution_count": 15,
   "metadata": {},
   "outputs": [
    {
     "name": "stdout",
     "output_type": "stream",
     "text": [
      "'data.frame':\t8730 obs. of  52 variables:\n",
      " $ WEO.Country.Code     : int  512 512 512 512 512 512 512 512 512 512 ...\n",
      " $ ISO                  : Factor w/ 194 levels \"ABW\",\"AFG\",\"AGO\",..: 2 2 2 2 2 2 2 2 2 2 ...\n",
      " $ WEO.Subject.Code     : Factor w/ 45 levels \"BCA\",\"BCA_NGDPD\",..: 25 26 22 27 39 23 30 31 29 28 ...\n",
      " $ Country              : Factor w/ 194 levels \"Afghanistan\",..: 1 1 1 1 1 1 1 1 1 1 ...\n",
      " $ Subject.Descriptor   : Factor w/ 29 levels \"Current account balance\",..: 14 14 15 15 15 16 12 12 13 13 ...\n",
      " $ Units                : Factor w/ 12 levels \"Index\",\"National currency\",..: 2 5 2 12 11 1 2 10 2 12 ...\n",
      " $ Scale                : Factor w/ 3 levels \"Billions\",\"Millions\",..: 1 NA 1 1 1 NA 3 3 3 3 ...\n",
      " $ X1980                : num  NA NA NA NA NA NA NA NA NA NA ...\n",
      " $ X1981                : num  NA NA NA NA NA NA NA NA NA NA ...\n",
      " $ X1982                : num  NA NA NA NA NA NA NA NA NA NA ...\n",
      " $ X1983                : num  NA NA NA NA NA NA NA NA NA NA ...\n",
      " $ X1984                : num  NA NA NA NA NA NA NA NA NA NA ...\n",
      " $ X1985                : num  NA NA NA NA NA NA NA NA NA NA ...\n",
      " $ X1986                : num  NA NA NA NA NA NA NA NA NA NA ...\n",
      " $ X1987                : num  NA NA NA NA NA NA NA NA NA NA ...\n",
      " $ X1988                : num  NA NA NA NA NA NA NA NA NA NA ...\n",
      " $ X1989                : num  NA NA NA NA NA NA NA NA NA NA ...\n",
      " $ X1990                : num  NA NA NA NA NA NA NA NA NA NA ...\n",
      " $ X1991                : num  NA NA NA NA NA NA NA NA NA NA ...\n",
      " $ X1992                : num  NA NA NA NA NA NA NA NA NA NA ...\n",
      " $ X1993                : num  NA NA NA NA NA NA NA NA NA NA ...\n",
      " $ X1994                : num  NA NA NA NA NA NA NA NA NA NA ...\n",
      " $ X1995                : num  NA NA NA NA NA NA NA NA NA NA ...\n",
      " $ X1996                : num  NA NA NA NA NA NA NA NA NA NA ...\n",
      " $ X1997                : num  NA NA NA NA NA NA NA NA NA NA ...\n",
      " $ X1998                : num  NA NA NA NA NA NA NA NA NA NA ...\n",
      " $ X1999                : num  NA NA NA NA NA NA NA NA NA NA ...\n",
      " $ X2000                : num  NA NA NA NA NA NA NA NA NA NA ...\n",
      " $ X2001                : num  NA NA NA NA NA NA NA NA NA NA ...\n",
      " $ X2002                : num  182.84 NA 178.76 4.37 18.84 ...\n",
      " $ X2003                : num  198.74 8.69 220.01 4.55 20.85 ...\n",
      " $ X2004                : num  200.069 0.671 246.21 5.146 21.557 ...\n",
      " $ X2005                : num  223.74 11.83 304.93 6.17 24.86 ...\n",
      " $ X2006                : num  235.73 5.36 345.82 6.92 26.98 ...\n",
      " $ X2007                : num  267.18 13.34 427.5 8.56 31.4 ...\n",
      " $ X2008                : num  277.5 3.86 517.51 10.3 33.25 ...\n",
      " $ X2009                : num  334.6 20.6 607.2 12.1 40.4 ...\n",
      " $ X2010                : num  362.86 8.44 711.76 15.32 44.32 ...\n",
      " $ X2011                : num  386.37 6.48 836.22 17.89 48.18 ...\n",
      " $ X2012                : num  440.3 14 1033.6 20.3 56 ...\n",
      " $ X2013                : num  465.36 5.68 1116.83 20.17 60.18 ...\n",
      " $ X2014                : num  477.9 2.7 1183 20.6 63 ...\n",
      " $ X2015                : num  482.629 0.988 1226.57 20.057 64.276 ...\n",
      " $ X2016                : num  493.07 2.16 1318.48 19.43 66.38 ...\n",
      " $ X2017                : num  506.21 2.67 1377.54 20.23 69.45 ...\n",
      " $ X2018                : num  517.9 2.3 1451.6 20.4 72.7 ...\n",
      " $ X2019                : num  533.52 3.02 1555.42 21.07 76.49 ...\n",
      " $ X2020                : num  552.31 3.52 1691.37 22.31 80.69 ...\n",
      " $ X2021                : num  574.5 4.02 1847.39 23.8 85.5 ...\n",
      " $ X2022                : num  600.44 4.51 2027.43 25.58 91.02 ...\n",
      " $ X2023                : num  630.53 5.01 2235.55 27.62 97.43 ...\n",
      " $ Estimates.Start.After: int  2016 2016 2016 2016 2016 2016 2016 2016 2016 2016 ...\n"
     ]
    }
   ],
   "source": [
    "str(weo)"
   ]
  },
  {
   "cell_type": "markdown",
   "metadata": {},
   "source": [
    "Let's get the names and indices of factor variables:"
   ]
  },
  {
   "cell_type": "code",
   "execution_count": 16,
   "metadata": {},
   "outputs": [
    {
     "data": {
      "text/plain": [
       "               ISO   WEO.Subject.Code            Country Subject.Descriptor \n",
       "                 2                  3                  4                  5 \n",
       "             Units              Scale \n",
       "                 6                  7 "
      ]
     },
     "metadata": {},
     "output_type": "display_data"
    }
   ],
   "source": [
    "factors <- which(sapply(weo, is.factor))\n",
    "factors"
   ]
  },
  {
   "cell_type": "markdown",
   "metadata": {},
   "source": [
    "And get the unique values (or levels) of each of these factor variables:"
   ]
  },
  {
   "cell_type": "code",
   "execution_count": 17,
   "metadata": {},
   "outputs": [
    {
     "data": {
      "text/plain": [
       "$ISO\n",
       "  [1] \"ABW\" \"AFG\" \"AGO\" \"ALB\" \"ARE\" \"ARG\" \"ARM\" \"ATG\" \"AUS\" \"AUT\" \"AZE\" \"BDI\"\n",
       " [13] \"BEL\" \"BEN\" \"BFA\" \"BGD\" \"BGR\" \"BHR\" \"BHS\" \"BIH\" \"BLR\" \"BLZ\" \"BOL\" \"BRA\"\n",
       " [25] \"BRB\" \"BRN\" \"BTN\" \"BWA\" \"CAF\" \"CAN\" \"CHE\" \"CHL\" \"CHN\" \"CIV\" \"CMR\" \"COD\"\n",
       " [37] \"COG\" \"COL\" \"COM\" \"CPV\" \"CRI\" \"CYP\" \"CZE\" \"DEU\" \"DJI\" \"DMA\" \"DNK\" \"DOM\"\n",
       " [49] \"DZA\" \"ECU\" \"EGY\" \"ERI\" \"ESP\" \"EST\" \"ETH\" \"FIN\" \"FJI\" \"FRA\" \"FSM\" \"GAB\"\n",
       " [61] \"GBR\" \"GEO\" \"GHA\" \"GIN\" \"GMB\" \"GNB\" \"GNQ\" \"GRC\" \"GRD\" \"GTM\" \"GUY\" \"HKG\"\n",
       " [73] \"HND\" \"HRV\" \"HTI\" \"HUN\" \"IDN\" \"IND\" \"IRL\" \"IRN\" \"IRQ\" \"ISL\" \"ISR\" \"ITA\"\n",
       " [85] \"JAM\" \"JOR\" \"JPN\" \"KAZ\" \"KEN\" \"KGZ\" \"KHM\" \"KIR\" \"KNA\" \"KOR\" \"KWT\" \"LAO\"\n",
       " [97] \"LBN\" \"LBR\" \"LBY\" \"LCA\" \"LKA\" \"LSO\" \"LTU\" \"LUX\" \"LVA\" \"MAC\" \"MAR\" \"MDA\"\n",
       "[109] \"MDG\" \"MDV\" \"MEX\" \"MHL\" \"MKD\" \"MLI\" \"MLT\" \"MMR\" \"MNE\" \"MNG\" \"MOZ\" \"MRT\"\n",
       "[121] \"MUS\" \"MWI\" \"MYS\" \"NAM\" \"NER\" \"NGA\" \"NIC\" \"NLD\" \"NOR\" \"NPL\" \"NRU\" \"NZL\"\n",
       "[133] \"OMN\" \"PAK\" \"PAN\" \"PER\" \"PHL\" \"PLW\" \"PNG\" \"POL\" \"PRI\" \"PRT\" \"PRY\" \"QAT\"\n",
       "[145] \"ROU\" \"RUS\" \"RWA\" \"SAU\" \"SDN\" \"SEN\" \"SGP\" \"SLB\" \"SLE\" \"SLV\" \"SMR\" \"SOM\"\n",
       "[157] \"SRB\" \"SSD\" \"STP\" \"SUR\" \"SVK\" \"SVN\" \"SWE\" \"SWZ\" \"SYC\" \"SYR\" \"TCD\" \"TGO\"\n",
       "[169] \"THA\" \"TJK\" \"TKM\" \"TLS\" \"TON\" \"TTO\" \"TUN\" \"TUR\" \"TUV\" \"TWN\" \"TZA\" \"UGA\"\n",
       "[181] \"UKR\" \"URY\" \"USA\" \"UVK\" \"UZB\" \"VCT\" \"VEN\" \"VNM\" \"VUT\" \"WSM\" \"YEM\" \"ZAF\"\n",
       "[193] \"ZMB\" \"ZWE\"\n",
       "\n",
       "$WEO.Subject.Code\n",
       " [1] \"BCA\"          \"BCA_NGDPD\"    \"FLIBOR6\"      \"GGR\"          \"GGR_NGDP\"    \n",
       " [6] \"GGSB\"         \"GGSB_NPGDP\"   \"GGX\"          \"GGX_NGDP\"     \"GGXCNL\"      \n",
       "[11] \"GGXCNL_NGDP\"  \"GGXONLB\"      \"GGXONLB_NGDP\" \"GGXWDG\"       \"GGXWDG_NGDP\" \n",
       "[16] \"GGXWDN\"       \"GGXWDN_NGDP\"  \"LE\"           \"LP\"           \"LUR\"         \n",
       "[21] \"NGAP_NPGDP\"   \"NGDP\"         \"NGDP_D\"       \"NGDP_FY\"      \"NGDP_R\"      \n",
       "[26] \"NGDP_RPCH\"    \"NGDPD\"        \"NGDPDPC\"      \"NGDPPC\"       \"NGDPRPC\"     \n",
       "[31] \"NGDPRPPPPC\"   \"NGSD_NGDP\"    \"NID_NGDP\"     \"PCPI\"         \"PCPIE\"       \n",
       "[36] \"PCPIEPCH\"     \"PCPIPCH\"      \"PPPEX\"        \"PPPGDP\"       \"PPPPC\"       \n",
       "[41] \"PPPSH\"        \"TM_RPCH\"      \"TMG_RPCH\"     \"TX_RPCH\"      \"TXG_RPCH\"    \n",
       "\n",
       "$Country\n",
       "  [1] \"Afghanistan\"                      \"Albania\"                         \n",
       "  [3] \"Algeria\"                          \"Angola\"                          \n",
       "  [5] \"Antigua and Barbuda\"              \"Argentina\"                       \n",
       "  [7] \"Armenia\"                          \"Aruba\"                           \n",
       "  [9] \"Australia\"                        \"Austria\"                         \n",
       " [11] \"Azerbaijan\"                       \"Bahrain\"                         \n",
       " [13] \"Bangladesh\"                       \"Barbados\"                        \n",
       " [15] \"Belarus\"                          \"Belgium\"                         \n",
       " [17] \"Belize\"                           \"Benin\"                           \n",
       " [19] \"Bhutan\"                           \"Bolivia\"                         \n",
       " [21] \"Bosnia and Herzegovina\"           \"Botswana\"                        \n",
       " [23] \"Brazil\"                           \"Brunei Darussalam\"               \n",
       " [25] \"Bulgaria\"                         \"Burkina Faso\"                    \n",
       " [27] \"Burundi\"                          \"C\\xf4te d'Ivoire\"                \n",
       " [29] \"Cabo Verde\"                       \"Cambodia\"                        \n",
       " [31] \"Cameroon\"                         \"Canada\"                          \n",
       " [33] \"Central African Republic\"         \"Chad\"                            \n",
       " [35] \"Chile\"                            \"China\"                           \n",
       " [37] \"Colombia\"                         \"Comoros\"                         \n",
       " [39] \"Costa Rica\"                       \"Croatia\"                         \n",
       " [41] \"Cyprus\"                           \"Czech Republic\"                  \n",
       " [43] \"Democratic Republic of the Congo\" \"Denmark\"                         \n",
       " [45] \"Djibouti\"                         \"Dominica\"                        \n",
       " [47] \"Dominican Republic\"               \"Ecuador\"                         \n",
       " [49] \"Egypt\"                            \"El Salvador\"                     \n",
       " [51] \"Equatorial Guinea\"                \"Eritrea\"                         \n",
       " [53] \"Estonia\"                          \"Eswatini\"                        \n",
       " [55] \"Ethiopia\"                         \"Fiji\"                            \n",
       " [57] \"Finland\"                          \"France\"                          \n",
       " [59] \"FYR Macedonia\"                    \"Gabon\"                           \n",
       " [61] \"Georgia\"                          \"Germany\"                         \n",
       " [63] \"Ghana\"                            \"Greece\"                          \n",
       " [65] \"Grenada\"                          \"Guatemala\"                       \n",
       " [67] \"Guinea\"                           \"Guinea-Bissau\"                   \n",
       " [69] \"Guyana\"                           \"Haiti\"                           \n",
       " [71] \"Honduras\"                         \"Hong Kong SAR\"                   \n",
       " [73] \"Hungary\"                          \"Iceland\"                         \n",
       " [75] \"India\"                            \"Indonesia\"                       \n",
       " [77] \"Iraq\"                             \"Ireland\"                         \n",
       " [79] \"Islamic Republic of Iran\"         \"Israel\"                          \n",
       " [81] \"Italy\"                            \"Jamaica\"                         \n",
       " [83] \"Japan\"                            \"Jordan\"                          \n",
       " [85] \"Kazakhstan\"                       \"Kenya\"                           \n",
       " [87] \"Kiribati\"                         \"Korea\"                           \n",
       " [89] \"Kosovo\"                           \"Kuwait\"                          \n",
       " [91] \"Kyrgyz Republic\"                  \"Lao P.D.R.\"                      \n",
       " [93] \"Latvia\"                           \"Lebanon\"                         \n",
       " [95] \"Lesotho\"                          \"Liberia\"                         \n",
       " [97] \"Libya\"                            \"Lithuania\"                       \n",
       " [99] \"Luxembourg\"                       \"Macao SAR\"                       \n",
       "[101] \"Madagascar\"                       \"Malawi\"                          \n",
       "[103] \"Malaysia\"                         \"Maldives\"                        \n",
       "[105] \"Mali\"                             \"Malta\"                           \n",
       "[107] \"Marshall Islands\"                 \"Mauritania\"                      \n",
       "[109] \"Mauritius\"                        \"Mexico\"                          \n",
       "[111] \"Micronesia\"                       \"Moldova\"                         \n",
       "[113] \"Mongolia\"                         \"Montenegro\"                      \n",
       "[115] \"Morocco\"                          \"Mozambique\"                      \n",
       "[117] \"Myanmar\"                          \"Namibia\"                         \n",
       "[119] \"Nauru\"                            \"Nepal\"                           \n",
       "[121] \"Netherlands\"                      \"New Zealand\"                     \n",
       "[123] \"Nicaragua\"                        \"Niger\"                           \n",
       "[125] \"Nigeria\"                          \"Norway\"                          \n",
       "[127] \"Oman\"                             \"Pakistan\"                        \n",
       "[129] \"Palau\"                            \"Panama\"                          \n",
       "[131] \"Papua New Guinea\"                 \"Paraguay\"                        \n",
       "[133] \"Peru\"                             \"Philippines\"                     \n",
       "[135] \"Poland\"                           \"Portugal\"                        \n",
       "[137] \"Puerto Rico\"                      \"Qatar\"                           \n",
       "[139] \"Republic of Congo\"                \"Romania\"                         \n",
       "[141] \"Russia\"                           \"Rwanda\"                          \n",
       "[143] \"S\\xe3o Tom\\xe9 and Pr\\xedncipe\"   \"Samoa\"                           \n",
       "[145] \"San Marino\"                       \"Saudi Arabia\"                    \n",
       "[147] \"Senegal\"                          \"Serbia\"                          \n",
       "[149] \"Seychelles\"                       \"Sierra Leone\"                    \n",
       "[151] \"Singapore\"                        \"Slovak Republic\"                 \n",
       "[153] \"Slovenia\"                         \"Solomon Islands\"                 \n",
       "[155] \"Somalia\"                          \"South Africa\"                    \n",
       "[157] \"South Sudan\"                      \"Spain\"                           \n",
       "[159] \"Sri Lanka\"                        \"St. Kitts and Nevis\"             \n",
       "[161] \"St. Lucia\"                        \"St. Vincent and the Grenadines\"  \n",
       "[163] \"Sudan\"                            \"Suriname\"                        \n",
       "[165] \"Sweden\"                           \"Switzerland\"                     \n",
       "[167] \"Syria\"                            \"Taiwan Province of China\"        \n",
       "[169] \"Tajikistan\"                       \"Tanzania\"                        \n",
       "[171] \"Thailand\"                         \"The Bahamas\"                     \n",
       "[173] \"The Gambia\"                       \"Timor-Leste\"                     \n",
       "[175] \"Togo\"                             \"Tonga\"                           \n",
       "[177] \"Trinidad and Tobago\"              \"Tunisia\"                         \n",
       "[179] \"Turkey\"                           \"Turkmenistan\"                    \n",
       "[181] \"Tuvalu\"                           \"Uganda\"                          \n",
       "[183] \"Ukraine\"                          \"United Arab Emirates\"            \n",
       "[185] \"United Kingdom\"                   \"United States\"                   \n",
       "[187] \"Uruguay\"                          \"Uzbekistan\"                      \n",
       "[189] \"Vanuatu\"                          \"Venezuela\"                       \n",
       "[191] \"Vietnam\"                          \"Yemen\"                           \n",
       "[193] \"Zambia\"                           \"Zimbabwe\"                        \n",
       "\n",
       "$Subject.Descriptor\n",
       " [1] \"Current account balance\"                                                           \n",
       " [2] \"Employment\"                                                                        \n",
       " [3] \"General government gross debt\"                                                     \n",
       " [4] \"General government net debt\"                                                       \n",
       " [5] \"General government net lending/borrowing\"                                          \n",
       " [6] \"General government primary net lending/borrowing\"                                  \n",
       " [7] \"General government revenue\"                                                        \n",
       " [8] \"General government structural balance\"                                             \n",
       " [9] \"General government total expenditure\"                                              \n",
       "[10] \"Gross domestic product based on purchasing-power-parity (PPP) share of world total\"\n",
       "[11] \"Gross domestic product corresponding to fiscal year, current prices\"               \n",
       "[12] \"Gross domestic product per capita, constant prices\"                                \n",
       "[13] \"Gross domestic product per capita, current prices\"                                 \n",
       "[14] \"Gross domestic product, constant prices\"                                           \n",
       "[15] \"Gross domestic product, current prices\"                                            \n",
       "[16] \"Gross domestic product, deflator\"                                                  \n",
       "[17] \"Gross national savings\"                                                            \n",
       "[18] \"Implied PPP conversion rate\"                                                       \n",
       "[19] \"Inflation, average consumer prices\"                                                \n",
       "[20] \"Inflation, end of period consumer prices\"                                          \n",
       "[21] \"Output gap in percent of potential GDP\"                                            \n",
       "[22] \"Population\"                                                                        \n",
       "[23] \"Six-month London interbank offered rate (LIBOR)\"                                   \n",
       "[24] \"Total investment\"                                                                  \n",
       "[25] \"Unemployment rate\"                                                                 \n",
       "[26] \"Volume of exports of goods\"                                                        \n",
       "[27] \"Volume of exports of goods and services\"                                           \n",
       "[28] \"Volume of Imports of goods\"                                                        \n",
       "[29] \"Volume of imports of goods and services\"                                           \n",
       "\n",
       "$Units\n",
       " [1] \"Index\"                                             \n",
       " [2] \"National currency\"                                 \n",
       " [3] \"National currency per current international dollar\"\n",
       " [4] \"Percent\"                                           \n",
       " [5] \"Percent change\"                                    \n",
       " [6] \"Percent of GDP\"                                    \n",
       " [7] \"Percent of potential GDP\"                          \n",
       " [8] \"Percent of total labor force\"                      \n",
       " [9] \"Persons\"                                           \n",
       "[10] \"Purchasing power parity; 2011 international dollar\"\n",
       "[11] \"Purchasing power parity; international dollars\"    \n",
       "[12] \"U.S. dollars\"                                      \n",
       "\n",
       "$Scale\n",
       "[1] \"Billions\" \"Millions\" \"Units\"   \n"
      ]
     },
     "metadata": {},
     "output_type": "display_data"
    }
   ],
   "source": [
    "lapply(weo[, factors], levels)"
   ]
  },
  {
   "cell_type": "markdown",
   "metadata": {},
   "source": [
    "#### Melting GDP per capita (PPP)"
   ]
  },
  {
   "cell_type": "markdown",
   "metadata": {},
   "source": [
    "Now we are concerned with only the NGDPRPPPPC series \"Purchasing power parity; 2011 international dollar\"\n",
    "\n",
    "So we filter the dataset:"
   ]
  },
  {
   "cell_type": "code",
   "execution_count": 18,
   "metadata": {},
   "outputs": [],
   "source": [
    "weo_ppp <- weo[weo$WEO.Subject.Code == \"NGDPRPPPPC\",]"
   ]
  },
  {
   "cell_type": "code",
   "execution_count": 19,
   "metadata": {},
   "outputs": [
    {
     "name": "stdout",
     "output_type": "stream",
     "text": [
      "'data.frame':\t194 obs. of  52 variables:\n",
      " $ WEO.Country.Code     : int  512 914 612 614 311 213 911 314 193 122 ...\n",
      " $ ISO                  : Factor w/ 194 levels \"ABW\",\"AFG\",\"AGO\",..: 2 4 49 3 8 6 7 1 9 10 ...\n",
      " $ WEO.Subject.Code     : Factor w/ 45 levels \"BCA\",\"BCA_NGDPD\",..: 31 31 31 31 31 31 31 31 31 31 ...\n",
      " $ Country              : Factor w/ 194 levels \"Afghanistan\",..: 1 2 3 4 5 6 7 8 9 10 ...\n",
      " $ Subject.Descriptor   : Factor w/ 29 levels \"Current account balance\",..: 12 12 12 12 12 12 12 12 12 12 ...\n",
      " $ Units                : Factor w/ 12 levels \"Index\",\"National currency\",..: 10 10 10 10 10 10 10 10 10 10 ...\n",
      " $ Scale                : Factor w/ 3 levels \"Billions\",\"Millions\",..: 3 3 3 3 3 3 3 3 3 3 ...\n",
      " $ X1980                : num  NA 4675 10804 5277 9082 ...\n",
      " $ X1981                : num  NA 4845 10793 4912 9503 ...\n",
      " $ X1982                : num  NA 4882 11127 4785 9605 ...\n",
      " $ X1983                : num  NA 4837 11355 4859 10268 ...\n",
      " $ X1984                : num  NA 4834 11618 5018 11497 ...\n",
      " $ X1985                : num  NA 4664 11702 4609 12586 ...\n",
      " $ X1986                : num  NA 4829 11371 4611 14281 ...\n",
      " $ X1987                : num  NA 4697 11002 4679 15496 ...\n",
      " $ X1988                : num  NA 4540 10479 4835 16550 ...\n",
      " $ X1989                : num  NA 4889 10716 4708 17580 ...\n",
      " $ X1990                : num  NA 4404 10662 4427 18127 ...\n",
      " $ X1991                : num  NA 3227 10279 4341 18372 ...\n",
      " $ X1992                : num  NA 3024 10194 3969 18285 ...\n",
      " $ X1993                : num  NA 3331 9749 2929 18825 ...\n",
      " $ X1994                : num  NA 3718 9449 2882 19574 ...\n",
      " $ X1995                : num  NA 4044 9616 3217 18228 ...\n",
      " $ X1996                : num  NA 4375 9804 3547 18908 ...\n",
      " $ X1997                : num  NA 3921 9749 3694 19393 ...\n",
      " $ X1998                : num  NA 4295 10085 3755 19771 ...\n",
      " $ X1999                : num  NA 4879 10249 3725 20009 ...\n",
      " $ X2000                : num  NA 5251 10450 3727 20906 ...\n",
      " $ X2001                : num  NA 5740 10607 3770 19532 ...\n",
      " $ X2002                : num  1027 6019 11037 4161 19524 ...\n",
      " $ X2003                : num  1072 6375 11657 4160 20488 ...\n",
      " $ X2004                : num  1039 6755 11978 4482 21435 ...\n",
      " $ X2005                : num  1122 7165 12496 5005 22565 ...\n",
      " $ X2006                : num  1147 7636 12517 5420 25168 ...\n",
      " $ X2007                : num  1252 8154 12746 6000 27207 ...\n",
      " $ X2008                : num  1268 8833 12770 6476 26910 ...\n",
      " $ X2009                : num  1490 9191 12729 6341 23400 ...\n",
      " $ X2010                : num  1571 9579 12929 6455 21485 ...\n",
      " $ X2011                : num  1622 9850 13027 6485 20813 ...\n",
      " $ X2012                : num  1789 10006 13189 6834 21311 ...\n",
      " $ X2013                : num  1829 10125 13274 6964 21065 ...\n",
      " $ X2014                : num  1819 10326 13491 7087 21904 ...\n",
      " $ X2015                : num  1784 10586 13693 6945 22550 ...\n",
      " $ X2016                : num  1774 10958 13854 6563 23504 ...\n",
      " $ X2017                : num  1777 11379 13786 6213 23893 ...\n",
      " $ X2018                : num  1793 11841 13868 6025 24467 ...\n",
      " $ X2019                : num  1822 12301 13991 6028 24932 ...\n",
      " $ X2020                : num  1861 12799 13997 6040 25284 ...\n",
      " $ X2021                : num  1910 13323 13920 6054 25515 ...\n",
      " $ X2022                : num  1969 13873 13798 6095 25748 ...\n",
      " $ X2023                : num  2040 14445 13651 6142 25984 ...\n",
      " $ Estimates.Start.After: int  2016 2011 2017 2015 2011 2016 2014 2017 2017 2017 ...\n"
     ]
    }
   ],
   "source": [
    "str(weo_ppp)"
   ]
  },
  {
   "cell_type": "markdown",
   "metadata": {},
   "source": [
    "Now we want a long DF of four columns: Country names, country codes, years and per capita gdp in ppp values "
   ]
  },
  {
   "cell_type": "code",
   "execution_count": 20,
   "metadata": {},
   "outputs": [
    {
     "data": {
      "text/plain": [
       " [1] \"WEO.Country.Code\"      \"ISO\"                   \"WEO.Subject.Code\"     \n",
       " [4] \"Country\"               \"Subject.Descriptor\"    \"Units\"                \n",
       " [7] \"Scale\"                 \"X1980\"                 \"X1981\"                \n",
       "[10] \"X1982\"                 \"X1983\"                 \"X1984\"                \n",
       "[13] \"X1985\"                 \"X1986\"                 \"X1987\"                \n",
       "[16] \"X1988\"                 \"X1989\"                 \"X1990\"                \n",
       "[19] \"X1991\"                 \"X1992\"                 \"X1993\"                \n",
       "[22] \"X1994\"                 \"X1995\"                 \"X1996\"                \n",
       "[25] \"X1997\"                 \"X1998\"                 \"X1999\"                \n",
       "[28] \"X2000\"                 \"X2001\"                 \"X2002\"                \n",
       "[31] \"X2003\"                 \"X2004\"                 \"X2005\"                \n",
       "[34] \"X2006\"                 \"X2007\"                 \"X2008\"                \n",
       "[37] \"X2009\"                 \"X2010\"                 \"X2011\"                \n",
       "[40] \"X2012\"                 \"X2013\"                 \"X2014\"                \n",
       "[43] \"X2015\"                 \"X2016\"                 \"X2017\"                \n",
       "[46] \"X2018\"                 \"X2019\"                 \"X2020\"                \n",
       "[49] \"X2021\"                 \"X2022\"                 \"X2023\"                \n",
       "[52] \"Estimates.Start.After\""
      ]
     },
     "metadata": {},
     "output_type": "display_data"
    }
   ],
   "source": [
    "names(weo_ppp)"
   ]
  },
  {
   "cell_type": "code",
   "execution_count": 21,
   "metadata": {},
   "outputs": [
    {
     "data": {
      "text/plain": [
       " [1] \"X1980\" \"X1981\" \"X1982\" \"X1983\" \"X1984\" \"X1985\" \"X1986\" \"X1987\" \"X1988\"\n",
       "[10] \"X1989\" \"X1990\" \"X1991\" \"X1992\" \"X1993\" \"X1994\" \"X1995\" \"X1996\" \"X1997\"\n",
       "[19] \"X1998\" \"X1999\" \"X2000\" \"X2001\" \"X2002\" \"X2003\" \"X2004\" \"X2005\" \"X2006\"\n",
       "[28] \"X2007\" \"X2008\" \"X2009\" \"X2010\" \"X2011\" \"X2012\" \"X2013\" \"X2014\" \"X2015\"\n",
       "[37] \"X2016\" \"X2017\" \"X2018\" \"X2019\" \"X2020\" \"X2021\" \"X2022\" \"X2023\""
      ]
     },
     "metadata": {},
     "output_type": "display_data"
    }
   ],
   "source": [
    "cols <- sprintf(\"X%s\", 1980:2023)\n",
    "cols"
   ]
  },
  {
   "cell_type": "code",
   "execution_count": 22,
   "metadata": {},
   "outputs": [],
   "source": [
    "weo_ppp_long <- reshape(weo_ppp,\n",
    "                      idvar = c(\"WEO.Country.Code\", \"Country\"),\n",
    "                      varying = cols,\n",
    "                        times = cols,\n",
    "                      v.name = \"NGDPRPPPPC\",\n",
    "                      direction = \"long\")"
   ]
  },
  {
   "cell_type": "code",
   "execution_count": 23,
   "metadata": {},
   "outputs": [
    {
     "name": "stdout",
     "output_type": "stream",
     "text": [
      "'data.frame':\t8536 obs. of  10 variables:\n",
      " $ WEO.Country.Code     : int  512 914 612 614 311 213 911 314 193 122 ...\n",
      " $ ISO                  : Factor w/ 194 levels \"ABW\",\"AFG\",\"AGO\",..: 2 4 49 3 8 6 7 1 9 10 ...\n",
      " $ WEO.Subject.Code     : Factor w/ 45 levels \"BCA\",\"BCA_NGDPD\",..: 31 31 31 31 31 31 31 31 31 31 ...\n",
      " $ Country              : Factor w/ 194 levels \"Afghanistan\",..: 1 2 3 4 5 6 7 8 9 10 ...\n",
      " $ Subject.Descriptor   : Factor w/ 29 levels \"Current account balance\",..: 12 12 12 12 12 12 12 12 12 12 ...\n",
      " $ Units                : Factor w/ 12 levels \"Index\",\"National currency\",..: 10 10 10 10 10 10 10 10 10 10 ...\n",
      " $ Scale                : Factor w/ 3 levels \"Billions\",\"Millions\",..: 3 3 3 3 3 3 3 3 3 3 ...\n",
      " $ Estimates.Start.After: int  2016 2011 2017 2015 2011 2016 2014 2017 2017 2017 ...\n",
      " $ time                 : chr  \"X1980\" \"X1980\" \"X1980\" \"X1980\" ...\n",
      " $ NGDPRPPPPC           : num  NA 4675 10804 5277 9082 ...\n",
      " - attr(*, \"reshapeLong\")=List of 4\n",
      "  ..$ varying:List of 1\n",
      "  .. ..$ NGDPRPPPPC: chr  \"X1980\" \"X1981\" \"X1982\" \"X1983\" ...\n",
      "  .. ..- attr(*, \"v.names\")= chr \"NGDPRPPPPC\"\n",
      "  .. ..- attr(*, \"times\")= chr  \"X1980\" \"X1981\" \"X1982\" \"X1983\" ...\n",
      "  ..$ v.names: chr \"NGDPRPPPPC\"\n",
      "  ..$ idvar  : chr  \"WEO.Country.Code\" \"Country\"\n",
      "  ..$ timevar: chr \"time\"\n"
     ]
    }
   ],
   "source": [
    "str(weo_ppp_long)"
   ]
  },
  {
   "cell_type": "markdown",
   "metadata": {},
   "source": [
    "We can clear rownames:"
   ]
  },
  {
   "cell_type": "code",
   "execution_count": 24,
   "metadata": {},
   "outputs": [],
   "source": [
    "rownames(weo_ppp_long) <- NULL"
   ]
  },
  {
   "cell_type": "code",
   "execution_count": 25,
   "metadata": {},
   "outputs": [
    {
     "data": {
      "text/plain": [
       "     Country                  WEO.Country.Code ISO time  NGDPRPPPPC\n",
       "1    Afghanistan              512              AFG X1980        NA \n",
       "2    Albania                  914              ALB X1980  4674.883 \n",
       "3    Algeria                  612              DZA X1980 10804.443 \n",
       "4    Angola                   614              AGO X1980  5276.667 \n",
       "5    Antigua and Barbuda      311              ATG X1980  9081.960 \n",
       "6    Argentina                213              ARG X1980 14709.172 \n",
       "7    Armenia                  911              ARM X1980        NA \n",
       "8    Aruba                    314              ABW X1980        NA \n",
       "9    Australia                193              AUS X1980 24398.012 \n",
       "10   Austria                  122              AUT X1980 26129.809 \n",
       "11   Azerbaijan               912              AZE X1980        NA \n",
       "12   The Bahamas              313              BHS X1980 27652.318 \n",
       "13   Bahrain                  419              BHR X1980 40934.983 \n",
       "14   Bangladesh               513              BGD X1980  1159.722 \n",
       "15   Barbados                 316              BRB X1980 14066.335 \n",
       "16   Belarus                  913              BLR X1980        NA \n",
       "17   Belgium                  124              BEL X1980 25189.821 \n",
       "18   Belize                   339              BLZ X1980  3183.026 \n",
       "19   Benin                    638              BEN X1980  1724.655 \n",
       "20   Bhutan                   514              BTN X1980  1102.657 \n",
       "21   Bolivia                  218              BOL X1980  4866.147 \n",
       "22   Bosnia and Herzegovina   963              BIH X1980        NA \n",
       "23   Botswana                 616              BWA X1980  4265.308 \n",
       "24   Brazil                   223              BRA X1980 11373.057 \n",
       "25   Brunei Darussalam        516              BRN X1980        NA \n",
       "26   Bulgaria                 918              BGR X1980 10374.302 \n",
       "27   Burkina Faso             748              BFA X1980   759.033 \n",
       "28   Burundi                  618              BDI X1980   790.190 \n",
       "29   Cabo Verde               624              CPV X1980  1857.407 \n",
       "30   Cambodia                 522              KHM X1980        NA \n",
       "⋮    ⋮                        ⋮                ⋮   ⋮     ⋮         \n",
       "8507 Sudan                    732              SDN X2023  3156.732 \n",
       "8508 Suriname                 366              SUR X2023 14517.698 \n",
       "8509 Sweden                   144              SWE X2023 49292.623 \n",
       "8510 Switzerland              146              CHE X2023 59165.627 \n",
       "8511 Syria                    463              SYR X2023        NA \n",
       "8512 Taiwan Province of China 528              TWN X2023 51794.699 \n",
       "8513 Tajikistan               923              TJK X2023  3393.110 \n",
       "8514 Tanzania                 738              TZA X2023  3795.574 \n",
       "8515 Thailand                 578              THA X2023 20247.901 \n",
       "8516 Timor-Leste              537              TLS X2023  3124.031 \n",
       "8517 Togo                     742              TGO X2023  1762.331 \n",
       "8518 Tonga                    866              TON X2023  6561.061 \n",
       "8519 Trinidad and Tobago      369              TTO X2023 30282.128 \n",
       "8520 Tunisia                  744              TUN X2023 12508.277 \n",
       "8521 Turkey                   186              TUR X2023 26072.259 \n",
       "8522 Turkmenistan             925              TKM X2023 21658.002 \n",
       "8523 Tuvalu                   869              TUV X2023  4327.978 \n",
       "8524 Uganda                   746              UGA X2023  2580.630 \n",
       "8525 Ukraine                  926              UKR X2023  9784.539 \n",
       "8526 United Arab Emirates     466              ARE X2023 63046.461 \n",
       "8527 United Kingdom           112              GBR X2023 42824.925 \n",
       "8528 United States            111              USA X2023 58800.370 \n",
       "8529 Uruguay                  298              URY X2023 23770.394 \n",
       "8530 Uzbekistan               927              UZB X2023  8211.536 \n",
       "8531 Vanuatu                  846              VUT X2023  2632.370 \n",
       "8532 Venezuela                299              VEN X2023  9325.787 \n",
       "8533 Vietnam                  582              VNM X2023  8692.397 \n",
       "8534 Yemen                    474              YEM X2023  2982.110 \n",
       "8535 Zambia                   754              ZMB X2023  3926.514 \n",
       "8536 Zimbabwe                 698              ZWE X2023  2347.893 "
      ]
     },
     "metadata": {},
     "output_type": "display_data"
    }
   ],
   "source": [
    "weo_ppp_long_2 <- weo_ppp_long[,c(\"Country\", \"WEO.Country.Code\", \"ISO\", \"time\", \"NGDPRPPPPC\")]\n",
    "weo_ppp_long_2"
   ]
  },
  {
   "cell_type": "markdown",
   "metadata": {},
   "source": [
    "We can convert year values from X1980 to 1980 and make them numeric:"
   ]
  },
  {
   "cell_type": "code",
   "execution_count": 26,
   "metadata": {},
   "outputs": [
    {
     "data": {
      "text/plain": [
       "     Country                  WEO.Country.Code ISO time NGDPRPPPPC\n",
       "1    Afghanistan              512              AFG 1980        NA \n",
       "2    Albania                  914              ALB 1980  4674.883 \n",
       "3    Algeria                  612              DZA 1980 10804.443 \n",
       "4    Angola                   614              AGO 1980  5276.667 \n",
       "5    Antigua and Barbuda      311              ATG 1980  9081.960 \n",
       "6    Argentina                213              ARG 1980 14709.172 \n",
       "7    Armenia                  911              ARM 1980        NA \n",
       "8    Aruba                    314              ABW 1980        NA \n",
       "9    Australia                193              AUS 1980 24398.012 \n",
       "10   Austria                  122              AUT 1980 26129.809 \n",
       "11   Azerbaijan               912              AZE 1980        NA \n",
       "12   The Bahamas              313              BHS 1980 27652.318 \n",
       "13   Bahrain                  419              BHR 1980 40934.983 \n",
       "14   Bangladesh               513              BGD 1980  1159.722 \n",
       "15   Barbados                 316              BRB 1980 14066.335 \n",
       "16   Belarus                  913              BLR 1980        NA \n",
       "17   Belgium                  124              BEL 1980 25189.821 \n",
       "18   Belize                   339              BLZ 1980  3183.026 \n",
       "19   Benin                    638              BEN 1980  1724.655 \n",
       "20   Bhutan                   514              BTN 1980  1102.657 \n",
       "21   Bolivia                  218              BOL 1980  4866.147 \n",
       "22   Bosnia and Herzegovina   963              BIH 1980        NA \n",
       "23   Botswana                 616              BWA 1980  4265.308 \n",
       "24   Brazil                   223              BRA 1980 11373.057 \n",
       "25   Brunei Darussalam        516              BRN 1980        NA \n",
       "26   Bulgaria                 918              BGR 1980 10374.302 \n",
       "27   Burkina Faso             748              BFA 1980   759.033 \n",
       "28   Burundi                  618              BDI 1980   790.190 \n",
       "29   Cabo Verde               624              CPV 1980  1857.407 \n",
       "30   Cambodia                 522              KHM 1980        NA \n",
       "⋮    ⋮                        ⋮                ⋮   ⋮    ⋮         \n",
       "8507 Sudan                    732              SDN 2023  3156.732 \n",
       "8508 Suriname                 366              SUR 2023 14517.698 \n",
       "8509 Sweden                   144              SWE 2023 49292.623 \n",
       "8510 Switzerland              146              CHE 2023 59165.627 \n",
       "8511 Syria                    463              SYR 2023        NA \n",
       "8512 Taiwan Province of China 528              TWN 2023 51794.699 \n",
       "8513 Tajikistan               923              TJK 2023  3393.110 \n",
       "8514 Tanzania                 738              TZA 2023  3795.574 \n",
       "8515 Thailand                 578              THA 2023 20247.901 \n",
       "8516 Timor-Leste              537              TLS 2023  3124.031 \n",
       "8517 Togo                     742              TGO 2023  1762.331 \n",
       "8518 Tonga                    866              TON 2023  6561.061 \n",
       "8519 Trinidad and Tobago      369              TTO 2023 30282.128 \n",
       "8520 Tunisia                  744              TUN 2023 12508.277 \n",
       "8521 Turkey                   186              TUR 2023 26072.259 \n",
       "8522 Turkmenistan             925              TKM 2023 21658.002 \n",
       "8523 Tuvalu                   869              TUV 2023  4327.978 \n",
       "8524 Uganda                   746              UGA 2023  2580.630 \n",
       "8525 Ukraine                  926              UKR 2023  9784.539 \n",
       "8526 United Arab Emirates     466              ARE 2023 63046.461 \n",
       "8527 United Kingdom           112              GBR 2023 42824.925 \n",
       "8528 United States            111              USA 2023 58800.370 \n",
       "8529 Uruguay                  298              URY 2023 23770.394 \n",
       "8530 Uzbekistan               927              UZB 2023  8211.536 \n",
       "8531 Vanuatu                  846              VUT 2023  2632.370 \n",
       "8532 Venezuela                299              VEN 2023  9325.787 \n",
       "8533 Vietnam                  582              VNM 2023  8692.397 \n",
       "8534 Yemen                    474              YEM 2023  2982.110 \n",
       "8535 Zambia                   754              ZMB 2023  3926.514 \n",
       "8536 Zimbabwe                 698              ZWE 2023  2347.893 "
      ]
     },
     "metadata": {},
     "output_type": "display_data"
    }
   ],
   "source": [
    "weo_ppp_long_2$time <- as.integer(gsub(\"X\", \"\", weo_ppp_long_2$time))\n",
    "weo_ppp_long_2"
   ]
  },
  {
   "cell_type": "markdown",
   "metadata": {},
   "source": [
    "#### Casting 2016 data"
   ]
  },
  {
   "cell_type": "markdown",
   "metadata": {},
   "source": [
    "Now let's select only a single year, e.g 2016 and create a wide matrix of subjects on the columns and countries on the rows:"
   ]
  },
  {
   "cell_type": "code",
   "execution_count": 27,
   "metadata": {},
   "outputs": [
    {
     "data": {
      "text/plain": [
       " [1] \"WEO.Country.Code\"      \"ISO\"                   \"WEO.Subject.Code\"     \n",
       " [4] \"Country\"               \"Subject.Descriptor\"    \"Units\"                \n",
       " [7] \"Scale\"                 \"X1980\"                 \"X1981\"                \n",
       "[10] \"X1982\"                 \"X1983\"                 \"X1984\"                \n",
       "[13] \"X1985\"                 \"X1986\"                 \"X1987\"                \n",
       "[16] \"X1988\"                 \"X1989\"                 \"X1990\"                \n",
       "[19] \"X1991\"                 \"X1992\"                 \"X1993\"                \n",
       "[22] \"X1994\"                 \"X1995\"                 \"X1996\"                \n",
       "[25] \"X1997\"                 \"X1998\"                 \"X1999\"                \n",
       "[28] \"X2000\"                 \"X2001\"                 \"X2002\"                \n",
       "[31] \"X2003\"                 \"X2004\"                 \"X2005\"                \n",
       "[34] \"X2006\"                 \"X2007\"                 \"X2008\"                \n",
       "[37] \"X2009\"                 \"X2010\"                 \"X2011\"                \n",
       "[40] \"X2012\"                 \"X2013\"                 \"X2014\"                \n",
       "[43] \"X2015\"                 \"X2016\"                 \"X2017\"                \n",
       "[46] \"X2018\"                 \"X2019\"                 \"X2020\"                \n",
       "[49] \"X2021\"                 \"X2022\"                 \"X2023\"                \n",
       "[52] \"Estimates.Start.After\""
      ]
     },
     "metadata": {},
     "output_type": "display_data"
    }
   ],
   "source": [
    "names(weo_ppp)"
   ]
  },
  {
   "cell_type": "code",
   "execution_count": 28,
   "metadata": {},
   "outputs": [],
   "source": [
    "weo_2016 <- weo[,c(names(weo_ppp)[1:7], \"X2016\")]"
   ]
  },
  {
   "cell_type": "code",
   "execution_count": 29,
   "metadata": {},
   "outputs": [
    {
     "name": "stdout",
     "output_type": "stream",
     "text": [
      "'data.frame':\t8730 obs. of  8 variables:\n",
      " $ WEO.Country.Code  : int  512 512 512 512 512 512 512 512 512 512 ...\n",
      " $ ISO               : Factor w/ 194 levels \"ABW\",\"AFG\",\"AGO\",..: 2 2 2 2 2 2 2 2 2 2 ...\n",
      " $ WEO.Subject.Code  : Factor w/ 45 levels \"BCA\",\"BCA_NGDPD\",..: 25 26 22 27 39 23 30 31 29 28 ...\n",
      " $ Country           : Factor w/ 194 levels \"Afghanistan\",..: 1 1 1 1 1 1 1 1 1 1 ...\n",
      " $ Subject.Descriptor: Factor w/ 29 levels \"Current account balance\",..: 14 14 15 15 15 16 12 12 13 13 ...\n",
      " $ Units             : Factor w/ 12 levels \"Index\",\"National currency\",..: 2 5 2 12 11 1 2 10 2 12 ...\n",
      " $ Scale             : Factor w/ 3 levels \"Billions\",\"Millions\",..: 1 NA 1 1 1 NA 3 3 3 3 ...\n",
      " $ X2016             : num  493.07 2.16 1318.48 19.43 66.38 ...\n"
     ]
    }
   ],
   "source": [
    "str(weo_2016)"
   ]
  },
  {
   "cell_type": "code",
   "execution_count": 30,
   "metadata": {},
   "outputs": [],
   "source": [
    "?reshape"
   ]
  },
  {
   "cell_type": "code",
   "execution_count": 31,
   "metadata": {},
   "outputs": [],
   "source": [
    "weo_2016_wide <- reshape(weo_2016,\n",
    "                      idvar = c(\"WEO.Country.Code\", \"Country\"),\n",
    "                      v.names = \"X2016\",\n",
    "                      timevar = \"WEO.Subject.Code\",\n",
    "                      drop = c(\"Subject.Descriptor\", \"Units\", \"Scale\"),\n",
    "                      direction = \"wide\")"
   ]
  },
  {
   "cell_type": "code",
   "execution_count": 32,
   "metadata": {},
   "outputs": [
    {
     "name": "stdout",
     "output_type": "stream",
     "text": [
      "'data.frame':\t194 obs. of  48 variables:\n",
      " $ WEO.Country.Code  : int  512 914 612 614 311 213 911 314 193 122 ...\n",
      " $ ISO               : Factor w/ 194 levels \"ABW\",\"AFG\",\"AGO\",..: 2 4 49 3 8 6 7 1 9 10 ...\n",
      " $ Country           : Factor w/ 194 levels \"Afghanistan\",..: 1 2 3 4 5 6 7 8 9 10 ...\n",
      " $ X2016.NGDP_R      : num  493.07 760.32 7270.16 1588.96 3.25 ...\n",
      " $ X2016.NGDP_RPCH   : num  2.16 3.35 3.2 -2.58 5.35 ...\n",
      " $ X2016.NGDP        : num  1318.48 1475.25 17525.1 16549.56 3.94 ...\n",
      " $ X2016.NGDPD       : num  19.43 11.88 160.13 101.12 1.46 ...\n",
      " $ X2016.PPPGDP      : num  66.38 34.03 609.7 194.89 2.29 ...\n",
      " $ X2016.NGDP_D      : num  267 194 241 1042 121 ...\n",
      " $ X2016.NGDPRPC     : num  14228 264357 178355 57774 35967 ...\n",
      " $ X2016.NGDPRPPPPC  : num  1774 10958 13854 6563 23504 ...\n",
      " $ X2016.NGDPPC      : num  38045 512934 429934 601737 43674 ...\n",
      " $ X2016.NGDPDPC     : num  561 4132 3928 3677 16176 ...\n",
      " $ X2016.PPPPC       : num  1916 11831 14958 7086 25376 ...\n",
      " $ X2016.NGAP_NPGDP  : num  NA NA NA NA NA ...\n",
      " $ X2016.PPPSH       : num  0.055 0.028 0.505 0.161 0.002 0.729 0.021 0.003 0.993 0.348 ...\n",
      " $ X2016.PPPEX       : num  19.86 43.36 28.74 84.92 1.72 ...\n",
      " $ X2016.NID_NGDP    : num  18.5 24.3 53.9 27.2 24.3 ...\n",
      " $ X2016.NGSD_NGDP   : num  25.8 16.7 37.4 24.5 24.5 ...\n",
      " $ X2016.PCPI        : num  106 101 184 194 134 ...\n",
      " $ X2016.PCPIPCH     : num  4.384 1.275 6.398 30.694 -0.489 ...\n",
      " $ X2016.PCPIE       : num  109 102 188 222 134 ...\n",
      " $ X2016.PCPIEPCH    : num  4.59 2.18 6.96 41.12 -1.12 ...\n",
      " $ X2016.FLIBOR6     : num  NA NA NA NA NA NA NA NA NA NA ...\n",
      " $ X2016.TM_RPCH     : num  -8.13 8.16 -2.29 -25.27 10.67 ...\n",
      " $ X2016.TMG_RPCH    : num  -7.27 9.23 -2.29 -32.29 10.78 ...\n",
      " $ X2016.TX_RPCH     : num  -16.439 10.283 9.612 -0.606 -0.444 ...\n",
      " $ X2016.TXG_RPCH    : num  11.425 -0.754 7.883 0.571 21.438 ...\n",
      " $ X2016.LUR         : num  NA 15.2 10.5 NA NA ...\n",
      " $ X2016.LE          : num  NA NA NA NA NA ...\n",
      " $ X2016.LP          : num  34.66 2.88 40.76 27.5 0.09 ...\n",
      " $ X2016.GGR         : num  344.327 403.131 5011.581 2899.97 0.951 ...\n",
      " $ X2016.GGR_NGDP    : num  26.1 27.3 28.6 17.5 24.1 ...\n",
      " $ X2016.GGX         : num  342.771 429.073 7297.494 3648.044 0.956 ...\n",
      " $ X2016.GGX_NGDP    : num  26 29.1 41.6 22 24.3 ...\n",
      " $ X2016.GGXCNL      : num  1.556 -25.941 -2285.913 -748.074 -0.006 ...\n",
      " $ X2016.GGXCNL_NGDP : num  0.118 -1.758 -13.044 -4.52 -0.143 ...\n",
      " $ X2016.GGSB        : num  NA NA NA -251 NA ...\n",
      " $ X2016.GGSB_NPGDP  : num  NA NA NA -1.21 NA ...\n",
      " $ X2016.GGXONLB     : num  2.35 10.318 -2298.13 -277.674 0.093 ...\n",
      " $ X2016.GGXONLB_NGDP: num  0.178 0.699 -13.113 -1.678 2.356 ...\n",
      " $ X2016.GGXWDN      : num  NA 1004 2334 NA NA ...\n",
      " $ X2016.GGXWDN_NGDP : num  NA 68 13.3 NA NA ...\n",
      " $ X2016.GGXWDG      : num  103.2 1079.7 3582.1 12454 3.4 ...\n",
      " $ X2016.GGXWDG_NGDP : num  7.82 73.19 20.44 75.25 86.22 ...\n",
      " $ X2016.NGDP_FY     : num  1318.48 1475.25 17525.1 16549.56 3.94 ...\n",
      " $ X2016.BCA         : num  1.409 -0.899 -26.473 -4.834 0.002 ...\n",
      " $ X2016.BCA_NGDPD   : num  7.253 -7.563 -16.532 -4.78 0.151 ...\n",
      " - attr(*, \"reshapeWide\")=List of 5\n",
      "  ..$ v.names: chr \"X2016\"\n",
      "  ..$ timevar: chr \"WEO.Subject.Code\"\n",
      "  ..$ idvar  : chr  \"WEO.Country.Code\" \"Country\"\n",
      "  ..$ times  : Factor w/ 45 levels \"BCA\",\"BCA_NGDPD\",..: 25 26 22 27 39 23 30 31 29 28 ...\n",
      "  ..$ varying: chr [1, 1:45] \"X2016.NGDP_R\" \"X2016.NGDP_RPCH\" \"X2016.NGDP\" \"X2016.NGDPD\" ...\n"
     ]
    }
   ],
   "source": [
    "str(weo_2016_wide)"
   ]
  },
  {
   "cell_type": "code",
   "execution_count": 33,
   "metadata": {},
   "outputs": [
    {
     "data": {
      "text/plain": [
       "     WEO.Country.Code ISO Country                  X2016.NGDP_R X2016.NGDP_RPCH\n",
       "1    512              AFG Afghanistan                493.073     2.164         \n",
       "46   914              ALB Albania                    760.317     3.352         \n",
       "91   612              DZA Algeria                   7270.163     3.200         \n",
       "136  614              AGO Angola                    1588.961    -2.580         \n",
       "181  311              ATG Antigua and Barbuda          3.247     5.348         \n",
       "226  213              ARG Argentina                  708.338    -1.823         \n",
       "271  911              ARM Armenia                   3367.848     0.261         \n",
       "316  314              ABW Aruba                        3.310    -0.124         \n",
       "361  193              AUS Australia                 1678.081     2.606         \n",
       "406  122              AUT Austria                    317.149     1.451         \n",
       "451  912              AZE Azerbaijan                  28.464    -3.100         \n",
       "496  313              BHS The Bahamas                 10.590    -1.690         \n",
       "541  419              BHR Bahrain                     11.973     3.462         \n",
       "586  513              BGD Bangladesh                9157.182     7.202         \n",
       "631  316              BRB Barbados                     9.245     2.273         \n",
       "676  913              BLR Belarus                     75.536    -2.526         \n",
       "721  124              BEL Belgium                    416.085     1.412         \n",
       "766  339              BLZ Belize                       2.809    -0.487         \n",
       "811  638              BEN Benin                     4094.926     3.969         \n",
       "856  514              BTN Bhutan                      61.668     7.316         \n",
       "901  218              BOL Bolivia                     44.374     4.264         \n",
       "946  963              BIH Bosnia and Herzegovina      27.971     3.215         \n",
       "991  616              BWA Botswana                    89.797     4.315         \n",
       "1036 223              BRA Brazil                    1151.607    -3.469         \n",
       "1081 516              BRN Brunei Darussalam           18.137    -2.465         \n",
       "1126 918              BGR Bulgaria                    83.905     3.941         \n",
       "1171 748              BFA Burkina Faso              4635.888     5.915         \n",
       "1216 618              BDI Burundi                   1723.917    -1.042         \n",
       "1261 624              CPV Cabo Verde                 146.899     4.706         \n",
       "1306 522              KHM Cambodia                 45999.749     6.953         \n",
       "⋮    ⋮                ⋮   ⋮                        ⋮            ⋮              \n",
       "7381 732              SDN Sudan                         21.722    2.994        \n",
       "7426 366              SUR Suriname                       9.426   -5.139        \n",
       "7471 144              SWE Sweden                      4484.096    2.684        \n",
       "7516 146              CHE Switzerland                  671.834    1.587        \n",
       "7561 463              SYR Syria                             NA       NA        \n",
       "7606 528              TWN Taiwan Province of China   15875.635    1.410        \n",
       "7651 923              TJK Tajikistan                     0.241    6.900        \n",
       "7696 738              TZA Tanzania                   47164.902    6.953        \n",
       "7741 578              THA Thailand                    9823.122    3.283        \n",
       "7786 537              TLS Timor-Leste                    1.694    5.321        \n",
       "7831 742              TGO Togo                        2102.745    5.100        \n",
       "7876 866              TON Tonga                          0.849    4.170        \n",
       "7921 369              TTO Trinidad and Tobago          158.899   -6.076        \n",
       "7966 744              TUN Tunisia                       69.683    1.108        \n",
       "8011 186              TUR Turkey                      1576.365    3.184        \n",
       "8056 925              TKM Turkmenistan                 100.343    6.200        \n",
       "8101 869              TUV Tuvalu                         0.038    3.035        \n",
       "8146 746              UGA Uganda                     55705.922    2.323        \n",
       "8191 926              UKR Ukraine                      985.299    2.441        \n",
       "8236 466              ARE United Arab Emirates        1411.057    2.988        \n",
       "8281 112              GBR United Kingdom              1969.524    1.789        \n",
       "8326 111              USA United States              17659.200    1.567        \n",
       "8371 298              URY Uruguay                      681.594    1.690        \n",
       "8416 927              UZB Uzbekistan                  1135.699    7.800        \n",
       "8461 846              VUT Vanuatu                       63.632    3.467        \n",
       "8506 299              VEN Venezuela                         NA  -16.456        \n",
       "8551 582              VNM Vietnam                  3054470.219    6.211        \n",
       "8596 474              YEM Yemen                        262.446  -13.621        \n",
       "8641 754              ZMB Zambia                       129.700    3.757        \n",
       "8686 698              ZWE Zimbabwe                      14.100    0.665        \n",
       "     X2016.NGDP  X2016.NGDPD X2016.PPPGDP X2016.NGDP_D X2016.NGDPRPC ⋯\n",
       "1     1318.478     19.428      66.384      267.400       14227.635   ⋯\n",
       "46    1475.251     11.885      34.027      194.031      264356.814   ⋯\n",
       "91   17525.100    160.130     609.703      241.055      178355.244   ⋯\n",
       "136  16549.565    101.124     194.886     1041.534       57774.086   ⋯\n",
       "181      3.942      1.460       2.291      121.429       35966.870   ⋯\n",
       "226   8188.749    554.107     879.799     1156.051       16246.257   ⋯\n",
       "271   5067.294     10.546      25.878      150.461     1126114.977   ⋯\n",
       "316      4.738      2.647       4.030      143.145       29984.334   ⋯\n",
       "361   1699.883   1264.524    1198.301      101.299       68822.495   ⋯\n",
       "406    353.297    390.961     420.099      111.398       36287.922   ⋯\n",
       "451     60.394     37.810     168.849      212.173        2932.769   ⋯\n",
       "496     11.839     11.839      11.664      111.791       28756.649   ⋯\n",
       "541     12.118     32.228      67.312      101.207        8409.884   ⋯\n",
       "586  18543.396    235.623     630.738      202.501       56696.232   ⋯\n",
       "631      9.681      4.841       5.129      104.724       32974.774   ⋯\n",
       "676     94.949     47.703     171.862      125.701        7952.790   ⋯\n",
       "721    422.677    467.738     510.527      101.584       36785.492   ⋯\n",
       "766      3.640      1.820       3.134      129.587        7472.974   ⋯\n",
       "811   5083.739      8.576      23.592      124.147      377913.594   ⋯\n",
       "856    140.380      2.117       6.585      227.637       77944.910   ⋯\n",
       "901    234.533     34.189      78.853      528.534        4072.420   ⋯\n",
       "946     29.899     16.910      42.729      106.892        7953.582   ⋯\n",
       "991    170.589     15.660      37.403      189.971       39905.289   ⋯\n",
       "1036  6257.777   1793.312    3156.151      543.395        5587.561   ⋯\n",
       "1081    15.748     11.399      32.801       86.829       42908.639   ⋯\n",
       "1126    94.130     53.236     145.420      112.186       11814.533   ⋯\n",
       "1171  6704.200     11.310      33.060      144.615      248620.647   ⋯\n",
       "1216  5192.319      3.138       7.857      301.193      163710.285   ⋯\n",
       "1261   165.782      1.664       3.564      112.855      276485.560   ⋯\n",
       "1306 81241.866     20.043      58.969      176.614     2915785.644   ⋯\n",
       "⋮    ⋮           ⋮           ⋮            ⋮            ⋮             ⋱\n",
       "7381     639.604    55.787     171.623     2944.516         548.550  ⋯\n",
       "7426      20.420     3.278       8.367      216.637       16397.992  ⋯\n",
       "7471    4385.497   512.205     497.816       97.801      448627.050  ⋯\n",
       "7516     660.460   670.249     504.922       98.307       80681.434  ⋯\n",
       "7561          NA        NA          NA           NA              NA  ⋯\n",
       "7606   17152.093   530.608    1134.190      108.040      674416.274  ⋯\n",
       "7651      54.471     6.953      26.052    22628.176          27.559  ⋯\n",
       "7696  103744.606    47.653     150.451      219.961      968942.076  ⋯\n",
       "7741   14533.475   411.839    1167.713      147.952      142403.031  ⋯\n",
       "7786       2.521     2.521       7.265       80.543        2582.005  ⋯\n",
       "7831    2643.472     4.460      12.192      125.715      276445.144  ⋯\n",
       "7876       0.947     0.428       0.566      111.566        8438.652  ⋯\n",
       "7921     151.043    22.657      43.167       95.056      116412.897  ⋯\n",
       "7966      89.804    41.808     132.491      128.875        6110.838  ⋯\n",
       "8011    2608.526   863.390    1996.516      165.477       19750.240  ⋯\n",
       "8056     126.630    36.180      95.591      126.197       17783.706  ⋯\n",
       "8101       0.049     0.037       0.040      127.957        3532.106  ⋯\n",
       "8146   86555.302    24.509      83.482      155.379     1523655.781  ⋯\n",
       "8191    2385.367    93.349     353.741      242.096       23230.021  ⋯\n",
       "8236    1311.248   357.045     677.602       92.927      143167.553  ⋯\n",
       "8281    1969.524  2669.107    2823.724      100.000       30001.280  ⋯\n",
       "8326   18707.150 18707.150   18707.150      105.934       54575.840  ⋯\n",
       "8371    1589.195    52.687      74.715      233.159      195847.912  ⋯\n",
       "8416  199993.374    67.069     207.855    17609.713       35968.304  ⋯\n",
       "8461      87.250     0.798       0.727      137.117      231578.270  ⋯\n",
       "8506       0.238   236.116     435.386    50687.489           0.015  ⋯\n",
       "8551 4502732.989   201.326     596.036      147.415    32953257.340  ⋯\n",
       "8596    8890.543    36.437      76.823     3387.565        9008.815  ⋯\n",
       "8641     216.098    20.941      65.420      166.614        7758.565  ⋯\n",
       "8686      16.117    16.117      32.422      114.306         972.340  ⋯\n",
       "     X2016.GGSB_NPGDP X2016.GGXONLB X2016.GGXONLB_NGDP X2016.GGXWDN\n",
       "1        NA               2.350       0.178                  NA    \n",
       "46       NA              10.318       0.699            1003.785    \n",
       "91       NA           -2298.130     -13.113            2334.139    \n",
       "136  -1.209            -277.674      -1.678                  NA    \n",
       "181      NA               0.093       2.356                  NA    \n",
       "226  -6.671            -383.895      -4.688                  NA    \n",
       "271      NA            -187.129      -3.693                  NA    \n",
       "316      NA               0.140       2.959                  NA    \n",
       "361  -2.159             -27.619      -1.625             322.323    \n",
       "406  -0.498               0.355       0.100             203.538    \n",
       "451      NA              -0.466      -0.772                  NA    \n",
       "496      NA              -0.035      -0.300                  NA    \n",
       "541      NA              -1.766     -14.577                  NA    \n",
       "586      NA            -251.340      -1.450                  NA    \n",
       "631  -5.398               0.218       2.230              14.428    \n",
       "676      NA               0.294       0.310                  NA    \n",
       "721  -2.204               0.245       0.058             389.145    \n",
       "766      NA              -0.041      -1.130                  NA    \n",
       "811      NA            -237.086      -4.664                  NA    \n",
       "856      NA               0.545       0.389                  NA    \n",
       "901      NA             -14.665      -6.253              67.665    \n",
       "946   0.953               0.360       1.203              10.916    \n",
       "991      NA             -13.227      -7.647              -5.497    \n",
       "1036 -7.381            -156.701      -2.504            2892.913    \n",
       "1081     NA              -3.414     -21.680                  NA    \n",
       "1126  1.985               1.742       1.851              10.781    \n",
       "1171     NA            -169.064      -2.522                  NA    \n",
       "1216     NA            -264.801      -5.100                  NA    \n",
       "1261     NA              -1.275      -0.769             200.628    \n",
       "1306     NA            -832.707      -1.025                  NA    \n",
       "⋮    ⋮                ⋮             ⋮                  ⋮           \n",
       "7381     NA               -19.788    -3.094                   NA   \n",
       "7426 -6.972                -1.232    -6.032                   NA   \n",
       "7471  0.907                47.902     1.092              391.104   \n",
       "7516  0.488                 3.809     0.577              150.500   \n",
       "7561     NA                    NA        NA                   NA   \n",
       "7606 -2.022                    NA        NA             5891.823   \n",
       "7651     NA                -4.544    -8.341                   NA   \n",
       "7696     NA              -656.593    -0.633                   NA   \n",
       "7741 -0.776               139.241     0.972                   NA   \n",
       "7786     NA                -0.884   -35.073                   NA   \n",
       "7831     NA              -189.827    -7.181                   NA   \n",
       "7876     NA                 0.024     2.569                   NA   \n",
       "7921     NA               -15.167    -9.981              -11.109   \n",
       "7966 -5.750                -3.325    -3.702               54.240   \n",
       "8011 -2.061               -24.934    -0.956              611.336   \n",
       "8056     NA                    NA        NA                   NA   \n",
       "8101     NA                 0.001     1.799                   NA   \n",
       "8146     NA             -2105.241    -2.432                   NA   \n",
       "8191 -1.944                44.524     1.867                   NA   \n",
       "8236     NA               -24.482    -1.867                   NA   \n",
       "8281 -2.850               -27.235    -1.383             1552.808   \n",
       "8326 -3.949              -430.007    -2.299            15197.253   \n",
       "8371 -3.556                -8.603    -0.541              475.658   \n",
       "8416     NA               934.628     0.467                   NA   \n",
       "8461     NA                -4.427    -5.074                   NA   \n",
       "8506     NA                -0.048   -16.847                   NA   \n",
       "8551     NA           -129358.000    -2.873                   NA   \n",
       "8596     NA              -322.683    -3.630             5968.908   \n",
       "8641     NA                -5.087    -2.354              110.926   \n",
       "8686     NA                -1.234    -7.654                   NA   \n",
       "     X2016.GGXWDN_NGDP X2016.GGXWDG X2016.GGXWDG_NGDP X2016.NGDP_FY X2016.BCA\n",
       "1         NA             103.151      7.823            1318.478       1.409  \n",
       "46    68.042            1079.687     73.187            1475.251      -0.899  \n",
       "91    13.319            3582.079     20.440           17525.100     -26.473  \n",
       "136       NA           12453.983     75.253           16549.565      -4.834  \n",
       "181       NA               3.399     86.215               3.942       0.002  \n",
       "226       NA            4500.097     54.955            8188.749     -14.693  \n",
       "271       NA            2628.002     51.862            5067.294      -0.238  \n",
       "316       NA               4.012     84.677               4.738       0.133  \n",
       "361   18.961             690.691     40.632            1699.883     -41.447  \n",
       "406   57.611             295.200     83.556             353.297       8.313  \n",
       "451       NA              30.626     50.711              60.394      -1.363  \n",
       "496       NA               5.965     50.482              11.816      -0.868  \n",
       "541       NA               9.858     81.350              12.118      -1.493  \n",
       "586       NA            5775.854     33.331           17328.637       1.391  \n",
       "631  147.897              14.548    149.122               9.756      -0.206  \n",
       "676       NA              50.780     53.482              94.949      -1.669  \n",
       "721   92.067             448.163    106.030             422.677       0.451  \n",
       "766       NA               3.506     95.867               3.657      -0.163  \n",
       "811       NA            2525.513     49.678            5083.739      -0.808  \n",
       "856       NA             160.313    114.200             140.380      -0.621  \n",
       "901   28.851             105.221     44.864             234.533      -1.932  \n",
       "946   36.511              13.180     44.081              29.899      -0.821  \n",
       "991   -3.178              26.990     15.604             172.970       2.147  \n",
       "1036  46.229            4908.003     78.430            6257.777     -23.546  \n",
       "1081      NA               0.473      3.005              15.748       1.470  \n",
       "1126  11.453              25.751     27.357              94.130       1.207  \n",
       "1171      NA            2565.433     38.266            6704.200      -0.820  \n",
       "1216      NA            2514.103     48.420            5192.319      -0.411  \n",
       "1261 121.019             211.562    127.614             165.782      -0.040  \n",
       "1306      NA           23660.932     29.124           81241.866      -1.731  \n",
       "⋮    ⋮                 ⋮            ⋮                 ⋮             ⋮        \n",
       "7381     NA                636.540   99.521               639.604     -4.213 \n",
       "7426     NA                 15.488   75.845                20.420     -0.169 \n",
       "7471  8.918               1855.931   42.320              4385.497     21.841 \n",
       "7516 22.787                276.358   41.843               660.460     63.157 \n",
       "7561     NA                     NA       NA                    NA         NA \n",
       "7606 34.350               6214.461   36.232             17152.093     72.781 \n",
       "7651     NA                 22.891   42.023                54.471     -0.362 \n",
       "7696     NA              39387.151   37.965            103744.606     -2.137 \n",
       "7741     NA               5988.387   41.805             14324.455     48.237 \n",
       "7786     NA                  0.077    3.062                 2.521     -0.544 \n",
       "7831     NA               2156.687   81.585              2643.472     -0.416 \n",
       "7876     NA                     NA       NA                 0.947     -0.030 \n",
       "7921 -7.311                 56.248   37.016               151.956     -0.653 \n",
       "7966 60.398                 55.922   62.271                89.804     -3.694 \n",
       "8011 23.436                738.501   28.311              2608.526    -33.137 \n",
       "8056     NA                 30.478   24.068               126.630     -7.207 \n",
       "8101     NA                  0.023   47.223                 0.049      0.008 \n",
       "8146     NA              32397.320   37.430             86555.302     -0.707 \n",
       "8191     NA               1936.290   81.174              2385.367     -1.394 \n",
       "8236     NA                265.091   20.217              1311.248     13.233 \n",
       "8281 78.842               1731.392   87.909              1969.524   -139.301 \n",
       "8326 81.238              19986.304  106.838             18707.150   -432.874 \n",
       "8371 29.931                978.487   61.571              1589.195      0.410 \n",
       "8416     NA              20923.533   10.462            199993.374      0.384 \n",
       "8461     NA                 40.186   46.059                87.250     -0.037 \n",
       "8506     NA                  0.089   31.299                 0.284     -3.870 \n",
       "8551     NA            2699026.645   59.942           4502732.989      5.924 \n",
       "8596 67.138               6055.654   68.113              8890.543     -1.868 \n",
       "8641 51.331                131.101   60.668               216.098     -0.934 \n",
       "8686     NA                 11.269   69.920                16.117     -0.553 \n",
       "     X2016.BCA_NGDPD\n",
       "1      7.253        \n",
       "46    -7.563        \n",
       "91   -16.532        \n",
       "136   -4.780        \n",
       "181    0.151        \n",
       "226   -2.652        \n",
       "271   -2.258        \n",
       "316    5.018        \n",
       "361   -3.278        \n",
       "406    2.126        \n",
       "451   -3.606        \n",
       "496   -7.329        \n",
       "541   -4.632        \n",
       "586    0.590        \n",
       "631   -4.251        \n",
       "676   -3.499        \n",
       "721    0.097        \n",
       "766   -8.980        \n",
       "811   -9.417        \n",
       "856  -29.357        \n",
       "901   -5.650        \n",
       "946   -4.853        \n",
       "991   13.711        \n",
       "1036  -1.313        \n",
       "1081  12.900        \n",
       "1126   2.268        \n",
       "1171  -7.248        \n",
       "1216 -13.085        \n",
       "1261  -2.399        \n",
       "1306  -8.636        \n",
       "⋮    ⋮              \n",
       "7381  -7.553        \n",
       "7426  -5.164        \n",
       "7471   4.264        \n",
       "7516   9.423        \n",
       "7561      NA        \n",
       "7606  13.717        \n",
       "7651  -5.210        \n",
       "7696  -4.485        \n",
       "7741  11.713        \n",
       "7786 -21.598        \n",
       "7831  -9.321        \n",
       "7876  -6.906        \n",
       "7921  -2.883        \n",
       "7966  -8.836        \n",
       "8011  -3.838        \n",
       "8056 -19.921        \n",
       "8101  23.212        \n",
       "8146  -2.886        \n",
       "8191  -1.493        \n",
       "8236   3.706        \n",
       "8281  -5.219        \n",
       "8326  -2.314        \n",
       "8371   0.779        \n",
       "8416   0.573        \n",
       "8461  -4.646        \n",
       "8506  -1.639        \n",
       "8551   2.942        \n",
       "8596  -5.127        \n",
       "8641  -4.461        \n",
       "8686  -3.430        "
      ]
     },
     "metadata": {},
     "output_type": "display_data"
    }
   ],
   "source": [
    "weo_2016_wide"
   ]
  },
  {
   "cell_type": "markdown",
   "metadata": {},
   "source": [
    "We may have to correct column names:"
   ]
  },
  {
   "cell_type": "code",
   "execution_count": 34,
   "metadata": {},
   "outputs": [
    {
     "data": {
      "text/plain": [
       " [1] \"WEO.Country.Code\"   \"ISO\"                \"Country\"           \n",
       " [4] \"X2016.NGDP_R\"       \"X2016.NGDP_RPCH\"    \"X2016.NGDP\"        \n",
       " [7] \"X2016.NGDPD\"        \"X2016.PPPGDP\"       \"X2016.NGDP_D\"      \n",
       "[10] \"X2016.NGDPRPC\"      \"X2016.NGDPRPPPPC\"   \"X2016.NGDPPC\"      \n",
       "[13] \"X2016.NGDPDPC\"      \"X2016.PPPPC\"        \"X2016.NGAP_NPGDP\"  \n",
       "[16] \"X2016.PPPSH\"        \"X2016.PPPEX\"        \"X2016.NID_NGDP\"    \n",
       "[19] \"X2016.NGSD_NGDP\"    \"X2016.PCPI\"         \"X2016.PCPIPCH\"     \n",
       "[22] \"X2016.PCPIE\"        \"X2016.PCPIEPCH\"     \"X2016.FLIBOR6\"     \n",
       "[25] \"X2016.TM_RPCH\"      \"X2016.TMG_RPCH\"     \"X2016.TX_RPCH\"     \n",
       "[28] \"X2016.TXG_RPCH\"     \"X2016.LUR\"          \"X2016.LE\"          \n",
       "[31] \"X2016.LP\"           \"X2016.GGR\"          \"X2016.GGR_NGDP\"    \n",
       "[34] \"X2016.GGX\"          \"X2016.GGX_NGDP\"     \"X2016.GGXCNL\"      \n",
       "[37] \"X2016.GGXCNL_NGDP\"  \"X2016.GGSB\"         \"X2016.GGSB_NPGDP\"  \n",
       "[40] \"X2016.GGXONLB\"      \"X2016.GGXONLB_NGDP\" \"X2016.GGXWDN\"      \n",
       "[43] \"X2016.GGXWDN_NGDP\"  \"X2016.GGXWDG\"       \"X2016.GGXWDG_NGDP\" \n",
       "[46] \"X2016.NGDP_FY\"      \"X2016.BCA\"          \"X2016.BCA_NGDPD\"   "
      ]
     },
     "metadata": {},
     "output_type": "display_data"
    }
   ],
   "source": [
    "names_2016 <- names(weo_2016_wide)\n",
    "names_2016"
   ]
  },
  {
   "cell_type": "code",
   "execution_count": 35,
   "metadata": {},
   "outputs": [],
   "source": [
    "names(weo_2016_wide) <- gsub(\"X2016\\\\.\", \"\", names_2016)"
   ]
  },
  {
   "cell_type": "code",
   "execution_count": 36,
   "metadata": {},
   "outputs": [
    {
     "name": "stdout",
     "output_type": "stream",
     "text": [
      "'data.frame':\t194 obs. of  48 variables:\n",
      " $ WEO.Country.Code: int  512 914 612 614 311 213 911 314 193 122 ...\n",
      " $ ISO             : Factor w/ 194 levels \"ABW\",\"AFG\",\"AGO\",..: 2 4 49 3 8 6 7 1 9 10 ...\n",
      " $ Country         : Factor w/ 194 levels \"Afghanistan\",..: 1 2 3 4 5 6 7 8 9 10 ...\n",
      " $ NGDP_R          : num  493.07 760.32 7270.16 1588.96 3.25 ...\n",
      " $ NGDP_RPCH       : num  2.16 3.35 3.2 -2.58 5.35 ...\n",
      " $ NGDP            : num  1318.48 1475.25 17525.1 16549.56 3.94 ...\n",
      " $ NGDPD           : num  19.43 11.88 160.13 101.12 1.46 ...\n",
      " $ PPPGDP          : num  66.38 34.03 609.7 194.89 2.29 ...\n",
      " $ NGDP_D          : num  267 194 241 1042 121 ...\n",
      " $ NGDPRPC         : num  14228 264357 178355 57774 35967 ...\n",
      " $ NGDPRPPPPC      : num  1774 10958 13854 6563 23504 ...\n",
      " $ NGDPPC          : num  38045 512934 429934 601737 43674 ...\n",
      " $ NGDPDPC         : num  561 4132 3928 3677 16176 ...\n",
      " $ PPPPC           : num  1916 11831 14958 7086 25376 ...\n",
      " $ NGAP_NPGDP      : num  NA NA NA NA NA ...\n",
      " $ PPPSH           : num  0.055 0.028 0.505 0.161 0.002 0.729 0.021 0.003 0.993 0.348 ...\n",
      " $ PPPEX           : num  19.86 43.36 28.74 84.92 1.72 ...\n",
      " $ NID_NGDP        : num  18.5 24.3 53.9 27.2 24.3 ...\n",
      " $ NGSD_NGDP       : num  25.8 16.7 37.4 24.5 24.5 ...\n",
      " $ PCPI            : num  106 101 184 194 134 ...\n",
      " $ PCPIPCH         : num  4.384 1.275 6.398 30.694 -0.489 ...\n",
      " $ PCPIE           : num  109 102 188 222 134 ...\n",
      " $ PCPIEPCH        : num  4.59 2.18 6.96 41.12 -1.12 ...\n",
      " $ FLIBOR6         : num  NA NA NA NA NA NA NA NA NA NA ...\n",
      " $ TM_RPCH         : num  -8.13 8.16 -2.29 -25.27 10.67 ...\n",
      " $ TMG_RPCH        : num  -7.27 9.23 -2.29 -32.29 10.78 ...\n",
      " $ TX_RPCH         : num  -16.439 10.283 9.612 -0.606 -0.444 ...\n",
      " $ TXG_RPCH        : num  11.425 -0.754 7.883 0.571 21.438 ...\n",
      " $ LUR             : num  NA 15.2 10.5 NA NA ...\n",
      " $ LE              : num  NA NA NA NA NA ...\n",
      " $ LP              : num  34.66 2.88 40.76 27.5 0.09 ...\n",
      " $ GGR             : num  344.327 403.131 5011.581 2899.97 0.951 ...\n",
      " $ GGR_NGDP        : num  26.1 27.3 28.6 17.5 24.1 ...\n",
      " $ GGX             : num  342.771 429.073 7297.494 3648.044 0.956 ...\n",
      " $ GGX_NGDP        : num  26 29.1 41.6 22 24.3 ...\n",
      " $ GGXCNL          : num  1.556 -25.941 -2285.913 -748.074 -0.006 ...\n",
      " $ GGXCNL_NGDP     : num  0.118 -1.758 -13.044 -4.52 -0.143 ...\n",
      " $ GGSB            : num  NA NA NA -251 NA ...\n",
      " $ GGSB_NPGDP      : num  NA NA NA -1.21 NA ...\n",
      " $ GGXONLB         : num  2.35 10.318 -2298.13 -277.674 0.093 ...\n",
      " $ GGXONLB_NGDP    : num  0.178 0.699 -13.113 -1.678 2.356 ...\n",
      " $ GGXWDN          : num  NA 1004 2334 NA NA ...\n",
      " $ GGXWDN_NGDP     : num  NA 68 13.3 NA NA ...\n",
      " $ GGXWDG          : num  103.2 1079.7 3582.1 12454 3.4 ...\n",
      " $ GGXWDG_NGDP     : num  7.82 73.19 20.44 75.25 86.22 ...\n",
      " $ NGDP_FY         : num  1318.48 1475.25 17525.1 16549.56 3.94 ...\n",
      " $ BCA             : num  1.409 -0.899 -26.473 -4.834 0.002 ...\n",
      " $ BCA_NGDPD       : num  7.253 -7.563 -16.532 -4.78 0.151 ...\n",
      " - attr(*, \"reshapeWide\")=List of 5\n",
      "  ..$ v.names: chr \"X2016\"\n",
      "  ..$ timevar: chr \"WEO.Subject.Code\"\n",
      "  ..$ idvar  : chr  \"WEO.Country.Code\" \"Country\"\n",
      "  ..$ times  : Factor w/ 45 levels \"BCA\",\"BCA_NGDPD\",..: 25 26 22 27 39 23 30 31 29 28 ...\n",
      "  ..$ varying: chr [1, 1:45] \"X2016.NGDP_R\" \"X2016.NGDP_RPCH\" \"X2016.NGDP\" \"X2016.NGDPD\" ...\n"
     ]
    }
   ],
   "source": [
    "str(weo_2016_wide)"
   ]
  },
  {
   "cell_type": "markdown",
   "metadata": {},
   "source": [
    "### Extension packages"
   ]
  },
  {
   "cell_type": "markdown",
   "metadata": {},
   "source": [
    "reshape2, tidy2 (from tidyverse) and data.table packages provide extended functionality on reshaping datasets"
   ]
  },
  {
   "cell_type": "markdown",
   "metadata": {},
   "source": [
    "## Discretize numeric data"
   ]
  },
  {
   "cell_type": "markdown",
   "metadata": {},
   "source": [
    "Now we may want to create factors on GDP per capita (PPP): Low income, middle income and high income countries  "
   ]
  },
  {
   "cell_type": "markdown",
   "metadata": {},
   "source": [
    "Let's say the cutting points are 3000 and 12000"
   ]
  },
  {
   "cell_type": "code",
   "execution_count": 37,
   "metadata": {},
   "outputs": [
    {
     "name": "stdout",
     "output_type": "stream",
     "text": [
      "'data.frame':\t8536 obs. of  5 variables:\n",
      " $ Country         : Factor w/ 194 levels \"Afghanistan\",..: 1 2 3 4 5 6 7 8 9 10 ...\n",
      " $ WEO.Country.Code: int  512 914 612 614 311 213 911 314 193 122 ...\n",
      " $ ISO             : Factor w/ 194 levels \"ABW\",\"AFG\",\"AGO\",..: 2 4 49 3 8 6 7 1 9 10 ...\n",
      " $ time            : int  1980 1980 1980 1980 1980 1980 1980 1980 1980 1980 ...\n",
      " $ NGDPRPPPPC      : num  NA 4675 10804 5277 9082 ...\n"
     ]
    }
   ],
   "source": [
    "str(weo_ppp_long_2)"
   ]
  },
  {
   "cell_type": "markdown",
   "metadata": {},
   "source": [
    "We will discretize the NGDPRPPPPC column with cut() function and add the results as a new factor variable:"
   ]
  },
  {
   "cell_type": "code",
   "execution_count": 38,
   "metadata": {},
   "outputs": [
    {
     "data": {
      "text/plain": [
       "[1] 172994.5"
      ]
     },
     "metadata": {},
     "output_type": "display_data"
    }
   ],
   "source": [
    "max(weo_ppp_long_2$NGDPRPPPPC, na.rm = T)"
   ]
  },
  {
   "cell_type": "code",
   "execution_count": 39,
   "metadata": {},
   "outputs": [],
   "source": [
    "weo_ppp_long_2$income_levels <- cut(weo_ppp_long_2$NGDPRPPPPC,\n",
    "                                    breaks = c(0, 5000, 20000, max(weo_ppp_long_2$NGDPRPPPPC, na.rm = T)),\n",
    "                                    labels = c(\"L\", \"M\", \"H\"))"
   ]
  },
  {
   "cell_type": "code",
   "execution_count": 79,
   "metadata": {},
   "outputs": [
    {
     "data": {
      "text/plain": [
       "     ISO time NGDPRPPPPC income_levels\n",
       "1    AFG 1980        NA  NA           \n",
       "2    ALB 1980  4674.883  L            \n",
       "3    DZA 1980 10804.443  M            \n",
       "4    AGO 1980  5276.667  M            \n",
       "5    ATG 1980  9081.960  M            \n",
       "6    ARG 1980 14709.172  M            \n",
       "7    ARM 1980        NA  NA           \n",
       "8    ABW 1980        NA  NA           \n",
       "9    AUS 1980 24398.012  H            \n",
       "10   AUT 1980 26129.809  H            \n",
       "11   AZE 1980        NA  NA           \n",
       "12   BHS 1980 27652.318  H            \n",
       "13   BHR 1980 40934.983  H            \n",
       "14   BGD 1980  1159.722  L            \n",
       "15   BRB 1980 14066.335  M            \n",
       "16   BLR 1980        NA  NA           \n",
       "17   BEL 1980 25189.821  H            \n",
       "18   BLZ 1980  3183.026  L            \n",
       "19   BEN 1980  1724.655  L            \n",
       "20   BTN 1980  1102.657  L            \n",
       "21   BOL 1980  4866.147  L            \n",
       "22   BIH 1980        NA  NA           \n",
       "23   BWA 1980  4265.308  L            \n",
       "24   BRA 1980 11373.057  M            \n",
       "25   BRN 1980        NA  NA           \n",
       "26   BGR 1980 10374.302  M            \n",
       "27   BFA 1980   759.033  L            \n",
       "28   BDI 1980   790.190  L            \n",
       "29   CPV 1980  1857.407  L            \n",
       "30   KHM 1980        NA  NA           \n",
       "⋮    ⋮   ⋮    ⋮          ⋮            \n",
       "8507 SDN 2023  3156.732  L            \n",
       "8508 SUR 2023 14517.698  M            \n",
       "8509 SWE 2023 49292.623  H            \n",
       "8510 CHE 2023 59165.627  H            \n",
       "8511 SYR 2023        NA  NA           \n",
       "8512 TWN 2023 51794.699  H            \n",
       "8513 TJK 2023  3393.110  L            \n",
       "8514 TZA 2023  3795.574  L            \n",
       "8515 THA 2023 20247.901  H            \n",
       "8516 TLS 2023  3124.031  L            \n",
       "8517 TGO 2023  1762.331  L            \n",
       "8518 TON 2023  6561.061  M            \n",
       "8519 TTO 2023 30282.128  H            \n",
       "8520 TUN 2023 12508.277  M            \n",
       "8521 TUR 2023 26072.259  H            \n",
       "8522 TKM 2023 21658.002  H            \n",
       "8523 TUV 2023  4327.978  L            \n",
       "8524 UGA 2023  2580.630  L            \n",
       "8525 UKR 2023  9784.539  M            \n",
       "8526 ARE 2023 63046.461  H            \n",
       "8527 GBR 2023 42824.925  H            \n",
       "8528 USA 2023 58800.370  H            \n",
       "8529 URY 2023 23770.394  H            \n",
       "8530 UZB 2023  8211.536  M            \n",
       "8531 VUT 2023  2632.370  L            \n",
       "8532 VEN 2023  9325.787  M            \n",
       "8533 VNM 2023  8692.397  M            \n",
       "8534 YEM 2023  2982.110  L            \n",
       "8535 ZMB 2023  3926.514  L            \n",
       "8536 ZWE 2023  2347.893  L            "
      ]
     },
     "metadata": {},
     "output_type": "display_data"
    }
   ],
   "source": [
    "weo_ppp_long_2[,3:6]"
   ]
  },
  {
   "cell_type": "code",
   "execution_count": 80,
   "metadata": {},
   "outputs": [
    {
     "data": {
      "text/plain": [
       "     Country                  WEO.Country.Code ISO time NGDPRPPPPC\n",
       "1    Afghanistan              512              AFG 1980        NA \n",
       "2    Albania                  914              ALB 1980  4674.883 \n",
       "3    Algeria                  612              DZA 1980 10804.443 \n",
       "4    Angola                   614              AGO 1980  5276.667 \n",
       "5    Antigua and Barbuda      311              ATG 1980  9081.960 \n",
       "6    Argentina                213              ARG 1980 14709.172 \n",
       "7    Armenia                  911              ARM 1980        NA \n",
       "8    Aruba                    314              ABW 1980        NA \n",
       "9    Australia                193              AUS 1980 24398.012 \n",
       "10   Austria                  122              AUT 1980 26129.809 \n",
       "11   Azerbaijan               912              AZE 1980        NA \n",
       "12   The Bahamas              313              BHS 1980 27652.318 \n",
       "13   Bahrain                  419              BHR 1980 40934.983 \n",
       "14   Bangladesh               513              BGD 1980  1159.722 \n",
       "15   Barbados                 316              BRB 1980 14066.335 \n",
       "16   Belarus                  913              BLR 1980        NA \n",
       "17   Belgium                  124              BEL 1980 25189.821 \n",
       "18   Belize                   339              BLZ 1980  3183.026 \n",
       "19   Benin                    638              BEN 1980  1724.655 \n",
       "20   Bhutan                   514              BTN 1980  1102.657 \n",
       "21   Bolivia                  218              BOL 1980  4866.147 \n",
       "22   Bosnia and Herzegovina   963              BIH 1980        NA \n",
       "23   Botswana                 616              BWA 1980  4265.308 \n",
       "24   Brazil                   223              BRA 1980 11373.057 \n",
       "25   Brunei Darussalam        516              BRN 1980        NA \n",
       "26   Bulgaria                 918              BGR 1980 10374.302 \n",
       "27   Burkina Faso             748              BFA 1980   759.033 \n",
       "28   Burundi                  618              BDI 1980   790.190 \n",
       "29   Cabo Verde               624              CPV 1980  1857.407 \n",
       "30   Cambodia                 522              KHM 1980        NA \n",
       "⋮    ⋮                        ⋮                ⋮   ⋮    ⋮         \n",
       "8507 Sudan                    732              SDN 2023  3156.732 \n",
       "8508 Suriname                 366              SUR 2023 14517.698 \n",
       "8509 Sweden                   144              SWE 2023 49292.623 \n",
       "8510 Switzerland              146              CHE 2023 59165.627 \n",
       "8511 Syria                    463              SYR 2023        NA \n",
       "8512 Taiwan Province of China 528              TWN 2023 51794.699 \n",
       "8513 Tajikistan               923              TJK 2023  3393.110 \n",
       "8514 Tanzania                 738              TZA 2023  3795.574 \n",
       "8515 Thailand                 578              THA 2023 20247.901 \n",
       "8516 Timor-Leste              537              TLS 2023  3124.031 \n",
       "8517 Togo                     742              TGO 2023  1762.331 \n",
       "8518 Tonga                    866              TON 2023  6561.061 \n",
       "8519 Trinidad and Tobago      369              TTO 2023 30282.128 \n",
       "8520 Tunisia                  744              TUN 2023 12508.277 \n",
       "8521 Turkey                   186              TUR 2023 26072.259 \n",
       "8522 Turkmenistan             925              TKM 2023 21658.002 \n",
       "8523 Tuvalu                   869              TUV 2023  4327.978 \n",
       "8524 Uganda                   746              UGA 2023  2580.630 \n",
       "8525 Ukraine                  926              UKR 2023  9784.539 \n",
       "8526 United Arab Emirates     466              ARE 2023 63046.461 \n",
       "8527 United Kingdom           112              GBR 2023 42824.925 \n",
       "8528 United States            111              USA 2023 58800.370 \n",
       "8529 Uruguay                  298              URY 2023 23770.394 \n",
       "8530 Uzbekistan               927              UZB 2023  8211.536 \n",
       "8531 Vanuatu                  846              VUT 2023  2632.370 \n",
       "8532 Venezuela                299              VEN 2023  9325.787 \n",
       "8533 Vietnam                  582              VNM 2023  8692.397 \n",
       "8534 Yemen                    474              YEM 2023  2982.110 \n",
       "8535 Zambia                   754              ZMB 2023  3926.514 \n",
       "8536 Zimbabwe                 698              ZWE 2023  2347.893 \n",
       "     income_levels\n",
       "1    NA           \n",
       "2    L            \n",
       "3    M            \n",
       "4    M            \n",
       "5    M            \n",
       "6    M            \n",
       "7    NA           \n",
       "8    NA           \n",
       "9    H            \n",
       "10   H            \n",
       "11   NA           \n",
       "12   H            \n",
       "13   H            \n",
       "14   L            \n",
       "15   M            \n",
       "16   NA           \n",
       "17   H            \n",
       "18   L            \n",
       "19   L            \n",
       "20   L            \n",
       "21   L            \n",
       "22   NA           \n",
       "23   L            \n",
       "24   M            \n",
       "25   NA           \n",
       "26   M            \n",
       "27   L            \n",
       "28   L            \n",
       "29   L            \n",
       "30   NA           \n",
       "⋮    ⋮            \n",
       "8507 L            \n",
       "8508 M            \n",
       "8509 H            \n",
       "8510 H            \n",
       "8511 NA           \n",
       "8512 H            \n",
       "8513 L            \n",
       "8514 L            \n",
       "8515 H            \n",
       "8516 L            \n",
       "8517 L            \n",
       "8518 M            \n",
       "8519 H            \n",
       "8520 M            \n",
       "8521 H            \n",
       "8522 H            \n",
       "8523 L            \n",
       "8524 L            \n",
       "8525 M            \n",
       "8526 H            \n",
       "8527 H            \n",
       "8528 H            \n",
       "8529 H            \n",
       "8530 M            \n",
       "8531 L            \n",
       "8532 M            \n",
       "8533 M            \n",
       "8534 L            \n",
       "8535 L            \n",
       "8536 L            "
      ]
     },
     "metadata": {},
     "output_type": "display_data"
    }
   ],
   "source": [
    "weo_ppp_long_2"
   ]
  },
  {
   "cell_type": "code",
   "execution_count": 81,
   "metadata": {},
   "outputs": [],
   "source": [
    "save(weo_ppp_long_2, file = \"weo_ppp_long_2.RData\")"
   ]
  },
  {
   "cell_type": "markdown",
   "metadata": {},
   "source": [
    "classInt package offers alternative methods for discretizing numeric values"
   ]
  },
  {
   "cell_type": "markdown",
   "metadata": {},
   "source": [
    "## Joining data"
   ]
  },
  {
   "cell_type": "markdown",
   "metadata": {},
   "source": [
    "Now let's import a second IMF dataset: 2016 values of international investment position of all countries"
   ]
  },
  {
   "cell_type": "code",
   "execution_count": 41,
   "metadata": {},
   "outputs": [],
   "source": [
    "iip <- read.csv(\"data/Data_in_US_Dollars.csv\")"
   ]
  },
  {
   "cell_type": "code",
   "execution_count": 42,
   "metadata": {},
   "outputs": [
    {
     "name": "stdout",
     "output_type": "stream",
     "text": [
      "'data.frame':\t208 obs. of  13 variables:\n",
      " $ WEO.Country.Code                                                        : int  512 914 612 614 312 311 213 911 314 193 ...\n",
      " $ Assets                                                                  : num  9274 7352 127904 87718 1511 ...\n",
      " $ Direct.investment                                                       : num  5.61 1406.26 1281.88 21493.93 71.64 ...\n",
      " $ Portfolio.investment                                                    : num  351.4 748.4 NA 7401.8 42.2 ...\n",
      " $ Financial.derivatives..other.than.reserves..and.employee.stock.options  : num  NA NA NA 78.2 0 ...\n",
      " $ Other.investment                                                        : num  1454 2093 5414 34392 1342 ...\n",
      " $ Reserve.assets                                                          : num  7462.8 3105 121208.4 24352.5 55.6 ...\n",
      " $ Liabilities                                                             : num  3843 12439 33264 90246 1897 ...\n",
      " $ Direct.investment.1                                                     : num  1355 5984 19235 35002 556 ...\n",
      " $ Portfolio.investment.1                                                  : num  NA 644 NA 1564 1115 ...\n",
      " $ Financial.derivatives..other.than.reserves..and.employee.stock.options.1: num  0.18 NA NA 0 0 ...\n",
      " $ Other.investment.1                                                      : num  2488 5811 14029 53681 225 ...\n",
      " $ Net.international.investment.position                                   : num  5430 -5087 94640 -2528 -385 ...\n"
     ]
    }
   ],
   "source": [
    "str(iip)"
   ]
  },
  {
   "cell_type": "markdown",
   "metadata": {},
   "source": [
    "Now similar to SQL joins, we will \"merge\" the weo_2016_wide and iip datasets using common \"WEO.Country.Code\" variable:"
   ]
  },
  {
   "cell_type": "code",
   "execution_count": 43,
   "metadata": {},
   "outputs": [],
   "source": [
    "?merge"
   ]
  },
  {
   "cell_type": "markdown",
   "metadata": {},
   "source": [
    "```\n",
    "merge(x, y, by = intersect(names(x), names(y)),\n",
    "           by.x = by, by.y = by, all = FALSE, all.x = all, all.y = all,\n",
    "           sort = TRUE, suffixes = c(\".x\",\".y\"), no.dups = TRUE,\n",
    "           incomparables = NULL, ...)\n",
    "     \n",
    "Arguments:\n",
    "\n",
    "    x, y: data frames, or objects to be coerced to one.\n",
    "\n",
    "by, by.x, by.y: specifications of the columns used for merging.  See\n",
    "          ‘Details’.\n",
    "\n",
    "     all: logical; ‘all = L’ is shorthand for ‘all.x = L’ and ‘all.y =\n",
    "          L’, where ‘L’ is either ‘TRUE’ or ‘FALSE’.\n",
    "\n",
    "   all.x: logical; if ‘TRUE’, then extra rows will be added to the\n",
    "          output, one for each row in ‘x’ that has no matching row in\n",
    "          ‘y’.  These rows will have ‘NA’s in those columns that are\n",
    "          usually filled with values from ‘y’.  The default is ‘FALSE’,\n",
    "          so that only rows with data from both ‘x’ and ‘y’ are\n",
    "          included in the output.\n",
    "\n",
    "   all.y: logical; analogous to ‘all.x’.\n",
    "\n",
    "```"
   ]
  },
  {
   "cell_type": "code",
   "execution_count": 44,
   "metadata": {},
   "outputs": [
    {
     "data": {
      "text/plain": [
       "[1] 194"
      ]
     },
     "metadata": {},
     "output_type": "display_data"
    },
    {
     "data": {
      "text/plain": [
       "[1] 208"
      ]
     },
     "metadata": {},
     "output_type": "display_data"
    }
   ],
   "source": [
    "nrow(weo_2016_wide)\n",
    "nrow(iip)"
   ]
  },
  {
   "cell_type": "markdown",
   "metadata": {},
   "source": [
    "As we see iip table has more rows"
   ]
  },
  {
   "cell_type": "markdown",
   "metadata": {},
   "source": [
    "Let's see the rows that are common, that only weo_2016_wide have or that only iip have:"
   ]
  },
  {
   "cell_type": "code",
   "execution_count": 45,
   "metadata": {},
   "outputs": [],
   "source": [
    "codes_weo <- weo_2016_wide$WEO.Country.Code\n",
    "codes_iip <- iip$WEO.Country.Code"
   ]
  },
  {
   "cell_type": "code",
   "execution_count": 46,
   "metadata": {},
   "outputs": [
    {
     "data": {
      "text/plain": [
       "[1] 5"
      ]
     },
     "metadata": {},
     "output_type": "display_data"
    }
   ],
   "source": [
    "codes_L <- setdiff(codes_weo, codes_iip)\n",
    "length(codes_L)"
   ]
  },
  {
   "cell_type": "code",
   "execution_count": 47,
   "metadata": {},
   "outputs": [
    {
     "data": {
      "text/plain": [
       "[1] 19"
      ]
     },
     "metadata": {},
     "output_type": "display_data"
    }
   ],
   "source": [
    "codes_R <- setdiff(codes_iip, codes_weo)\n",
    "length(codes_R)"
   ]
  },
  {
   "cell_type": "code",
   "execution_count": 48,
   "metadata": {},
   "outputs": [
    {
     "data": {
      "text/plain": [
       "[1] 189"
      ]
     },
     "metadata": {},
     "output_type": "display_data"
    }
   ],
   "source": [
    "codes_I <- intersect(codes_iip, codes_weo)\n",
    "length(codes_I)"
   ]
  },
  {
   "cell_type": "code",
   "execution_count": 49,
   "metadata": {},
   "outputs": [
    {
     "data": {
      "text/plain": [
       "[1] 213"
      ]
     },
     "metadata": {},
     "output_type": "display_data"
    }
   ],
   "source": [
    "codes_O <- union(codes_iip, codes_weo)\n",
    "length(codes_O)"
   ]
  },
  {
   "cell_type": "markdown",
   "metadata": {},
   "source": [
    "So in a total of 213 country codes, 5 are unique to weo, 19 are unique to iip and 189 are common across"
   ]
  },
  {
   "cell_type": "markdown",
   "metadata": {},
   "source": [
    "### Left Join"
   ]
  },
  {
   "cell_type": "markdown",
   "metadata": {},
   "source": [
    "First we make a \"left join\": We keep the country codes that weo have and do not add the codes unique to iip"
   ]
  },
  {
   "cell_type": "code",
   "execution_count": 50,
   "metadata": {},
   "outputs": [],
   "source": [
    "weo_iip_2016_L <- merge(x = weo_2016_wide,\n",
    "                        y = iip,\n",
    "                        by = \"WEO.Country.Code\",\n",
    "                       all.x = T)"
   ]
  },
  {
   "cell_type": "code",
   "execution_count": 51,
   "metadata": {},
   "outputs": [
    {
     "name": "stdout",
     "output_type": "stream",
     "text": [
      "'data.frame':\t194 obs. of  60 variables:\n",
      " $ WEO.Country.Code                                                        : int  111 112 122 124 128 132 134 135 136 137 ...\n",
      " $ ISO                                                                     : Factor w/ 194 levels \"ABW\",\"AFG\",\"AGO\",..: 183 61 10 13 47 58 44 155 84 104 ...\n",
      " $ Country                                                                 : Factor w/ 194 levels \"Afghanistan\",..: 186 185 10 16 44 58 62 145 81 99 ...\n",
      " $ NGDP_R                                                                  : num  17659 1970 317 416 1954 ...\n",
      " $ NGDP_RPCH                                                               : num  1.57 1.79 1.45 1.41 1.97 ...\n",
      " $ NGDP                                                                    : num  18707 1970 353 423 2066 ...\n",
      " $ NGDPD                                                                   : num  18707 2669 391 468 307 ...\n",
      " $ PPPGDP                                                                  : num  18707 2824 420 511 276 ...\n",
      " $ NGDP_D                                                                  : num  106 100 111 102 106 ...\n",
      " $ NGDPRPC                                                                 : num  54576 30001 36288 36785 342459 ...\n",
      " $ NGDPRPPPPC                                                              : num  53549 39840 44521 41805 44822 ...\n",
      " $ NGDPPC                                                                  : num  57815 30001 40424 37368 361989 ...\n",
      " $ NGDPDPC                                                                 : num  57815 40658 44733 41352 53774 ...\n",
      " $ PPPPC                                                                   : num  57815 43013 48067 45135 48393 ...\n",
      " $ NGAP_NPGDP                                                              : num  -0.167 -0.068 -1.702 -0.479 -0.227 ...\n",
      " $ PPPSH                                                                   : num  15.5 2.34 0.348 0.423 0.229 ...\n",
      " $ PPPEX                                                                   : num  1 0.697 0.841 0.828 7.48 0.814 0.786 0.711 0.751 0.89 ...\n",
      " $ NID_NGDP                                                                : num  20.3 17.3 24.1 24 21 ...\n",
      " $ NGSD_NGDP                                                               : num  18.6 12 26.2 24 28.3 ...\n",
      " $ PCPI                                                                    : num  240 101 123 102 100 ...\n",
      " $ PCPIPCH                                                                 : num  1.272 0.66 0.972 1.77 0.25 ...\n",
      " $ PCPIE                                                                   : num  243 102 123 103 101 ...\n",
      " $ PCPIEPCH                                                                : num  2.184 1.211 1.533 2.204 0.499 ...\n",
      " $ FLIBOR6                                                                 : num  1.06 NA NA NA NA ...\n",
      " $ TM_RPCH                                                                 : num  1.9 3.29 3.14 5.51 3.84 ...\n",
      " $ TMG_RPCH                                                                : num  1.38 3.81 3.22 5.51 2.74 ...\n",
      " $ TX_RPCH                                                                 : num  -0.103 1.04 1.915 3.501 2.84 ...\n",
      " $ TXG_RPCH                                                                : num  0.337 -1.293 1.34 3.501 2.26 ...\n",
      " $ LUR                                                                     : num  4.87 4.9 6.02 7.86 6.18 ...\n",
      " $ LE                                                                      : num  151.44 31.73 4.22 4.74 2.84 ...\n",
      " $ LP                                                                      : num  323.57 65.65 8.74 11.31 5.71 ...\n",
      " $ GGR                                                                     : num  5815 707 173 215 1099 ...\n",
      " $ GGR_NGDP                                                                : num  31.1 35.9 49 50.8 53.2 ...\n",
      " $ GGX                                                                     : num  6547 765 179 225 1107 ...\n",
      " $ GGX_NGDP                                                                : num  35 38.9 50.6 53.3 53.6 ...\n",
      " $ GGXCNL                                                                  : num  -731.64 -57.99 -5.62 -10.49 -8.45 ...\n",
      " $ GGXCNL_NGDP                                                             : num  -3.911 -2.944 -1.591 -2.482 -0.409 ...\n",
      " $ GGSB                                                                    : num  -740.02 -56.74 -1.79 -9.36 -2.06 ...\n",
      " $ GGSB_NPGDP                                                              : num  -3.949 -2.85 -0.498 -2.204 -0.099 ...\n",
      " $ GGXONLB                                                                 : num  -430.007 -27.235 0.355 0.245 2.385 ...\n",
      " $ GGXONLB_NGDP                                                            : num  -2.299 -1.383 0.1 0.058 0.115 ...\n",
      " $ GGXWDN                                                                  : num  15197 1553 204 389 351 ...\n",
      " $ GGXWDN_NGDP                                                             : num  81.2 78.8 57.6 92.1 17 ...\n",
      " $ GGXWDG                                                                  : num  19986 1731 295 448 782 ...\n",
      " $ GGXWDG_NGDP                                                             : num  106.8 87.9 83.6 106 37.9 ...\n",
      " $ NGDP_FY                                                                 : num  18707 1970 353 423 2066 ...\n",
      " $ BCA                                                                     : num  -432.874 -139.301 8.313 0.451 22.469 ...\n",
      " $ BCA_NGDPD                                                               : num  -2.314 -5.219 2.126 0.097 7.321 ...\n",
      " $ Assets                                                                  : num  24060586 13490319 890115 2354425 991909 ...\n",
      " $ Direct.investment                                                       : num  7421871 1925355 291184 1080287 254914 ...\n",
      " $ Portfolio.investment                                                    : num  10011368 3025965 308274 694615 416238 ...\n",
      " $ Financial.derivatives..other.than.reserves..and.employee.stock.options  : num  2220453 3259951 7217 18326 74271 ...\n",
      " $ Other.investment                                                        : num  3999671 5144405 260080 537631 182881 ...\n",
      " $ Reserve.assets                                                          : num  407223 134642 23359 23566 63605 ...\n",
      " $ Liabilities                                                             : num  32242176 13549348 876376 2099169 830063 ...\n",
      " $ Direct.investment.1                                                     : num  7596124 1908905 244293 985285 165042 ...\n",
      " $ Portfolio.investment.1                                                  : num  17359979 3817956 402006 643700 423205 ...\n",
      " $ Financial.derivatives..other.than.reserves..and.employee.stock.options.1: num  2162275 3207615 7529 19252 68656 ...\n",
      " $ Other.investment.1                                                      : num  5123798 4614872 222547 450931 173160 ...\n",
      " $ Net.international.investment.position                                   : num  -8181591 -59030 13739 255255 161846 ...\n"
     ]
    }
   ],
   "source": [
    "str(weo_iip_2016_L)"
   ]
  },
  {
   "cell_type": "markdown",
   "metadata": {},
   "source": [
    "12 new variables are added from iip, and number of rows is equal to that of weo_2016_wide"
   ]
  },
  {
   "cell_type": "markdown",
   "metadata": {},
   "source": [
    "Now let's select those rows where codes are unique to weo:"
   ]
  },
  {
   "cell_type": "code",
   "execution_count": 52,
   "metadata": {},
   "outputs": [
    {
     "data": {
      "text/plain": [
       "    WEO.Country.Code ISO Country              NGDP_R   NGDP_RPCH NGDP      \n",
       "8   135              SMR San Marino              1.232  2.197         1.414\n",
       "56  359              PRI Puerto Rico            10.188 -1.327       103.961\n",
       "74  466              ARE United Arab Emirates 1411.057  2.988      1311.248\n",
       "156 836              NRU Nauru                   0.110 10.404         0.140\n",
       "178 927              UZB Uzbekistan           1135.699  7.800    199993.374\n",
       "    NGDPD   PPPGDP  NGDP_D    NGDPRPC    ⋯ Portfolio.investment\n",
       "8     1.565   1.989   114.838  35938.601 ⋯ NA                  \n",
       "56  103.961 130.667  1020.464   2986.421 ⋯ NA                  \n",
       "74  357.045 677.602    92.927 143167.553 ⋯ NA                  \n",
       "156   0.102   0.151   126.943   8461.676 ⋯ NA                  \n",
       "178  67.069 207.855 17609.713  35968.304 ⋯ NA                  \n",
       "    Financial.derivatives..other.than.reserves..and.employee.stock.options\n",
       "8   NA                                                                    \n",
       "56  NA                                                                    \n",
       "74  NA                                                                    \n",
       "156 NA                                                                    \n",
       "178 NA                                                                    \n",
       "    Other.investment Reserve.assets Liabilities Direct.investment.1\n",
       "8   NA               NA             NA          NA                 \n",
       "56  NA               NA             NA          NA                 \n",
       "74  NA               NA             NA          NA                 \n",
       "156 NA               NA             NA          NA                 \n",
       "178 NA               NA             NA          NA                 \n",
       "    Portfolio.investment.1\n",
       "8   NA                    \n",
       "56  NA                    \n",
       "74  NA                    \n",
       "156 NA                    \n",
       "178 NA                    \n",
       "    Financial.derivatives..other.than.reserves..and.employee.stock.options.1\n",
       "8   NA                                                                      \n",
       "56  NA                                                                      \n",
       "74  NA                                                                      \n",
       "156 NA                                                                      \n",
       "178 NA                                                                      \n",
       "    Other.investment.1 Net.international.investment.position\n",
       "8   NA                 NA                                   \n",
       "56  NA                 NA                                   \n",
       "74  NA                 NA                                   \n",
       "156 NA                 NA                                   \n",
       "178 NA                 NA                                   "
      ]
     },
     "metadata": {},
     "output_type": "display_data"
    }
   ],
   "source": [
    "weo_iip_2016_L[weo_iip_2016_L$WEO.Country.Code %in% codes_L,]"
   ]
  },
  {
   "cell_type": "markdown",
   "metadata": {},
   "source": [
    "As those rows do not appear in iip, they are shown as NA in columns imported from iip"
   ]
  },
  {
   "cell_type": "markdown",
   "metadata": {},
   "source": [
    "### Right Join"
   ]
  },
  {
   "cell_type": "markdown",
   "metadata": {},
   "source": [
    "We now take the codes in iip as a basis:"
   ]
  },
  {
   "cell_type": "code",
   "execution_count": 53,
   "metadata": {},
   "outputs": [],
   "source": [
    "weo_iip_2016_R <- merge(x = weo_2016_wide,\n",
    "                        y = iip,\n",
    "                        by = \"WEO.Country.Code\",\n",
    "                       all.y = T)"
   ]
  },
  {
   "cell_type": "code",
   "execution_count": 54,
   "metadata": {},
   "outputs": [
    {
     "name": "stdout",
     "output_type": "stream",
     "text": [
      "'data.frame':\t208 obs. of  60 variables:\n",
      " $ WEO.Country.Code                                                        : int  111 112 122 124 126 128 132 134 136 137 ...\n",
      " $ ISO                                                                     : Factor w/ 194 levels \"ABW\",\"AFG\",\"AGO\",..: 183 61 10 13 NA 47 58 44 84 104 ...\n",
      " $ Country                                                                 : Factor w/ 194 levels \"Afghanistan\",..: 186 185 10 16 NA 44 58 62 81 99 ...\n",
      " $ NGDP_R                                                                  : num  17659 1970 317 416 NA ...\n",
      " $ NGDP_RPCH                                                               : num  1.57 1.79 1.45 1.41 NA ...\n",
      " $ NGDP                                                                    : num  18707 1970 353 423 NA ...\n",
      " $ NGDPD                                                                   : num  18707 2669 391 468 NA ...\n",
      " $ PPPGDP                                                                  : num  18707 2824 420 511 NA ...\n",
      " $ NGDP_D                                                                  : num  106 100 111 102 NA ...\n",
      " $ NGDPRPC                                                                 : num  54576 30001 36288 36785 NA ...\n",
      " $ NGDPRPPPPC                                                              : num  53549 39840 44521 41805 NA ...\n",
      " $ NGDPPC                                                                  : num  57815 30001 40424 37368 NA ...\n",
      " $ NGDPDPC                                                                 : num  57815 40658 44733 41352 NA ...\n",
      " $ PPPPC                                                                   : num  57815 43013 48067 45135 NA ...\n",
      " $ NGAP_NPGDP                                                              : num  -0.167 -0.068 -1.702 -0.479 NA ...\n",
      " $ PPPSH                                                                   : num  15.5 2.34 0.348 0.423 NA ...\n",
      " $ PPPEX                                                                   : num  1 0.697 0.841 0.828 NA 7.48 0.814 0.786 0.751 0.89 ...\n",
      " $ NID_NGDP                                                                : num  20.3 17.3 24.1 24 NA ...\n",
      " $ NGSD_NGDP                                                               : num  18.6 12 26.2 24 NA ...\n",
      " $ PCPI                                                                    : num  240 101 123 102 NA ...\n",
      " $ PCPIPCH                                                                 : num  1.272 0.66 0.972 1.77 NA ...\n",
      " $ PCPIE                                                                   : num  243 102 123 103 NA ...\n",
      " $ PCPIEPCH                                                                : num  2.18 1.21 1.53 2.2 NA ...\n",
      " $ FLIBOR6                                                                 : num  1.06 NA NA NA NA ...\n",
      " $ TM_RPCH                                                                 : num  1.9 3.29 3.14 5.51 NA ...\n",
      " $ TMG_RPCH                                                                : num  1.38 3.81 3.22 5.51 NA ...\n",
      " $ TX_RPCH                                                                 : num  -0.103 1.04 1.915 3.501 NA ...\n",
      " $ TXG_RPCH                                                                : num  0.337 -1.293 1.34 3.501 NA ...\n",
      " $ LUR                                                                     : num  4.87 4.9 6.02 7.86 NA ...\n",
      " $ LE                                                                      : num  151.44 31.73 4.22 4.74 NA ...\n",
      " $ LP                                                                      : num  323.57 65.65 8.74 11.31 NA ...\n",
      " $ GGR                                                                     : num  5815 707 173 215 NA ...\n",
      " $ GGR_NGDP                                                                : num  31.1 35.9 49 50.8 NA ...\n",
      " $ GGX                                                                     : num  6547 765 179 225 NA ...\n",
      " $ GGX_NGDP                                                                : num  35 38.9 50.6 53.3 NA ...\n",
      " $ GGXCNL                                                                  : num  -731.64 -57.99 -5.62 -10.49 NA ...\n",
      " $ GGXCNL_NGDP                                                             : num  -3.91 -2.94 -1.59 -2.48 NA ...\n",
      " $ GGSB                                                                    : num  -740.02 -56.74 -1.79 -9.36 NA ...\n",
      " $ GGSB_NPGDP                                                              : num  -3.949 -2.85 -0.498 -2.204 NA ...\n",
      " $ GGXONLB                                                                 : num  -430.007 -27.235 0.355 0.245 NA ...\n",
      " $ GGXONLB_NGDP                                                            : num  -2.299 -1.383 0.1 0.058 NA ...\n",
      " $ GGXWDN                                                                  : num  15197 1553 204 389 NA ...\n",
      " $ GGXWDN_NGDP                                                             : num  81.2 78.8 57.6 92.1 NA ...\n",
      " $ GGXWDG                                                                  : num  19986 1731 295 448 NA ...\n",
      " $ GGXWDG_NGDP                                                             : num  106.8 87.9 83.6 106 NA ...\n",
      " $ NGDP_FY                                                                 : num  18707 1970 353 423 NA ...\n",
      " $ BCA                                                                     : num  -432.874 -139.301 8.313 0.451 NA ...\n",
      " $ BCA_NGDPD                                                               : num  -2.314 -5.219 2.126 0.097 NA ...\n",
      " $ Assets                                                                  : num  24060586 13490319 890115 2354425 NA ...\n",
      " $ Direct.investment                                                       : num  7421871 1925355 291184 1080287 NA ...\n",
      " $ Portfolio.investment                                                    : num  10011368 3025965 308274 694615 NA ...\n",
      " $ Financial.derivatives..other.than.reserves..and.employee.stock.options  : num  2220453 3259951 7217 18326 NA ...\n",
      " $ Other.investment                                                        : num  3999671 5144405 260080 537631 NA ...\n",
      " $ Reserve.assets                                                          : num  407223 134642 23359 23566 NA ...\n",
      " $ Liabilities                                                             : num  32242176 13549348 876376 2099169 NA ...\n",
      " $ Direct.investment.1                                                     : num  7596124 1908905 244293 985285 NA ...\n",
      " $ Portfolio.investment.1                                                  : num  17359979 3817956 402006 643700 NA ...\n",
      " $ Financial.derivatives..other.than.reserves..and.employee.stock.options.1: num  2162275 3207615 7529 19252 NA ...\n",
      " $ Other.investment.1                                                      : num  5123798 4614872 222547 450931 NA ...\n",
      " $ Net.international.investment.position                                   : num  -8181591 -59030 13739 255255 NA ...\n"
     ]
    }
   ],
   "source": [
    "str(weo_iip_2016_R)"
   ]
  },
  {
   "cell_type": "markdown",
   "metadata": {},
   "source": [
    "Number of rows is equal to that of iip"
   ]
  },
  {
   "cell_type": "code",
   "execution_count": 55,
   "metadata": {},
   "outputs": [
    {
     "data": {
      "text/plain": [
       "    WEO.Country.Code ISO Country NGDP_R NGDP_RPCH NGDP NGDPD PPPGDP NGDP_D\n",
       "5   126              NA  NA      NA     NA        NA   NA    NA     NA    \n",
       "17  163              NA  NA      NA     NA        NA   NA    NA     NA    \n",
       "26  188              NA  NA      NA     NA        NA   NA    NA     NA    \n",
       "49  309              NA  NA      NA     NA        NA   NA    NA     NA    \n",
       "51  312              NA  NA      NA     NA        NA   NA    NA     NA    \n",
       "55  319              NA  NA      NA     NA        NA   NA    NA     NA    \n",
       "61  351              NA  NA      NA     NA        NA   NA    NA     NA    \n",
       "62  352              NA  NA      NA     NA        NA   NA    NA     NA    \n",
       "63  353              NA  NA      NA     NA        NA   NA    NA     NA    \n",
       "64  354              NA  NA      NA     NA        NA   NA    NA     NA    \n",
       "65  355              NA  NA      NA     NA        NA   NA    NA     NA    \n",
       "71  381              NA  NA      NA     NA        NA   NA    NA     NA    \n",
       "83  459              NA  NA      NA     NA        NA   NA    NA     NA    \n",
       "86  473              NA  NA      NA     NA        NA   NA    NA     NA    \n",
       "88  487              NA  NA      NA     NA        NA   NA    NA     NA    \n",
       "166 816              NA  NA      NA     NA        NA   NA    NA     NA    \n",
       "169 839              NA  NA      NA     NA        NA   NA    NA     NA    \n",
       "177 887              NA  NA      NA     NA        NA   NA    NA     NA    \n",
       "192 934              NA  NA      NA     NA        NA   NA    NA     NA    \n",
       "    NGDPRPC ⋯ Portfolio.investment\n",
       "5   NA      ⋯           NA        \n",
       "17  NA      ⋯ 8.324168e+06        \n",
       "26  NA      ⋯           NA        \n",
       "49  NA      ⋯ 9.419253e+02        \n",
       "51  NA      ⋯ 4.219454e+01        \n",
       "55  NA      ⋯ 1.334116e+04        \n",
       "61  NA      ⋯ 3.243005e+01        \n",
       "62  NA      ⋯           NA        \n",
       "63  NA      ⋯           NA        \n",
       "64  NA      ⋯ 9.162769e+03        \n",
       "65  NA      ⋯           NA        \n",
       "71  NA      ⋯           NA        \n",
       "83  NA      ⋯           NA        \n",
       "86  NA      ⋯           NA        \n",
       "88  NA      ⋯ 1.112000e+03        \n",
       "166 NA      ⋯           NA        \n",
       "169 NA      ⋯           NA        \n",
       "177 NA      ⋯           NA        \n",
       "192 NA      ⋯           NA        \n",
       "    Financial.derivatives..other.than.reserves..and.employee.stock.options\n",
       "5             NA                                                          \n",
       "17  1909688.7257                                                          \n",
       "26            NA                                                          \n",
       "49        0.0000                                                          \n",
       "51        0.0000                                                          \n",
       "55      121.5406                                                          \n",
       "61        0.0000                                                          \n",
       "62            NA                                                          \n",
       "63            NA                                                          \n",
       "64            NA                                                          \n",
       "65            NA                                                          \n",
       "71            NA                                                          \n",
       "83            NA                                                          \n",
       "86            NA                                                          \n",
       "88            NA                                                          \n",
       "166           NA                                                          \n",
       "169           NA                                                          \n",
       "177           NA                                                          \n",
       "192           NA                                                          \n",
       "    Other.investment Reserve.assets Liabilities  Direct.investment.1\n",
       "5             NA               NA             NA           NA       \n",
       "17  5.204904e+06     745797.10411   2.874812e+07 9.485651e+06       \n",
       "26            NA               NA             NA           NA       \n",
       "49  3.125289e+03       1745.56927   1.208037e+04 6.083477e+03       \n",
       "51  1.342092e+03         55.55111   1.896743e+03 5.562827e+02       \n",
       "55  2.692590e+03        153.22520   1.350621e+04 2.600487e+03       \n",
       "61  4.789463e+01         49.35507   5.945844e+01 2.458579e+01       \n",
       "62            NA               NA             NA           NA       \n",
       "63            NA               NA             NA           NA       \n",
       "64  7.224570e+02       1452.37039   4.954257e+03 1.583730e+03       \n",
       "65            NA               NA             NA           NA       \n",
       "71            NA               NA             NA           NA       \n",
       "83            NA               NA             NA           NA       \n",
       "86            NA               NA             NA           NA       \n",
       "88  4.276000e+03        313.00000   4.934000e+03 2.666000e+03       \n",
       "166           NA               NA             NA           NA       \n",
       "169           NA               NA             NA           NA       \n",
       "177           NA               NA             NA           NA       \n",
       "192           NA               NA             NA           NA       \n",
       "    Portfolio.investment.1\n",
       "5             NA          \n",
       "17  1.126993e+07          \n",
       "26            NA          \n",
       "49  1.652043e+03          \n",
       "51  1.115496e+03          \n",
       "55  1.524223e+03          \n",
       "61  3.992867e-02          \n",
       "62            NA          \n",
       "63            NA          \n",
       "64  1.381683e+03          \n",
       "65            NA          \n",
       "71            NA          \n",
       "83            NA          \n",
       "86            NA          \n",
       "88  6.580000e+02          \n",
       "166           NA          \n",
       "169           NA          \n",
       "177           NA          \n",
       "192           NA          \n",
       "    Financial.derivatives..other.than.reserves..and.employee.stock.options.1\n",
       "5             NA                                                            \n",
       "17  1.974715e+06                                                            \n",
       "26            NA                                                            \n",
       "49  0.000000e+00                                                            \n",
       "51  0.000000e+00                                                            \n",
       "55  2.348831e+01                                                            \n",
       "61  0.000000e+00                                                            \n",
       "62            NA                                                            \n",
       "63            NA                                                            \n",
       "64            NA                                                            \n",
       "65            NA                                                            \n",
       "71            NA                                                            \n",
       "83            NA                                                            \n",
       "86            NA                                                            \n",
       "88            NA                                                            \n",
       "166           NA                                                            \n",
       "169           NA                                                            \n",
       "177           NA                                                            \n",
       "192           NA                                                            \n",
       "    Other.investment.1 Net.international.investment.position\n",
       "5             NA                  NA                        \n",
       "17  6.017830e+06       -806459.77373                        \n",
       "26            NA                  NA                        \n",
       "49  4.344852e+03         -5735.22623                        \n",
       "51  2.249643e+02          -385.27015                        \n",
       "55  9.358007e+03          3717.87572                        \n",
       "61  3.483272e+01            70.22131                        \n",
       "62            NA                  NA                        \n",
       "63            NA                  NA                        \n",
       "64  1.988845e+03          7133.13240                        \n",
       "65            NA                  NA                        \n",
       "71            NA                  NA                        \n",
       "83            NA                  NA                        \n",
       "86            NA                  NA                        \n",
       "88  1.610000e+03          1173.00000                        \n",
       "166           NA                  NA                        \n",
       "169           NA                  NA                        \n",
       "177           NA                  NA                        \n",
       "192           NA                  NA                        "
      ]
     },
     "metadata": {},
     "output_type": "display_data"
    }
   ],
   "source": [
    "weo_iip_2016_R[weo_iip_2016_R$WEO.Country.Code %in% codes_R,]"
   ]
  },
  {
   "cell_type": "markdown",
   "metadata": {},
   "source": [
    "When we filter the rows for the codes unique to iip, all values in the columns inherited from weo have only NA values"
   ]
  },
  {
   "cell_type": "markdown",
   "metadata": {},
   "source": [
    "### Inner Join"
   ]
  },
  {
   "cell_type": "markdown",
   "metadata": {},
   "source": [
    "Now we only select those codes common to both:"
   ]
  },
  {
   "cell_type": "code",
   "execution_count": 56,
   "metadata": {},
   "outputs": [],
   "source": [
    "weo_iip_2016_I <- merge(x = weo_2016_wide,\n",
    "                        y = iip,\n",
    "                        by = \"WEO.Country.Code\",\n",
    "                       all = F)"
   ]
  },
  {
   "cell_type": "code",
   "execution_count": 57,
   "metadata": {},
   "outputs": [
    {
     "name": "stdout",
     "output_type": "stream",
     "text": [
      "'data.frame':\t189 obs. of  60 variables:\n",
      " $ WEO.Country.Code                                                        : int  111 112 122 124 128 132 134 136 137 138 ...\n",
      " $ ISO                                                                     : Factor w/ 194 levels \"ABW\",\"AFG\",\"AGO\",..: 183 61 10 13 47 58 44 84 104 128 ...\n",
      " $ Country                                                                 : Factor w/ 194 levels \"Afghanistan\",..: 186 185 10 16 44 58 62 81 99 121 ...\n",
      " $ NGDP_R                                                                  : num  17659 1970 317 416 1954 ...\n",
      " $ NGDP_RPCH                                                               : num  1.57 1.79 1.45 1.41 1.97 ...\n",
      " $ NGDP                                                                    : num  18707 1970 353 423 2066 ...\n",
      " $ NGDPD                                                                   : num  18707 2669 391 468 307 ...\n",
      " $ PPPGDP                                                                  : num  18707 2824 420 511 276 ...\n",
      " $ NGDP_D                                                                  : num  106 100 111 102 106 ...\n",
      " $ NGDPRPC                                                                 : num  54576 30001 36288 36785 342459 ...\n",
      " $ NGDPRPPPPC                                                              : num  53549 39840 44521 41805 44822 ...\n",
      " $ NGDPPC                                                                  : num  57815 30001 40424 37368 361989 ...\n",
      " $ NGDPDPC                                                                 : num  57815 40658 44733 41352 53774 ...\n",
      " $ PPPPC                                                                   : num  57815 43013 48067 45135 48393 ...\n",
      " $ NGAP_NPGDP                                                              : num  -0.167 -0.068 -1.702 -0.479 -0.227 ...\n",
      " $ PPPSH                                                                   : num  15.5 2.34 0.348 0.423 0.229 ...\n",
      " $ PPPEX                                                                   : num  1 0.697 0.841 0.828 7.48 0.814 0.786 0.751 0.89 0.803 ...\n",
      " $ NID_NGDP                                                                : num  20.3 17.3 24.1 24 21 ...\n",
      " $ NGSD_NGDP                                                               : num  18.6 12 26.2 24 28.3 ...\n",
      " $ PCPI                                                                    : num  240 101 123 102 100 ...\n",
      " $ PCPIPCH                                                                 : num  1.272 0.66 0.972 1.77 0.25 ...\n",
      " $ PCPIE                                                                   : num  243 102 123 103 101 ...\n",
      " $ PCPIEPCH                                                                : num  2.184 1.211 1.533 2.204 0.499 ...\n",
      " $ FLIBOR6                                                                 : num  1.06 NA NA NA NA ...\n",
      " $ TM_RPCH                                                                 : num  1.9 3.29 3.14 5.51 3.84 ...\n",
      " $ TMG_RPCH                                                                : num  1.38 3.81 3.22 5.51 2.74 ...\n",
      " $ TX_RPCH                                                                 : num  -0.103 1.04 1.915 3.501 2.84 ...\n",
      " $ TXG_RPCH                                                                : num  0.337 -1.293 1.34 3.501 2.26 ...\n",
      " $ LUR                                                                     : num  4.87 4.9 6.02 7.86 6.18 ...\n",
      " $ LE                                                                      : num  151.44 31.73 4.22 4.74 2.84 ...\n",
      " $ LP                                                                      : num  323.57 65.65 8.74 11.31 5.71 ...\n",
      " $ GGR                                                                     : num  5815 707 173 215 1099 ...\n",
      " $ GGR_NGDP                                                                : num  31.1 35.9 49 50.8 53.2 ...\n",
      " $ GGX                                                                     : num  6547 765 179 225 1107 ...\n",
      " $ GGX_NGDP                                                                : num  35 38.9 50.6 53.3 53.6 ...\n",
      " $ GGXCNL                                                                  : num  -731.64 -57.99 -5.62 -10.49 -8.45 ...\n",
      " $ GGXCNL_NGDP                                                             : num  -3.911 -2.944 -1.591 -2.482 -0.409 ...\n",
      " $ GGSB                                                                    : num  -740.02 -56.74 -1.79 -9.36 -2.06 ...\n",
      " $ GGSB_NPGDP                                                              : num  -3.949 -2.85 -0.498 -2.204 -0.099 ...\n",
      " $ GGXONLB                                                                 : num  -430.007 -27.235 0.355 0.245 2.385 ...\n",
      " $ GGXONLB_NGDP                                                            : num  -2.299 -1.383 0.1 0.058 0.115 ...\n",
      " $ GGXWDN                                                                  : num  15197 1553 204 389 351 ...\n",
      " $ GGXWDN_NGDP                                                             : num  81.2 78.8 57.6 92.1 17 ...\n",
      " $ GGXWDG                                                                  : num  19986 1731 295 448 782 ...\n",
      " $ GGXWDG_NGDP                                                             : num  106.8 87.9 83.6 106 37.9 ...\n",
      " $ NGDP_FY                                                                 : num  18707 1970 353 423 2066 ...\n",
      " $ BCA                                                                     : num  -432.874 -139.301 8.313 0.451 22.469 ...\n",
      " $ BCA_NGDPD                                                               : num  -2.314 -5.219 2.126 0.097 7.321 ...\n",
      " $ Assets                                                                  : num  24060586 13490319 890115 2354425 991909 ...\n",
      " $ Direct.investment                                                       : num  7421871 1925355 291184 1080287 254914 ...\n",
      " $ Portfolio.investment                                                    : num  10011368 3025965 308274 694615 416238 ...\n",
      " $ Financial.derivatives..other.than.reserves..and.employee.stock.options  : num  2220453 3259951 7217 18326 74271 ...\n",
      " $ Other.investment                                                        : num  3999671 5144405 260080 537631 182881 ...\n",
      " $ Reserve.assets                                                          : num  407223 134642 23359 23566 63605 ...\n",
      " $ Liabilities                                                             : num  32242176 13549348 876376 2099169 830063 ...\n",
      " $ Direct.investment.1                                                     : num  7596124 1908905 244293 985285 165042 ...\n",
      " $ Portfolio.investment.1                                                  : num  17359979 3817956 402006 643700 423205 ...\n",
      " $ Financial.derivatives..other.than.reserves..and.employee.stock.options.1: num  2162275 3207615 7529 19252 68656 ...\n",
      " $ Other.investment.1                                                      : num  5123798 4614872 222547 450931 173160 ...\n",
      " $ Net.international.investment.position                                   : num  -8181591 -59030 13739 255255 161846 ...\n"
     ]
    }
   ],
   "source": [
    "str(weo_iip_2016_I)"
   ]
  },
  {
   "cell_type": "markdown",
   "metadata": {},
   "source": [
    "Number of rows is equal to the number of common codes"
   ]
  },
  {
   "cell_type": "code",
   "execution_count": 58,
   "metadata": {},
   "outputs": [
    {
     "data": {
      "text/plain": [
       "    WEO.Country.Code ISO Country                NGDP_R     NGDP_RPCH NGDP      \n",
       "1   111              USA United States           17659.200  1.567     18707.150\n",
       "2   112              GBR United Kingdom           1969.524  1.789      1969.524\n",
       "3   122              AUT Austria                   317.149  1.451       353.297\n",
       "4   124              BEL Belgium                   416.085  1.412       422.677\n",
       "5   128              DNK Denmark                  1954.500  1.967      2065.962\n",
       "6   132              FRA France                   2197.260  1.103      2228.568\n",
       "7   134              DEU Germany                  2859.180  2.157      3159.750\n",
       "8   136              ITA Italy                    1570.980  0.858      1680.949\n",
       "9   137              LUX Luxembourg                 47.724  3.083        53.005\n",
       "10  138              NLD Netherlands               705.131  2.192       708.337\n",
       "11  142              NOR Norway                   3152.148  1.091      3117.033\n",
       "12  144              SWE Sweden                   4484.096  2.684      4385.497\n",
       "13  146              CHE Switzerland               671.834  1.587       660.460\n",
       "14  156              CAN Canada                   1801.368  1.414      2035.506\n",
       "15  158              JPN Japan                  522577.200  0.961    538532.800\n",
       "16  172              FIN Finland                   191.432  2.477       216.111\n",
       "17  174              GRC Greece                    184.595 -0.244       174.199\n",
       "18  176              ISL Iceland                  1376.775  7.352      2502.735\n",
       "19  178              IRL Ireland                   272.472  4.914       272.844\n",
       "20  181              MLT Malta                       8.955  5.212        10.180\n",
       "21  182              PRT Portugal                  174.506  1.619       185.494\n",
       "22  184              ESP Spain                    1106.948  3.173      1118.522\n",
       "23  186              TUR Turkey                   1576.365  3.184      2608.526\n",
       "24  193              AUS Australia                1678.081  2.606      1699.883\n",
       "25  196              NZL New Zealand               234.336  4.137       265.974\n",
       "26  199              ZAF South Africa             3084.174  0.565      4350.314\n",
       "27  213              ARG Argentina                 708.338 -1.823      8188.749\n",
       "28  218              BOL Bolivia                    44.374  4.264       234.533\n",
       "29  223              BRA Brazil                   1151.607 -3.469      6257.777\n",
       "30  228              CHL Chile                  145374.074  1.282    169180.414\n",
       "⋮   ⋮                ⋮   ⋮                      ⋮          ⋮         ⋮         \n",
       "160 911              ARM Armenia                 3367.848   0.261     5067.294 \n",
       "161 912              AZE Azerbaijan                28.464  -3.100       60.394 \n",
       "162 913              BLR Belarus                   75.536  -2.526       94.949 \n",
       "163 914              ALB Albania                  760.317   3.352     1475.251 \n",
       "164 915              GEO Georgia                   14.515   2.849       34.028 \n",
       "165 916              KAZ Kazakhstan             18400.209   1.083    46971.150 \n",
       "166 917              KGZ Kyrgyz Republic          164.649   4.336      476.331 \n",
       "167 918              BGR Bulgaria                  83.905   3.941       94.130 \n",
       "168 921              MDA Moldova                   11.900   4.300      158.689 \n",
       "169 922              RUS Russia                 86148.600  -0.200    86148.600 \n",
       "170 923              TJK Tajikistan                 0.241   6.900       54.471 \n",
       "171 924              CHN China                  74608.817   6.720    74563.240 \n",
       "172 925              TKM Turkmenistan             100.343   6.200      126.630 \n",
       "173 926              UKR Ukraine                  985.299   2.441     2385.367 \n",
       "174 935              CZE Czech Republic          4412.049   2.451     4767.990 \n",
       "175 936              SVK Slovak Republic           79.037   3.325       81.154 \n",
       "176 939              EST Estonia                   17.977   2.063       21.098 \n",
       "177 941              LVA Latvia                    21.799   2.209       24.926 \n",
       "178 942              SRB Serbia                  3210.826   2.797     4261.927 \n",
       "179 943              MNE Montenegro                 2.706   2.949        3.954 \n",
       "180 944              HUN Hungary                25088.510   2.213    35420.320 \n",
       "181 946              LTU Lithuania                 34.532   2.345       38.681 \n",
       "182 948              MNG Mongolia               16035.925   1.168    23942.866 \n",
       "183 960              HRV Croatia                  337.807   3.536      351.347 \n",
       "184 961              SVN Slovenia                  38.139   3.148       40.418 \n",
       "185 962              MKD FYR Macedonia            435.564   2.910      598.882 \n",
       "186 963              BIH Bosnia and Herzegovina    27.971   3.215       29.899 \n",
       "187 964              POL Poland                  1726.916   2.970     1858.468 \n",
       "188 967              UVK Kosovo                     6.070   4.062        6.070 \n",
       "189 968              ROU Romania                  637.723   4.823      767.377 \n",
       "    NGDPD     PPPGDP    NGDP_D    NGDPRPC     ⋯ Portfolio.investment\n",
       "1   18707.150 18707.150  105.934    54575.840 ⋯ 10011368.000        \n",
       "2    2669.107  2823.724  100.000    30001.280 ⋯  3025964.767        \n",
       "3     390.961   420.099  111.398    36287.922 ⋯   308273.653        \n",
       "4     467.738   510.527  101.584    36785.492 ⋯   694615.007        \n",
       "5     306.900   276.191  105.703   342459.093 ⋯   416238.373        \n",
       "6    2466.152  2739.216  101.425    34035.184 ⋯  2530414.484        \n",
       "7    3496.606  4022.280  110.512    34720.170 ⋯  2976786.833        \n",
       "8    1860.152  2239.681  107.000    25895.751 ⋯  1357417.275        \n",
       "9      58.656    59.580  111.065    82818.712 ⋯  3781963.779        \n",
       "10    783.852   881.866  100.455    41405.226 ⋯  1746821.843        \n",
       "11    371.075   367.051   98.886   600161.533 ⋯  1060177.726        \n",
       "12    512.205   497.816   97.801   448627.050 ⋯   504870.561        \n",
       "13    670.249   504.922   98.307    80681.434 ⋯  1263376.451        \n",
       "14   1535.768  1689.256  112.998    49754.485 ⋯  1296943.395        \n",
       "15   4950.073  5250.150  103.053  4116074.803 ⋯  3779292.032        \n",
       "16    239.150   233.747  112.892    34886.323 ⋯   334240.353        \n",
       "17    192.770   289.811   94.368    17117.878 ⋯   130920.274        \n",
       "18     20.716    17.158  181.782  4069097.293 ⋯     8315.790        \n",
       "19    301.931   323.385  100.137    57107.766 ⋯  2469931.281        \n",
       "20     11.265    17.715  113.682    19881.349 ⋯   113130.634        \n",
       "21    205.269   300.214  106.296    16900.518 ⋯   125964.950        \n",
       "22   1237.766  1694.645  101.046    23857.142 ⋯   550584.891        \n",
       "23    863.390  1996.516  165.477    19750.240 ⋯     1284.000        \n",
       "24   1264.524  1198.301  101.299    68822.495 ⋯   687239.100        \n",
       "25    185.374   179.984  113.501    49362.993 ⋯    84799.666        \n",
       "26    295.678   743.070  141.053    55450.809 ⋯   154926.285        \n",
       "27    554.107   879.799 1156.051    16246.257 ⋯    44031.205        \n",
       "28     34.189    78.853  528.534     4072.420 ⋯     5585.705        \n",
       "29   1793.312  3156.151  543.395     5587.561 ⋯    31596.795        \n",
       "30    249.920   437.211  116.376  7991150.025 ⋯   153105.103        \n",
       "⋮   ⋮         ⋮         ⋮         ⋮           ⋱ ⋮                   \n",
       "160    10.546    25.878   150.461 1126114.977 ⋯     65.06066        \n",
       "161    37.810   168.849   212.173    2932.769 ⋯           NA        \n",
       "162    47.703   171.862   125.701    7952.790 ⋯     46.60000        \n",
       "163    11.885    34.027   194.031  264356.814 ⋯    748.44262        \n",
       "164    14.376    37.252   234.430    3921.798 ⋯    199.50897        \n",
       "165   137.289   451.669   255.275 1026425.055 ⋯  63463.07857        \n",
       "166     6.813    21.725   289.302   26814.865 ⋯    160.06681        \n",
       "167    53.236   145.420   112.186   11814.533 ⋯   6619.20000        \n",
       "168     7.965    22.266  1333.560    3351.172 ⋯      5.09000        \n",
       "169  1284.727  3881.330   100.000  598399.611 ⋯  72060.18000        \n",
       "170     6.953    26.052 22628.176      27.559 ⋯      0.80000        \n",
       "171 11221.836 21313.994    99.939   53958.399 ⋯ 366969.40286        \n",
       "172    36.180    95.591   126.197   17783.706 ⋯           NA        \n",
       "173    93.349   353.741   242.096   23230.021 ⋯     96.00000        \n",
       "174   195.090   353.765   108.067  418051.415 ⋯  29386.44253        \n",
       "175    89.806   170.592   102.678   14565.744 ⋯  28007.54241        \n",
       "176    23.348    38.983   117.365   13662.236 ⋯   9741.46937        \n",
       "177    27.583    50.707   114.341   11071.488 ⋯  14167.10400        \n",
       "178    38.300   101.858   132.736  454899.394 ⋯    322.09331        \n",
       "179     4.376    10.428   146.108    4346.880 ⋯           NA        \n",
       "180   125.854   273.299   141.181 2552113.146 ⋯  10259.50878        \n",
       "181    42.805    86.423   112.014   12039.546 ⋯  10458.37964        \n",
       "182    11.159    37.107   149.308 5320551.132 ⋯    280.04924        \n",
       "183    51.635    97.512   104.008   80931.241 ⋯   3843.04410        \n",
       "184    44.727    66.574   105.977   18476.321 ⋯  17623.54533        \n",
       "185    10.759    30.445   137.496  210041.751 ⋯    269.02152        \n",
       "186    16.910    42.729   106.892    7953.582 ⋯    396.32714        \n",
       "187   471.173  1055.527   107.618   45484.403 ⋯  27207.00000        \n",
       "188     6.717    18.541   100.000    3403.425 ⋯   1886.12087        \n",
       "189   189.047   443.529   120.331   32272.921 ⋯   3337.67109        \n",
       "    Financial.derivatives..other.than.reserves..and.employee.stock.options\n",
       "1   2.220453e+06                                                          \n",
       "2   3.259951e+06                                                          \n",
       "3   7.217423e+03                                                          \n",
       "4   1.832553e+04                                                          \n",
       "5   7.427093e+04                                                          \n",
       "6   8.376659e+05                                                          \n",
       "7   6.449827e+05                                                          \n",
       "8   9.663778e+04                                                          \n",
       "9   2.239635e+05                                                          \n",
       "10  4.030067e+05                                                          \n",
       "11  0.000000e+00                                                          \n",
       "12  5.394794e+04                                                          \n",
       "13  1.112415e+05                                                          \n",
       "14            NA                                                          \n",
       "15  3.720108e+05                                                          \n",
       "16  9.440098e+04                                                          \n",
       "17  1.131196e+03                                                          \n",
       "18  6.232055e+01                                                          \n",
       "19  1.885764e+05                                                          \n",
       "20  1.627104e+03                                                          \n",
       "21  3.964470e+03                                                          \n",
       "22  1.089486e+05                                                          \n",
       "23            NA                                                          \n",
       "24  1.434899e+05                                                          \n",
       "25  1.842520e+04                                                          \n",
       "26  7.558945e+03                                                          \n",
       "27  0.000000e+00                                                          \n",
       "28  5.297483e-01                                                          \n",
       "29  7.301795e+02                                                          \n",
       "30  4.758158e+03                                                          \n",
       "⋮   ⋮                                                                     \n",
       "160    5.7683499                                                          \n",
       "161           NA                                                          \n",
       "162    1.0000000                                                          \n",
       "163           NA                                                          \n",
       "164    0.1324411                                                          \n",
       "165   84.0140858                                                          \n",
       "166   19.9914199                                                          \n",
       "167   56.9000000                                                          \n",
       "168    4.0000000                                                          \n",
       "169 6856.5300000                                                          \n",
       "170           NA                                                          \n",
       "171 5170.0623274                                                          \n",
       "172           NA                                                          \n",
       "173           NA                                                          \n",
       "174 2727.8755022                                                          \n",
       "175  493.7183039                                                          \n",
       "176   28.5481903                                                          \n",
       "177  437.4515000                                                          \n",
       "178   10.1218107                                                          \n",
       "179           NA                                                          \n",
       "180 5297.8752067                                                          \n",
       "181  162.3841050                                                          \n",
       "182  100.2057790                                                          \n",
       "183 2215.9336300                                                          \n",
       "184 1229.0184081                                                          \n",
       "185           NA                                                          \n",
       "186    0.8369937                                                          \n",
       "187 3464.0000000                                                          \n",
       "188    0.0000000                                                          \n",
       "189    6.2742546                                                          \n",
       "    Other.investment Reserve.assets Liabilities Direct.investment.1\n",
       "1   3999671.000       407222.7386   32242175.93 7596124.00         \n",
       "2   5144404.843       134642.4393   13549348.24 1908905.03         \n",
       "3    260080.201        23358.8218     876375.98  244292.95         \n",
       "4    537631.056        23565.5538    2099169.22  985285.19         \n",
       "5    182880.983        63605.0059     830062.86  165041.69         \n",
       "6   1923594.413       146770.1115    7431938.90 1068553.82         \n",
       "7   2933006.897       185286.5739    7020453.02 1399993.43         \n",
       "8    514961.581       136042.8539    2866434.94  463421.36         \n",
       "9   1385189.984          974.3053   11435169.03 5296198.69         \n",
       "10  1231564.060        36142.0292    8523315.91 4509818.22         \n",
       "11   194847.216        60445.1690     802956.97  191175.17         \n",
       "12   332354.616        59677.4954    1396484.76  397825.69         \n",
       "13   831485.188       679619.9676    3705556.06 1378924.92         \n",
       "14   539375.034        82718.0981    3053100.48 1011819.05         \n",
       "15  1712079.217      1220418.2786    5564875.21  241710.97         \n",
       "16   149259.506        10949.6123     733995.15  122221.84         \n",
       "17    80369.291         6892.4936     498111.04   28975.10         \n",
       "18     5188.092         7230.3887      34314.43   17962.30         \n",
       "19  1085373.039         3579.2127    5670930.99 1410983.47         \n",
       "20    46057.400          677.2024     234050.17  182024.14         \n",
       "21   107203.024        25131.3194     560263.63  151397.22         \n",
       "22   467355.263        63145.9488    2863209.75  710102.90         \n",
       "23    68348.000       106111.3083     584644.43  145921.01         \n",
       "24   323905.068        55069.7371    2384938.58  649550.39         \n",
       "25    23596.962        17808.4279     278508.81   77487.98         \n",
       "26    38056.188        47227.7376     401183.33  135453.53         \n",
       "27   168097.881        39307.3825     240139.93   70855.47         \n",
       "28     4433.569        10082.0364      20785.07   11603.81         \n",
       "29    89349.721       365014.7525    1413206.66  703328.34         \n",
       "30    26036.082        40493.3376     394917.05  256777.50         \n",
       "⋮   ⋮                ⋮              ⋮           ⋮                  \n",
       "160    2363.112         2204.1140     13575.113    4634.839        \n",
       "161          NA                NA            NA          NA        \n",
       "162    7767.700         4927.2355     54364.379   18650.000        \n",
       "163    2092.599         3104.9789     12439.189    5984.400        \n",
       "164    2803.254         2756.3834     28045.701   14702.614        \n",
       "165   41752.902        29532.1573    218527.032  157745.053        \n",
       "166    1942.177         1773.8812     11515.114    5352.857        \n",
       "167   11798.700        25191.1955     73813.418   45949.700        \n",
       "168    2827.520         2205.9305      7602.814    3041.320        \n",
       "169  357806.810       377738.0690   1021404.154  477670.010        \n",
       "170     295.472          652.8181      6095.859    2449.181        \n",
       "171 1679671.058      3097844.5102   4556676.944 2755147.204        \n",
       "172          NA                NA            NA          NA        \n",
       "173  100639.000        15538.8748    151386.388   42552.000        \n",
       "174   46415.149        85729.4509    257732.611  145857.327        \n",
       "175   18041.267         2891.5440    122089.736   60577.672        \n",
       "176   11722.525          352.5225     40026.774   22586.443        \n",
       "177   14848.053         3514.5293     51052.264   15278.125        \n",
       "178    7795.520        10756.7058     58688.501   30384.743        \n",
       "179          NA                NA            NA          NA        \n",
       "180   31684.164        25824.0158    413185.937  314685.442        \n",
       "181   13036.519         2601.9775     48611.861   16837.287        \n",
       "182    2177.561         1303.8653     33662.398   16277.490        \n",
       "183    6913.406        14244.3716     66796.386   28099.601        \n",
       "184   17181.638          743.6187     60626.744   15807.477        \n",
       "185    1571.340         2754.8490     11329.163    5683.932        \n",
       "186    2302.617         5136.9519     16702.117    6990.524        \n",
       "187   37408.000       114380.8256    520623.866  225312.000        \n",
       "188    1994.544          637.7975      4878.950    3589.625        \n",
       "189   16446.913        39999.4973    152923.788   79206.888        \n",
       "    Portfolio.investment.1\n",
       "1   17359979.000          \n",
       "2    3817956.455          \n",
       "3     402006.333          \n",
       "4     643699.868          \n",
       "5     423205.110          \n",
       "6    3329862.898          \n",
       "7    2752046.388          \n",
       "8    1327044.438          \n",
       "9    4895240.127          \n",
       "10   2452270.889          \n",
       "11    354726.450          \n",
       "12    707600.583          \n",
       "13   1045615.062          \n",
       "14   1449438.508          \n",
       "15   2784362.450          \n",
       "16    332231.238          \n",
       "17     47260.573          \n",
       "18     10904.788          \n",
       "19   3103367.377          \n",
       "20      3868.522          \n",
       "21    125574.933          \n",
       "22   1094853.614          \n",
       "23    143395.168          \n",
       "24   1208446.733          \n",
       "25    131872.343          \n",
       "26    204650.607          \n",
       "27    100183.529          \n",
       "28      1138.896          \n",
       "29    480467.525          \n",
       "30     80686.408          \n",
       "⋮   ⋮                     \n",
       "160 1.068155e+03          \n",
       "161           NA          \n",
       "162 1.526200e+03          \n",
       "163 6.442343e+02          \n",
       "164 1.992120e+03          \n",
       "165 1.980602e+04          \n",
       "166 6.818893e+00          \n",
       "167 6.435100e+03          \n",
       "168 9.084000e+01          \n",
       "169 2.159603e+05          \n",
       "170 8.643483e+01          \n",
       "171 8.110578e+05          \n",
       "172           NA          \n",
       "173 2.877800e+04          \n",
       "174 5.265478e+04          \n",
       "175 2.940338e+04          \n",
       "176 2.254569e+03          \n",
       "177 7.566330e+03          \n",
       "178 7.312225e+03          \n",
       "179           NA          \n",
       "180 5.210528e+04          \n",
       "181 1.206508e+04          \n",
       "182 3.631164e+03          \n",
       "183 1.184579e+04          \n",
       "184 2.259854e+04          \n",
       "185 1.435903e+03          \n",
       "186 1.513677e+02          \n",
       "187 1.446810e+05          \n",
       "188 0.000000e+00          \n",
       "189 2.415890e+04          \n",
       "    Financial.derivatives..other.than.reserves..and.employee.stock.options.1\n",
       "1   2.162275e+06                                                            \n",
       "2   3.207615e+06                                                            \n",
       "3   7.529436e+03                                                            \n",
       "4   1.925208e+04                                                            \n",
       "5   6.865585e+04                                                            \n",
       "6   8.866320e+05                                                            \n",
       "7   6.761809e+05                                                            \n",
       "8   1.555715e+05                                                            \n",
       "9   2.255173e+05                                                            \n",
       "10  3.158568e+05                                                            \n",
       "11  0.000000e+00                                                            \n",
       "12  4.010947e+04                                                            \n",
       "13  1.104744e+05                                                            \n",
       "14            NA                                                            \n",
       "15  3.893056e+05                                                            \n",
       "16  9.109743e+04                                                            \n",
       "17  8.681887e+03                                                            \n",
       "18  9.174607e+01                                                            \n",
       "19  1.739233e+05                                                            \n",
       "20  6.931024e+02                                                            \n",
       "21  4.195318e+03                                                            \n",
       "22  1.153849e+05                                                            \n",
       "23            NA                                                            \n",
       "24  1.564459e+05                                                            \n",
       "25  1.953731e+04                                                            \n",
       "26  7.661470e+03                                                            \n",
       "27  2.981493e+03                                                            \n",
       "28            NA                                                            \n",
       "29  2.500555e+02                                                            \n",
       "30  4.579522e+03                                                            \n",
       "⋮   ⋮                                                                       \n",
       "160    5.185938                                                             \n",
       "161          NA                                                             \n",
       "162    2.000000                                                             \n",
       "163          NA                                                             \n",
       "164    4.525209                                                             \n",
       "165  236.672000                                                             \n",
       "166   17.279302                                                             \n",
       "167  103.700000                                                             \n",
       "168    4.290000                                                             \n",
       "169 6455.010000                                                             \n",
       "170          NA                                                             \n",
       "171 6026.360203                                                             \n",
       "172          NA                                                             \n",
       "173          NA                                                             \n",
       "174 3006.357502                                                             \n",
       "175  447.483370                                                             \n",
       "176   98.733331                                                             \n",
       "177  262.470900                                                             \n",
       "178    1.081650                                                             \n",
       "179          NA                                                             \n",
       "180 1902.638438                                                             \n",
       "181   46.675548                                                             \n",
       "182  115.659176                                                             \n",
       "183   70.028246                                                             \n",
       "184  146.960514                                                             \n",
       "185          NA                                                             \n",
       "186          NA                                                             \n",
       "187 4934.000000                                                             \n",
       "188    0.000000                                                             \n",
       "189    3.718077                                                             \n",
       "    Other.investment.1 Net.international.investment.position\n",
       "1   5123797.929        -8.181591e+06                        \n",
       "2   4614871.883        -5.902966e+04                        \n",
       "3    222547.264         1.373870e+04                        \n",
       "4    450931.024         2.552549e+05                        \n",
       "5    173160.070         1.618461e+05                        \n",
       "6   2146890.212        -3.501669e+05                        \n",
       "7   2192232.294         1.689211e+06                        \n",
       "8    920397.683        -1.761887e+05                        \n",
       "9   1018212.954         2.634880e+04                        \n",
       "10  1245369.948         4.682183e+05                        \n",
       "11   257055.342         7.348211e+05                        \n",
       "12   250949.020         2.436110e+04                        \n",
       "13  1170541.673         7.705229e+05                        \n",
       "14   591842.920         1.554871e+05                        \n",
       "15  2149496.242         2.879243e+06                        \n",
       "16   188444.645         7.452083e+03                        \n",
       "17   413193.474        -2.564319e+05                        \n",
       "18     5355.594         6.617472e+02                        \n",
       "19   982656.796        -5.193076e+05                        \n",
       "20    47464.404         4.857326e+03                        \n",
       "21   279096.162        -2.072450e+05                        \n",
       "22   942869.345        -1.006186e+06                        \n",
       "23   295328.248        -3.694381e+05                        \n",
       "24   370494.796        -6.998028e+05                        \n",
       "25    49611.874        -1.101078e+05                        \n",
       "26    53417.729         2.222189e+04                        \n",
       "27    66119.442         5.103165e+04                        \n",
       "28     8042.358        -5.297971e+01                        \n",
       "29   229160.743        -5.835400e+05                        \n",
       "30    52873.623        -4.440878e+04                        \n",
       "⋮   ⋮                  ⋮                                    \n",
       "160   7866.933           -8369.06758                        \n",
       "161         NA                    NA                        \n",
       "162  34186.179          -40822.64315                        \n",
       "163   5810.545           -5086.90416                        \n",
       "164  11346.442          -20053.17368                        \n",
       "165  40739.290          -45573.03835                        \n",
       "166   6138.159           -6929.74280                        \n",
       "167  21324.918          -24943.62290                        \n",
       "168   4466.364           -2313.20329                        \n",
       "169 321318.834          211091.88461                        \n",
       "170   3560.243           -5146.76855                        \n",
       "171 984445.604         1950368.09015                        \n",
       "172         NA                    NA                        \n",
       "173  80056.388          -27170.51358                        \n",
       "174  56214.143          -50044.65902                        \n",
       "175  31661.199          -57039.85348                        \n",
       "176  15087.027           -8886.50631                        \n",
       "177  27945.338          -15465.68854                        \n",
       "178  20990.451          -36764.12210                        \n",
       "179         NA                    NA                        \n",
       "180  44492.576          -70610.46246                        \n",
       "181  19662.818          -17504.39524                        \n",
       "182  13638.084          -29345.48336                        \n",
       "183  26781.102          -34166.67015                        \n",
       "184  22073.772          -15661.90086                        \n",
       "185   4209.328           -5878.08134                        \n",
       "186   9559.397           -8392.80375                        \n",
       "187 145696.866         -274199.04064                        \n",
       "188   1289.325             -85.20894                        \n",
       "189  49554.281          -87146.63145                        "
      ]
     },
     "metadata": {},
     "output_type": "display_data"
    }
   ],
   "source": [
    "weo_iip_2016_I[weo_iip_2016_I$WEO.Country.Code %in% codes_I,]"
   ]
  },
  {
   "cell_type": "markdown",
   "metadata": {},
   "source": [
    "Apart from the data missing in the original DF's, all rows have data for the weo and iip columns  "
   ]
  },
  {
   "cell_type": "markdown",
   "metadata": {},
   "source": [
    "### Full Outer Join "
   ]
  },
  {
   "cell_type": "markdown",
   "metadata": {},
   "source": [
    "Now we include all codes:"
   ]
  },
  {
   "cell_type": "code",
   "execution_count": 59,
   "metadata": {},
   "outputs": [],
   "source": [
    "weo_iip_2016_O <- merge(x = weo_2016_wide,\n",
    "                        y = iip,\n",
    "                        by = \"WEO.Country.Code\",\n",
    "                       all = T)"
   ]
  },
  {
   "cell_type": "code",
   "execution_count": 60,
   "metadata": {},
   "outputs": [
    {
     "name": "stdout",
     "output_type": "stream",
     "text": [
      "'data.frame':\t213 obs. of  60 variables:\n",
      " $ WEO.Country.Code                                                        : int  111 112 122 124 126 128 132 134 135 136 ...\n",
      " $ ISO                                                                     : Factor w/ 194 levels \"ABW\",\"AFG\",\"AGO\",..: 183 61 10 13 NA 47 58 44 155 84 ...\n",
      " $ Country                                                                 : Factor w/ 194 levels \"Afghanistan\",..: 186 185 10 16 NA 44 58 62 145 81 ...\n",
      " $ NGDP_R                                                                  : num  17659 1970 317 416 NA ...\n",
      " $ NGDP_RPCH                                                               : num  1.57 1.79 1.45 1.41 NA ...\n",
      " $ NGDP                                                                    : num  18707 1970 353 423 NA ...\n",
      " $ NGDPD                                                                   : num  18707 2669 391 468 NA ...\n",
      " $ PPPGDP                                                                  : num  18707 2824 420 511 NA ...\n",
      " $ NGDP_D                                                                  : num  106 100 111 102 NA ...\n",
      " $ NGDPRPC                                                                 : num  54576 30001 36288 36785 NA ...\n",
      " $ NGDPRPPPPC                                                              : num  53549 39840 44521 41805 NA ...\n",
      " $ NGDPPC                                                                  : num  57815 30001 40424 37368 NA ...\n",
      " $ NGDPDPC                                                                 : num  57815 40658 44733 41352 NA ...\n",
      " $ PPPPC                                                                   : num  57815 43013 48067 45135 NA ...\n",
      " $ NGAP_NPGDP                                                              : num  -0.167 -0.068 -1.702 -0.479 NA ...\n",
      " $ PPPSH                                                                   : num  15.5 2.34 0.348 0.423 NA ...\n",
      " $ PPPEX                                                                   : num  1 0.697 0.841 0.828 NA 7.48 0.814 0.786 0.711 0.751 ...\n",
      " $ NID_NGDP                                                                : num  20.3 17.3 24.1 24 NA ...\n",
      " $ NGSD_NGDP                                                               : num  18.6 12 26.2 24 NA ...\n",
      " $ PCPI                                                                    : num  240 101 123 102 NA ...\n",
      " $ PCPIPCH                                                                 : num  1.272 0.66 0.972 1.77 NA ...\n",
      " $ PCPIE                                                                   : num  243 102 123 103 NA ...\n",
      " $ PCPIEPCH                                                                : num  2.18 1.21 1.53 2.2 NA ...\n",
      " $ FLIBOR6                                                                 : num  1.06 NA NA NA NA ...\n",
      " $ TM_RPCH                                                                 : num  1.9 3.29 3.14 5.51 NA ...\n",
      " $ TMG_RPCH                                                                : num  1.38 3.81 3.22 5.51 NA ...\n",
      " $ TX_RPCH                                                                 : num  -0.103 1.04 1.915 3.501 NA ...\n",
      " $ TXG_RPCH                                                                : num  0.337 -1.293 1.34 3.501 NA ...\n",
      " $ LUR                                                                     : num  4.87 4.9 6.02 7.86 NA ...\n",
      " $ LE                                                                      : num  151.44 31.73 4.22 4.74 NA ...\n",
      " $ LP                                                                      : num  323.57 65.65 8.74 11.31 NA ...\n",
      " $ GGR                                                                     : num  5815 707 173 215 NA ...\n",
      " $ GGR_NGDP                                                                : num  31.1 35.9 49 50.8 NA ...\n",
      " $ GGX                                                                     : num  6547 765 179 225 NA ...\n",
      " $ GGX_NGDP                                                                : num  35 38.9 50.6 53.3 NA ...\n",
      " $ GGXCNL                                                                  : num  -731.64 -57.99 -5.62 -10.49 NA ...\n",
      " $ GGXCNL_NGDP                                                             : num  -3.91 -2.94 -1.59 -2.48 NA ...\n",
      " $ GGSB                                                                    : num  -740.02 -56.74 -1.79 -9.36 NA ...\n",
      " $ GGSB_NPGDP                                                              : num  -3.949 -2.85 -0.498 -2.204 NA ...\n",
      " $ GGXONLB                                                                 : num  -430.007 -27.235 0.355 0.245 NA ...\n",
      " $ GGXONLB_NGDP                                                            : num  -2.299 -1.383 0.1 0.058 NA ...\n",
      " $ GGXWDN                                                                  : num  15197 1553 204 389 NA ...\n",
      " $ GGXWDN_NGDP                                                             : num  81.2 78.8 57.6 92.1 NA ...\n",
      " $ GGXWDG                                                                  : num  19986 1731 295 448 NA ...\n",
      " $ GGXWDG_NGDP                                                             : num  106.8 87.9 83.6 106 NA ...\n",
      " $ NGDP_FY                                                                 : num  18707 1970 353 423 NA ...\n",
      " $ BCA                                                                     : num  -432.874 -139.301 8.313 0.451 NA ...\n",
      " $ BCA_NGDPD                                                               : num  -2.314 -5.219 2.126 0.097 NA ...\n",
      " $ Assets                                                                  : num  24060586 13490319 890115 2354425 NA ...\n",
      " $ Direct.investment                                                       : num  7421871 1925355 291184 1080287 NA ...\n",
      " $ Portfolio.investment                                                    : num  10011368 3025965 308274 694615 NA ...\n",
      " $ Financial.derivatives..other.than.reserves..and.employee.stock.options  : num  2220453 3259951 7217 18326 NA ...\n",
      " $ Other.investment                                                        : num  3999671 5144405 260080 537631 NA ...\n",
      " $ Reserve.assets                                                          : num  407223 134642 23359 23566 NA ...\n",
      " $ Liabilities                                                             : num  32242176 13549348 876376 2099169 NA ...\n",
      " $ Direct.investment.1                                                     : num  7596124 1908905 244293 985285 NA ...\n",
      " $ Portfolio.investment.1                                                  : num  17359979 3817956 402006 643700 NA ...\n",
      " $ Financial.derivatives..other.than.reserves..and.employee.stock.options.1: num  2162275 3207615 7529 19252 NA ...\n",
      " $ Other.investment.1                                                      : num  5123798 4614872 222547 450931 NA ...\n",
      " $ Net.international.investment.position                                   : num  -8181591 -59030 13739 255255 NA ...\n"
     ]
    }
   ],
   "source": [
    "str(weo_iip_2016_O)"
   ]
  },
  {
   "cell_type": "markdown",
   "metadata": {},
   "source": [
    "Number of rows is equal to the length of the union set of codes from both sources"
   ]
  },
  {
   "cell_type": "code",
   "execution_count": 61,
   "metadata": {},
   "outputs": [
    {
     "data": {
      "text/plain": [
       "    WEO.Country.Code ISO Country              NGDP_R   NGDP_RPCH NGDP      \n",
       "5   126              NA  NA                         NA     NA            NA\n",
       "9   135              SMR San Marino              1.232  2.197         1.414\n",
       "18  163              NA  NA                         NA     NA            NA\n",
       "27  188              NA  NA                         NA     NA            NA\n",
       "50  309              NA  NA                         NA     NA            NA\n",
       "52  312              NA  NA                         NA     NA            NA\n",
       "56  319              NA  NA                         NA     NA            NA\n",
       "62  351              NA  NA                         NA     NA            NA\n",
       "63  352              NA  NA                         NA     NA            NA\n",
       "64  353              NA  NA                         NA     NA            NA\n",
       "65  354              NA  NA                         NA     NA            NA\n",
       "66  355              NA  NA                         NA     NA            NA\n",
       "67  359              PRI Puerto Rico            10.188 -1.327       103.961\n",
       "73  381              NA  NA                         NA     NA            NA\n",
       "85  459              NA  NA                         NA     NA            NA\n",
       "87  466              ARE United Arab Emirates 1411.057  2.988      1311.248\n",
       "89  473              NA  NA                         NA     NA            NA\n",
       "91  487              NA  NA                         NA     NA            NA\n",
       "169 816              NA  NA                         NA     NA            NA\n",
       "172 836              NRU Nauru                   0.110 10.404         0.140\n",
       "173 839              NA  NA                         NA     NA            NA\n",
       "181 887              NA  NA                         NA     NA            NA\n",
       "196 927              UZB Uzbekistan           1135.699  7.800    199993.374\n",
       "197 934              NA  NA                         NA     NA            NA\n",
       "    NGDPD   PPPGDP  NGDP_D    NGDPRPC    ⋯ Portfolio.investment\n",
       "5        NA      NA        NA         NA ⋯           NA        \n",
       "9     1.565   1.989   114.838  35938.601 ⋯           NA        \n",
       "18       NA      NA        NA         NA ⋯ 8.324168e+06        \n",
       "27       NA      NA        NA         NA ⋯           NA        \n",
       "50       NA      NA        NA         NA ⋯ 9.419253e+02        \n",
       "52       NA      NA        NA         NA ⋯ 4.219454e+01        \n",
       "56       NA      NA        NA         NA ⋯ 1.334116e+04        \n",
       "62       NA      NA        NA         NA ⋯ 3.243005e+01        \n",
       "63       NA      NA        NA         NA ⋯           NA        \n",
       "64       NA      NA        NA         NA ⋯           NA        \n",
       "65       NA      NA        NA         NA ⋯ 9.162769e+03        \n",
       "66       NA      NA        NA         NA ⋯           NA        \n",
       "67  103.961 130.667  1020.464   2986.421 ⋯           NA        \n",
       "73       NA      NA        NA         NA ⋯           NA        \n",
       "85       NA      NA        NA         NA ⋯           NA        \n",
       "87  357.045 677.602    92.927 143167.553 ⋯           NA        \n",
       "89       NA      NA        NA         NA ⋯           NA        \n",
       "91       NA      NA        NA         NA ⋯ 1.112000e+03        \n",
       "169      NA      NA        NA         NA ⋯           NA        \n",
       "172   0.102   0.151   126.943   8461.676 ⋯           NA        \n",
       "173      NA      NA        NA         NA ⋯           NA        \n",
       "181      NA      NA        NA         NA ⋯           NA        \n",
       "196  67.069 207.855 17609.713  35968.304 ⋯           NA        \n",
       "197      NA      NA        NA         NA ⋯           NA        \n",
       "    Financial.derivatives..other.than.reserves..and.employee.stock.options\n",
       "5             NA                                                          \n",
       "9             NA                                                          \n",
       "18  1909688.7257                                                          \n",
       "27            NA                                                          \n",
       "50        0.0000                                                          \n",
       "52        0.0000                                                          \n",
       "56      121.5406                                                          \n",
       "62        0.0000                                                          \n",
       "63            NA                                                          \n",
       "64            NA                                                          \n",
       "65            NA                                                          \n",
       "66            NA                                                          \n",
       "67            NA                                                          \n",
       "73            NA                                                          \n",
       "85            NA                                                          \n",
       "87            NA                                                          \n",
       "89            NA                                                          \n",
       "91            NA                                                          \n",
       "169           NA                                                          \n",
       "172           NA                                                          \n",
       "173           NA                                                          \n",
       "181           NA                                                          \n",
       "196           NA                                                          \n",
       "197           NA                                                          \n",
       "    Other.investment Reserve.assets Liabilities  Direct.investment.1\n",
       "5             NA               NA             NA           NA       \n",
       "9             NA               NA             NA           NA       \n",
       "18  5.204904e+06     745797.10411   2.874812e+07 9.485651e+06       \n",
       "27            NA               NA             NA           NA       \n",
       "50  3.125289e+03       1745.56927   1.208037e+04 6.083477e+03       \n",
       "52  1.342092e+03         55.55111   1.896743e+03 5.562827e+02       \n",
       "56  2.692590e+03        153.22520   1.350621e+04 2.600487e+03       \n",
       "62  4.789463e+01         49.35507   5.945844e+01 2.458579e+01       \n",
       "63            NA               NA             NA           NA       \n",
       "64            NA               NA             NA           NA       \n",
       "65  7.224570e+02       1452.37039   4.954257e+03 1.583730e+03       \n",
       "66            NA               NA             NA           NA       \n",
       "67            NA               NA             NA           NA       \n",
       "73            NA               NA             NA           NA       \n",
       "85            NA               NA             NA           NA       \n",
       "87            NA               NA             NA           NA       \n",
       "89            NA               NA             NA           NA       \n",
       "91  4.276000e+03        313.00000   4.934000e+03 2.666000e+03       \n",
       "169           NA               NA             NA           NA       \n",
       "172           NA               NA             NA           NA       \n",
       "173           NA               NA             NA           NA       \n",
       "181           NA               NA             NA           NA       \n",
       "196           NA               NA             NA           NA       \n",
       "197           NA               NA             NA           NA       \n",
       "    Portfolio.investment.1\n",
       "5             NA          \n",
       "9             NA          \n",
       "18  1.126993e+07          \n",
       "27            NA          \n",
       "50  1.652043e+03          \n",
       "52  1.115496e+03          \n",
       "56  1.524223e+03          \n",
       "62  3.992867e-02          \n",
       "63            NA          \n",
       "64            NA          \n",
       "65  1.381683e+03          \n",
       "66            NA          \n",
       "67            NA          \n",
       "73            NA          \n",
       "85            NA          \n",
       "87            NA          \n",
       "89            NA          \n",
       "91  6.580000e+02          \n",
       "169           NA          \n",
       "172           NA          \n",
       "173           NA          \n",
       "181           NA          \n",
       "196           NA          \n",
       "197           NA          \n",
       "    Financial.derivatives..other.than.reserves..and.employee.stock.options.1\n",
       "5             NA                                                            \n",
       "9             NA                                                            \n",
       "18  1.974715e+06                                                            \n",
       "27            NA                                                            \n",
       "50  0.000000e+00                                                            \n",
       "52  0.000000e+00                                                            \n",
       "56  2.348831e+01                                                            \n",
       "62  0.000000e+00                                                            \n",
       "63            NA                                                            \n",
       "64            NA                                                            \n",
       "65            NA                                                            \n",
       "66            NA                                                            \n",
       "67            NA                                                            \n",
       "73            NA                                                            \n",
       "85            NA                                                            \n",
       "87            NA                                                            \n",
       "89            NA                                                            \n",
       "91            NA                                                            \n",
       "169           NA                                                            \n",
       "172           NA                                                            \n",
       "173           NA                                                            \n",
       "181           NA                                                            \n",
       "196           NA                                                            \n",
       "197           NA                                                            \n",
       "    Other.investment.1 Net.international.investment.position\n",
       "5             NA                  NA                        \n",
       "9             NA                  NA                        \n",
       "18  6.017830e+06       -806459.77373                        \n",
       "27            NA                  NA                        \n",
       "50  4.344852e+03         -5735.22623                        \n",
       "52  2.249643e+02          -385.27015                        \n",
       "56  9.358007e+03          3717.87572                        \n",
       "62  3.483272e+01            70.22131                        \n",
       "63            NA                  NA                        \n",
       "64            NA                  NA                        \n",
       "65  1.988845e+03          7133.13240                        \n",
       "66            NA                  NA                        \n",
       "67            NA                  NA                        \n",
       "73            NA                  NA                        \n",
       "85            NA                  NA                        \n",
       "87            NA                  NA                        \n",
       "89            NA                  NA                        \n",
       "91  1.610000e+03          1173.00000                        \n",
       "169           NA                  NA                        \n",
       "172           NA                  NA                        \n",
       "173           NA                  NA                        \n",
       "181           NA                  NA                        \n",
       "196           NA                  NA                        \n",
       "197           NA                  NA                        "
      ]
     },
     "metadata": {},
     "output_type": "display_data"
    }
   ],
   "source": [
    "weo_iip_2016_O[weo_iip_2016_O$WEO.Country.Code %in% c(codes_L, codes_R),]"
   ]
  },
  {
   "cell_type": "markdown",
   "metadata": {},
   "source": [
    "When we filter for codes that are unique to either of weo or iip, we see that empty rows for both tables exist"
   ]
  },
  {
   "cell_type": "markdown",
   "metadata": {},
   "source": [
    "### Join income levels"
   ]
  },
  {
   "cell_type": "markdown",
   "metadata": {},
   "source": [
    "Now we will join the income level factors from weo_ppp_long_2 into weo_iip_2016_I (inner joined DF)"
   ]
  },
  {
   "cell_type": "code",
   "execution_count": 62,
   "metadata": {},
   "outputs": [],
   "source": [
    "weo_iip_2016_I2 <- merge(x = weo_iip_2016_O,\n",
    "                        y = weo_ppp_long_2[weo_ppp_long_2$time == 2016,],\n",
    "                        by = \"WEO.Country.Code\",\n",
    "                       all.x = T)"
   ]
  },
  {
   "cell_type": "code",
   "execution_count": 63,
   "metadata": {},
   "outputs": [
    {
     "data": {
      "text/plain": [
       "    WEO.Country.Code ISO.x Country.x              NGDP_R     NGDP_RPCH\n",
       "1   111              USA   United States           17659.200  1.567   \n",
       "2   112              GBR   United Kingdom           1969.524  1.789   \n",
       "3   122              AUT   Austria                   317.149  1.451   \n",
       "4   124              BEL   Belgium                   416.085  1.412   \n",
       "5   126              NA    NA                             NA     NA   \n",
       "6   128              DNK   Denmark                  1954.500  1.967   \n",
       "7   132              FRA   France                   2197.260  1.103   \n",
       "8   134              DEU   Germany                  2859.180  2.157   \n",
       "9   135              SMR   San Marino                  1.232  2.197   \n",
       "10  136              ITA   Italy                    1570.980  0.858   \n",
       "11  137              LUX   Luxembourg                 47.724  3.083   \n",
       "12  138              NLD   Netherlands               705.131  2.192   \n",
       "13  142              NOR   Norway                   3152.148  1.091   \n",
       "14  144              SWE   Sweden                   4484.096  2.684   \n",
       "15  146              CHE   Switzerland               671.834  1.587   \n",
       "16  156              CAN   Canada                   1801.368  1.414   \n",
       "17  158              JPN   Japan                  522577.200  0.961   \n",
       "18  163              NA    NA                             NA     NA   \n",
       "19  172              FIN   Finland                   191.432  2.477   \n",
       "20  174              GRC   Greece                    184.595 -0.244   \n",
       "21  176              ISL   Iceland                  1376.775  7.352   \n",
       "22  178              IRL   Ireland                   272.472  4.914   \n",
       "23  181              MLT   Malta                       8.955  5.212   \n",
       "24  182              PRT   Portugal                  174.506  1.619   \n",
       "25  184              ESP   Spain                    1106.948  3.173   \n",
       "26  186              TUR   Turkey                   1576.365  3.184   \n",
       "27  188              NA    NA                             NA     NA   \n",
       "28  193              AUS   Australia                1678.081  2.606   \n",
       "29  196              NZL   New Zealand               234.336  4.137   \n",
       "30  199              ZAF   South Africa             3084.174  0.565   \n",
       "⋮   ⋮                ⋮     ⋮                      ⋮          ⋮        \n",
       "184 913              BLR   Belarus                   75.536  -2.526   \n",
       "185 914              ALB   Albania                  760.317   3.352   \n",
       "186 915              GEO   Georgia                   14.515   2.849   \n",
       "187 916              KAZ   Kazakhstan             18400.209   1.083   \n",
       "188 917              KGZ   Kyrgyz Republic          164.649   4.336   \n",
       "189 918              BGR   Bulgaria                  83.905   3.941   \n",
       "190 921              MDA   Moldova                   11.900   4.300   \n",
       "191 922              RUS   Russia                 86148.600  -0.200   \n",
       "192 923              TJK   Tajikistan                 0.241   6.900   \n",
       "193 924              CHN   China                  74608.817   6.720   \n",
       "194 925              TKM   Turkmenistan             100.343   6.200   \n",
       "195 926              UKR   Ukraine                  985.299   2.441   \n",
       "196 927              UZB   Uzbekistan              1135.699   7.800   \n",
       "197 934              NA    NA                            NA      NA   \n",
       "198 935              CZE   Czech Republic          4412.049   2.451   \n",
       "199 936              SVK   Slovak Republic           79.037   3.325   \n",
       "200 939              EST   Estonia                   17.977   2.063   \n",
       "201 941              LVA   Latvia                    21.799   2.209   \n",
       "202 942              SRB   Serbia                  3210.826   2.797   \n",
       "203 943              MNE   Montenegro                 2.706   2.949   \n",
       "204 944              HUN   Hungary                25088.510   2.213   \n",
       "205 946              LTU   Lithuania                 34.532   2.345   \n",
       "206 948              MNG   Mongolia               16035.925   1.168   \n",
       "207 960              HRV   Croatia                  337.807   3.536   \n",
       "208 961              SVN   Slovenia                  38.139   3.148   \n",
       "209 962              MKD   FYR Macedonia            435.564   2.910   \n",
       "210 963              BIH   Bosnia and Herzegovina    27.971   3.215   \n",
       "211 964              POL   Poland                  1726.916   2.970   \n",
       "212 967              UVK   Kosovo                     6.070   4.062   \n",
       "213 968              ROU   Romania                  637.723   4.823   \n",
       "    NGDP       NGDPD     PPPGDP    NGDP_D    NGDPRPC     ⋯ Direct.investment.1\n",
       "1    18707.150 18707.150 18707.150 105.934     54575.84  ⋯ 7596124.00         \n",
       "2     1969.524  2669.107  2823.724 100.000     30001.28  ⋯ 1908905.03         \n",
       "3      353.297   390.961   420.099 111.398     36287.92  ⋯  244292.95         \n",
       "4      422.677   467.738   510.527 101.584     36785.49  ⋯  985285.19         \n",
       "5           NA        NA        NA      NA           NA  ⋯         NA         \n",
       "6     2065.962   306.900   276.191 105.703    342459.09  ⋯  165041.69         \n",
       "7     2228.568  2466.152  2739.216 101.425     34035.18  ⋯ 1068553.82         \n",
       "8     3159.750  3496.606  4022.280 110.512     34720.17  ⋯ 1399993.43         \n",
       "9        1.414     1.565     1.989 114.838     35938.60  ⋯         NA         \n",
       "10    1680.949  1860.152  2239.681 107.000     25895.75  ⋯  463421.36         \n",
       "11      53.005    58.656    59.580 111.065     82818.71  ⋯ 5296198.69         \n",
       "12     708.337   783.852   881.866 100.455     41405.23  ⋯ 4509818.22         \n",
       "13    3117.033   371.075   367.051  98.886    600161.53  ⋯  191175.17         \n",
       "14    4385.497   512.205   497.816  97.801    448627.05  ⋯  397825.69         \n",
       "15     660.460   670.249   504.922  98.307     80681.43  ⋯ 1378924.92         \n",
       "16    2035.506  1535.768  1689.256 112.998     49754.49  ⋯ 1011819.05         \n",
       "17  538532.800  4950.073  5250.150 103.053   4116074.80  ⋯  241710.97         \n",
       "18          NA        NA        NA      NA           NA  ⋯ 9485650.89         \n",
       "19     216.111   239.150   233.747 112.892     34886.32  ⋯  122221.84         \n",
       "20     174.199   192.770   289.811  94.368     17117.88  ⋯   28975.10         \n",
       "21    2502.735    20.716    17.158 181.782   4069097.29  ⋯   17962.30         \n",
       "22     272.844   301.931   323.385 100.137     57107.77  ⋯ 1410983.47         \n",
       "23      10.180    11.265    17.715 113.682     19881.35  ⋯  182024.14         \n",
       "24     185.494   205.269   300.214 106.296     16900.52  ⋯  151397.22         \n",
       "25    1118.522  1237.766  1694.645 101.046     23857.14  ⋯  710102.90         \n",
       "26    2608.526   863.390  1996.516 165.477     19750.24  ⋯  145921.01         \n",
       "27          NA        NA        NA      NA           NA  ⋯         NA         \n",
       "28    1699.883  1264.524  1198.301 101.299     68822.49  ⋯  649550.39         \n",
       "29     265.974   185.374   179.984 113.501     49362.99  ⋯   77487.98         \n",
       "30    4350.314   295.678   743.070 141.053     55450.81  ⋯  135453.53         \n",
       "⋮   ⋮          ⋮         ⋮         ⋮         ⋮           ⋱ ⋮                  \n",
       "184     94.949    47.703   171.862   125.701    7952.790 ⋯   18650.000        \n",
       "185   1475.251    11.885    34.027   194.031  264356.814 ⋯    5984.400        \n",
       "186     34.028    14.376    37.252   234.430    3921.798 ⋯   14702.614        \n",
       "187  46971.150   137.289   451.669   255.275 1026425.055 ⋯  157745.053        \n",
       "188    476.331     6.813    21.725   289.302   26814.865 ⋯    5352.857        \n",
       "189     94.130    53.236   145.420   112.186   11814.533 ⋯   45949.700        \n",
       "190    158.689     7.965    22.266  1333.560    3351.172 ⋯    3041.320        \n",
       "191  86148.600  1284.727  3881.330   100.000  598399.611 ⋯  477670.010        \n",
       "192     54.471     6.953    26.052 22628.176      27.559 ⋯    2449.181        \n",
       "193  74563.240 11221.836 21313.994    99.939   53958.399 ⋯ 2755147.204        \n",
       "194    126.630    36.180    95.591   126.197   17783.706 ⋯          NA        \n",
       "195   2385.367    93.349   353.741   242.096   23230.021 ⋯   42552.000        \n",
       "196 199993.374    67.069   207.855 17609.713   35968.304 ⋯          NA        \n",
       "197         NA        NA        NA        NA          NA ⋯          NA        \n",
       "198   4767.990   195.090   353.765   108.067  418051.415 ⋯  145857.327        \n",
       "199     81.154    89.806   170.592   102.678   14565.744 ⋯   60577.672        \n",
       "200     21.098    23.348    38.983   117.365   13662.236 ⋯   22586.443        \n",
       "201     24.926    27.583    50.707   114.341   11071.488 ⋯   15278.125        \n",
       "202   4261.927    38.300   101.858   132.736  454899.394 ⋯   30384.743        \n",
       "203      3.954     4.376    10.428   146.108    4346.880 ⋯          NA        \n",
       "204  35420.320   125.854   273.299   141.181 2552113.146 ⋯  314685.442        \n",
       "205     38.681    42.805    86.423   112.014   12039.546 ⋯   16837.287        \n",
       "206  23942.866    11.159    37.107   149.308 5320551.132 ⋯   16277.490        \n",
       "207    351.347    51.635    97.512   104.008   80931.241 ⋯   28099.601        \n",
       "208     40.418    44.727    66.574   105.977   18476.321 ⋯   15807.477        \n",
       "209    598.882    10.759    30.445   137.496  210041.751 ⋯    5683.932        \n",
       "210     29.899    16.910    42.729   106.892    7953.582 ⋯    6990.524        \n",
       "211   1858.468   471.173  1055.527   107.618   45484.403 ⋯  225312.000        \n",
       "212      6.070     6.717    18.541   100.000    3403.425 ⋯    3589.625        \n",
       "213    767.377   189.047   443.529   120.331   32272.921 ⋯   79206.888        \n",
       "    Portfolio.investment.1\n",
       "1   17359979.000          \n",
       "2    3817956.455          \n",
       "3     402006.333          \n",
       "4     643699.868          \n",
       "5             NA          \n",
       "6     423205.110          \n",
       "7    3329862.898          \n",
       "8    2752046.388          \n",
       "9             NA          \n",
       "10   1327044.438          \n",
       "11   4895240.127          \n",
       "12   2452270.889          \n",
       "13    354726.450          \n",
       "14    707600.583          \n",
       "15   1045615.062          \n",
       "16   1449438.508          \n",
       "17   2784362.450          \n",
       "18  11269928.070          \n",
       "19    332231.238          \n",
       "20     47260.573          \n",
       "21     10904.788          \n",
       "22   3103367.377          \n",
       "23      3868.522          \n",
       "24    125574.933          \n",
       "25   1094853.614          \n",
       "26    143395.168          \n",
       "27            NA          \n",
       "28   1208446.733          \n",
       "29    131872.343          \n",
       "30    204650.607          \n",
       "⋮   ⋮                     \n",
       "184 1.526200e+03          \n",
       "185 6.442343e+02          \n",
       "186 1.992120e+03          \n",
       "187 1.980602e+04          \n",
       "188 6.818893e+00          \n",
       "189 6.435100e+03          \n",
       "190 9.084000e+01          \n",
       "191 2.159603e+05          \n",
       "192 8.643483e+01          \n",
       "193 8.110578e+05          \n",
       "194           NA          \n",
       "195 2.877800e+04          \n",
       "196           NA          \n",
       "197           NA          \n",
       "198 5.265478e+04          \n",
       "199 2.940338e+04          \n",
       "200 2.254569e+03          \n",
       "201 7.566330e+03          \n",
       "202 7.312225e+03          \n",
       "203           NA          \n",
       "204 5.210528e+04          \n",
       "205 1.206508e+04          \n",
       "206 3.631164e+03          \n",
       "207 1.184579e+04          \n",
       "208 2.259854e+04          \n",
       "209 1.435903e+03          \n",
       "210 1.513677e+02          \n",
       "211 1.446810e+05          \n",
       "212 0.000000e+00          \n",
       "213 2.415890e+04          \n",
       "    Financial.derivatives..other.than.reserves..and.employee.stock.options.1\n",
       "1   2.162275e+06                                                            \n",
       "2   3.207615e+06                                                            \n",
       "3   7.529436e+03                                                            \n",
       "4   1.925208e+04                                                            \n",
       "5             NA                                                            \n",
       "6   6.865585e+04                                                            \n",
       "7   8.866320e+05                                                            \n",
       "8   6.761809e+05                                                            \n",
       "9             NA                                                            \n",
       "10  1.555715e+05                                                            \n",
       "11  2.255173e+05                                                            \n",
       "12  3.158568e+05                                                            \n",
       "13  0.000000e+00                                                            \n",
       "14  4.010947e+04                                                            \n",
       "15  1.104744e+05                                                            \n",
       "16            NA                                                            \n",
       "17  3.893056e+05                                                            \n",
       "18  1.974715e+06                                                            \n",
       "19  9.109743e+04                                                            \n",
       "20  8.681887e+03                                                            \n",
       "21  9.174607e+01                                                            \n",
       "22  1.739233e+05                                                            \n",
       "23  6.931024e+02                                                            \n",
       "24  4.195318e+03                                                            \n",
       "25  1.153849e+05                                                            \n",
       "26            NA                                                            \n",
       "27            NA                                                            \n",
       "28  1.564459e+05                                                            \n",
       "29  1.953731e+04                                                            \n",
       "30  7.661470e+03                                                            \n",
       "⋮   ⋮                                                                       \n",
       "184    2.000000                                                             \n",
       "185          NA                                                             \n",
       "186    4.525209                                                             \n",
       "187  236.672000                                                             \n",
       "188   17.279302                                                             \n",
       "189  103.700000                                                             \n",
       "190    4.290000                                                             \n",
       "191 6455.010000                                                             \n",
       "192          NA                                                             \n",
       "193 6026.360203                                                             \n",
       "194          NA                                                             \n",
       "195          NA                                                             \n",
       "196          NA                                                             \n",
       "197          NA                                                             \n",
       "198 3006.357502                                                             \n",
       "199  447.483370                                                             \n",
       "200   98.733331                                                             \n",
       "201  262.470900                                                             \n",
       "202    1.081650                                                             \n",
       "203          NA                                                             \n",
       "204 1902.638438                                                             \n",
       "205   46.675548                                                             \n",
       "206  115.659176                                                             \n",
       "207   70.028246                                                             \n",
       "208  146.960514                                                             \n",
       "209          NA                                                             \n",
       "210          NA                                                             \n",
       "211 4934.000000                                                             \n",
       "212    0.000000                                                             \n",
       "213    3.718077                                                             \n",
       "    Other.investment.1 Net.international.investment.position\n",
       "1   5123797.929        -8181591.1906                        \n",
       "2   4614871.883          -59029.6563                        \n",
       "3    222547.264           13738.7038                        \n",
       "4    450931.024          255254.9325                        \n",
       "5            NA                   NA                        \n",
       "6    173160.070          161846.0812                        \n",
       "7   2146890.212         -350166.8854                        \n",
       "8   2192232.294         1689210.6038                        \n",
       "9            NA                   NA                        \n",
       "10   920397.683         -176188.6717                        \n",
       "11  1018212.954           26348.8031                        \n",
       "12  1245369.948          468218.3325                        \n",
       "13   257055.342          734821.1496                        \n",
       "14   250949.020           24361.1036                        \n",
       "15  1170541.673          770522.9313                        \n",
       "16   591842.920          155487.0655                        \n",
       "17  2149496.242         2879243.2718                        \n",
       "18  6017830.306         -806459.7737                        \n",
       "19   188444.645            7452.0831                        \n",
       "20   413193.474         -256431.8874                        \n",
       "21     5355.594             661.7472                        \n",
       "22   982656.796         -519307.6236                        \n",
       "23    47464.404            4857.3262                        \n",
       "24   279096.162         -207245.0221                        \n",
       "25   942869.345        -1006185.8816                        \n",
       "26   295328.248         -369438.1171                        \n",
       "27           NA                   NA                        \n",
       "28   370494.796         -699802.8262                        \n",
       "29    49611.874         -110107.7759                        \n",
       "30    53417.729           22221.8922                        \n",
       "⋮   ⋮                  ⋮                                    \n",
       "184  34186.179          -40822.64315                        \n",
       "185   5810.545           -5086.90416                        \n",
       "186  11346.442          -20053.17368                        \n",
       "187  40739.290          -45573.03835                        \n",
       "188   6138.159           -6929.74280                        \n",
       "189  21324.918          -24943.62290                        \n",
       "190   4466.364           -2313.20329                        \n",
       "191 321318.834          211091.88461                        \n",
       "192   3560.243           -5146.76855                        \n",
       "193 984445.604         1950368.09015                        \n",
       "194         NA                    NA                        \n",
       "195  80056.388          -27170.51358                        \n",
       "196         NA                    NA                        \n",
       "197         NA                    NA                        \n",
       "198  56214.143          -50044.65902                        \n",
       "199  31661.199          -57039.85348                        \n",
       "200  15087.027           -8886.50631                        \n",
       "201  27945.338          -15465.68854                        \n",
       "202  20990.451          -36764.12210                        \n",
       "203         NA                    NA                        \n",
       "204  44492.576          -70610.46246                        \n",
       "205  19662.818          -17504.39524                        \n",
       "206  13638.084          -29345.48336                        \n",
       "207  26781.102          -34166.67015                        \n",
       "208  22073.772          -15661.90086                        \n",
       "209   4209.328           -5878.08134                        \n",
       "210   9559.397           -8392.80375                        \n",
       "211 145696.866         -274199.04064                        \n",
       "212   1289.325             -85.20894                        \n",
       "213  49554.281          -87146.63145                        \n",
       "    Country.y              ISO.y time NGDPRPPPPC.y income_levels\n",
       "1   United States          USA   2016 53548.88     H            \n",
       "2   United Kingdom         GBR   2016 39839.53     H            \n",
       "3   Austria                AUT   2016 44520.88     H            \n",
       "4   Belgium                BEL   2016 41804.86     H            \n",
       "5   NA                     NA      NA       NA     NA           \n",
       "6   Denmark                DNK   2016 44822.49     H            \n",
       "7   France                 FRA   2016 39299.44     H            \n",
       "8   Germany                DEU   2016 45240.36     H            \n",
       "9   San Marino             SMR   2016 53748.25     H            \n",
       "10  Italy                  ITA   2016 34194.59     H            \n",
       "11  Luxembourg             LUX   2016 95764.55     H            \n",
       "12  Netherlands            NLD   2016 47962.42     H            \n",
       "13  Norway                 NOR   2016 64729.33     H            \n",
       "14  Sweden                 SWE   2016 46131.02     H            \n",
       "15  Switzerland            CHE   2016 56162.86     H            \n",
       "16  Canada                 CAN   2016 43215.40     H            \n",
       "17  Japan                  JPN   2016 38301.69     H            \n",
       "18  NA                     NA      NA       NA     NA           \n",
       "19  Finland                FIN   2016 39454.84     H            \n",
       "20  Greece                 GRC   2016 24891.92     H            \n",
       "21  Iceland                ISL   2016 46968.90     H            \n",
       "22  Ireland                IRL   2016 62777.81     H            \n",
       "23  Malta                  MLT   2016 36429.03     H            \n",
       "24  Portugal               PRT   2016 26929.83     H            \n",
       "25  Spain                  ESP   2016 33828.55     H            \n",
       "26  Turkey                 TUR   2016 23168.71     H            \n",
       "27  NA                     NA      NA       NA     NA           \n",
       "28  Australia              AUS   2016 45519.41     H            \n",
       "29  New Zealand            NZL   2016 35116.42     H            \n",
       "30  South Africa           ZAF   2016 12374.06     M            \n",
       "⋮   ⋮                      ⋮     ⋮    ⋮            ⋮            \n",
       "184 Belarus                BLR   2016 16759.492    M            \n",
       "185 Albania                ALB   2016 10957.976    M            \n",
       "186 Georgia                GEO   2016  9322.123    M            \n",
       "187 Kazakhstan             KAZ   2016 23336.624    H            \n",
       "188 Kyrgyz Republic        KGZ   2016  3277.140    L            \n",
       "189 Bulgaria               BGR   2016 18965.573    M            \n",
       "190 Moldova                MDA   2016  5807.849    M            \n",
       "191 Russia                 RUS   2016 24971.064    H            \n",
       "192 Tajikistan             TJK   2016  2762.439    L            \n",
       "193 China                  CHN   2016 14277.334    M            \n",
       "194 Turkmenistan           TKM   2016 15691.496    M            \n",
       "195 Ukraine                UKR   2016  7724.685    M            \n",
       "196 Uzbekistan             UZB   2016  6097.196    M            \n",
       "197 NA                     NA      NA        NA    NA           \n",
       "198 Czech Republic         CZE   2016 31046.863    H            \n",
       "199 Slovak Republic        SVK   2016 29118.722    H            \n",
       "200 Estonia                EST   2016 27440.934    H            \n",
       "201 Latvia                 LVA   2016 23852.952    H            \n",
       "202 Serbia                 SRB   2016 13366.131    M            \n",
       "203 Montenegro             MNE   2016 15513.673    M            \n",
       "204 Hungary                HUN   2016 25749.985    H            \n",
       "205 Lithuania              LTU   2016 27907.882    H            \n",
       "206 Mongolia               MNG   2016 11403.231    M            \n",
       "207 Croatia                HRV   2016 21638.161    H            \n",
       "208 Slovenia               SVN   2016 29872.258    H            \n",
       "209 FYR Macedonia          MKD   2016 13598.046    M            \n",
       "210 Bosnia and Herzegovina BIH   2016 11253.493    M            \n",
       "211 Poland                 POL   2016 25749.819    H            \n",
       "212 Kosovo                 UVK   2016  9628.772    M            \n",
       "213 Romania                ROU   2016 20789.411    H            "
      ]
     },
     "metadata": {},
     "output_type": "display_data"
    }
   ],
   "source": [
    "weo_iip_2016_I2"
   ]
  },
  {
   "cell_type": "markdown",
   "metadata": {},
   "source": [
    "### Extension packages"
   ]
  },
  {
   "cell_type": "markdown",
   "metadata": {},
   "source": [
    "- dplyr and data.table has advancedfunctionality for joining data objects\n",
    "- sqldf package provides a unified interface to database engines as well as data frames over SQL queries. So SQL joins can be done on data objects"
   ]
  },
  {
   "cell_type": "markdown",
   "metadata": {},
   "source": [
    "## Aggregating and summarizing data "
   ]
  },
  {
   "cell_type": "markdown",
   "metadata": {},
   "source": [
    "### Number of countries by year and income level"
   ]
  },
  {
   "cell_type": "markdown",
   "metadata": {},
   "source": [
    "Let's first get the distribution of countries across income levels for all years using aggregate function:"
   ]
  },
  {
   "cell_type": "code",
   "execution_count": 64,
   "metadata": {},
   "outputs": [],
   "source": [
    "?aggregate"
   ]
  },
  {
   "cell_type": "markdown",
   "metadata": {},
   "source": [
    "```\n",
    "     aggregate(x, ...)\n",
    "     \n",
    "     ## Default S3 method:\n",
    "     aggregate(x, ...)\n",
    "     \n",
    "     ## S3 method for class 'data.frame'\n",
    "     aggregate(x, by, FUN, ..., simplify = TRUE, drop = TRUE)\n",
    "     \n",
    "     ## S3 method for class 'formula'\n",
    "     aggregate(formula, data, FUN, ...,\n",
    "               subset, na.action = na.omit)\n",
    "     \n",
    "     ## S3 method for class 'ts'\n",
    "     aggregate(x, nfrequency = 1, FUN = sum, ndeltat = 1,\n",
    "               ts.eps = getOption(\"ts.eps\"), ...)\n",
    "     \n",
    "Arguments:\n",
    "\n",
    "       x: an R object.\n",
    "\n",
    "      by: a list of grouping elements, each as long as the variables in\n",
    "          the data frame ‘x’.  The elements are coerced to factors\n",
    "          before use.\n",
    "\n",
    "     FUN: a function to compute the summary statistics which can be\n",
    "          applied to all data subsets.\n",
    "\n",
    "simplify: a logical indicating whether results should be simplified to\n",
    "          a vector or matrix if possible.\n",
    "\n",
    "    drop: a logical indicating whether to drop unused combinations of\n",
    "          grouping values.  The non-default case ‘drop=FALSE’ has been\n",
    "          amended for R 3.5.0 to drop unused combinations.\n",
    "\n",
    " formula: a formula, such as ‘y ~ x’ or ‘cbind(y1, y2) ~ x1 + x2’,\n",
    "          where the ‘y’ variables are numeric data to be split into\n",
    "          groups according to the grouping ‘x’ variables (usually\n",
    "          factors).\n",
    "\n",
    "    data: a data frame (or list) from which the variables in formula\n",
    "          should be taken.\n",
    "```"
   ]
  },
  {
   "cell_type": "code",
   "execution_count": 65,
   "metadata": {},
   "outputs": [
    {
     "name": "stdout",
     "output_type": "stream",
     "text": [
      "'data.frame':\t8536 obs. of  6 variables:\n",
      " $ Country         : Factor w/ 194 levels \"Afghanistan\",..: 1 2 3 4 5 6 7 8 9 10 ...\n",
      " $ WEO.Country.Code: int  512 914 612 614 311 213 911 314 193 122 ...\n",
      " $ ISO             : Factor w/ 194 levels \"ABW\",\"AFG\",\"AGO\",..: 2 4 49 3 8 6 7 1 9 10 ...\n",
      " $ time            : int  1980 1980 1980 1980 1980 1980 1980 1980 1980 1980 ...\n",
      " $ NGDPRPPPPC      : num  NA 4675 10804 5277 9082 ...\n",
      " $ income_levels   : Factor w/ 3 levels \"L\",\"M\",\"H\": NA 1 2 2 2 2 NA NA 3 3 ...\n"
     ]
    }
   ],
   "source": [
    "str(weo_ppp_long_2)"
   ]
  },
  {
   "cell_type": "code",
   "execution_count": 66,
   "metadata": {},
   "outputs": [],
   "source": [
    "income_years <- aggregate(weo_ppp_long_2$Country,\n",
    "                          by = as.list(weo_ppp_long_2[,c(\"time\",\"income_levels\")]),\n",
    "                          FUN = length)"
   ]
  },
  {
   "cell_type": "code",
   "execution_count": 67,
   "metadata": {},
   "outputs": [
    {
     "name": "stdout",
     "output_type": "stream",
     "text": [
      "'data.frame':\t132 obs. of  3 variables:\n",
      " $ time         : int  1980 1981 1982 1983 1984 1985 1986 1987 1988 1989 ...\n",
      " $ income_levels: Factor w/ 3 levels \"L\",\"M\",\"H\": 1 1 1 1 1 1 1 1 1 1 ...\n",
      " $ x            : int  64 65 63 65 62 63 62 62 58 58 ...\n"
     ]
    }
   ],
   "source": [
    "str(income_years)"
   ]
  },
  {
   "cell_type": "markdown",
   "metadata": {},
   "source": [
    "Now let's reshape this object into a wide format so that we see levels on columns and years on rows:"
   ]
  },
  {
   "cell_type": "code",
   "execution_count": 68,
   "metadata": {},
   "outputs": [],
   "source": [
    "income_years_wide <- reshape(income_years,\n",
    "                      idvar = \"time\",\n",
    "                      v.names = \"x\",\n",
    "                      timevar = \"income_levels\",\n",
    "                      direction = \"wide\")"
   ]
  },
  {
   "cell_type": "code",
   "execution_count": 69,
   "metadata": {},
   "outputs": [
    {
     "data": {
      "text/plain": [
       "   time x.L x.M x.H\n",
       "1  1980 64  46  30 \n",
       "2  1981 65  47  29 \n",
       "3  1982 63  48  30 \n",
       "4  1983 65  47  29 \n",
       "5  1984 62  49  30 \n",
       "6  1985 63  48  31 \n",
       "7  1986 62  48  32 \n",
       "8  1987 62  48  33 \n",
       "9  1988 58  51  34 \n",
       "10 1989 58  51  34 \n",
       "11 1990 62  54  37 \n",
       "12 1991 63  55  37 \n",
       "13 1992 69  61  38 \n",
       "14 1993 68  64  38 \n",
       "15 1994 70  62  39 \n",
       "16 1995 71  63  41 \n",
       "17 1996 73  62  41 \n",
       "18 1997 73  63  42 \n",
       "19 1998 74  65  42 \n",
       "20 1999 75  63  43 \n",
       "21 2000 74  67  45 \n",
       "22 2001 73  68  46 \n",
       "23 2002 74  68  47 \n",
       "24 2003 72  69  49 \n",
       "25 2004 72  69  50 \n",
       "26 2005 70  71  50 \n",
       "27 2006 66  71  54 \n",
       "28 2007 64  71  56 \n",
       "29 2008 62  72  58 \n",
       "30 2009 62  74  56 \n",
       "31 2010 61  75  56 \n",
       "32 2011 61  72  59 \n",
       "33 2012 61  70  61 \n",
       "34 2013 57  74  61 \n",
       "35 2014 58  72  62 \n",
       "36 2015 56  74  62 \n",
       "37 2016 53  76  63 \n",
       "38 2017 52  75  65 \n",
       "39 2018 51  75  66 \n",
       "40 2019 52  74  66 \n",
       "41 2020 51  75  66 \n",
       "42 2021 52  74  66 \n",
       "43 2022 51  71  70 \n",
       "44 2023 50  70  72 "
      ]
     },
     "metadata": {},
     "output_type": "display_data"
    }
   ],
   "source": [
    "income_years_wide"
   ]
  },
  {
   "cell_type": "code",
   "execution_count": 70,
   "metadata": {
    "scrolled": false
   },
   "outputs": [
    {
     "data": {
      "image/png": "[encoded data removed]",
      "text/plain": [
       "plot without title"
      ]
     },
     "metadata": {},
     "output_type": "display_data"
    }
   ],
   "source": [
    "plot(x = income_years_wide$time, y = income_years_wide$x.L, col = \"red\", type = \"l\", ylim = c(0, 110))\n",
    "lines(x = income_years_wide$time, income_years_wide$x.M, col = \"green\")\n",
    "lines(x = income_years_wide$time, income_years_wide$x.H, col = \"blue\")"
   ]
  },
  {
   "cell_type": "markdown",
   "metadata": {},
   "source": [
    "Over the last decade, while number of middle-income countries was stable, number of high-income countries increased and number of low-income countries decreased\n",
    "\n",
    "Since LI countries cannot promote to HI countries directly, this can be interpreted as the number of countries promoted from MI to HI is more or less equal to countries promoted from LI to MI "
   ]
  },
  {
   "cell_type": "markdown",
   "metadata": {},
   "source": [
    "### Average foreign asset and foreign liabilities"
   ]
  },
  {
   "cell_type": "code",
   "execution_count": 71,
   "metadata": {},
   "outputs": [
    {
     "data": {
      "text/plain": [
       "    WEO.Country.Code ISO.x Country.x              NGDP_R     NGDP_RPCH\n",
       "1   111              USA   United States           17659.200  1.567   \n",
       "2   112              GBR   United Kingdom           1969.524  1.789   \n",
       "3   122              AUT   Austria                   317.149  1.451   \n",
       "4   124              BEL   Belgium                   416.085  1.412   \n",
       "5   126              NA    NA                             NA     NA   \n",
       "6   128              DNK   Denmark                  1954.500  1.967   \n",
       "7   132              FRA   France                   2197.260  1.103   \n",
       "8   134              DEU   Germany                  2859.180  2.157   \n",
       "9   135              SMR   San Marino                  1.232  2.197   \n",
       "10  136              ITA   Italy                    1570.980  0.858   \n",
       "11  137              LUX   Luxembourg                 47.724  3.083   \n",
       "12  138              NLD   Netherlands               705.131  2.192   \n",
       "13  142              NOR   Norway                   3152.148  1.091   \n",
       "14  144              SWE   Sweden                   4484.096  2.684   \n",
       "15  146              CHE   Switzerland               671.834  1.587   \n",
       "16  156              CAN   Canada                   1801.368  1.414   \n",
       "17  158              JPN   Japan                  522577.200  0.961   \n",
       "18  163              NA    NA                             NA     NA   \n",
       "19  172              FIN   Finland                   191.432  2.477   \n",
       "20  174              GRC   Greece                    184.595 -0.244   \n",
       "21  176              ISL   Iceland                  1376.775  7.352   \n",
       "22  178              IRL   Ireland                   272.472  4.914   \n",
       "23  181              MLT   Malta                       8.955  5.212   \n",
       "24  182              PRT   Portugal                  174.506  1.619   \n",
       "25  184              ESP   Spain                    1106.948  3.173   \n",
       "26  186              TUR   Turkey                   1576.365  3.184   \n",
       "27  188              NA    NA                             NA     NA   \n",
       "28  193              AUS   Australia                1678.081  2.606   \n",
       "29  196              NZL   New Zealand               234.336  4.137   \n",
       "30  199              ZAF   South Africa             3084.174  0.565   \n",
       "⋮   ⋮                ⋮     ⋮                      ⋮          ⋮        \n",
       "184 913              BLR   Belarus                   75.536  -2.526   \n",
       "185 914              ALB   Albania                  760.317   3.352   \n",
       "186 915              GEO   Georgia                   14.515   2.849   \n",
       "187 916              KAZ   Kazakhstan             18400.209   1.083   \n",
       "188 917              KGZ   Kyrgyz Republic          164.649   4.336   \n",
       "189 918              BGR   Bulgaria                  83.905   3.941   \n",
       "190 921              MDA   Moldova                   11.900   4.300   \n",
       "191 922              RUS   Russia                 86148.600  -0.200   \n",
       "192 923              TJK   Tajikistan                 0.241   6.900   \n",
       "193 924              CHN   China                  74608.817   6.720   \n",
       "194 925              TKM   Turkmenistan             100.343   6.200   \n",
       "195 926              UKR   Ukraine                  985.299   2.441   \n",
       "196 927              UZB   Uzbekistan              1135.699   7.800   \n",
       "197 934              NA    NA                            NA      NA   \n",
       "198 935              CZE   Czech Republic          4412.049   2.451   \n",
       "199 936              SVK   Slovak Republic           79.037   3.325   \n",
       "200 939              EST   Estonia                   17.977   2.063   \n",
       "201 941              LVA   Latvia                    21.799   2.209   \n",
       "202 942              SRB   Serbia                  3210.826   2.797   \n",
       "203 943              MNE   Montenegro                 2.706   2.949   \n",
       "204 944              HUN   Hungary                25088.510   2.213   \n",
       "205 946              LTU   Lithuania                 34.532   2.345   \n",
       "206 948              MNG   Mongolia               16035.925   1.168   \n",
       "207 960              HRV   Croatia                  337.807   3.536   \n",
       "208 961              SVN   Slovenia                  38.139   3.148   \n",
       "209 962              MKD   FYR Macedonia            435.564   2.910   \n",
       "210 963              BIH   Bosnia and Herzegovina    27.971   3.215   \n",
       "211 964              POL   Poland                  1726.916   2.970   \n",
       "212 967              UVK   Kosovo                     6.070   4.062   \n",
       "213 968              ROU   Romania                  637.723   4.823   \n",
       "    NGDP       NGDPD     PPPGDP    NGDP_D    NGDPRPC     ⋯ Direct.investment.1\n",
       "1    18707.150 18707.150 18707.150 105.934     54575.84  ⋯ 7596124.00         \n",
       "2     1969.524  2669.107  2823.724 100.000     30001.28  ⋯ 1908905.03         \n",
       "3      353.297   390.961   420.099 111.398     36287.92  ⋯  244292.95         \n",
       "4      422.677   467.738   510.527 101.584     36785.49  ⋯  985285.19         \n",
       "5           NA        NA        NA      NA           NA  ⋯         NA         \n",
       "6     2065.962   306.900   276.191 105.703    342459.09  ⋯  165041.69         \n",
       "7     2228.568  2466.152  2739.216 101.425     34035.18  ⋯ 1068553.82         \n",
       "8     3159.750  3496.606  4022.280 110.512     34720.17  ⋯ 1399993.43         \n",
       "9        1.414     1.565     1.989 114.838     35938.60  ⋯         NA         \n",
       "10    1680.949  1860.152  2239.681 107.000     25895.75  ⋯  463421.36         \n",
       "11      53.005    58.656    59.580 111.065     82818.71  ⋯ 5296198.69         \n",
       "12     708.337   783.852   881.866 100.455     41405.23  ⋯ 4509818.22         \n",
       "13    3117.033   371.075   367.051  98.886    600161.53  ⋯  191175.17         \n",
       "14    4385.497   512.205   497.816  97.801    448627.05  ⋯  397825.69         \n",
       "15     660.460   670.249   504.922  98.307     80681.43  ⋯ 1378924.92         \n",
       "16    2035.506  1535.768  1689.256 112.998     49754.49  ⋯ 1011819.05         \n",
       "17  538532.800  4950.073  5250.150 103.053   4116074.80  ⋯  241710.97         \n",
       "18          NA        NA        NA      NA           NA  ⋯ 9485650.89         \n",
       "19     216.111   239.150   233.747 112.892     34886.32  ⋯  122221.84         \n",
       "20     174.199   192.770   289.811  94.368     17117.88  ⋯   28975.10         \n",
       "21    2502.735    20.716    17.158 181.782   4069097.29  ⋯   17962.30         \n",
       "22     272.844   301.931   323.385 100.137     57107.77  ⋯ 1410983.47         \n",
       "23      10.180    11.265    17.715 113.682     19881.35  ⋯  182024.14         \n",
       "24     185.494   205.269   300.214 106.296     16900.52  ⋯  151397.22         \n",
       "25    1118.522  1237.766  1694.645 101.046     23857.14  ⋯  710102.90         \n",
       "26    2608.526   863.390  1996.516 165.477     19750.24  ⋯  145921.01         \n",
       "27          NA        NA        NA      NA           NA  ⋯         NA         \n",
       "28    1699.883  1264.524  1198.301 101.299     68822.49  ⋯  649550.39         \n",
       "29     265.974   185.374   179.984 113.501     49362.99  ⋯   77487.98         \n",
       "30    4350.314   295.678   743.070 141.053     55450.81  ⋯  135453.53         \n",
       "⋮   ⋮          ⋮         ⋮         ⋮         ⋮           ⋱ ⋮                  \n",
       "184     94.949    47.703   171.862   125.701    7952.790 ⋯   18650.000        \n",
       "185   1475.251    11.885    34.027   194.031  264356.814 ⋯    5984.400        \n",
       "186     34.028    14.376    37.252   234.430    3921.798 ⋯   14702.614        \n",
       "187  46971.150   137.289   451.669   255.275 1026425.055 ⋯  157745.053        \n",
       "188    476.331     6.813    21.725   289.302   26814.865 ⋯    5352.857        \n",
       "189     94.130    53.236   145.420   112.186   11814.533 ⋯   45949.700        \n",
       "190    158.689     7.965    22.266  1333.560    3351.172 ⋯    3041.320        \n",
       "191  86148.600  1284.727  3881.330   100.000  598399.611 ⋯  477670.010        \n",
       "192     54.471     6.953    26.052 22628.176      27.559 ⋯    2449.181        \n",
       "193  74563.240 11221.836 21313.994    99.939   53958.399 ⋯ 2755147.204        \n",
       "194    126.630    36.180    95.591   126.197   17783.706 ⋯          NA        \n",
       "195   2385.367    93.349   353.741   242.096   23230.021 ⋯   42552.000        \n",
       "196 199993.374    67.069   207.855 17609.713   35968.304 ⋯          NA        \n",
       "197         NA        NA        NA        NA          NA ⋯          NA        \n",
       "198   4767.990   195.090   353.765   108.067  418051.415 ⋯  145857.327        \n",
       "199     81.154    89.806   170.592   102.678   14565.744 ⋯   60577.672        \n",
       "200     21.098    23.348    38.983   117.365   13662.236 ⋯   22586.443        \n",
       "201     24.926    27.583    50.707   114.341   11071.488 ⋯   15278.125        \n",
       "202   4261.927    38.300   101.858   132.736  454899.394 ⋯   30384.743        \n",
       "203      3.954     4.376    10.428   146.108    4346.880 ⋯          NA        \n",
       "204  35420.320   125.854   273.299   141.181 2552113.146 ⋯  314685.442        \n",
       "205     38.681    42.805    86.423   112.014   12039.546 ⋯   16837.287        \n",
       "206  23942.866    11.159    37.107   149.308 5320551.132 ⋯   16277.490        \n",
       "207    351.347    51.635    97.512   104.008   80931.241 ⋯   28099.601        \n",
       "208     40.418    44.727    66.574   105.977   18476.321 ⋯   15807.477        \n",
       "209    598.882    10.759    30.445   137.496  210041.751 ⋯    5683.932        \n",
       "210     29.899    16.910    42.729   106.892    7953.582 ⋯    6990.524        \n",
       "211   1858.468   471.173  1055.527   107.618   45484.403 ⋯  225312.000        \n",
       "212      6.070     6.717    18.541   100.000    3403.425 ⋯    3589.625        \n",
       "213    767.377   189.047   443.529   120.331   32272.921 ⋯   79206.888        \n",
       "    Portfolio.investment.1\n",
       "1   17359979.000          \n",
       "2    3817956.455          \n",
       "3     402006.333          \n",
       "4     643699.868          \n",
       "5             NA          \n",
       "6     423205.110          \n",
       "7    3329862.898          \n",
       "8    2752046.388          \n",
       "9             NA          \n",
       "10   1327044.438          \n",
       "11   4895240.127          \n",
       "12   2452270.889          \n",
       "13    354726.450          \n",
       "14    707600.583          \n",
       "15   1045615.062          \n",
       "16   1449438.508          \n",
       "17   2784362.450          \n",
       "18  11269928.070          \n",
       "19    332231.238          \n",
       "20     47260.573          \n",
       "21     10904.788          \n",
       "22   3103367.377          \n",
       "23      3868.522          \n",
       "24    125574.933          \n",
       "25   1094853.614          \n",
       "26    143395.168          \n",
       "27            NA          \n",
       "28   1208446.733          \n",
       "29    131872.343          \n",
       "30    204650.607          \n",
       "⋮   ⋮                     \n",
       "184 1.526200e+03          \n",
       "185 6.442343e+02          \n",
       "186 1.992120e+03          \n",
       "187 1.980602e+04          \n",
       "188 6.818893e+00          \n",
       "189 6.435100e+03          \n",
       "190 9.084000e+01          \n",
       "191 2.159603e+05          \n",
       "192 8.643483e+01          \n",
       "193 8.110578e+05          \n",
       "194           NA          \n",
       "195 2.877800e+04          \n",
       "196           NA          \n",
       "197           NA          \n",
       "198 5.265478e+04          \n",
       "199 2.940338e+04          \n",
       "200 2.254569e+03          \n",
       "201 7.566330e+03          \n",
       "202 7.312225e+03          \n",
       "203           NA          \n",
       "204 5.210528e+04          \n",
       "205 1.206508e+04          \n",
       "206 3.631164e+03          \n",
       "207 1.184579e+04          \n",
       "208 2.259854e+04          \n",
       "209 1.435903e+03          \n",
       "210 1.513677e+02          \n",
       "211 1.446810e+05          \n",
       "212 0.000000e+00          \n",
       "213 2.415890e+04          \n",
       "    Financial.derivatives..other.than.reserves..and.employee.stock.options.1\n",
       "1   2.162275e+06                                                            \n",
       "2   3.207615e+06                                                            \n",
       "3   7.529436e+03                                                            \n",
       "4   1.925208e+04                                                            \n",
       "5             NA                                                            \n",
       "6   6.865585e+04                                                            \n",
       "7   8.866320e+05                                                            \n",
       "8   6.761809e+05                                                            \n",
       "9             NA                                                            \n",
       "10  1.555715e+05                                                            \n",
       "11  2.255173e+05                                                            \n",
       "12  3.158568e+05                                                            \n",
       "13  0.000000e+00                                                            \n",
       "14  4.010947e+04                                                            \n",
       "15  1.104744e+05                                                            \n",
       "16            NA                                                            \n",
       "17  3.893056e+05                                                            \n",
       "18  1.974715e+06                                                            \n",
       "19  9.109743e+04                                                            \n",
       "20  8.681887e+03                                                            \n",
       "21  9.174607e+01                                                            \n",
       "22  1.739233e+05                                                            \n",
       "23  6.931024e+02                                                            \n",
       "24  4.195318e+03                                                            \n",
       "25  1.153849e+05                                                            \n",
       "26            NA                                                            \n",
       "27            NA                                                            \n",
       "28  1.564459e+05                                                            \n",
       "29  1.953731e+04                                                            \n",
       "30  7.661470e+03                                                            \n",
       "⋮   ⋮                                                                       \n",
       "184    2.000000                                                             \n",
       "185          NA                                                             \n",
       "186    4.525209                                                             \n",
       "187  236.672000                                                             \n",
       "188   17.279302                                                             \n",
       "189  103.700000                                                             \n",
       "190    4.290000                                                             \n",
       "191 6455.010000                                                             \n",
       "192          NA                                                             \n",
       "193 6026.360203                                                             \n",
       "194          NA                                                             \n",
       "195          NA                                                             \n",
       "196          NA                                                             \n",
       "197          NA                                                             \n",
       "198 3006.357502                                                             \n",
       "199  447.483370                                                             \n",
       "200   98.733331                                                             \n",
       "201  262.470900                                                             \n",
       "202    1.081650                                                             \n",
       "203          NA                                                             \n",
       "204 1902.638438                                                             \n",
       "205   46.675548                                                             \n",
       "206  115.659176                                                             \n",
       "207   70.028246                                                             \n",
       "208  146.960514                                                             \n",
       "209          NA                                                             \n",
       "210          NA                                                             \n",
       "211 4934.000000                                                             \n",
       "212    0.000000                                                             \n",
       "213    3.718077                                                             \n",
       "    Other.investment.1 Net.international.investment.position\n",
       "1   5123797.929        -8181591.1906                        \n",
       "2   4614871.883          -59029.6563                        \n",
       "3    222547.264           13738.7038                        \n",
       "4    450931.024          255254.9325                        \n",
       "5            NA                   NA                        \n",
       "6    173160.070          161846.0812                        \n",
       "7   2146890.212         -350166.8854                        \n",
       "8   2192232.294         1689210.6038                        \n",
       "9            NA                   NA                        \n",
       "10   920397.683         -176188.6717                        \n",
       "11  1018212.954           26348.8031                        \n",
       "12  1245369.948          468218.3325                        \n",
       "13   257055.342          734821.1496                        \n",
       "14   250949.020           24361.1036                        \n",
       "15  1170541.673          770522.9313                        \n",
       "16   591842.920          155487.0655                        \n",
       "17  2149496.242         2879243.2718                        \n",
       "18  6017830.306         -806459.7737                        \n",
       "19   188444.645            7452.0831                        \n",
       "20   413193.474         -256431.8874                        \n",
       "21     5355.594             661.7472                        \n",
       "22   982656.796         -519307.6236                        \n",
       "23    47464.404            4857.3262                        \n",
       "24   279096.162         -207245.0221                        \n",
       "25   942869.345        -1006185.8816                        \n",
       "26   295328.248         -369438.1171                        \n",
       "27           NA                   NA                        \n",
       "28   370494.796         -699802.8262                        \n",
       "29    49611.874         -110107.7759                        \n",
       "30    53417.729           22221.8922                        \n",
       "⋮   ⋮                  ⋮                                    \n",
       "184  34186.179          -40822.64315                        \n",
       "185   5810.545           -5086.90416                        \n",
       "186  11346.442          -20053.17368                        \n",
       "187  40739.290          -45573.03835                        \n",
       "188   6138.159           -6929.74280                        \n",
       "189  21324.918          -24943.62290                        \n",
       "190   4466.364           -2313.20329                        \n",
       "191 321318.834          211091.88461                        \n",
       "192   3560.243           -5146.76855                        \n",
       "193 984445.604         1950368.09015                        \n",
       "194         NA                    NA                        \n",
       "195  80056.388          -27170.51358                        \n",
       "196         NA                    NA                        \n",
       "197         NA                    NA                        \n",
       "198  56214.143          -50044.65902                        \n",
       "199  31661.199          -57039.85348                        \n",
       "200  15087.027           -8886.50631                        \n",
       "201  27945.338          -15465.68854                        \n",
       "202  20990.451          -36764.12210                        \n",
       "203         NA                    NA                        \n",
       "204  44492.576          -70610.46246                        \n",
       "205  19662.818          -17504.39524                        \n",
       "206  13638.084          -29345.48336                        \n",
       "207  26781.102          -34166.67015                        \n",
       "208  22073.772          -15661.90086                        \n",
       "209   4209.328           -5878.08134                        \n",
       "210   9559.397           -8392.80375                        \n",
       "211 145696.866         -274199.04064                        \n",
       "212   1289.325             -85.20894                        \n",
       "213  49554.281          -87146.63145                        \n",
       "    Country.y              ISO.y time NGDPRPPPPC.y income_levels\n",
       "1   United States          USA   2016 53548.88     H            \n",
       "2   United Kingdom         GBR   2016 39839.53     H            \n",
       "3   Austria                AUT   2016 44520.88     H            \n",
       "4   Belgium                BEL   2016 41804.86     H            \n",
       "5   NA                     NA      NA       NA     NA           \n",
       "6   Denmark                DNK   2016 44822.49     H            \n",
       "7   France                 FRA   2016 39299.44     H            \n",
       "8   Germany                DEU   2016 45240.36     H            \n",
       "9   San Marino             SMR   2016 53748.25     H            \n",
       "10  Italy                  ITA   2016 34194.59     H            \n",
       "11  Luxembourg             LUX   2016 95764.55     H            \n",
       "12  Netherlands            NLD   2016 47962.42     H            \n",
       "13  Norway                 NOR   2016 64729.33     H            \n",
       "14  Sweden                 SWE   2016 46131.02     H            \n",
       "15  Switzerland            CHE   2016 56162.86     H            \n",
       "16  Canada                 CAN   2016 43215.40     H            \n",
       "17  Japan                  JPN   2016 38301.69     H            \n",
       "18  NA                     NA      NA       NA     NA           \n",
       "19  Finland                FIN   2016 39454.84     H            \n",
       "20  Greece                 GRC   2016 24891.92     H            \n",
       "21  Iceland                ISL   2016 46968.90     H            \n",
       "22  Ireland                IRL   2016 62777.81     H            \n",
       "23  Malta                  MLT   2016 36429.03     H            \n",
       "24  Portugal               PRT   2016 26929.83     H            \n",
       "25  Spain                  ESP   2016 33828.55     H            \n",
       "26  Turkey                 TUR   2016 23168.71     H            \n",
       "27  NA                     NA      NA       NA     NA           \n",
       "28  Australia              AUS   2016 45519.41     H            \n",
       "29  New Zealand            NZL   2016 35116.42     H            \n",
       "30  South Africa           ZAF   2016 12374.06     M            \n",
       "⋮   ⋮                      ⋮     ⋮    ⋮            ⋮            \n",
       "184 Belarus                BLR   2016 16759.492    M            \n",
       "185 Albania                ALB   2016 10957.976    M            \n",
       "186 Georgia                GEO   2016  9322.123    M            \n",
       "187 Kazakhstan             KAZ   2016 23336.624    H            \n",
       "188 Kyrgyz Republic        KGZ   2016  3277.140    L            \n",
       "189 Bulgaria               BGR   2016 18965.573    M            \n",
       "190 Moldova                MDA   2016  5807.849    M            \n",
       "191 Russia                 RUS   2016 24971.064    H            \n",
       "192 Tajikistan             TJK   2016  2762.439    L            \n",
       "193 China                  CHN   2016 14277.334    M            \n",
       "194 Turkmenistan           TKM   2016 15691.496    M            \n",
       "195 Ukraine                UKR   2016  7724.685    M            \n",
       "196 Uzbekistan             UZB   2016  6097.196    M            \n",
       "197 NA                     NA      NA        NA    NA           \n",
       "198 Czech Republic         CZE   2016 31046.863    H            \n",
       "199 Slovak Republic        SVK   2016 29118.722    H            \n",
       "200 Estonia                EST   2016 27440.934    H            \n",
       "201 Latvia                 LVA   2016 23852.952    H            \n",
       "202 Serbia                 SRB   2016 13366.131    M            \n",
       "203 Montenegro             MNE   2016 15513.673    M            \n",
       "204 Hungary                HUN   2016 25749.985    H            \n",
       "205 Lithuania              LTU   2016 27907.882    H            \n",
       "206 Mongolia               MNG   2016 11403.231    M            \n",
       "207 Croatia                HRV   2016 21638.161    H            \n",
       "208 Slovenia               SVN   2016 29872.258    H            \n",
       "209 FYR Macedonia          MKD   2016 13598.046    M            \n",
       "210 Bosnia and Herzegovina BIH   2016 11253.493    M            \n",
       "211 Poland                 POL   2016 25749.819    H            \n",
       "212 Kosovo                 UVK   2016  9628.772    M            \n",
       "213 Romania                ROU   2016 20789.411    H            "
      ]
     },
     "metadata": {},
     "output_type": "display_data"
    }
   ],
   "source": [
    "weo_iip_2016_I2"
   ]
  },
  {
   "cell_type": "code",
   "execution_count": 72,
   "metadata": {},
   "outputs": [
    {
     "data": {
      "text/plain": [
       " [1] \"WEO.Country.Code\"                                                        \n",
       " [2] \"ISO.x\"                                                                   \n",
       " [3] \"Country.x\"                                                               \n",
       " [4] \"NGDP_R\"                                                                  \n",
       " [5] \"NGDP_RPCH\"                                                               \n",
       " [6] \"NGDP\"                                                                    \n",
       " [7] \"NGDPD\"                                                                   \n",
       " [8] \"PPPGDP\"                                                                  \n",
       " [9] \"NGDP_D\"                                                                  \n",
       "[10] \"NGDPRPC\"                                                                 \n",
       "[11] \"NGDPRPPPPC.x\"                                                            \n",
       "[12] \"NGDPPC\"                                                                  \n",
       "[13] \"NGDPDPC\"                                                                 \n",
       "[14] \"PPPPC\"                                                                   \n",
       "[15] \"NGAP_NPGDP\"                                                              \n",
       "[16] \"PPPSH\"                                                                   \n",
       "[17] \"PPPEX\"                                                                   \n",
       "[18] \"NID_NGDP\"                                                                \n",
       "[19] \"NGSD_NGDP\"                                                               \n",
       "[20] \"PCPI\"                                                                    \n",
       "[21] \"PCPIPCH\"                                                                 \n",
       "[22] \"PCPIE\"                                                                   \n",
       "[23] \"PCPIEPCH\"                                                                \n",
       "[24] \"FLIBOR6\"                                                                 \n",
       "[25] \"TM_RPCH\"                                                                 \n",
       "[26] \"TMG_RPCH\"                                                                \n",
       "[27] \"TX_RPCH\"                                                                 \n",
       "[28] \"TXG_RPCH\"                                                                \n",
       "[29] \"LUR\"                                                                     \n",
       "[30] \"LE\"                                                                      \n",
       "[31] \"LP\"                                                                      \n",
       "[32] \"GGR\"                                                                     \n",
       "[33] \"GGR_NGDP\"                                                                \n",
       "[34] \"GGX\"                                                                     \n",
       "[35] \"GGX_NGDP\"                                                                \n",
       "[36] \"GGXCNL\"                                                                  \n",
       "[37] \"GGXCNL_NGDP\"                                                             \n",
       "[38] \"GGSB\"                                                                    \n",
       "[39] \"GGSB_NPGDP\"                                                              \n",
       "[40] \"GGXONLB\"                                                                 \n",
       "[41] \"GGXONLB_NGDP\"                                                            \n",
       "[42] \"GGXWDN\"                                                                  \n",
       "[43] \"GGXWDN_NGDP\"                                                             \n",
       "[44] \"GGXWDG\"                                                                  \n",
       "[45] \"GGXWDG_NGDP\"                                                             \n",
       "[46] \"NGDP_FY\"                                                                 \n",
       "[47] \"BCA\"                                                                     \n",
       "[48] \"BCA_NGDPD\"                                                               \n",
       "[49] \"Assets\"                                                                  \n",
       "[50] \"Direct.investment\"                                                       \n",
       "[51] \"Portfolio.investment\"                                                    \n",
       "[52] \"Financial.derivatives..other.than.reserves..and.employee.stock.options\"  \n",
       "[53] \"Other.investment\"                                                        \n",
       "[54] \"Reserve.assets\"                                                          \n",
       "[55] \"Liabilities\"                                                             \n",
       "[56] \"Direct.investment.1\"                                                     \n",
       "[57] \"Portfolio.investment.1\"                                                  \n",
       "[58] \"Financial.derivatives..other.than.reserves..and.employee.stock.options.1\"\n",
       "[59] \"Other.investment.1\"                                                      \n",
       "[60] \"Net.international.investment.position\"                                   \n",
       "[61] \"Country.y\"                                                               \n",
       "[62] \"ISO.y\"                                                                   \n",
       "[63] \"time\"                                                                    \n",
       "[64] \"NGDPRPPPPC.y\"                                                            \n",
       "[65] \"income_levels\"                                                           "
      ]
     },
     "metadata": {},
     "output_type": "display_data"
    }
   ],
   "source": [
    "names(weo_iip_2016_I2)"
   ]
  },
  {
   "cell_type": "code",
   "execution_count": 73,
   "metadata": {},
   "outputs": [
    {
     "name": "stdout",
     "output_type": "stream",
     "text": [
      "'data.frame':\t213 obs. of  65 variables:\n",
      " $ WEO.Country.Code                                                        : int  111 112 122 124 126 128 132 134 135 136 ...\n",
      " $ ISO.x                                                                   : Factor w/ 194 levels \"ABW\",\"AFG\",\"AGO\",..: 183 61 10 13 NA 47 58 44 155 84 ...\n",
      " $ Country.x                                                               : Factor w/ 194 levels \"Afghanistan\",..: 186 185 10 16 NA 44 58 62 145 81 ...\n",
      " $ NGDP_R                                                                  : num  17659 1970 317 416 NA ...\n",
      " $ NGDP_RPCH                                                               : num  1.57 1.79 1.45 1.41 NA ...\n",
      " $ NGDP                                                                    : num  18707 1970 353 423 NA ...\n",
      " $ NGDPD                                                                   : num  18707 2669 391 468 NA ...\n",
      " $ PPPGDP                                                                  : num  18707 2824 420 511 NA ...\n",
      " $ NGDP_D                                                                  : num  106 100 111 102 NA ...\n",
      " $ NGDPRPC                                                                 : num  54576 30001 36288 36785 NA ...\n",
      " $ NGDPRPPPPC.x                                                            : num  53549 39840 44521 41805 NA ...\n",
      " $ NGDPPC                                                                  : num  57815 30001 40424 37368 NA ...\n",
      " $ NGDPDPC                                                                 : num  57815 40658 44733 41352 NA ...\n",
      " $ PPPPC                                                                   : num  57815 43013 48067 45135 NA ...\n",
      " $ NGAP_NPGDP                                                              : num  -0.167 -0.068 -1.702 -0.479 NA ...\n",
      " $ PPPSH                                                                   : num  15.5 2.34 0.348 0.423 NA ...\n",
      " $ PPPEX                                                                   : num  1 0.697 0.841 0.828 NA 7.48 0.814 0.786 0.711 0.751 ...\n",
      " $ NID_NGDP                                                                : num  20.3 17.3 24.1 24 NA ...\n",
      " $ NGSD_NGDP                                                               : num  18.6 12 26.2 24 NA ...\n",
      " $ PCPI                                                                    : num  240 101 123 102 NA ...\n",
      " $ PCPIPCH                                                                 : num  1.272 0.66 0.972 1.77 NA ...\n",
      " $ PCPIE                                                                   : num  243 102 123 103 NA ...\n",
      " $ PCPIEPCH                                                                : num  2.18 1.21 1.53 2.2 NA ...\n",
      " $ FLIBOR6                                                                 : num  1.06 NA NA NA NA ...\n",
      " $ TM_RPCH                                                                 : num  1.9 3.29 3.14 5.51 NA ...\n",
      " $ TMG_RPCH                                                                : num  1.38 3.81 3.22 5.51 NA ...\n",
      " $ TX_RPCH                                                                 : num  -0.103 1.04 1.915 3.501 NA ...\n",
      " $ TXG_RPCH                                                                : num  0.337 -1.293 1.34 3.501 NA ...\n",
      " $ LUR                                                                     : num  4.87 4.9 6.02 7.86 NA ...\n",
      " $ LE                                                                      : num  151.44 31.73 4.22 4.74 NA ...\n",
      " $ LP                                                                      : num  323.57 65.65 8.74 11.31 NA ...\n",
      " $ GGR                                                                     : num  5815 707 173 215 NA ...\n",
      " $ GGR_NGDP                                                                : num  31.1 35.9 49 50.8 NA ...\n",
      " $ GGX                                                                     : num  6547 765 179 225 NA ...\n",
      " $ GGX_NGDP                                                                : num  35 38.9 50.6 53.3 NA ...\n",
      " $ GGXCNL                                                                  : num  -731.64 -57.99 -5.62 -10.49 NA ...\n",
      " $ GGXCNL_NGDP                                                             : num  -3.91 -2.94 -1.59 -2.48 NA ...\n",
      " $ GGSB                                                                    : num  -740.02 -56.74 -1.79 -9.36 NA ...\n",
      " $ GGSB_NPGDP                                                              : num  -3.949 -2.85 -0.498 -2.204 NA ...\n",
      " $ GGXONLB                                                                 : num  -430.007 -27.235 0.355 0.245 NA ...\n",
      " $ GGXONLB_NGDP                                                            : num  -2.299 -1.383 0.1 0.058 NA ...\n",
      " $ GGXWDN                                                                  : num  15197 1553 204 389 NA ...\n",
      " $ GGXWDN_NGDP                                                             : num  81.2 78.8 57.6 92.1 NA ...\n",
      " $ GGXWDG                                                                  : num  19986 1731 295 448 NA ...\n",
      " $ GGXWDG_NGDP                                                             : num  106.8 87.9 83.6 106 NA ...\n",
      " $ NGDP_FY                                                                 : num  18707 1970 353 423 NA ...\n",
      " $ BCA                                                                     : num  -432.874 -139.301 8.313 0.451 NA ...\n",
      " $ BCA_NGDPD                                                               : num  -2.314 -5.219 2.126 0.097 NA ...\n",
      " $ Assets                                                                  : num  24060586 13490319 890115 2354425 NA ...\n",
      " $ Direct.investment                                                       : num  7421871 1925355 291184 1080287 NA ...\n",
      " $ Portfolio.investment                                                    : num  10011368 3025965 308274 694615 NA ...\n",
      " $ Financial.derivatives..other.than.reserves..and.employee.stock.options  : num  2220453 3259951 7217 18326 NA ...\n",
      " $ Other.investment                                                        : num  3999671 5144405 260080 537631 NA ...\n",
      " $ Reserve.assets                                                          : num  407223 134642 23359 23566 NA ...\n",
      " $ Liabilities                                                             : num  32242176 13549348 876376 2099169 NA ...\n",
      " $ Direct.investment.1                                                     : num  7596124 1908905 244293 985285 NA ...\n",
      " $ Portfolio.investment.1                                                  : num  17359979 3817956 402006 643700 NA ...\n",
      " $ Financial.derivatives..other.than.reserves..and.employee.stock.options.1: num  2162275 3207615 7529 19252 NA ...\n",
      " $ Other.investment.1                                                      : num  5123798 4614872 222547 450931 NA ...\n",
      " $ Net.international.investment.position                                   : num  -8181591 -59030 13739 255255 NA ...\n",
      " $ Country.y                                                               : Factor w/ 194 levels \"Afghanistan\",..: 186 185 10 16 NA 44 58 62 145 81 ...\n",
      " $ ISO.y                                                                   : Factor w/ 194 levels \"ABW\",\"AFG\",\"AGO\",..: 183 61 10 13 NA 47 58 44 155 84 ...\n",
      " $ time                                                                    : int  2016 2016 2016 2016 NA 2016 2016 2016 2016 2016 ...\n",
      " $ NGDPRPPPPC.y                                                            : num  53549 39840 44521 41805 NA ...\n",
      " $ income_levels                                                           : Factor w/ 3 levels \"L\",\"M\",\"H\": 3 3 3 3 NA 3 3 3 3 3 ...\n"
     ]
    }
   ],
   "source": [
    "str(weo_iip_2016_I2)"
   ]
  },
  {
   "cell_type": "markdown",
   "metadata": {},
   "source": [
    "Now three columns will be selected:\n",
    "\n",
    "- Assets\n",
    "- Direct.investment (in assets)\n",
    "- Liabilities\n",
    "- Direct.investment.1 (in liabilities)\n",
    "- Net.international.investment.position\n",
    "\n",
    "and they will be divided by GDP in USD (NGDPD) and the mean values for each income level will be found:"
   ]
  },
  {
   "cell_type": "code",
   "execution_count": 74,
   "metadata": {},
   "outputs": [],
   "source": [
    "weo_iip_2016_I3 <- weo_iip_2016_I2[,c(\"Assets\", \"Direct.investment\", \"Liabilities\",\n",
    "                                      \"Direct.investment.1\",\n",
    "                                      \"Net.international.investment.position\")] /\n",
    "                                        weo_iip_2016_I2$NGDPD / 1000 * 100\n",
    "\n",
    "iip_level <- aggregate(weo_iip_2016_I3,\n",
    "                          by = list(weo_iip_2016_I2$income_levels),\n",
    "                          FUN = function(x) round(mean(x, na.rm = T), 2))"
   ]
  },
  {
   "cell_type": "code",
   "execution_count": 75,
   "metadata": {},
   "outputs": [
    {
     "data": {
      "text/plain": [
       "  Group.1 Assets Direct.investment Liabilities Direct.investment.1\n",
       "1 L        49.16   5.02             95.12       44.07             \n",
       "2 M       133.23  43.03            165.07       91.07             \n",
       "3 H       697.68 306.67            698.96      319.11             \n",
       "  Net.international.investment.position\n",
       "1 -45.96                               \n",
       "2 -31.85                               \n",
       "3  -1.28                               "
      ]
     },
     "metadata": {},
     "output_type": "display_data"
    }
   ],
   "source": [
    "iip_level"
   ]
  },
  {
   "cell_type": "markdown",
   "metadata": {},
   "source": [
    "In low income countries net international investment position to GDP rations are highly negative and only a small portion of international assets is direct investments abroad. Total international investment openness is to a limited degree\n",
    "\n",
    "In high income countries, international investment position to GDP ratio is close to zero, however openness is extremely high: international assets is 7 times the GDP. Nearly half of international assets is of direct investment form and considering the sizes of their economies, the direct investment as assets and liabilities of high income countries must match each other (so they mostly invest in other high income countries)"
   ]
  },
  {
   "cell_type": "markdown",
   "metadata": {},
   "source": [
    "## Data science exercise"
   ]
  },
  {
   "cell_type": "markdown",
   "metadata": {},
   "source": [
    "Starting with the raw data and the objects already created we will end up with highly refined summary insights on global economic data in 11 steps"
   ]
  },
  {
   "cell_type": "markdown",
   "metadata": {},
   "source": [
    "### Step 1"
   ]
  },
  {
   "cell_type": "markdown",
   "metadata": {},
   "source": [
    "For those variables:\n",
    "\n",
    "- NGDP_RPCH: Gross domestic product, constant prices, Percent change\n",
    "- NID_NGDP: Total investment percent of GDP\n",
    "- NGSD_NGDP: Gross national savings percent of GDP\n",
    "- LUR: Unemployment rate\n",
    "- GGXONLB_NGDP: General government primary net lending/borrowing, Percent of GDP\n",
    "- BCA_NGDPD: Current account balance, Percent of GDP\n",
    "\n",
    "Filter the weo dataset and save as weo_sub (first a create a vector of those variable names and filter WEO.Subject.Code column for them)"
   ]
  },
  {
   "cell_type": "code",
   "execution_count": null,
   "metadata": {},
   "outputs": [],
   "source": []
  },
  {
   "cell_type": "markdown",
   "metadata": {},
   "source": [
    "### Step 2"
   ]
  },
  {
   "cell_type": "markdown",
   "metadata": {},
   "source": [
    "Using the cols object from the ppp melting example, melt all years values in weo_sub into a long DF named weo_sub_long. WEO.Subject.Code and Subject.Descriptor should also be kept along with Country codes and names\n",
    "\n",
    "Keep only:\n",
    "\n",
    "- WEO.Country.Code\n",
    "- ISO\n",
    "- WEO.Subject.Code\n",
    "- Country\n",
    "- Subject.Descriptor\n",
    "- time\n",
    "- value\n",
    "in weo_sub_long_2\n",
    "\n",
    "Clear rownames and convert year values from X1980 to 1980 and make them numeric:"
   ]
  },
  {
   "cell_type": "code",
   "execution_count": null,
   "metadata": {},
   "outputs": [],
   "source": []
  },
  {
   "cell_type": "markdown",
   "metadata": {},
   "source": [
    "### Step 3"
   ]
  },
  {
   "cell_type": "markdown",
   "metadata": {},
   "source": [
    "Cast the selected variables into columns using WEO.Subject.Code as column names. Drop \"WEO.Subject.Code\"\n",
    "\n",
    "\"WEO.Country.Code\", \"Country\", \"time\" variables will be kept on rows\n",
    "\n",
    "Correct the column names of:\n",
    "\n",
    "value.NGDP_RPCH\tvalue.NID_NGDP\tvalue.NGSD_NGDP\tvalue.LUR\tvalue.GGXONLB_NGDP\tvalue.BCA_NGDPD\n",
    "\n",
    "bu deleting \"value.\"\n",
    "\n",
    "Name of wide DF should be weo_sub_wide"
   ]
  },
  {
   "cell_type": "code",
   "execution_count": null,
   "metadata": {},
   "outputs": [],
   "source": []
  },
  {
   "cell_type": "markdown",
   "metadata": {},
   "source": [
    "### Step 4"
   ]
  },
  {
   "cell_type": "markdown",
   "metadata": {},
   "source": [
    "Select WEO.Country.Code, time and income_levels columns from weo_ppp_long_2 into  weo_ppp_long_3\n",
    "\n",
    "Using WEO.Country.Code and time columns, join weo_sub_wide to selected columns of weo_ppp_long_3. Use inner join. Make the new object weo_sub_wide_2"
   ]
  },
  {
   "cell_type": "code",
   "execution_count": null,
   "metadata": {},
   "outputs": [],
   "source": []
  },
  {
   "cell_type": "markdown",
   "metadata": {},
   "source": [
    "### Step 5"
   ]
  },
  {
   "cell_type": "markdown",
   "metadata": {},
   "source": [
    "Excluding WEO.Country.Code, ISO and\tCountry variables\t\n",
    "\n",
    "for each of the:\n",
    "\n",
    "- NGDP_RPCH\n",
    "- NID_NGDP\n",
    "- NGSD_NGDP\n",
    "- LUR\n",
    "- GGXONLB_NGDP\n",
    "- BCA_NGDPD\n",
    "\n",
    "variables, find the median values across years and income levels and save into medians. remove na's in median calculation"
   ]
  },
  {
   "cell_type": "code",
   "execution_count": null,
   "metadata": {},
   "outputs": [],
   "source": []
  },
  {
   "cell_type": "markdown",
   "metadata": {},
   "source": [
    "### Step 6"
   ]
  },
  {
   "cell_type": "markdown",
   "metadata": {},
   "source": [
    "left join weo_sub_wide_2 and medians into weo_sub_wide_3 using time and income_levels"
   ]
  },
  {
   "cell_type": "code",
   "execution_count": null,
   "metadata": {},
   "outputs": [],
   "source": []
  },
  {
   "cell_type": "markdown",
   "metadata": {},
   "source": [
    "### Step 7"
   ]
  },
  {
   "cell_type": "markdown",
   "metadata": {},
   "source": [
    "Create a new DF weo_sub_wide_4 which includes:\n",
    "\n",
    "income_levels, time, WEO.Country.Code, ISO and Country columns as is but:\n",
    "\n",
    "for each of:\n",
    "\n",
    "- NGDP_RPCH\n",
    "- NID_NGDP\n",
    "- NGSD_NGDP\n",
    "- LUR\n",
    "- GGXONLB_NGDP\n",
    "- BCA_NGDPD\n",
    "\n",
    "The difference between x and y columns will be taken (abnormal values above respective medians)\n",
    "\n",
    "To prevent having to use the weo_sub_wide_3 object name multiple times use the with function as such:\n",
    "\n",
    "```R\n",
    "with(weo_sub_wide_3, data.frame(NGDP_RPCH = NGDP_RPCH.x - NGDP_RPCH.y))\n",
    "```"
   ]
  },
  {
   "cell_type": "code",
   "execution_count": null,
   "metadata": {},
   "outputs": [],
   "source": []
  },
  {
   "cell_type": "markdown",
   "metadata": {},
   "source": [
    "### Step 8"
   ]
  },
  {
   "cell_type": "markdown",
   "metadata": {},
   "source": [
    "Discretize NGDP_RPCH where positive values will be \"fast\", zero or negative values will be slow\n",
    "\n",
    "Include this as a new column named GDP_speed into weo_sub_wide_4\n",
    "\n",
    "You can use the with() function again"
   ]
  },
  {
   "cell_type": "code",
   "execution_count": null,
   "metadata": {},
   "outputs": [],
   "source": []
  },
  {
   "cell_type": "markdown",
   "metadata": {},
   "source": [
    "### Step 9"
   ]
  },
  {
   "cell_type": "markdown",
   "metadata": {},
   "source": [
    "For each time and GDP_speed get the median values for all:\n",
    "\n",
    "- NGDP_RPCH\n",
    "- NID_NGDP\n",
    "- NGSD_NGDP\n",
    "- LUR\n",
    "- GGXONLB_NGDP\n",
    "- BCA_NGDPD\n",
    "\n",
    "variables. Save into fast_vs_slow"
   ]
  },
  {
   "cell_type": "code",
   "execution_count": null,
   "metadata": {},
   "outputs": [],
   "source": []
  },
  {
   "cell_type": "markdown",
   "metadata": {},
   "source": [
    "### Step 10"
   ]
  },
  {
   "cell_type": "markdown",
   "metadata": {},
   "source": [
    "Aggregate fast_vs_slow by decades and GDP_speed using median, sort first by decades and then by GDP_speed \n",
    "\n",
    "first add a decade column to fast_vs_slow\n",
    "\n",
    "save in to fast_vs_slow_decade"
   ]
  },
  {
   "cell_type": "code",
   "execution_count": null,
   "metadata": {},
   "outputs": [],
   "source": []
  },
  {
   "cell_type": "markdown",
   "metadata": {},
   "source": [
    "### Step 11"
   ]
  },
  {
   "cell_type": "markdown",
   "metadata": {},
   "source": [
    "For those variables:\n",
    "\n",
    "- NGDP_RPCH: Gross domestic product, constant prices, Percent change\n",
    "- NID_NGDP: Total investment percent of GDP\n",
    "- NGSD_NGDP: Gross national savings percent of GDP\n",
    "- LUR: Unemployment rate\n",
    "- GGXONLB_NGDP: General government primary net lending/borrowing, Percent of GDP\n",
    "- BCA_NGDPD: Current account balance, Percent of GDP\n",
    "\n",
    "With lapply, create a DF for each variable:\n",
    "\n",
    "- First column is decade\n",
    "- Second column is values for slow's\n",
    "- Third column is values for fast's\n",
    "\n",
    "Round to 1 decimal place\n",
    "\n",
    "**NOW THE END: Interpret the meaning**"
   ]
  },
  {
   "cell_type": "code",
   "execution_count": null,
   "metadata": {},
   "outputs": [],
   "source": []
  }
 ],
 "metadata": {
  "kernelspec": {
   "display_name": "R",
   "language": "R",
   "name": "ir"
  },
  "language_info": {
   "codemirror_mode": "r",
   "file_extension": ".r",
   "mimetype": "text/x-r-source",
   "name": "R",
   "pygments_lexer": "r",
   "version": "3.5.1"
  },
  "toc": {
   "base_numbering": 1,
   "nav_menu": {},
   "number_sections": true,
   "sideBar": true,
   "skip_h1_title": false,
   "title_cell": "Table of Contents",
   "title_sidebar": "Contents",
   "toc_cell": false,
   "toc_position": {
    "height": "646.8px",
    "left": "0px",
    "right": "1324px",
    "top": "135.2px",
    "width": "212px"
   },
   "toc_section_display": "block",
   "toc_window_display": false
  }
 },
 "nbformat": 4,
 "nbformat_minor": 2
}

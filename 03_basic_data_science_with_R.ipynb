{
 "cells": [
  {
   "cell_type": "code",
   "execution_count": 9,
   "metadata": {},
   "outputs": [],
   "source": [
    "options(jupyter.rich_display = FALSE)"
   ]
  },
  {
   "cell_type": "markdown",
   "metadata": {},
   "source": [
    "# Basic data science with R"
   ]
  },
  {
   "cell_type": "markdown",
   "metadata": {},
   "source": [
    "## Reshaping data"
   ]
  },
  {
   "cell_type": "markdown",
   "metadata": {},
   "source": [
    "Multivariate data can be represented in wide or long format:\n",
    "\n",
    "- Reshaping a data in wide format into a long format is known as \"melting\"\n",
    "- Reshaping a data in long format into a wide format is known as \"casting\"\n",
    "\n",
    "Different shapes of data can be utilized for specific purposes"
   ]
  },
  {
   "cell_type": "markdown",
   "metadata": {},
   "source": [
    "### Melting"
   ]
  },
  {
   "cell_type": "markdown",
   "metadata": {},
   "source": [
    "A chessboard is in a 8x8 shape"
   ]
  },
  {
   "cell_type": "markdown",
   "metadata": {},
   "source": [
    "Suppose we have a chessboard with random configuration: Each of the 32 pieces by any player is given a unique number and empty squares are 0:"
   ]
  },
  {
   "cell_type": "markdown",
   "metadata": {},
   "source": [
    "First create a random vector:"
   ]
  },
  {
   "cell_type": "code",
   "execution_count": 11,
   "metadata": {},
   "outputs": [
    {
     "data": {
      "text/plain": [
       " [1]  0 20 18  0 28  0 27  4  0  0  0 17 32  0  0 26  0  2 12  0 31  0  8 14 29\n",
       "[26]  3  9  0 24  0  0  0 10  0  0  0  0  0 16 22 19  0  5  0  0  0  0  0 11  0\n",
       "[51]  0  0 25  7  1 15  0 23 30  0  0  6 13 21"
      ]
     },
     "metadata": {},
     "output_type": "display_data"
    }
   ],
   "source": [
    "chess_vec <- integer(64)\n",
    "chess_vec[1:32] <- 1:32\n",
    "chess_vec_r <- sample(chess_vec)\n",
    "chess_vec_r"
   ]
  },
  {
   "cell_type": "markdown",
   "metadata": {},
   "source": [
    "And convert to a matrix:"
   ]
  },
  {
   "cell_type": "code",
   "execution_count": 10,
   "metadata": {},
   "outputs": [
    {
     "data": {
      "text/plain": [
       "     [,1] [,2] [,3] [,4] [,5] [,6] [,7] [,8]\n",
       "[1,]  0   19   20   4    22   11    0    6  \n",
       "[2,] 24    0   15   0     7    8    1    0  \n",
       "[3,]  0    0    0   0    31   16    0   26  \n",
       "[4,] 14    0    5   0    13   25    0    0  \n",
       "[5,]  0   18    3   9     0   32   27    0  \n",
       "[6,]  0   17    0   0     2    0   28   23  \n",
       "[7,]  0    0    0   0     0   21    0   30  \n",
       "[8,] 10    0    0   0     0    0   29   12  "
      ]
     },
     "metadata": {},
     "output_type": "display_data"
    }
   ],
   "source": [
    "chess_mat <- matrix(chess_vec_r, nrow = 8)\n",
    "chess_mat"
   ]
  },
  {
   "cell_type": "code",
   "execution_count": 19,
   "metadata": {},
   "outputs": [],
   "source": [
    "chess_df <- as.data.frame(chess_mat)\n",
    "chess_df"
   ]
  },
  {
   "cell_type": "markdown",
   "metadata": {},
   "source": [
    "Our task is to create a function to convert this matrix into a format in which we have three columns:\n",
    "- One for the row index of the original matrix\n",
    "- One for the column index of the original matrix\n",
    "- One for the value"
   ]
  },
  {
   "cell_type": "markdown",
   "metadata": {},
   "source": [
    "We will use the base function reshape()"
   ]
  },
  {
   "cell_type": "code",
   "execution_count": 12,
   "metadata": {},
   "outputs": [],
   "source": [
    "?reshape"
   ]
  },
  {
   "cell_type": "markdown",
   "metadata": {},
   "source": [
    "```\n",
    "reshape(data, varying = NULL, v.names = NULL, timevar = \"time\",\n",
    "             idvar = \"id\", ids = 1:NROW(data),\n",
    "             times = seq_along(varying[[1]]),\n",
    "             drop = NULL, direction, new.row.names = NULL,\n",
    "             sep = \".\",\n",
    "             split = if (sep == \"\") {\n",
    "                 list(regexp = \"[A-Za-z][0-9]\", include = TRUE)\n",
    "             } else {\n",
    "                 list(regexp = sep, include = FALSE, fixed = TRUE)}\n",
    "             )\n",
    "     \n",
    "Arguments:\n",
    "\n",
    "    data: a data frame\n",
    "\n",
    " varying: names of sets of variables in the wide format that correspond\n",
    "          to single variables in long format (‘time-varying’).  This is\n",
    "          canonically a list of vectors of variable names, but it can\n",
    "          optionally be a matrix of names, or a single vector of names.\n",
    "          In each case, the names can be replaced by indices which are\n",
    "          interpreted as referring to ‘names(data)’.  See ‘Details’ for\n",
    "          more details and options.\n",
    "\n",
    " v.names: names of variables in the long format that correspond to\n",
    "          multiple variables in the wide format.  See ‘Details’.\n",
    "\n",
    " timevar: the variable in long format that differentiates multiple\n",
    "          records from the same group or individual.  If more than one\n",
    "          record matches, the first will be taken (with a warning).\n",
    "\n",
    "   idvar: Names of one or more variables in long format that identify\n",
    "          multiple records from the same group/individual.  These\n",
    "          variables may also be present in wide format.\n",
    "\n",
    "     ids: the values to use for a newly created ‘idvar’ variable in\n",
    "          long format.\n",
    "\n",
    "   times: the values to use for a newly created ‘timevar’ variable in\n",
    "          long format.  See ‘Details’.\n",
    "\n",
    "    drop: a vector of names of variables to drop before reshaping.\n",
    "\n",
    "direction: character string, partially matched to either ‘\"wide\"’ to\n",
    "          reshape to wide format, or ‘\"long\"’ to reshape to long\n",
    "          format.\n",
    "```"
   ]
  },
  {
   "cell_type": "markdown",
   "metadata": {},
   "source": [
    "First, let's convert the matrix into a data.frame:"
   ]
  },
  {
   "cell_type": "code",
   "execution_count": 21,
   "metadata": {},
   "outputs": [
    {
     "data": {
      "text/plain": [
       "  V1 V2 V3 V4 V5 V6 V7 V8\n",
       "1  0 19 20 4  22 11  0  6\n",
       "2 24  0 15 0   7  8  1  0\n",
       "3  0  0  0 0  31 16  0 26\n",
       "4 14  0  5 0  13 25  0  0\n",
       "5  0 18  3 9   0 32 27  0\n",
       "6  0 17  0 0   2  0 28 23\n",
       "7  0  0  0 0   0 21  0 30\n",
       "8 10  0  0 0   0  0 29 12"
      ]
     },
     "metadata": {},
     "output_type": "display_data"
    }
   ],
   "source": [
    "chess_df <- as.data.frame(chess_mat)\n",
    "chess_df"
   ]
  },
  {
   "cell_type": "markdown",
   "metadata": {},
   "source": [
    "- idvar is the variable which need to be left unaltered\n",
    "- varying are the ones that needs to converted from wide to long\n",
    "- v.names are the values that should be against the times in the resultant data frame.\n",
    "- new.row.names is used to assign row names to the resultant dataset\n",
    "- direction is, to which format the data needs to be transformed"
   ]
  },
  {
   "cell_type": "code",
   "execution_count": 41,
   "metadata": {},
   "outputs": [],
   "source": [
    "chess_long <- reshape(chess_df,\n",
    "                      idvar = \"rows\",\n",
    "                      varying = 1:8,\n",
    "                      v.name = \"piece\",\n",
    "                      direction = \"long\")"
   ]
  },
  {
   "cell_type": "code",
   "execution_count": 37,
   "metadata": {},
   "outputs": [
    {
     "data": {
      "text/plain": [
       "    cols piece rows\n",
       "1.1 1     0    1   \n",
       "2.1 1    24    2   \n",
       "3.1 1     0    3   \n",
       "4.1 1    14    4   \n",
       "5.1 1     0    5   \n",
       "6.1 1     0    6   \n",
       "7.1 1     0    7   \n",
       "8.1 1    10    8   \n",
       "1.2 2    19    1   \n",
       "2.2 2     0    2   \n",
       "3.2 2     0    3   \n",
       "4.2 2     0    4   \n",
       "5.2 2    18    5   \n",
       "6.2 2    17    6   \n",
       "7.2 2     0    7   \n",
       "8.2 2     0    8   \n",
       "1.3 3    20    1   \n",
       "2.3 3    15    2   \n",
       "3.3 3     0    3   \n",
       "4.3 3     5    4   \n",
       "5.3 3     3    5   \n",
       "6.3 3     0    6   \n",
       "7.3 3     0    7   \n",
       "8.3 3     0    8   \n",
       "1.4 4     4    1   \n",
       "2.4 4     0    2   \n",
       "3.4 4     0    3   \n",
       "4.4 4     0    4   \n",
       "5.4 4     9    5   \n",
       "6.4 4     0    6   \n",
       "⋮   ⋮    ⋮     ⋮   \n",
       "3.5 5    31    3   \n",
       "4.5 5    13    4   \n",
       "5.5 5     0    5   \n",
       "6.5 5     2    6   \n",
       "7.5 5     0    7   \n",
       "8.5 5     0    8   \n",
       "1.6 6    11    1   \n",
       "2.6 6     8    2   \n",
       "3.6 6    16    3   \n",
       "4.6 6    25    4   \n",
       "5.6 6    32    5   \n",
       "6.6 6     0    6   \n",
       "7.6 6    21    7   \n",
       "8.6 6     0    8   \n",
       "1.7 7     0    1   \n",
       "2.7 7     1    2   \n",
       "3.7 7     0    3   \n",
       "4.7 7     0    4   \n",
       "5.7 7    27    5   \n",
       "6.7 7    28    6   \n",
       "7.7 7     0    7   \n",
       "8.7 7    29    8   \n",
       "1.8 8     6    1   \n",
       "2.8 8     0    2   \n",
       "3.8 8    26    3   \n",
       "4.8 8     0    4   \n",
       "5.8 8     0    5   \n",
       "6.8 8    23    6   \n",
       "7.8 8    30    7   \n",
       "8.8 8    12    8   "
      ]
     },
     "metadata": {},
     "output_type": "display_data"
    }
   ],
   "source": [
    "chess_long"
   ]
  },
  {
   "cell_type": "markdown",
   "metadata": {},
   "source": [
    "We can change the default name of column \"time\" to \"cols\" and rearrange the columns: "
   ]
  },
  {
   "cell_type": "code",
   "execution_count": 42,
   "metadata": {},
   "outputs": [
    {
     "data": {
      "text/plain": [
       "    cols rows piece\n",
       "1.1 1    1     0   \n",
       "2.1 1    2    24   \n",
       "3.1 1    3     0   \n",
       "4.1 1    4    14   \n",
       "5.1 1    5     0   \n",
       "6.1 1    6     0   \n",
       "7.1 1    7     0   \n",
       "8.1 1    8    10   \n",
       "1.2 2    1    19   \n",
       "2.2 2    2     0   \n",
       "3.2 2    3     0   \n",
       "4.2 2    4     0   \n",
       "5.2 2    5    18   \n",
       "6.2 2    6    17   \n",
       "7.2 2    7     0   \n",
       "8.2 2    8     0   \n",
       "1.3 3    1    20   \n",
       "2.3 3    2    15   \n",
       "3.3 3    3     0   \n",
       "4.3 3    4     5   \n",
       "5.3 3    5     3   \n",
       "6.3 3    6     0   \n",
       "7.3 3    7     0   \n",
       "8.3 3    8     0   \n",
       "1.4 4    1     4   \n",
       "2.4 4    2     0   \n",
       "3.4 4    3     0   \n",
       "4.4 4    4     0   \n",
       "5.4 4    5     9   \n",
       "6.4 4    6     0   \n",
       "⋮   ⋮    ⋮    ⋮    \n",
       "3.5 5    3    31   \n",
       "4.5 5    4    13   \n",
       "5.5 5    5     0   \n",
       "6.5 5    6     2   \n",
       "7.5 5    7     0   \n",
       "8.5 5    8     0   \n",
       "1.6 6    1    11   \n",
       "2.6 6    2     8   \n",
       "3.6 6    3    16   \n",
       "4.6 6    4    25   \n",
       "5.6 6    5    32   \n",
       "6.6 6    6     0   \n",
       "7.6 6    7    21   \n",
       "8.6 6    8     0   \n",
       "1.7 7    1     0   \n",
       "2.7 7    2     1   \n",
       "3.7 7    3     0   \n",
       "4.7 7    4     0   \n",
       "5.7 7    5    27   \n",
       "6.7 7    6    28   \n",
       "7.7 7    7     0   \n",
       "8.7 7    8    29   \n",
       "1.8 8    1     6   \n",
       "2.8 8    2     0   \n",
       "3.8 8    3    26   \n",
       "4.8 8    4     0   \n",
       "5.8 8    5     0   \n",
       "6.8 8    6    23   \n",
       "7.8 8    7    30   \n",
       "8.8 8    8    12   "
      ]
     },
     "metadata": {},
     "output_type": "display_data"
    }
   ],
   "source": [
    "names(chess_long)[1] <- \"cols\"\n",
    "chess_long <- chess_long[,c(\"cols\", \"rows\", \"piece\")]\n",
    "chess_long"
   ]
  },
  {
   "cell_type": "markdown",
   "metadata": {},
   "source": [
    "### Casting"
   ]
  },
  {
   "cell_type": "markdown",
   "metadata": {},
   "source": [
    "Now let's convert the long chessboard back to a wide 8x8 one:\n",
    "\n",
    "- idvar is the variable which need to be left unaltered\n",
    "- timevar are the variables that needs to converted to wide format\n",
    "- v.names are the value variable\n",
    "- direction is, to which format the data needs to be transformed"
   ]
  },
  {
   "cell_type": "code",
   "execution_count": 51,
   "metadata": {},
   "outputs": [
    {
     "data": {
      "text/plain": [
       "    rows piece.1 piece.2 piece.3 piece.4 piece.5 piece.6 piece.7 piece.8\n",
       "1.1 1     0      19      20      4       22      11       0       6     \n",
       "2.1 2    24       0      15      0        7       8       1       0     \n",
       "3.1 3     0       0       0      0       31      16       0      26     \n",
       "4.1 4    14       0       5      0       13      25       0       0     \n",
       "5.1 5     0      18       3      9        0      32      27       0     \n",
       "6.1 6     0      17       0      0        2       0      28      23     \n",
       "7.1 7     0       0       0      0        0      21       0      30     \n",
       "8.1 8    10       0       0      0        0       0      29      12     "
      ]
     },
     "metadata": {},
     "output_type": "display_data"
    }
   ],
   "source": [
    "chess_wide <- reshape(chess_long,\n",
    "       idvar = \"rows\",\n",
    "       v.names = \"piece\",\n",
    "       timevar = \"cols\",\n",
    "       direction = \"wide\")\n",
    "\n",
    "chess_wide"
   ]
  },
  {
   "cell_type": "markdown",
   "metadata": {},
   "source": [
    "We delete the first column, which is unneccessary in our example:"
   ]
  },
  {
   "cell_type": "code",
   "execution_count": 52,
   "metadata": {},
   "outputs": [
    {
     "data": {
      "text/plain": [
       "    piece.1 piece.2 piece.3 piece.4 piece.5 piece.6 piece.7 piece.8\n",
       "1.1  0      19      20      4       22      11       0       6     \n",
       "2.1 24       0      15      0        7       8       1       0     \n",
       "3.1  0       0       0      0       31      16       0      26     \n",
       "4.1 14       0       5      0       13      25       0       0     \n",
       "5.1  0      18       3      9        0      32      27       0     \n",
       "6.1  0      17       0      0        2       0      28      23     \n",
       "7.1  0       0       0      0        0      21       0      30     \n",
       "8.1 10       0       0      0        0       0      29      12     "
      ]
     },
     "metadata": {},
     "output_type": "display_data"
    }
   ],
   "source": [
    "chess_wide <- chess_wide[,-1]\n",
    "chess_wide"
   ]
  },
  {
   "cell_type": "markdown",
   "metadata": {},
   "source": [
    "and let's compare whether all values are unchanged vis-a-vis the original object:"
   ]
  },
  {
   "cell_type": "code",
   "execution_count": 54,
   "metadata": {},
   "outputs": [
    {
     "data": {
      "text/plain": [
       "[1] TRUE"
      ]
     },
     "metadata": {},
     "output_type": "display_data"
    }
   ],
   "source": [
    "all(chess_wide == chess_mat)"
   ]
  },
  {
   "cell_type": "markdown",
   "metadata": {},
   "source": [
    "### Real data example: Reshaping IMF WEO database"
   ]
  },
  {
   "cell_type": "markdown",
   "metadata": {},
   "source": [
    "First read the tsv data into R using read.delim() function (a read.table wrapper for tsv files):"
   ]
  },
  {
   "cell_type": "code",
   "execution_count": 203,
   "metadata": {},
   "outputs": [],
   "source": [
    "?read.table"
   ]
  },
  {
   "cell_type": "code",
   "execution_count": 216,
   "metadata": {},
   "outputs": [],
   "source": [
    "#weo <- read.table(\"data/WEO_Data.xls\", sep = \"\\t\", header = T, na.strings = c(\"n/a\", \"--\", \"\"), stringsAsFactors = T, dec = \".\")\n",
    "weo <- read.delim(\"data/WEO_Data.xls\", na.strings = c(\"n/a\", \"--\", \"\"), stringsAsFactors = T, dec = \".\")\n",
    "#weo <- read.delim(\"~/Downloads/WEO_Data.xls\", na.strings = c(\"n/a\", \"--\", \"\"), stringsAsFactors = T, dec = \".\")"
   ]
  },
  {
   "cell_type": "markdown",
   "metadata": {},
   "source": [
    "Let's view the structure of the data:"
   ]
  },
  {
   "cell_type": "code",
   "execution_count": 219,
   "metadata": {},
   "outputs": [
    {
     "name": "stdout",
     "output_type": "stream",
     "text": [
      "'data.frame':\t8730 obs. of  52 variables:\n",
      " $ WEO.Country.Code     : int  512 512 512 512 512 512 512 512 512 512 ...\n",
      " $ ISO                  : Factor w/ 194 levels \"ABW\",\"AFG\",\"AGO\",..: 2 2 2 2 2 2 2 2 2 2 ...\n",
      " $ WEO.Subject.Code     : Factor w/ 45 levels \"BCA\",\"BCA_NGDPD\",..: 25 26 22 27 39 23 30 31 29 28 ...\n",
      " $ Country              : Factor w/ 194 levels \"Afghanistan\",..: 1 1 1 1 1 1 1 1 1 1 ...\n",
      " $ Subject.Descriptor   : Factor w/ 29 levels \"Current account balance\",..: 14 14 15 15 15 16 12 12 13 13 ...\n",
      " $ Units                : Factor w/ 12 levels \"Index\",\"National currency\",..: 2 5 2 12 11 1 2 10 2 12 ...\n",
      " $ Scale                : Factor w/ 3 levels \"Billions\",\"Millions\",..: 1 NA 1 1 1 NA 3 3 3 3 ...\n",
      " $ X1980                : num  NA NA NA NA NA NA NA NA NA NA ...\n",
      " $ X1981                : num  NA NA NA NA NA NA NA NA NA NA ...\n",
      " $ X1982                : num  NA NA NA NA NA NA NA NA NA NA ...\n",
      " $ X1983                : num  NA NA NA NA NA NA NA NA NA NA ...\n",
      " $ X1984                : num  NA NA NA NA NA NA NA NA NA NA ...\n",
      " $ X1985                : num  NA NA NA NA NA NA NA NA NA NA ...\n",
      " $ X1986                : num  NA NA NA NA NA NA NA NA NA NA ...\n",
      " $ X1987                : num  NA NA NA NA NA NA NA NA NA NA ...\n",
      " $ X1988                : num  NA NA NA NA NA NA NA NA NA NA ...\n",
      " $ X1989                : num  NA NA NA NA NA NA NA NA NA NA ...\n",
      " $ X1990                : num  NA NA NA NA NA NA NA NA NA NA ...\n",
      " $ X1991                : num  NA NA NA NA NA NA NA NA NA NA ...\n",
      " $ X1992                : num  NA NA NA NA NA NA NA NA NA NA ...\n",
      " $ X1993                : num  NA NA NA NA NA NA NA NA NA NA ...\n",
      " $ X1994                : num  NA NA NA NA NA NA NA NA NA NA ...\n",
      " $ X1995                : num  NA NA NA NA NA NA NA NA NA NA ...\n",
      " $ X1996                : num  NA NA NA NA NA NA NA NA NA NA ...\n",
      " $ X1997                : num  NA NA NA NA NA NA NA NA NA NA ...\n",
      " $ X1998                : num  NA NA NA NA NA NA NA NA NA NA ...\n",
      " $ X1999                : num  NA NA NA NA NA NA NA NA NA NA ...\n",
      " $ X2000                : num  NA NA NA NA NA NA NA NA NA NA ...\n",
      " $ X2001                : num  NA NA NA NA NA NA NA NA NA NA ...\n",
      " $ X2002                : num  182.84 NA 178.76 4.37 18.84 ...\n",
      " $ X2003                : num  198.74 8.69 220.01 4.55 20.85 ...\n",
      " $ X2004                : num  200.069 0.671 246.21 5.146 21.557 ...\n",
      " $ X2005                : num  223.74 11.83 304.93 6.17 24.86 ...\n",
      " $ X2006                : num  235.73 5.36 345.82 6.92 26.98 ...\n",
      " $ X2007                : num  267.18 13.34 427.5 8.56 31.4 ...\n",
      " $ X2008                : num  277.5 3.86 517.51 10.3 33.25 ...\n",
      " $ X2009                : num  334.6 20.6 607.2 12.1 40.4 ...\n",
      " $ X2010                : num  362.86 8.44 711.76 15.32 44.32 ...\n",
      " $ X2011                : num  386.37 6.48 836.22 17.89 48.18 ...\n",
      " $ X2012                : num  440.3 14 1033.6 20.3 56 ...\n",
      " $ X2013                : num  465.36 5.68 1116.83 20.17 60.18 ...\n",
      " $ X2014                : num  477.9 2.7 1183 20.6 63 ...\n",
      " $ X2015                : num  482.629 0.988 1226.57 20.057 64.276 ...\n",
      " $ X2016                : num  493.07 2.16 1318.48 19.43 66.38 ...\n",
      " $ X2017                : num  506.21 2.67 1377.54 20.23 69.45 ...\n",
      " $ X2018                : num  517.9 2.3 1451.6 20.4 72.7 ...\n",
      " $ X2019                : num  533.52 3.02 1555.42 21.07 76.49 ...\n",
      " $ X2020                : num  552.31 3.52 1691.37 22.31 80.69 ...\n",
      " $ X2021                : num  574.5 4.02 1847.39 23.8 85.5 ...\n",
      " $ X2022                : num  600.44 4.51 2027.43 25.58 91.02 ...\n",
      " $ X2023                : num  630.53 5.01 2235.55 27.62 97.43 ...\n",
      " $ Estimates.Start.After: int  2016 2016 2016 2016 2016 2016 2016 2016 2016 2016 ...\n"
     ]
    }
   ],
   "source": [
    "str(weo)"
   ]
  },
  {
   "cell_type": "markdown",
   "metadata": {},
   "source": [
    "Let's get the names and indices of factor variables:"
   ]
  },
  {
   "cell_type": "code",
   "execution_count": 220,
   "metadata": {},
   "outputs": [
    {
     "data": {
      "text/plain": [
       "               ISO   WEO.Subject.Code            Country Subject.Descriptor \n",
       "                 2                  3                  4                  5 \n",
       "             Units              Scale \n",
       "                 6                  7 "
      ]
     },
     "metadata": {},
     "output_type": "display_data"
    }
   ],
   "source": [
    "factors <- which(sapply(weo, is.factor))\n",
    "factors"
   ]
  },
  {
   "cell_type": "markdown",
   "metadata": {},
   "source": [
    "And get the unique values (or levels) of each of these factor variables:"
   ]
  },
  {
   "cell_type": "code",
   "execution_count": 221,
   "metadata": {},
   "outputs": [
    {
     "data": {
      "text/plain": [
       "$ISO\n",
       "  [1] \"ABW\" \"AFG\" \"AGO\" \"ALB\" \"ARE\" \"ARG\" \"ARM\" \"ATG\" \"AUS\" \"AUT\" \"AZE\" \"BDI\"\n",
       " [13] \"BEL\" \"BEN\" \"BFA\" \"BGD\" \"BGR\" \"BHR\" \"BHS\" \"BIH\" \"BLR\" \"BLZ\" \"BOL\" \"BRA\"\n",
       " [25] \"BRB\" \"BRN\" \"BTN\" \"BWA\" \"CAF\" \"CAN\" \"CHE\" \"CHL\" \"CHN\" \"CIV\" \"CMR\" \"COD\"\n",
       " [37] \"COG\" \"COL\" \"COM\" \"CPV\" \"CRI\" \"CYP\" \"CZE\" \"DEU\" \"DJI\" \"DMA\" \"DNK\" \"DOM\"\n",
       " [49] \"DZA\" \"ECU\" \"EGY\" \"ERI\" \"ESP\" \"EST\" \"ETH\" \"FIN\" \"FJI\" \"FRA\" \"FSM\" \"GAB\"\n",
       " [61] \"GBR\" \"GEO\" \"GHA\" \"GIN\" \"GMB\" \"GNB\" \"GNQ\" \"GRC\" \"GRD\" \"GTM\" \"GUY\" \"HKG\"\n",
       " [73] \"HND\" \"HRV\" \"HTI\" \"HUN\" \"IDN\" \"IND\" \"IRL\" \"IRN\" \"IRQ\" \"ISL\" \"ISR\" \"ITA\"\n",
       " [85] \"JAM\" \"JOR\" \"JPN\" \"KAZ\" \"KEN\" \"KGZ\" \"KHM\" \"KIR\" \"KNA\" \"KOR\" \"KWT\" \"LAO\"\n",
       " [97] \"LBN\" \"LBR\" \"LBY\" \"LCA\" \"LKA\" \"LSO\" \"LTU\" \"LUX\" \"LVA\" \"MAC\" \"MAR\" \"MDA\"\n",
       "[109] \"MDG\" \"MDV\" \"MEX\" \"MHL\" \"MKD\" \"MLI\" \"MLT\" \"MMR\" \"MNE\" \"MNG\" \"MOZ\" \"MRT\"\n",
       "[121] \"MUS\" \"MWI\" \"MYS\" \"NAM\" \"NER\" \"NGA\" \"NIC\" \"NLD\" \"NOR\" \"NPL\" \"NRU\" \"NZL\"\n",
       "[133] \"OMN\" \"PAK\" \"PAN\" \"PER\" \"PHL\" \"PLW\" \"PNG\" \"POL\" \"PRI\" \"PRT\" \"PRY\" \"QAT\"\n",
       "[145] \"ROU\" \"RUS\" \"RWA\" \"SAU\" \"SDN\" \"SEN\" \"SGP\" \"SLB\" \"SLE\" \"SLV\" \"SMR\" \"SOM\"\n",
       "[157] \"SRB\" \"SSD\" \"STP\" \"SUR\" \"SVK\" \"SVN\" \"SWE\" \"SWZ\" \"SYC\" \"SYR\" \"TCD\" \"TGO\"\n",
       "[169] \"THA\" \"TJK\" \"TKM\" \"TLS\" \"TON\" \"TTO\" \"TUN\" \"TUR\" \"TUV\" \"TWN\" \"TZA\" \"UGA\"\n",
       "[181] \"UKR\" \"URY\" \"USA\" \"UVK\" \"UZB\" \"VCT\" \"VEN\" \"VNM\" \"VUT\" \"WSM\" \"YEM\" \"ZAF\"\n",
       "[193] \"ZMB\" \"ZWE\"\n",
       "\n",
       "$WEO.Subject.Code\n",
       " [1] \"BCA\"          \"BCA_NGDPD\"    \"FLIBOR6\"      \"GGR\"          \"GGR_NGDP\"    \n",
       " [6] \"GGSB\"         \"GGSB_NPGDP\"   \"GGX\"          \"GGX_NGDP\"     \"GGXCNL\"      \n",
       "[11] \"GGXCNL_NGDP\"  \"GGXONLB\"      \"GGXONLB_NGDP\" \"GGXWDG\"       \"GGXWDG_NGDP\" \n",
       "[16] \"GGXWDN\"       \"GGXWDN_NGDP\"  \"LE\"           \"LP\"           \"LUR\"         \n",
       "[21] \"NGAP_NPGDP\"   \"NGDP\"         \"NGDP_D\"       \"NGDP_FY\"      \"NGDP_R\"      \n",
       "[26] \"NGDP_RPCH\"    \"NGDPD\"        \"NGDPDPC\"      \"NGDPPC\"       \"NGDPRPC\"     \n",
       "[31] \"NGDPRPPPPC\"   \"NGSD_NGDP\"    \"NID_NGDP\"     \"PCPI\"         \"PCPIE\"       \n",
       "[36] \"PCPIEPCH\"     \"PCPIPCH\"      \"PPPEX\"        \"PPPGDP\"       \"PPPPC\"       \n",
       "[41] \"PPPSH\"        \"TM_RPCH\"      \"TMG_RPCH\"     \"TX_RPCH\"      \"TXG_RPCH\"    \n",
       "\n",
       "$Country\n",
       "  [1] \"Afghanistan\"                      \"Albania\"                         \n",
       "  [3] \"Algeria\"                          \"Angola\"                          \n",
       "  [5] \"Antigua and Barbuda\"              \"Argentina\"                       \n",
       "  [7] \"Armenia\"                          \"Aruba\"                           \n",
       "  [9] \"Australia\"                        \"Austria\"                         \n",
       " [11] \"Azerbaijan\"                       \"Bahrain\"                         \n",
       " [13] \"Bangladesh\"                       \"Barbados\"                        \n",
       " [15] \"Belarus\"                          \"Belgium\"                         \n",
       " [17] \"Belize\"                           \"Benin\"                           \n",
       " [19] \"Bhutan\"                           \"Bolivia\"                         \n",
       " [21] \"Bosnia and Herzegovina\"           \"Botswana\"                        \n",
       " [23] \"Brazil\"                           \"Brunei Darussalam\"               \n",
       " [25] \"Bulgaria\"                         \"Burkina Faso\"                    \n",
       " [27] \"Burundi\"                          \"C\\xf4te d'Ivoire\"                \n",
       " [29] \"Cabo Verde\"                       \"Cambodia\"                        \n",
       " [31] \"Cameroon\"                         \"Canada\"                          \n",
       " [33] \"Central African Republic\"         \"Chad\"                            \n",
       " [35] \"Chile\"                            \"China\"                           \n",
       " [37] \"Colombia\"                         \"Comoros\"                         \n",
       " [39] \"Costa Rica\"                       \"Croatia\"                         \n",
       " [41] \"Cyprus\"                           \"Czech Republic\"                  \n",
       " [43] \"Democratic Republic of the Congo\" \"Denmark\"                         \n",
       " [45] \"Djibouti\"                         \"Dominica\"                        \n",
       " [47] \"Dominican Republic\"               \"Ecuador\"                         \n",
       " [49] \"Egypt\"                            \"El Salvador\"                     \n",
       " [51] \"Equatorial Guinea\"                \"Eritrea\"                         \n",
       " [53] \"Estonia\"                          \"Eswatini\"                        \n",
       " [55] \"Ethiopia\"                         \"Fiji\"                            \n",
       " [57] \"Finland\"                          \"France\"                          \n",
       " [59] \"FYR Macedonia\"                    \"Gabon\"                           \n",
       " [61] \"Georgia\"                          \"Germany\"                         \n",
       " [63] \"Ghana\"                            \"Greece\"                          \n",
       " [65] \"Grenada\"                          \"Guatemala\"                       \n",
       " [67] \"Guinea\"                           \"Guinea-Bissau\"                   \n",
       " [69] \"Guyana\"                           \"Haiti\"                           \n",
       " [71] \"Honduras\"                         \"Hong Kong SAR\"                   \n",
       " [73] \"Hungary\"                          \"Iceland\"                         \n",
       " [75] \"India\"                            \"Indonesia\"                       \n",
       " [77] \"Iraq\"                             \"Ireland\"                         \n",
       " [79] \"Islamic Republic of Iran\"         \"Israel\"                          \n",
       " [81] \"Italy\"                            \"Jamaica\"                         \n",
       " [83] \"Japan\"                            \"Jordan\"                          \n",
       " [85] \"Kazakhstan\"                       \"Kenya\"                           \n",
       " [87] \"Kiribati\"                         \"Korea\"                           \n",
       " [89] \"Kosovo\"                           \"Kuwait\"                          \n",
       " [91] \"Kyrgyz Republic\"                  \"Lao P.D.R.\"                      \n",
       " [93] \"Latvia\"                           \"Lebanon\"                         \n",
       " [95] \"Lesotho\"                          \"Liberia\"                         \n",
       " [97] \"Libya\"                            \"Lithuania\"                       \n",
       " [99] \"Luxembourg\"                       \"Macao SAR\"                       \n",
       "[101] \"Madagascar\"                       \"Malawi\"                          \n",
       "[103] \"Malaysia\"                         \"Maldives\"                        \n",
       "[105] \"Mali\"                             \"Malta\"                           \n",
       "[107] \"Marshall Islands\"                 \"Mauritania\"                      \n",
       "[109] \"Mauritius\"                        \"Mexico\"                          \n",
       "[111] \"Micronesia\"                       \"Moldova\"                         \n",
       "[113] \"Mongolia\"                         \"Montenegro\"                      \n",
       "[115] \"Morocco\"                          \"Mozambique\"                      \n",
       "[117] \"Myanmar\"                          \"Namibia\"                         \n",
       "[119] \"Nauru\"                            \"Nepal\"                           \n",
       "[121] \"Netherlands\"                      \"New Zealand\"                     \n",
       "[123] \"Nicaragua\"                        \"Niger\"                           \n",
       "[125] \"Nigeria\"                          \"Norway\"                          \n",
       "[127] \"Oman\"                             \"Pakistan\"                        \n",
       "[129] \"Palau\"                            \"Panama\"                          \n",
       "[131] \"Papua New Guinea\"                 \"Paraguay\"                        \n",
       "[133] \"Peru\"                             \"Philippines\"                     \n",
       "[135] \"Poland\"                           \"Portugal\"                        \n",
       "[137] \"Puerto Rico\"                      \"Qatar\"                           \n",
       "[139] \"Republic of Congo\"                \"Romania\"                         \n",
       "[141] \"Russia\"                           \"Rwanda\"                          \n",
       "[143] \"S\\xe3o Tom\\xe9 and Pr\\xedncipe\"   \"Samoa\"                           \n",
       "[145] \"San Marino\"                       \"Saudi Arabia\"                    \n",
       "[147] \"Senegal\"                          \"Serbia\"                          \n",
       "[149] \"Seychelles\"                       \"Sierra Leone\"                    \n",
       "[151] \"Singapore\"                        \"Slovak Republic\"                 \n",
       "[153] \"Slovenia\"                         \"Solomon Islands\"                 \n",
       "[155] \"Somalia\"                          \"South Africa\"                    \n",
       "[157] \"South Sudan\"                      \"Spain\"                           \n",
       "[159] \"Sri Lanka\"                        \"St. Kitts and Nevis\"             \n",
       "[161] \"St. Lucia\"                        \"St. Vincent and the Grenadines\"  \n",
       "[163] \"Sudan\"                            \"Suriname\"                        \n",
       "[165] \"Sweden\"                           \"Switzerland\"                     \n",
       "[167] \"Syria\"                            \"Taiwan Province of China\"        \n",
       "[169] \"Tajikistan\"                       \"Tanzania\"                        \n",
       "[171] \"Thailand\"                         \"The Bahamas\"                     \n",
       "[173] \"The Gambia\"                       \"Timor-Leste\"                     \n",
       "[175] \"Togo\"                             \"Tonga\"                           \n",
       "[177] \"Trinidad and Tobago\"              \"Tunisia\"                         \n",
       "[179] \"Turkey\"                           \"Turkmenistan\"                    \n",
       "[181] \"Tuvalu\"                           \"Uganda\"                          \n",
       "[183] \"Ukraine\"                          \"United Arab Emirates\"            \n",
       "[185] \"United Kingdom\"                   \"United States\"                   \n",
       "[187] \"Uruguay\"                          \"Uzbekistan\"                      \n",
       "[189] \"Vanuatu\"                          \"Venezuela\"                       \n",
       "[191] \"Vietnam\"                          \"Yemen\"                           \n",
       "[193] \"Zambia\"                           \"Zimbabwe\"                        \n",
       "\n",
       "$Subject.Descriptor\n",
       " [1] \"Current account balance\"                                                           \n",
       " [2] \"Employment\"                                                                        \n",
       " [3] \"General government gross debt\"                                                     \n",
       " [4] \"General government net debt\"                                                       \n",
       " [5] \"General government net lending/borrowing\"                                          \n",
       " [6] \"General government primary net lending/borrowing\"                                  \n",
       " [7] \"General government revenue\"                                                        \n",
       " [8] \"General government structural balance\"                                             \n",
       " [9] \"General government total expenditure\"                                              \n",
       "[10] \"Gross domestic product based on purchasing-power-parity (PPP) share of world total\"\n",
       "[11] \"Gross domestic product corresponding to fiscal year, current prices\"               \n",
       "[12] \"Gross domestic product per capita, constant prices\"                                \n",
       "[13] \"Gross domestic product per capita, current prices\"                                 \n",
       "[14] \"Gross domestic product, constant prices\"                                           \n",
       "[15] \"Gross domestic product, current prices\"                                            \n",
       "[16] \"Gross domestic product, deflator\"                                                  \n",
       "[17] \"Gross national savings\"                                                            \n",
       "[18] \"Implied PPP conversion rate\"                                                       \n",
       "[19] \"Inflation, average consumer prices\"                                                \n",
       "[20] \"Inflation, end of period consumer prices\"                                          \n",
       "[21] \"Output gap in percent of potential GDP\"                                            \n",
       "[22] \"Population\"                                                                        \n",
       "[23] \"Six-month London interbank offered rate (LIBOR)\"                                   \n",
       "[24] \"Total investment\"                                                                  \n",
       "[25] \"Unemployment rate\"                                                                 \n",
       "[26] \"Volume of exports of goods\"                                                        \n",
       "[27] \"Volume of exports of goods and services\"                                           \n",
       "[28] \"Volume of Imports of goods\"                                                        \n",
       "[29] \"Volume of imports of goods and services\"                                           \n",
       "\n",
       "$Units\n",
       " [1] \"Index\"                                             \n",
       " [2] \"National currency\"                                 \n",
       " [3] \"National currency per current international dollar\"\n",
       " [4] \"Percent\"                                           \n",
       " [5] \"Percent change\"                                    \n",
       " [6] \"Percent of GDP\"                                    \n",
       " [7] \"Percent of potential GDP\"                          \n",
       " [8] \"Percent of total labor force\"                      \n",
       " [9] \"Persons\"                                           \n",
       "[10] \"Purchasing power parity; 2011 international dollar\"\n",
       "[11] \"Purchasing power parity; international dollars\"    \n",
       "[12] \"U.S. dollars\"                                      \n",
       "\n",
       "$Scale\n",
       "[1] \"Billions\" \"Millions\" \"Units\"   \n"
      ]
     },
     "metadata": {},
     "output_type": "display_data"
    }
   ],
   "source": [
    "lapply(weo[, factors], levels)"
   ]
  },
  {
   "cell_type": "markdown",
   "metadata": {},
   "source": [
    "#### Melting GDP per capita (PPP)"
   ]
  },
  {
   "cell_type": "markdown",
   "metadata": {},
   "source": [
    "Now we are concerned with only the NGDPRPPPPC series \"Purchasing power parity; 2011 international dollar\"\n",
    "\n",
    "So we filter the dataset:"
   ]
  },
  {
   "cell_type": "code",
   "execution_count": 222,
   "metadata": {},
   "outputs": [],
   "source": [
    "weo_ppp <- weo[weo$WEO.Subject.Code == \"NGDPRPPPPC\",]"
   ]
  },
  {
   "cell_type": "code",
   "execution_count": 223,
   "metadata": {},
   "outputs": [
    {
     "name": "stdout",
     "output_type": "stream",
     "text": [
      "'data.frame':\t194 obs. of  52 variables:\n",
      " $ WEO.Country.Code     : int  512 914 612 614 311 213 911 314 193 122 ...\n",
      " $ ISO                  : Factor w/ 194 levels \"ABW\",\"AFG\",\"AGO\",..: 2 4 49 3 8 6 7 1 9 10 ...\n",
      " $ WEO.Subject.Code     : Factor w/ 45 levels \"BCA\",\"BCA_NGDPD\",..: 31 31 31 31 31 31 31 31 31 31 ...\n",
      " $ Country              : Factor w/ 194 levels \"Afghanistan\",..: 1 2 3 4 5 6 7 8 9 10 ...\n",
      " $ Subject.Descriptor   : Factor w/ 29 levels \"Current account balance\",..: 12 12 12 12 12 12 12 12 12 12 ...\n",
      " $ Units                : Factor w/ 12 levels \"Index\",\"National currency\",..: 10 10 10 10 10 10 10 10 10 10 ...\n",
      " $ Scale                : Factor w/ 3 levels \"Billions\",\"Millions\",..: 3 3 3 3 3 3 3 3 3 3 ...\n",
      " $ X1980                : num  NA 4675 10804 5277 9082 ...\n",
      " $ X1981                : num  NA 4845 10793 4912 9503 ...\n",
      " $ X1982                : num  NA 4882 11127 4785 9605 ...\n",
      " $ X1983                : num  NA 4837 11355 4859 10268 ...\n",
      " $ X1984                : num  NA 4834 11618 5018 11497 ...\n",
      " $ X1985                : num  NA 4664 11702 4609 12586 ...\n",
      " $ X1986                : num  NA 4829 11371 4611 14281 ...\n",
      " $ X1987                : num  NA 4697 11002 4679 15496 ...\n",
      " $ X1988                : num  NA 4540 10479 4835 16550 ...\n",
      " $ X1989                : num  NA 4889 10716 4708 17580 ...\n",
      " $ X1990                : num  NA 4404 10662 4427 18127 ...\n",
      " $ X1991                : num  NA 3227 10279 4341 18372 ...\n",
      " $ X1992                : num  NA 3024 10194 3969 18285 ...\n",
      " $ X1993                : num  NA 3331 9749 2929 18825 ...\n",
      " $ X1994                : num  NA 3718 9449 2882 19574 ...\n",
      " $ X1995                : num  NA 4044 9616 3217 18228 ...\n",
      " $ X1996                : num  NA 4375 9804 3547 18908 ...\n",
      " $ X1997                : num  NA 3921 9749 3694 19393 ...\n",
      " $ X1998                : num  NA 4295 10085 3755 19771 ...\n",
      " $ X1999                : num  NA 4879 10249 3725 20009 ...\n",
      " $ X2000                : num  NA 5251 10450 3727 20906 ...\n",
      " $ X2001                : num  NA 5740 10607 3770 19532 ...\n",
      " $ X2002                : num  1027 6019 11037 4161 19524 ...\n",
      " $ X2003                : num  1072 6375 11657 4160 20488 ...\n",
      " $ X2004                : num  1039 6755 11978 4482 21435 ...\n",
      " $ X2005                : num  1122 7165 12496 5005 22565 ...\n",
      " $ X2006                : num  1147 7636 12517 5420 25168 ...\n",
      " $ X2007                : num  1252 8154 12746 6000 27207 ...\n",
      " $ X2008                : num  1268 8833 12770 6476 26910 ...\n",
      " $ X2009                : num  1490 9191 12729 6341 23400 ...\n",
      " $ X2010                : num  1571 9579 12929 6455 21485 ...\n",
      " $ X2011                : num  1622 9850 13027 6485 20813 ...\n",
      " $ X2012                : num  1789 10006 13189 6834 21311 ...\n",
      " $ X2013                : num  1829 10125 13274 6964 21065 ...\n",
      " $ X2014                : num  1819 10326 13491 7087 21904 ...\n",
      " $ X2015                : num  1784 10586 13693 6945 22550 ...\n",
      " $ X2016                : num  1774 10958 13854 6563 23504 ...\n",
      " $ X2017                : num  1777 11379 13786 6213 23893 ...\n",
      " $ X2018                : num  1793 11841 13868 6025 24467 ...\n",
      " $ X2019                : num  1822 12301 13991 6028 24932 ...\n",
      " $ X2020                : num  1861 12799 13997 6040 25284 ...\n",
      " $ X2021                : num  1910 13323 13920 6054 25515 ...\n",
      " $ X2022                : num  1969 13873 13798 6095 25748 ...\n",
      " $ X2023                : num  2040 14445 13651 6142 25984 ...\n",
      " $ Estimates.Start.After: int  2016 2011 2017 2015 2011 2016 2014 2017 2017 2017 ...\n"
     ]
    }
   ],
   "source": [
    "str(weo_ppp)"
   ]
  },
  {
   "cell_type": "markdown",
   "metadata": {},
   "source": [
    "Now we want a long DF of four columns: Country names, country codes, years and per capita gdp in ppp values "
   ]
  },
  {
   "cell_type": "code",
   "execution_count": 224,
   "metadata": {},
   "outputs": [
    {
     "data": {
      "text/plain": [
       " [1] \"WEO.Country.Code\"      \"ISO\"                   \"WEO.Subject.Code\"     \n",
       " [4] \"Country\"               \"Subject.Descriptor\"    \"Units\"                \n",
       " [7] \"Scale\"                 \"X1980\"                 \"X1981\"                \n",
       "[10] \"X1982\"                 \"X1983\"                 \"X1984\"                \n",
       "[13] \"X1985\"                 \"X1986\"                 \"X1987\"                \n",
       "[16] \"X1988\"                 \"X1989\"                 \"X1990\"                \n",
       "[19] \"X1991\"                 \"X1992\"                 \"X1993\"                \n",
       "[22] \"X1994\"                 \"X1995\"                 \"X1996\"                \n",
       "[25] \"X1997\"                 \"X1998\"                 \"X1999\"                \n",
       "[28] \"X2000\"                 \"X2001\"                 \"X2002\"                \n",
       "[31] \"X2003\"                 \"X2004\"                 \"X2005\"                \n",
       "[34] \"X2006\"                 \"X2007\"                 \"X2008\"                \n",
       "[37] \"X2009\"                 \"X2010\"                 \"X2011\"                \n",
       "[40] \"X2012\"                 \"X2013\"                 \"X2014\"                \n",
       "[43] \"X2015\"                 \"X2016\"                 \"X2017\"                \n",
       "[46] \"X2018\"                 \"X2019\"                 \"X2020\"                \n",
       "[49] \"X2021\"                 \"X2022\"                 \"X2023\"                \n",
       "[52] \"Estimates.Start.After\""
      ]
     },
     "metadata": {},
     "output_type": "display_data"
    }
   ],
   "source": [
    "names(weo_ppp)"
   ]
  },
  {
   "cell_type": "code",
   "execution_count": 225,
   "metadata": {},
   "outputs": [
    {
     "data": {
      "text/plain": [
       " [1] \"X1980\" \"X1981\" \"X1982\" \"X1983\" \"X1984\" \"X1985\" \"X1986\" \"X1987\" \"X1988\"\n",
       "[10] \"X1989\" \"X1990\" \"X1991\" \"X1992\" \"X1993\" \"X1994\" \"X1995\" \"X1996\" \"X1997\"\n",
       "[19] \"X1998\" \"X1999\" \"X2000\" \"X2001\" \"X2002\" \"X2003\" \"X2004\" \"X2005\" \"X2006\"\n",
       "[28] \"X2007\" \"X2008\" \"X2009\" \"X2010\" \"X2011\" \"X2012\" \"X2013\" \"X2014\" \"X2015\"\n",
       "[37] \"X2016\" \"X2017\" \"X2018\" \"X2019\" \"X2020\" \"X2021\" \"X2022\" \"X2023\""
      ]
     },
     "metadata": {},
     "output_type": "display_data"
    }
   ],
   "source": [
    "cols <- sprintf(\"X%s\", 1980:2023)\n",
    "cols"
   ]
  },
  {
   "cell_type": "code",
   "execution_count": 226,
   "metadata": {},
   "outputs": [],
   "source": [
    "weo_ppp_long <- reshape(weo_ppp,\n",
    "                      idvar = c(\"WEO.Country.Code\", \"Country\"),\n",
    "                      varying = cols,\n",
    "                        times = cols,\n",
    "                      v.name = \"NGDPRPPPPC\",\n",
    "                      direction = \"long\")"
   ]
  },
  {
   "cell_type": "code",
   "execution_count": 227,
   "metadata": {},
   "outputs": [
    {
     "name": "stdout",
     "output_type": "stream",
     "text": [
      "'data.frame':\t8536 obs. of  10 variables:\n",
      " $ WEO.Country.Code     : int  512 914 612 614 311 213 911 314 193 122 ...\n",
      " $ ISO                  : Factor w/ 194 levels \"ABW\",\"AFG\",\"AGO\",..: 2 4 49 3 8 6 7 1 9 10 ...\n",
      " $ WEO.Subject.Code     : Factor w/ 45 levels \"BCA\",\"BCA_NGDPD\",..: 31 31 31 31 31 31 31 31 31 31 ...\n",
      " $ Country              : Factor w/ 194 levels \"Afghanistan\",..: 1 2 3 4 5 6 7 8 9 10 ...\n",
      " $ Subject.Descriptor   : Factor w/ 29 levels \"Current account balance\",..: 12 12 12 12 12 12 12 12 12 12 ...\n",
      " $ Units                : Factor w/ 12 levels \"Index\",\"National currency\",..: 10 10 10 10 10 10 10 10 10 10 ...\n",
      " $ Scale                : Factor w/ 3 levels \"Billions\",\"Millions\",..: 3 3 3 3 3 3 3 3 3 3 ...\n",
      " $ Estimates.Start.After: int  2016 2011 2017 2015 2011 2016 2014 2017 2017 2017 ...\n",
      " $ time                 : chr  \"X1980\" \"X1980\" \"X1980\" \"X1980\" ...\n",
      " $ NGDPRPPPPC           : num  NA 4675 10804 5277 9082 ...\n",
      " - attr(*, \"reshapeLong\")=List of 4\n",
      "  ..$ varying:List of 1\n",
      "  .. ..$ NGDPRPPPPC: chr  \"X1980\" \"X1981\" \"X1982\" \"X1983\" ...\n",
      "  .. ..- attr(*, \"v.names\")= chr \"NGDPRPPPPC\"\n",
      "  .. ..- attr(*, \"times\")= chr  \"X1980\" \"X1981\" \"X1982\" \"X1983\" ...\n",
      "  ..$ v.names: chr \"NGDPRPPPPC\"\n",
      "  ..$ idvar  : chr  \"WEO.Country.Code\" \"Country\"\n",
      "  ..$ timevar: chr \"time\"\n"
     ]
    }
   ],
   "source": [
    "str(weo_ppp_long)"
   ]
  },
  {
   "cell_type": "markdown",
   "metadata": {},
   "source": [
    "We can clear rownames:"
   ]
  },
  {
   "cell_type": "code",
   "execution_count": 228,
   "metadata": {},
   "outputs": [],
   "source": [
    "rownames(weo_ppp_long) <- NULL"
   ]
  },
  {
   "cell_type": "code",
   "execution_count": 229,
   "metadata": {},
   "outputs": [
    {
     "data": {
      "text/plain": [
       "     Country                  WEO.Country.Code ISO time  NGDPRPPPPC\n",
       "1    Afghanistan              512              AFG X1980        NA \n",
       "2    Albania                  914              ALB X1980  4674.883 \n",
       "3    Algeria                  612              DZA X1980 10804.443 \n",
       "4    Angola                   614              AGO X1980  5276.667 \n",
       "5    Antigua and Barbuda      311              ATG X1980  9081.960 \n",
       "6    Argentina                213              ARG X1980 14709.172 \n",
       "7    Armenia                  911              ARM X1980        NA \n",
       "8    Aruba                    314              ABW X1980        NA \n",
       "9    Australia                193              AUS X1980 24398.012 \n",
       "10   Austria                  122              AUT X1980 26129.809 \n",
       "11   Azerbaijan               912              AZE X1980        NA \n",
       "12   The Bahamas              313              BHS X1980 27652.318 \n",
       "13   Bahrain                  419              BHR X1980 40934.983 \n",
       "14   Bangladesh               513              BGD X1980  1159.722 \n",
       "15   Barbados                 316              BRB X1980 14066.335 \n",
       "16   Belarus                  913              BLR X1980        NA \n",
       "17   Belgium                  124              BEL X1980 25189.821 \n",
       "18   Belize                   339              BLZ X1980  3183.026 \n",
       "19   Benin                    638              BEN X1980  1724.655 \n",
       "20   Bhutan                   514              BTN X1980  1102.657 \n",
       "21   Bolivia                  218              BOL X1980  4866.147 \n",
       "22   Bosnia and Herzegovina   963              BIH X1980        NA \n",
       "23   Botswana                 616              BWA X1980  4265.308 \n",
       "24   Brazil                   223              BRA X1980 11373.057 \n",
       "25   Brunei Darussalam        516              BRN X1980        NA \n",
       "26   Bulgaria                 918              BGR X1980 10374.302 \n",
       "27   Burkina Faso             748              BFA X1980   759.033 \n",
       "28   Burundi                  618              BDI X1980   790.190 \n",
       "29   Cabo Verde               624              CPV X1980  1857.407 \n",
       "30   Cambodia                 522              KHM X1980        NA \n",
       "⋮    ⋮                        ⋮                ⋮   ⋮     ⋮         \n",
       "8507 Sudan                    732              SDN X2023  3156.732 \n",
       "8508 Suriname                 366              SUR X2023 14517.698 \n",
       "8509 Sweden                   144              SWE X2023 49292.623 \n",
       "8510 Switzerland              146              CHE X2023 59165.627 \n",
       "8511 Syria                    463              SYR X2023        NA \n",
       "8512 Taiwan Province of China 528              TWN X2023 51794.699 \n",
       "8513 Tajikistan               923              TJK X2023  3393.110 \n",
       "8514 Tanzania                 738              TZA X2023  3795.574 \n",
       "8515 Thailand                 578              THA X2023 20247.901 \n",
       "8516 Timor-Leste              537              TLS X2023  3124.031 \n",
       "8517 Togo                     742              TGO X2023  1762.331 \n",
       "8518 Tonga                    866              TON X2023  6561.061 \n",
       "8519 Trinidad and Tobago      369              TTO X2023 30282.128 \n",
       "8520 Tunisia                  744              TUN X2023 12508.277 \n",
       "8521 Turkey                   186              TUR X2023 26072.259 \n",
       "8522 Turkmenistan             925              TKM X2023 21658.002 \n",
       "8523 Tuvalu                   869              TUV X2023  4327.978 \n",
       "8524 Uganda                   746              UGA X2023  2580.630 \n",
       "8525 Ukraine                  926              UKR X2023  9784.539 \n",
       "8526 United Arab Emirates     466              ARE X2023 63046.461 \n",
       "8527 United Kingdom           112              GBR X2023 42824.925 \n",
       "8528 United States            111              USA X2023 58800.370 \n",
       "8529 Uruguay                  298              URY X2023 23770.394 \n",
       "8530 Uzbekistan               927              UZB X2023  8211.536 \n",
       "8531 Vanuatu                  846              VUT X2023  2632.370 \n",
       "8532 Venezuela                299              VEN X2023  9325.787 \n",
       "8533 Vietnam                  582              VNM X2023  8692.397 \n",
       "8534 Yemen                    474              YEM X2023  2982.110 \n",
       "8535 Zambia                   754              ZMB X2023  3926.514 \n",
       "8536 Zimbabwe                 698              ZWE X2023  2347.893 "
      ]
     },
     "metadata": {},
     "output_type": "display_data"
    }
   ],
   "source": [
    "weo_ppp_long_2 <- weo_ppp_long[,c(\"Country\", \"WEO.Country.Code\", \"ISO\", \"time\", \"NGDPRPPPPC\")]\n",
    "weo_ppp_long_2"
   ]
  },
  {
   "cell_type": "markdown",
   "metadata": {},
   "source": [
    "We can convert year values from X1980 to 1980 and make them numeric:"
   ]
  },
  {
   "cell_type": "code",
   "execution_count": 230,
   "metadata": {},
   "outputs": [
    {
     "data": {
      "text/plain": [
       "     Country                  WEO.Country.Code ISO time NGDPRPPPPC\n",
       "1    Afghanistan              512              AFG 1980        NA \n",
       "2    Albania                  914              ALB 1980  4674.883 \n",
       "3    Algeria                  612              DZA 1980 10804.443 \n",
       "4    Angola                   614              AGO 1980  5276.667 \n",
       "5    Antigua and Barbuda      311              ATG 1980  9081.960 \n",
       "6    Argentina                213              ARG 1980 14709.172 \n",
       "7    Armenia                  911              ARM 1980        NA \n",
       "8    Aruba                    314              ABW 1980        NA \n",
       "9    Australia                193              AUS 1980 24398.012 \n",
       "10   Austria                  122              AUT 1980 26129.809 \n",
       "11   Azerbaijan               912              AZE 1980        NA \n",
       "12   The Bahamas              313              BHS 1980 27652.318 \n",
       "13   Bahrain                  419              BHR 1980 40934.983 \n",
       "14   Bangladesh               513              BGD 1980  1159.722 \n",
       "15   Barbados                 316              BRB 1980 14066.335 \n",
       "16   Belarus                  913              BLR 1980        NA \n",
       "17   Belgium                  124              BEL 1980 25189.821 \n",
       "18   Belize                   339              BLZ 1980  3183.026 \n",
       "19   Benin                    638              BEN 1980  1724.655 \n",
       "20   Bhutan                   514              BTN 1980  1102.657 \n",
       "21   Bolivia                  218              BOL 1980  4866.147 \n",
       "22   Bosnia and Herzegovina   963              BIH 1980        NA \n",
       "23   Botswana                 616              BWA 1980  4265.308 \n",
       "24   Brazil                   223              BRA 1980 11373.057 \n",
       "25   Brunei Darussalam        516              BRN 1980        NA \n",
       "26   Bulgaria                 918              BGR 1980 10374.302 \n",
       "27   Burkina Faso             748              BFA 1980   759.033 \n",
       "28   Burundi                  618              BDI 1980   790.190 \n",
       "29   Cabo Verde               624              CPV 1980  1857.407 \n",
       "30   Cambodia                 522              KHM 1980        NA \n",
       "⋮    ⋮                        ⋮                ⋮   ⋮    ⋮         \n",
       "8507 Sudan                    732              SDN 2023  3156.732 \n",
       "8508 Suriname                 366              SUR 2023 14517.698 \n",
       "8509 Sweden                   144              SWE 2023 49292.623 \n",
       "8510 Switzerland              146              CHE 2023 59165.627 \n",
       "8511 Syria                    463              SYR 2023        NA \n",
       "8512 Taiwan Province of China 528              TWN 2023 51794.699 \n",
       "8513 Tajikistan               923              TJK 2023  3393.110 \n",
       "8514 Tanzania                 738              TZA 2023  3795.574 \n",
       "8515 Thailand                 578              THA 2023 20247.901 \n",
       "8516 Timor-Leste              537              TLS 2023  3124.031 \n",
       "8517 Togo                     742              TGO 2023  1762.331 \n",
       "8518 Tonga                    866              TON 2023  6561.061 \n",
       "8519 Trinidad and Tobago      369              TTO 2023 30282.128 \n",
       "8520 Tunisia                  744              TUN 2023 12508.277 \n",
       "8521 Turkey                   186              TUR 2023 26072.259 \n",
       "8522 Turkmenistan             925              TKM 2023 21658.002 \n",
       "8523 Tuvalu                   869              TUV 2023  4327.978 \n",
       "8524 Uganda                   746              UGA 2023  2580.630 \n",
       "8525 Ukraine                  926              UKR 2023  9784.539 \n",
       "8526 United Arab Emirates     466              ARE 2023 63046.461 \n",
       "8527 United Kingdom           112              GBR 2023 42824.925 \n",
       "8528 United States            111              USA 2023 58800.370 \n",
       "8529 Uruguay                  298              URY 2023 23770.394 \n",
       "8530 Uzbekistan               927              UZB 2023  8211.536 \n",
       "8531 Vanuatu                  846              VUT 2023  2632.370 \n",
       "8532 Venezuela                299              VEN 2023  9325.787 \n",
       "8533 Vietnam                  582              VNM 2023  8692.397 \n",
       "8534 Yemen                    474              YEM 2023  2982.110 \n",
       "8535 Zambia                   754              ZMB 2023  3926.514 \n",
       "8536 Zimbabwe                 698              ZWE 2023  2347.893 "
      ]
     },
     "metadata": {},
     "output_type": "display_data"
    }
   ],
   "source": [
    "weo_ppp_long_2$time <- as.integer(gsub(\"X\", \"\", weo_ppp_long_2$time))\n",
    "weo_ppp_long_2"
   ]
  },
  {
   "cell_type": "markdown",
   "metadata": {},
   "source": [
    "#### Casting 2016 data"
   ]
  },
  {
   "cell_type": "markdown",
   "metadata": {},
   "source": [
    "Now let's select only a single year, e.g 2016 and create a wide matrix of subjects on the columns and countries on the rows:"
   ]
  },
  {
   "cell_type": "code",
   "execution_count": 231,
   "metadata": {},
   "outputs": [
    {
     "data": {
      "text/plain": [
       " [1] \"WEO.Country.Code\"      \"ISO\"                   \"WEO.Subject.Code\"     \n",
       " [4] \"Country\"               \"Subject.Descriptor\"    \"Units\"                \n",
       " [7] \"Scale\"                 \"X1980\"                 \"X1981\"                \n",
       "[10] \"X1982\"                 \"X1983\"                 \"X1984\"                \n",
       "[13] \"X1985\"                 \"X1986\"                 \"X1987\"                \n",
       "[16] \"X1988\"                 \"X1989\"                 \"X1990\"                \n",
       "[19] \"X1991\"                 \"X1992\"                 \"X1993\"                \n",
       "[22] \"X1994\"                 \"X1995\"                 \"X1996\"                \n",
       "[25] \"X1997\"                 \"X1998\"                 \"X1999\"                \n",
       "[28] \"X2000\"                 \"X2001\"                 \"X2002\"                \n",
       "[31] \"X2003\"                 \"X2004\"                 \"X2005\"                \n",
       "[34] \"X2006\"                 \"X2007\"                 \"X2008\"                \n",
       "[37] \"X2009\"                 \"X2010\"                 \"X2011\"                \n",
       "[40] \"X2012\"                 \"X2013\"                 \"X2014\"                \n",
       "[43] \"X2015\"                 \"X2016\"                 \"X2017\"                \n",
       "[46] \"X2018\"                 \"X2019\"                 \"X2020\"                \n",
       "[49] \"X2021\"                 \"X2022\"                 \"X2023\"                \n",
       "[52] \"Estimates.Start.After\""
      ]
     },
     "metadata": {},
     "output_type": "display_data"
    }
   ],
   "source": [
    "names(weo_ppp)"
   ]
  },
  {
   "cell_type": "code",
   "execution_count": 232,
   "metadata": {},
   "outputs": [],
   "source": [
    "weo_2016 <- weo[,c(names(weo_ppp)[1:7], \"X2016\")]"
   ]
  },
  {
   "cell_type": "code",
   "execution_count": 233,
   "metadata": {},
   "outputs": [
    {
     "name": "stdout",
     "output_type": "stream",
     "text": [
      "'data.frame':\t8730 obs. of  8 variables:\n",
      " $ WEO.Country.Code  : int  512 512 512 512 512 512 512 512 512 512 ...\n",
      " $ ISO               : Factor w/ 194 levels \"ABW\",\"AFG\",\"AGO\",..: 2 2 2 2 2 2 2 2 2 2 ...\n",
      " $ WEO.Subject.Code  : Factor w/ 45 levels \"BCA\",\"BCA_NGDPD\",..: 25 26 22 27 39 23 30 31 29 28 ...\n",
      " $ Country           : Factor w/ 194 levels \"Afghanistan\",..: 1 1 1 1 1 1 1 1 1 1 ...\n",
      " $ Subject.Descriptor: Factor w/ 29 levels \"Current account balance\",..: 14 14 15 15 15 16 12 12 13 13 ...\n",
      " $ Units             : Factor w/ 12 levels \"Index\",\"National currency\",..: 2 5 2 12 11 1 2 10 2 12 ...\n",
      " $ Scale             : Factor w/ 3 levels \"Billions\",\"Millions\",..: 1 NA 1 1 1 NA 3 3 3 3 ...\n",
      " $ X2016             : num  493.07 2.16 1318.48 19.43 66.38 ...\n"
     ]
    }
   ],
   "source": [
    "str(weo_2016)"
   ]
  },
  {
   "cell_type": "code",
   "execution_count": 234,
   "metadata": {},
   "outputs": [],
   "source": [
    "?reshape"
   ]
  },
  {
   "cell_type": "code",
   "execution_count": 235,
   "metadata": {},
   "outputs": [],
   "source": [
    "weo_2016_wide <- reshape(weo_2016,\n",
    "                      idvar = c(\"WEO.Country.Code\", \"Country\"),\n",
    "                      v.names = \"X2016\",\n",
    "                      timevar = \"WEO.Subject.Code\",\n",
    "                      drop = c(\"Subject.Descriptor\", \"Units\", \"Scale\"),\n",
    "                      direction = \"wide\")"
   ]
  },
  {
   "cell_type": "code",
   "execution_count": 236,
   "metadata": {},
   "outputs": [
    {
     "name": "stdout",
     "output_type": "stream",
     "text": [
      "'data.frame':\t194 obs. of  48 variables:\n",
      " $ WEO.Country.Code  : int  512 914 612 614 311 213 911 314 193 122 ...\n",
      " $ ISO               : Factor w/ 194 levels \"ABW\",\"AFG\",\"AGO\",..: 2 4 49 3 8 6 7 1 9 10 ...\n",
      " $ Country           : Factor w/ 194 levels \"Afghanistan\",..: 1 2 3 4 5 6 7 8 9 10 ...\n",
      " $ X2016.NGDP_R      : num  493.07 760.32 7270.16 1588.96 3.25 ...\n",
      " $ X2016.NGDP_RPCH   : num  2.16 3.35 3.2 -2.58 5.35 ...\n",
      " $ X2016.NGDP        : num  1318.48 1475.25 17525.1 16549.56 3.94 ...\n",
      " $ X2016.NGDPD       : num  19.43 11.88 160.13 101.12 1.46 ...\n",
      " $ X2016.PPPGDP      : num  66.38 34.03 609.7 194.89 2.29 ...\n",
      " $ X2016.NGDP_D      : num  267 194 241 1042 121 ...\n",
      " $ X2016.NGDPRPC     : num  14228 264357 178355 57774 35967 ...\n",
      " $ X2016.NGDPRPPPPC  : num  1774 10958 13854 6563 23504 ...\n",
      " $ X2016.NGDPPC      : num  38045 512934 429934 601737 43674 ...\n",
      " $ X2016.NGDPDPC     : num  561 4132 3928 3677 16176 ...\n",
      " $ X2016.PPPPC       : num  1916 11831 14958 7086 25376 ...\n",
      " $ X2016.NGAP_NPGDP  : num  NA NA NA NA NA ...\n",
      " $ X2016.PPPSH       : num  0.055 0.028 0.505 0.161 0.002 0.729 0.021 0.003 0.993 0.348 ...\n",
      " $ X2016.PPPEX       : num  19.86 43.36 28.74 84.92 1.72 ...\n",
      " $ X2016.NID_NGDP    : num  18.5 24.3 53.9 27.2 24.3 ...\n",
      " $ X2016.NGSD_NGDP   : num  25.8 16.7 37.4 24.5 24.5 ...\n",
      " $ X2016.PCPI        : num  106 101 184 194 134 ...\n",
      " $ X2016.PCPIPCH     : num  4.384 1.275 6.398 30.694 -0.489 ...\n",
      " $ X2016.PCPIE       : num  109 102 188 222 134 ...\n",
      " $ X2016.PCPIEPCH    : num  4.59 2.18 6.96 41.12 -1.12 ...\n",
      " $ X2016.FLIBOR6     : num  NA NA NA NA NA NA NA NA NA NA ...\n",
      " $ X2016.TM_RPCH     : num  -8.13 8.16 -2.29 -25.27 10.67 ...\n",
      " $ X2016.TMG_RPCH    : num  -7.27 9.23 -2.29 -32.29 10.78 ...\n",
      " $ X2016.TX_RPCH     : num  -16.439 10.283 9.612 -0.606 -0.444 ...\n",
      " $ X2016.TXG_RPCH    : num  11.425 -0.754 7.883 0.571 21.438 ...\n",
      " $ X2016.LUR         : num  NA 15.2 10.5 NA NA ...\n",
      " $ X2016.LE          : num  NA NA NA NA NA ...\n",
      " $ X2016.LP          : num  34.66 2.88 40.76 27.5 0.09 ...\n",
      " $ X2016.GGR         : num  344.327 403.131 5011.581 2899.97 0.951 ...\n",
      " $ X2016.GGR_NGDP    : num  26.1 27.3 28.6 17.5 24.1 ...\n",
      " $ X2016.GGX         : num  342.771 429.073 7297.494 3648.044 0.956 ...\n",
      " $ X2016.GGX_NGDP    : num  26 29.1 41.6 22 24.3 ...\n",
      " $ X2016.GGXCNL      : num  1.556 -25.941 -2285.913 -748.074 -0.006 ...\n",
      " $ X2016.GGXCNL_NGDP : num  0.118 -1.758 -13.044 -4.52 -0.143 ...\n",
      " $ X2016.GGSB        : num  NA NA NA -251 NA ...\n",
      " $ X2016.GGSB_NPGDP  : num  NA NA NA -1.21 NA ...\n",
      " $ X2016.GGXONLB     : num  2.35 10.318 -2298.13 -277.674 0.093 ...\n",
      " $ X2016.GGXONLB_NGDP: num  0.178 0.699 -13.113 -1.678 2.356 ...\n",
      " $ X2016.GGXWDN      : num  NA 1004 2334 NA NA ...\n",
      " $ X2016.GGXWDN_NGDP : num  NA 68 13.3 NA NA ...\n",
      " $ X2016.GGXWDG      : num  103.2 1079.7 3582.1 12454 3.4 ...\n",
      " $ X2016.GGXWDG_NGDP : num  7.82 73.19 20.44 75.25 86.22 ...\n",
      " $ X2016.NGDP_FY     : num  1318.48 1475.25 17525.1 16549.56 3.94 ...\n",
      " $ X2016.BCA         : num  1.409 -0.899 -26.473 -4.834 0.002 ...\n",
      " $ X2016.BCA_NGDPD   : num  7.253 -7.563 -16.532 -4.78 0.151 ...\n",
      " - attr(*, \"reshapeWide\")=List of 5\n",
      "  ..$ v.names: chr \"X2016\"\n",
      "  ..$ timevar: chr \"WEO.Subject.Code\"\n",
      "  ..$ idvar  : chr  \"WEO.Country.Code\" \"Country\"\n",
      "  ..$ times  : Factor w/ 45 levels \"BCA\",\"BCA_NGDPD\",..: 25 26 22 27 39 23 30 31 29 28 ...\n",
      "  ..$ varying: chr [1, 1:45] \"X2016.NGDP_R\" \"X2016.NGDP_RPCH\" \"X2016.NGDP\" \"X2016.NGDPD\" ...\n"
     ]
    }
   ],
   "source": [
    "str(weo_2016_wide)"
   ]
  },
  {
   "cell_type": "code",
   "execution_count": 237,
   "metadata": {},
   "outputs": [
    {
     "data": {
      "text/plain": [
       "     WEO.Country.Code ISO Country                  X2016.NGDP_R X2016.NGDP_RPCH\n",
       "1    512              AFG Afghanistan                493.073     2.164         \n",
       "46   914              ALB Albania                    760.317     3.352         \n",
       "91   612              DZA Algeria                   7270.163     3.200         \n",
       "136  614              AGO Angola                    1588.961    -2.580         \n",
       "181  311              ATG Antigua and Barbuda          3.247     5.348         \n",
       "226  213              ARG Argentina                  708.338    -1.823         \n",
       "271  911              ARM Armenia                   3367.848     0.261         \n",
       "316  314              ABW Aruba                        3.310    -0.124         \n",
       "361  193              AUS Australia                 1678.081     2.606         \n",
       "406  122              AUT Austria                    317.149     1.451         \n",
       "451  912              AZE Azerbaijan                  28.464    -3.100         \n",
       "496  313              BHS The Bahamas                 10.590    -1.690         \n",
       "541  419              BHR Bahrain                     11.973     3.462         \n",
       "586  513              BGD Bangladesh                9157.182     7.202         \n",
       "631  316              BRB Barbados                     9.245     2.273         \n",
       "676  913              BLR Belarus                     75.536    -2.526         \n",
       "721  124              BEL Belgium                    416.085     1.412         \n",
       "766  339              BLZ Belize                       2.809    -0.487         \n",
       "811  638              BEN Benin                     4094.926     3.969         \n",
       "856  514              BTN Bhutan                      61.668     7.316         \n",
       "901  218              BOL Bolivia                     44.374     4.264         \n",
       "946  963              BIH Bosnia and Herzegovina      27.971     3.215         \n",
       "991  616              BWA Botswana                    89.797     4.315         \n",
       "1036 223              BRA Brazil                    1151.607    -3.469         \n",
       "1081 516              BRN Brunei Darussalam           18.137    -2.465         \n",
       "1126 918              BGR Bulgaria                    83.905     3.941         \n",
       "1171 748              BFA Burkina Faso              4635.888     5.915         \n",
       "1216 618              BDI Burundi                   1723.917    -1.042         \n",
       "1261 624              CPV Cabo Verde                 146.899     4.706         \n",
       "1306 522              KHM Cambodia                 45999.749     6.953         \n",
       "⋮    ⋮                ⋮   ⋮                        ⋮            ⋮              \n",
       "7381 732              SDN Sudan                         21.722    2.994        \n",
       "7426 366              SUR Suriname                       9.426   -5.139        \n",
       "7471 144              SWE Sweden                      4484.096    2.684        \n",
       "7516 146              CHE Switzerland                  671.834    1.587        \n",
       "7561 463              SYR Syria                             NA       NA        \n",
       "7606 528              TWN Taiwan Province of China   15875.635    1.410        \n",
       "7651 923              TJK Tajikistan                     0.241    6.900        \n",
       "7696 738              TZA Tanzania                   47164.902    6.953        \n",
       "7741 578              THA Thailand                    9823.122    3.283        \n",
       "7786 537              TLS Timor-Leste                    1.694    5.321        \n",
       "7831 742              TGO Togo                        2102.745    5.100        \n",
       "7876 866              TON Tonga                          0.849    4.170        \n",
       "7921 369              TTO Trinidad and Tobago          158.899   -6.076        \n",
       "7966 744              TUN Tunisia                       69.683    1.108        \n",
       "8011 186              TUR Turkey                      1576.365    3.184        \n",
       "8056 925              TKM Turkmenistan                 100.343    6.200        \n",
       "8101 869              TUV Tuvalu                         0.038    3.035        \n",
       "8146 746              UGA Uganda                     55705.922    2.323        \n",
       "8191 926              UKR Ukraine                      985.299    2.441        \n",
       "8236 466              ARE United Arab Emirates        1411.057    2.988        \n",
       "8281 112              GBR United Kingdom              1969.524    1.789        \n",
       "8326 111              USA United States              17659.200    1.567        \n",
       "8371 298              URY Uruguay                      681.594    1.690        \n",
       "8416 927              UZB Uzbekistan                  1135.699    7.800        \n",
       "8461 846              VUT Vanuatu                       63.632    3.467        \n",
       "8506 299              VEN Venezuela                         NA  -16.456        \n",
       "8551 582              VNM Vietnam                  3054470.219    6.211        \n",
       "8596 474              YEM Yemen                        262.446  -13.621        \n",
       "8641 754              ZMB Zambia                       129.700    3.757        \n",
       "8686 698              ZWE Zimbabwe                      14.100    0.665        \n",
       "     X2016.NGDP  X2016.NGDPD X2016.PPPGDP X2016.NGDP_D X2016.NGDPRPC ⋯\n",
       "1     1318.478     19.428      66.384      267.400       14227.635   ⋯\n",
       "46    1475.251     11.885      34.027      194.031      264356.814   ⋯\n",
       "91   17525.100    160.130     609.703      241.055      178355.244   ⋯\n",
       "136  16549.565    101.124     194.886     1041.534       57774.086   ⋯\n",
       "181      3.942      1.460       2.291      121.429       35966.870   ⋯\n",
       "226   8188.749    554.107     879.799     1156.051       16246.257   ⋯\n",
       "271   5067.294     10.546      25.878      150.461     1126114.977   ⋯\n",
       "316      4.738      2.647       4.030      143.145       29984.334   ⋯\n",
       "361   1699.883   1264.524    1198.301      101.299       68822.495   ⋯\n",
       "406    353.297    390.961     420.099      111.398       36287.922   ⋯\n",
       "451     60.394     37.810     168.849      212.173        2932.769   ⋯\n",
       "496     11.839     11.839      11.664      111.791       28756.649   ⋯\n",
       "541     12.118     32.228      67.312      101.207        8409.884   ⋯\n",
       "586  18543.396    235.623     630.738      202.501       56696.232   ⋯\n",
       "631      9.681      4.841       5.129      104.724       32974.774   ⋯\n",
       "676     94.949     47.703     171.862      125.701        7952.790   ⋯\n",
       "721    422.677    467.738     510.527      101.584       36785.492   ⋯\n",
       "766      3.640      1.820       3.134      129.587        7472.974   ⋯\n",
       "811   5083.739      8.576      23.592      124.147      377913.594   ⋯\n",
       "856    140.380      2.117       6.585      227.637       77944.910   ⋯\n",
       "901    234.533     34.189      78.853      528.534        4072.420   ⋯\n",
       "946     29.899     16.910      42.729      106.892        7953.582   ⋯\n",
       "991    170.589     15.660      37.403      189.971       39905.289   ⋯\n",
       "1036  6257.777   1793.312    3156.151      543.395        5587.561   ⋯\n",
       "1081    15.748     11.399      32.801       86.829       42908.639   ⋯\n",
       "1126    94.130     53.236     145.420      112.186       11814.533   ⋯\n",
       "1171  6704.200     11.310      33.060      144.615      248620.647   ⋯\n",
       "1216  5192.319      3.138       7.857      301.193      163710.285   ⋯\n",
       "1261   165.782      1.664       3.564      112.855      276485.560   ⋯\n",
       "1306 81241.866     20.043      58.969      176.614     2915785.644   ⋯\n",
       "⋮    ⋮           ⋮           ⋮            ⋮            ⋮             ⋱\n",
       "7381     639.604    55.787     171.623     2944.516         548.550  ⋯\n",
       "7426      20.420     3.278       8.367      216.637       16397.992  ⋯\n",
       "7471    4385.497   512.205     497.816       97.801      448627.050  ⋯\n",
       "7516     660.460   670.249     504.922       98.307       80681.434  ⋯\n",
       "7561          NA        NA          NA           NA              NA  ⋯\n",
       "7606   17152.093   530.608    1134.190      108.040      674416.274  ⋯\n",
       "7651      54.471     6.953      26.052    22628.176          27.559  ⋯\n",
       "7696  103744.606    47.653     150.451      219.961      968942.076  ⋯\n",
       "7741   14533.475   411.839    1167.713      147.952      142403.031  ⋯\n",
       "7786       2.521     2.521       7.265       80.543        2582.005  ⋯\n",
       "7831    2643.472     4.460      12.192      125.715      276445.144  ⋯\n",
       "7876       0.947     0.428       0.566      111.566        8438.652  ⋯\n",
       "7921     151.043    22.657      43.167       95.056      116412.897  ⋯\n",
       "7966      89.804    41.808     132.491      128.875        6110.838  ⋯\n",
       "8011    2608.526   863.390    1996.516      165.477       19750.240  ⋯\n",
       "8056     126.630    36.180      95.591      126.197       17783.706  ⋯\n",
       "8101       0.049     0.037       0.040      127.957        3532.106  ⋯\n",
       "8146   86555.302    24.509      83.482      155.379     1523655.781  ⋯\n",
       "8191    2385.367    93.349     353.741      242.096       23230.021  ⋯\n",
       "8236    1311.248   357.045     677.602       92.927      143167.553  ⋯\n",
       "8281    1969.524  2669.107    2823.724      100.000       30001.280  ⋯\n",
       "8326   18707.150 18707.150   18707.150      105.934       54575.840  ⋯\n",
       "8371    1589.195    52.687      74.715      233.159      195847.912  ⋯\n",
       "8416  199993.374    67.069     207.855    17609.713       35968.304  ⋯\n",
       "8461      87.250     0.798       0.727      137.117      231578.270  ⋯\n",
       "8506       0.238   236.116     435.386    50687.489           0.015  ⋯\n",
       "8551 4502732.989   201.326     596.036      147.415    32953257.340  ⋯\n",
       "8596    8890.543    36.437      76.823     3387.565        9008.815  ⋯\n",
       "8641     216.098    20.941      65.420      166.614        7758.565  ⋯\n",
       "8686      16.117    16.117      32.422      114.306         972.340  ⋯\n",
       "     X2016.GGSB_NPGDP X2016.GGXONLB X2016.GGXONLB_NGDP X2016.GGXWDN\n",
       "1        NA               2.350       0.178                  NA    \n",
       "46       NA              10.318       0.699            1003.785    \n",
       "91       NA           -2298.130     -13.113            2334.139    \n",
       "136  -1.209            -277.674      -1.678                  NA    \n",
       "181      NA               0.093       2.356                  NA    \n",
       "226  -6.671            -383.895      -4.688                  NA    \n",
       "271      NA            -187.129      -3.693                  NA    \n",
       "316      NA               0.140       2.959                  NA    \n",
       "361  -2.159             -27.619      -1.625             322.323    \n",
       "406  -0.498               0.355       0.100             203.538    \n",
       "451      NA              -0.466      -0.772                  NA    \n",
       "496      NA              -0.035      -0.300                  NA    \n",
       "541      NA              -1.766     -14.577                  NA    \n",
       "586      NA            -251.340      -1.450                  NA    \n",
       "631  -5.398               0.218       2.230              14.428    \n",
       "676      NA               0.294       0.310                  NA    \n",
       "721  -2.204               0.245       0.058             389.145    \n",
       "766      NA              -0.041      -1.130                  NA    \n",
       "811      NA            -237.086      -4.664                  NA    \n",
       "856      NA               0.545       0.389                  NA    \n",
       "901      NA             -14.665      -6.253              67.665    \n",
       "946   0.953               0.360       1.203              10.916    \n",
       "991      NA             -13.227      -7.647              -5.497    \n",
       "1036 -7.381            -156.701      -2.504            2892.913    \n",
       "1081     NA              -3.414     -21.680                  NA    \n",
       "1126  1.985               1.742       1.851              10.781    \n",
       "1171     NA            -169.064      -2.522                  NA    \n",
       "1216     NA            -264.801      -5.100                  NA    \n",
       "1261     NA              -1.275      -0.769             200.628    \n",
       "1306     NA            -832.707      -1.025                  NA    \n",
       "⋮    ⋮                ⋮             ⋮                  ⋮           \n",
       "7381     NA               -19.788    -3.094                   NA   \n",
       "7426 -6.972                -1.232    -6.032                   NA   \n",
       "7471  0.907                47.902     1.092              391.104   \n",
       "7516  0.488                 3.809     0.577              150.500   \n",
       "7561     NA                    NA        NA                   NA   \n",
       "7606 -2.022                    NA        NA             5891.823   \n",
       "7651     NA                -4.544    -8.341                   NA   \n",
       "7696     NA              -656.593    -0.633                   NA   \n",
       "7741 -0.776               139.241     0.972                   NA   \n",
       "7786     NA                -0.884   -35.073                   NA   \n",
       "7831     NA              -189.827    -7.181                   NA   \n",
       "7876     NA                 0.024     2.569                   NA   \n",
       "7921     NA               -15.167    -9.981              -11.109   \n",
       "7966 -5.750                -3.325    -3.702               54.240   \n",
       "8011 -2.061               -24.934    -0.956              611.336   \n",
       "8056     NA                    NA        NA                   NA   \n",
       "8101     NA                 0.001     1.799                   NA   \n",
       "8146     NA             -2105.241    -2.432                   NA   \n",
       "8191 -1.944                44.524     1.867                   NA   \n",
       "8236     NA               -24.482    -1.867                   NA   \n",
       "8281 -2.850               -27.235    -1.383             1552.808   \n",
       "8326 -3.949              -430.007    -2.299            15197.253   \n",
       "8371 -3.556                -8.603    -0.541              475.658   \n",
       "8416     NA               934.628     0.467                   NA   \n",
       "8461     NA                -4.427    -5.074                   NA   \n",
       "8506     NA                -0.048   -16.847                   NA   \n",
       "8551     NA           -129358.000    -2.873                   NA   \n",
       "8596     NA              -322.683    -3.630             5968.908   \n",
       "8641     NA                -5.087    -2.354              110.926   \n",
       "8686     NA                -1.234    -7.654                   NA   \n",
       "     X2016.GGXWDN_NGDP X2016.GGXWDG X2016.GGXWDG_NGDP X2016.NGDP_FY X2016.BCA\n",
       "1         NA             103.151      7.823            1318.478       1.409  \n",
       "46    68.042            1079.687     73.187            1475.251      -0.899  \n",
       "91    13.319            3582.079     20.440           17525.100     -26.473  \n",
       "136       NA           12453.983     75.253           16549.565      -4.834  \n",
       "181       NA               3.399     86.215               3.942       0.002  \n",
       "226       NA            4500.097     54.955            8188.749     -14.693  \n",
       "271       NA            2628.002     51.862            5067.294      -0.238  \n",
       "316       NA               4.012     84.677               4.738       0.133  \n",
       "361   18.961             690.691     40.632            1699.883     -41.447  \n",
       "406   57.611             295.200     83.556             353.297       8.313  \n",
       "451       NA              30.626     50.711              60.394      -1.363  \n",
       "496       NA               5.965     50.482              11.816      -0.868  \n",
       "541       NA               9.858     81.350              12.118      -1.493  \n",
       "586       NA            5775.854     33.331           17328.637       1.391  \n",
       "631  147.897              14.548    149.122               9.756      -0.206  \n",
       "676       NA              50.780     53.482              94.949      -1.669  \n",
       "721   92.067             448.163    106.030             422.677       0.451  \n",
       "766       NA               3.506     95.867               3.657      -0.163  \n",
       "811       NA            2525.513     49.678            5083.739      -0.808  \n",
       "856       NA             160.313    114.200             140.380      -0.621  \n",
       "901   28.851             105.221     44.864             234.533      -1.932  \n",
       "946   36.511              13.180     44.081              29.899      -0.821  \n",
       "991   -3.178              26.990     15.604             172.970       2.147  \n",
       "1036  46.229            4908.003     78.430            6257.777     -23.546  \n",
       "1081      NA               0.473      3.005              15.748       1.470  \n",
       "1126  11.453              25.751     27.357              94.130       1.207  \n",
       "1171      NA            2565.433     38.266            6704.200      -0.820  \n",
       "1216      NA            2514.103     48.420            5192.319      -0.411  \n",
       "1261 121.019             211.562    127.614             165.782      -0.040  \n",
       "1306      NA           23660.932     29.124           81241.866      -1.731  \n",
       "⋮    ⋮                 ⋮            ⋮                 ⋮             ⋮        \n",
       "7381     NA                636.540   99.521               639.604     -4.213 \n",
       "7426     NA                 15.488   75.845                20.420     -0.169 \n",
       "7471  8.918               1855.931   42.320              4385.497     21.841 \n",
       "7516 22.787                276.358   41.843               660.460     63.157 \n",
       "7561     NA                     NA       NA                    NA         NA \n",
       "7606 34.350               6214.461   36.232             17152.093     72.781 \n",
       "7651     NA                 22.891   42.023                54.471     -0.362 \n",
       "7696     NA              39387.151   37.965            103744.606     -2.137 \n",
       "7741     NA               5988.387   41.805             14324.455     48.237 \n",
       "7786     NA                  0.077    3.062                 2.521     -0.544 \n",
       "7831     NA               2156.687   81.585              2643.472     -0.416 \n",
       "7876     NA                     NA       NA                 0.947     -0.030 \n",
       "7921 -7.311                 56.248   37.016               151.956     -0.653 \n",
       "7966 60.398                 55.922   62.271                89.804     -3.694 \n",
       "8011 23.436                738.501   28.311              2608.526    -33.137 \n",
       "8056     NA                 30.478   24.068               126.630     -7.207 \n",
       "8101     NA                  0.023   47.223                 0.049      0.008 \n",
       "8146     NA              32397.320   37.430             86555.302     -0.707 \n",
       "8191     NA               1936.290   81.174              2385.367     -1.394 \n",
       "8236     NA                265.091   20.217              1311.248     13.233 \n",
       "8281 78.842               1731.392   87.909              1969.524   -139.301 \n",
       "8326 81.238              19986.304  106.838             18707.150   -432.874 \n",
       "8371 29.931                978.487   61.571              1589.195      0.410 \n",
       "8416     NA              20923.533   10.462            199993.374      0.384 \n",
       "8461     NA                 40.186   46.059                87.250     -0.037 \n",
       "8506     NA                  0.089   31.299                 0.284     -3.870 \n",
       "8551     NA            2699026.645   59.942           4502732.989      5.924 \n",
       "8596 67.138               6055.654   68.113              8890.543     -1.868 \n",
       "8641 51.331                131.101   60.668               216.098     -0.934 \n",
       "8686     NA                 11.269   69.920                16.117     -0.553 \n",
       "     X2016.BCA_NGDPD\n",
       "1      7.253        \n",
       "46    -7.563        \n",
       "91   -16.532        \n",
       "136   -4.780        \n",
       "181    0.151        \n",
       "226   -2.652        \n",
       "271   -2.258        \n",
       "316    5.018        \n",
       "361   -3.278        \n",
       "406    2.126        \n",
       "451   -3.606        \n",
       "496   -7.329        \n",
       "541   -4.632        \n",
       "586    0.590        \n",
       "631   -4.251        \n",
       "676   -3.499        \n",
       "721    0.097        \n",
       "766   -8.980        \n",
       "811   -9.417        \n",
       "856  -29.357        \n",
       "901   -5.650        \n",
       "946   -4.853        \n",
       "991   13.711        \n",
       "1036  -1.313        \n",
       "1081  12.900        \n",
       "1126   2.268        \n",
       "1171  -7.248        \n",
       "1216 -13.085        \n",
       "1261  -2.399        \n",
       "1306  -8.636        \n",
       "⋮    ⋮              \n",
       "7381  -7.553        \n",
       "7426  -5.164        \n",
       "7471   4.264        \n",
       "7516   9.423        \n",
       "7561      NA        \n",
       "7606  13.717        \n",
       "7651  -5.210        \n",
       "7696  -4.485        \n",
       "7741  11.713        \n",
       "7786 -21.598        \n",
       "7831  -9.321        \n",
       "7876  -6.906        \n",
       "7921  -2.883        \n",
       "7966  -8.836        \n",
       "8011  -3.838        \n",
       "8056 -19.921        \n",
       "8101  23.212        \n",
       "8146  -2.886        \n",
       "8191  -1.493        \n",
       "8236   3.706        \n",
       "8281  -5.219        \n",
       "8326  -2.314        \n",
       "8371   0.779        \n",
       "8416   0.573        \n",
       "8461  -4.646        \n",
       "8506  -1.639        \n",
       "8551   2.942        \n",
       "8596  -5.127        \n",
       "8641  -4.461        \n",
       "8686  -3.430        "
      ]
     },
     "metadata": {},
     "output_type": "display_data"
    }
   ],
   "source": [
    "weo_2016_wide"
   ]
  },
  {
   "cell_type": "markdown",
   "metadata": {},
   "source": [
    "We may have to correct column names:"
   ]
  },
  {
   "cell_type": "code",
   "execution_count": 238,
   "metadata": {},
   "outputs": [
    {
     "data": {
      "text/plain": [
       " [1] \"WEO.Country.Code\"   \"ISO\"                \"Country\"           \n",
       " [4] \"X2016.NGDP_R\"       \"X2016.NGDP_RPCH\"    \"X2016.NGDP\"        \n",
       " [7] \"X2016.NGDPD\"        \"X2016.PPPGDP\"       \"X2016.NGDP_D\"      \n",
       "[10] \"X2016.NGDPRPC\"      \"X2016.NGDPRPPPPC\"   \"X2016.NGDPPC\"      \n",
       "[13] \"X2016.NGDPDPC\"      \"X2016.PPPPC\"        \"X2016.NGAP_NPGDP\"  \n",
       "[16] \"X2016.PPPSH\"        \"X2016.PPPEX\"        \"X2016.NID_NGDP\"    \n",
       "[19] \"X2016.NGSD_NGDP\"    \"X2016.PCPI\"         \"X2016.PCPIPCH\"     \n",
       "[22] \"X2016.PCPIE\"        \"X2016.PCPIEPCH\"     \"X2016.FLIBOR6\"     \n",
       "[25] \"X2016.TM_RPCH\"      \"X2016.TMG_RPCH\"     \"X2016.TX_RPCH\"     \n",
       "[28] \"X2016.TXG_RPCH\"     \"X2016.LUR\"          \"X2016.LE\"          \n",
       "[31] \"X2016.LP\"           \"X2016.GGR\"          \"X2016.GGR_NGDP\"    \n",
       "[34] \"X2016.GGX\"          \"X2016.GGX_NGDP\"     \"X2016.GGXCNL\"      \n",
       "[37] \"X2016.GGXCNL_NGDP\"  \"X2016.GGSB\"         \"X2016.GGSB_NPGDP\"  \n",
       "[40] \"X2016.GGXONLB\"      \"X2016.GGXONLB_NGDP\" \"X2016.GGXWDN\"      \n",
       "[43] \"X2016.GGXWDN_NGDP\"  \"X2016.GGXWDG\"       \"X2016.GGXWDG_NGDP\" \n",
       "[46] \"X2016.NGDP_FY\"      \"X2016.BCA\"          \"X2016.BCA_NGDPD\"   "
      ]
     },
     "metadata": {},
     "output_type": "display_data"
    }
   ],
   "source": [
    "names_2016 <- names(weo_2016_wide)\n",
    "names_2016"
   ]
  },
  {
   "cell_type": "code",
   "execution_count": 239,
   "metadata": {},
   "outputs": [],
   "source": [
    "names(weo_2016_wide) <- gsub(\"X2016\\\\.\", \"\", names_2016)"
   ]
  },
  {
   "cell_type": "code",
   "execution_count": 240,
   "metadata": {},
   "outputs": [
    {
     "name": "stdout",
     "output_type": "stream",
     "text": [
      "'data.frame':\t194 obs. of  48 variables:\n",
      " $ WEO.Country.Code: int  512 914 612 614 311 213 911 314 193 122 ...\n",
      " $ ISO             : Factor w/ 194 levels \"ABW\",\"AFG\",\"AGO\",..: 2 4 49 3 8 6 7 1 9 10 ...\n",
      " $ Country         : Factor w/ 194 levels \"Afghanistan\",..: 1 2 3 4 5 6 7 8 9 10 ...\n",
      " $ NGDP_R          : num  493.07 760.32 7270.16 1588.96 3.25 ...\n",
      " $ NGDP_RPCH       : num  2.16 3.35 3.2 -2.58 5.35 ...\n",
      " $ NGDP            : num  1318.48 1475.25 17525.1 16549.56 3.94 ...\n",
      " $ NGDPD           : num  19.43 11.88 160.13 101.12 1.46 ...\n",
      " $ PPPGDP          : num  66.38 34.03 609.7 194.89 2.29 ...\n",
      " $ NGDP_D          : num  267 194 241 1042 121 ...\n",
      " $ NGDPRPC         : num  14228 264357 178355 57774 35967 ...\n",
      " $ NGDPRPPPPC      : num  1774 10958 13854 6563 23504 ...\n",
      " $ NGDPPC          : num  38045 512934 429934 601737 43674 ...\n",
      " $ NGDPDPC         : num  561 4132 3928 3677 16176 ...\n",
      " $ PPPPC           : num  1916 11831 14958 7086 25376 ...\n",
      " $ NGAP_NPGDP      : num  NA NA NA NA NA ...\n",
      " $ PPPSH           : num  0.055 0.028 0.505 0.161 0.002 0.729 0.021 0.003 0.993 0.348 ...\n",
      " $ PPPEX           : num  19.86 43.36 28.74 84.92 1.72 ...\n",
      " $ NID_NGDP        : num  18.5 24.3 53.9 27.2 24.3 ...\n",
      " $ NGSD_NGDP       : num  25.8 16.7 37.4 24.5 24.5 ...\n",
      " $ PCPI            : num  106 101 184 194 134 ...\n",
      " $ PCPIPCH         : num  4.384 1.275 6.398 30.694 -0.489 ...\n",
      " $ PCPIE           : num  109 102 188 222 134 ...\n",
      " $ PCPIEPCH        : num  4.59 2.18 6.96 41.12 -1.12 ...\n",
      " $ FLIBOR6         : num  NA NA NA NA NA NA NA NA NA NA ...\n",
      " $ TM_RPCH         : num  -8.13 8.16 -2.29 -25.27 10.67 ...\n",
      " $ TMG_RPCH        : num  -7.27 9.23 -2.29 -32.29 10.78 ...\n",
      " $ TX_RPCH         : num  -16.439 10.283 9.612 -0.606 -0.444 ...\n",
      " $ TXG_RPCH        : num  11.425 -0.754 7.883 0.571 21.438 ...\n",
      " $ LUR             : num  NA 15.2 10.5 NA NA ...\n",
      " $ LE              : num  NA NA NA NA NA ...\n",
      " $ LP              : num  34.66 2.88 40.76 27.5 0.09 ...\n",
      " $ GGR             : num  344.327 403.131 5011.581 2899.97 0.951 ...\n",
      " $ GGR_NGDP        : num  26.1 27.3 28.6 17.5 24.1 ...\n",
      " $ GGX             : num  342.771 429.073 7297.494 3648.044 0.956 ...\n",
      " $ GGX_NGDP        : num  26 29.1 41.6 22 24.3 ...\n",
      " $ GGXCNL          : num  1.556 -25.941 -2285.913 -748.074 -0.006 ...\n",
      " $ GGXCNL_NGDP     : num  0.118 -1.758 -13.044 -4.52 -0.143 ...\n",
      " $ GGSB            : num  NA NA NA -251 NA ...\n",
      " $ GGSB_NPGDP      : num  NA NA NA -1.21 NA ...\n",
      " $ GGXONLB         : num  2.35 10.318 -2298.13 -277.674 0.093 ...\n",
      " $ GGXONLB_NGDP    : num  0.178 0.699 -13.113 -1.678 2.356 ...\n",
      " $ GGXWDN          : num  NA 1004 2334 NA NA ...\n",
      " $ GGXWDN_NGDP     : num  NA 68 13.3 NA NA ...\n",
      " $ GGXWDG          : num  103.2 1079.7 3582.1 12454 3.4 ...\n",
      " $ GGXWDG_NGDP     : num  7.82 73.19 20.44 75.25 86.22 ...\n",
      " $ NGDP_FY         : num  1318.48 1475.25 17525.1 16549.56 3.94 ...\n",
      " $ BCA             : num  1.409 -0.899 -26.473 -4.834 0.002 ...\n",
      " $ BCA_NGDPD       : num  7.253 -7.563 -16.532 -4.78 0.151 ...\n",
      " - attr(*, \"reshapeWide\")=List of 5\n",
      "  ..$ v.names: chr \"X2016\"\n",
      "  ..$ timevar: chr \"WEO.Subject.Code\"\n",
      "  ..$ idvar  : chr  \"WEO.Country.Code\" \"Country\"\n",
      "  ..$ times  : Factor w/ 45 levels \"BCA\",\"BCA_NGDPD\",..: 25 26 22 27 39 23 30 31 29 28 ...\n",
      "  ..$ varying: chr [1, 1:45] \"X2016.NGDP_R\" \"X2016.NGDP_RPCH\" \"X2016.NGDP\" \"X2016.NGDPD\" ...\n"
     ]
    }
   ],
   "source": [
    "str(weo_2016_wide)"
   ]
  },
  {
   "cell_type": "markdown",
   "metadata": {},
   "source": [
    "## Discretize numeric data"
   ]
  },
  {
   "cell_type": "markdown",
   "metadata": {},
   "source": [
    "Now we may want to create factors on GDP per capita (PPP): Low income, middle income and high income countries  "
   ]
  },
  {
   "cell_type": "markdown",
   "metadata": {},
   "source": [
    "Let's say the cutting points are 1000 and 12000"
   ]
  },
  {
   "cell_type": "code",
   "execution_count": 241,
   "metadata": {},
   "outputs": [
    {
     "name": "stdout",
     "output_type": "stream",
     "text": [
      "'data.frame':\t8536 obs. of  5 variables:\n",
      " $ Country         : Factor w/ 194 levels \"Afghanistan\",..: 1 2 3 4 5 6 7 8 9 10 ...\n",
      " $ WEO.Country.Code: int  512 914 612 614 311 213 911 314 193 122 ...\n",
      " $ ISO             : Factor w/ 194 levels \"ABW\",\"AFG\",\"AGO\",..: 2 4 49 3 8 6 7 1 9 10 ...\n",
      " $ time            : int  1980 1980 1980 1980 1980 1980 1980 1980 1980 1980 ...\n",
      " $ NGDPRPPPPC      : num  NA 4675 10804 5277 9082 ...\n"
     ]
    }
   ],
   "source": [
    "str(weo_ppp_long_2)"
   ]
  },
  {
   "cell_type": "markdown",
   "metadata": {},
   "source": [
    "We will discretize the NGDPRPPPPC column with cut() function and add the results as a new factor variable:"
   ]
  },
  {
   "cell_type": "code",
   "execution_count": 242,
   "metadata": {},
   "outputs": [
    {
     "data": {
      "text/plain": [
       "[1] 172994.5"
      ]
     },
     "metadata": {},
     "output_type": "display_data"
    }
   ],
   "source": [
    "max(weo_ppp_long_2$NGDPRPPPPC, na.rm = T)"
   ]
  },
  {
   "cell_type": "code",
   "execution_count": 243,
   "metadata": {},
   "outputs": [],
   "source": [
    "a <- cut(weo_ppp_long_2$NGDPRPPPPC,\n",
    "                                    breaks = c(0, 1000, 12000, max(weo_ppp_long_2$NGDPRPPPPC, na.rm = T)))"
   ]
  },
  {
   "cell_type": "code",
   "execution_count": 244,
   "metadata": {},
   "outputs": [
    {
     "data": {
      "text/plain": [
       "[1] \"(0,1e+03]\"          \"(1e+03,1.2e+04]\"    \"(1.2e+04,1.73e+05]\""
      ]
     },
     "metadata": {},
     "output_type": "display_data"
    }
   ],
   "source": [
    "levels(a)"
   ]
  },
  {
   "cell_type": "code",
   "execution_count": 245,
   "metadata": {},
   "outputs": [],
   "source": [
    "weo_ppp_long_2$income_levels <- cut(weo_ppp_long_2$NGDPRPPPPC,\n",
    "                                    breaks = c(0, 1000, 12000, max(weo_ppp_long_2$NGDPRPPPPC, na.rm = T)),\n",
    "                                    labels = c(\"L\", \"M\", \"H\"))"
   ]
  },
  {
   "cell_type": "code",
   "execution_count": 246,
   "metadata": {},
   "outputs": [
    {
     "data": {
      "text/plain": [
       "     ISO time NGDPRPPPPC income_levels\n",
       "1    AFG 1980        NA  NA           \n",
       "2    ALB 1980  4674.883  M            \n",
       "3    DZA 1980 10804.443  M            \n",
       "4    AGO 1980  5276.667  M            \n",
       "5    ATG 1980  9081.960  M            \n",
       "6    ARG 1980 14709.172  H            \n",
       "7    ARM 1980        NA  NA           \n",
       "8    ABW 1980        NA  NA           \n",
       "9    AUS 1980 24398.012  H            \n",
       "10   AUT 1980 26129.809  H            \n",
       "11   AZE 1980        NA  NA           \n",
       "12   BHS 1980 27652.318  H            \n",
       "13   BHR 1980 40934.983  H            \n",
       "14   BGD 1980  1159.722  M            \n",
       "15   BRB 1980 14066.335  H            \n",
       "16   BLR 1980        NA  NA           \n",
       "17   BEL 1980 25189.821  H            \n",
       "18   BLZ 1980  3183.026  M            \n",
       "19   BEN 1980  1724.655  M            \n",
       "20   BTN 1980  1102.657  M            \n",
       "21   BOL 1980  4866.147  M            \n",
       "22   BIH 1980        NA  NA           \n",
       "23   BWA 1980  4265.308  M            \n",
       "24   BRA 1980 11373.057  M            \n",
       "25   BRN 1980        NA  NA           \n",
       "26   BGR 1980 10374.302  M            \n",
       "27   BFA 1980   759.033  L            \n",
       "28   BDI 1980   790.190  L            \n",
       "29   CPV 1980  1857.407  M            \n",
       "30   KHM 1980        NA  NA           \n",
       "⋮    ⋮   ⋮    ⋮          ⋮            \n",
       "8507 SDN 2023  3156.732  M            \n",
       "8508 SUR 2023 14517.698  H            \n",
       "8509 SWE 2023 49292.623  H            \n",
       "8510 CHE 2023 59165.627  H            \n",
       "8511 SYR 2023        NA  NA           \n",
       "8512 TWN 2023 51794.699  H            \n",
       "8513 TJK 2023  3393.110  M            \n",
       "8514 TZA 2023  3795.574  M            \n",
       "8515 THA 2023 20247.901  H            \n",
       "8516 TLS 2023  3124.031  M            \n",
       "8517 TGO 2023  1762.331  M            \n",
       "8518 TON 2023  6561.061  M            \n",
       "8519 TTO 2023 30282.128  H            \n",
       "8520 TUN 2023 12508.277  H            \n",
       "8521 TUR 2023 26072.259  H            \n",
       "8522 TKM 2023 21658.002  H            \n",
       "8523 TUV 2023  4327.978  M            \n",
       "8524 UGA 2023  2580.630  M            \n",
       "8525 UKR 2023  9784.539  M            \n",
       "8526 ARE 2023 63046.461  H            \n",
       "8527 GBR 2023 42824.925  H            \n",
       "8528 USA 2023 58800.370  H            \n",
       "8529 URY 2023 23770.394  H            \n",
       "8530 UZB 2023  8211.536  M            \n",
       "8531 VUT 2023  2632.370  M            \n",
       "8532 VEN 2023  9325.787  M            \n",
       "8533 VNM 2023  8692.397  M            \n",
       "8534 YEM 2023  2982.110  M            \n",
       "8535 ZMB 2023  3926.514  M            \n",
       "8536 ZWE 2023  2347.893  M            "
      ]
     },
     "metadata": {},
     "output_type": "display_data"
    }
   ],
   "source": [
    "weo_ppp_long_2[,3:6]"
   ]
  },
  {
   "cell_type": "markdown",
   "metadata": {},
   "source": [
    "## Joining data"
   ]
  },
  {
   "cell_type": "markdown",
   "metadata": {},
   "source": [
    "Now let's import a second IMF dataset: 2016 values of international investment position of all countries"
   ]
  },
  {
   "cell_type": "code",
   "execution_count": 265,
   "metadata": {},
   "outputs": [],
   "source": [
    "iip <- read.csv(\"data/Data_in_US_Dollars.csv\")"
   ]
  },
  {
   "cell_type": "code",
   "execution_count": 266,
   "metadata": {},
   "outputs": [
    {
     "name": "stdout",
     "output_type": "stream",
     "text": [
      "'data.frame':\t208 obs. of  13 variables:\n",
      " $ WEO.Country.Code                                                        : int  512 914 612 614 312 311 213 911 314 193 ...\n",
      " $ Assets                                                                  : num  9274 7352 127904 87718 1511 ...\n",
      " $ Direct.investment                                                       : num  5.61 1406.26 1281.88 21493.93 71.64 ...\n",
      " $ Portfolio.investment                                                    : num  351.4 748.4 NA 7401.8 42.2 ...\n",
      " $ Financial.derivatives..other.than.reserves..and.employee.stock.options  : num  NA NA NA 78.2 0 ...\n",
      " $ Other.investment                                                        : num  1454 2093 5414 34392 1342 ...\n",
      " $ Reserve.assets                                                          : num  7462.8 3105 121208.4 24352.5 55.6 ...\n",
      " $ Liabilities                                                             : num  3843 12439 33264 90246 1897 ...\n",
      " $ Direct.investment.1                                                     : num  1355 5984 19235 35002 556 ...\n",
      " $ Portfolio.investment.1                                                  : num  NA 644 NA 1564 1115 ...\n",
      " $ Financial.derivatives..other.than.reserves..and.employee.stock.options.1: num  0.18 NA NA 0 0 ...\n",
      " $ Other.investment.1                                                      : num  2488 5811 14029 53681 225 ...\n",
      " $ Net.international.investment.position                                   : num  5430 -5087 94640 -2528 -385 ...\n"
     ]
    }
   ],
   "source": [
    "str(iip)"
   ]
  },
  {
   "cell_type": "markdown",
   "metadata": {},
   "source": [
    "Now similar to SQL joins, we will \"merge\" the weo_2016_wide and iip datasets using common \"WEO.Country.Code\" variable:"
   ]
  },
  {
   "cell_type": "markdown",
   "metadata": {},
   "source": [
    "## Aggregating and summarizing data "
   ]
  },
  {
   "cell_type": "markdown",
   "metadata": {},
   "source": [
    "## Imputation of missing values"
   ]
  },
  {
   "cell_type": "markdown",
   "metadata": {},
   "source": [
    "## Sampling"
   ]
  },
  {
   "cell_type": "code",
   "execution_count": null,
   "metadata": {},
   "outputs": [],
   "source": []
  }
 ],
 "metadata": {
  "kernelspec": {
   "display_name": "R",
   "language": "R",
   "name": "ir"
  },
  "language_info": {
   "codemirror_mode": "r",
   "file_extension": ".r",
   "mimetype": "text/x-r-source",
   "name": "R",
   "pygments_lexer": "r",
   "version": "3.5.1"
  },
  "toc": {
   "base_numbering": 1,
   "nav_menu": {},
   "number_sections": true,
   "sideBar": true,
   "skip_h1_title": false,
   "title_cell": "Table of Contents",
   "title_sidebar": "Contents",
   "toc_cell": false,
   "toc_position": {
    "height": "646.8px",
    "left": "0px",
    "right": "1324px",
    "top": "135.2px",
    "width": "212px"
   },
   "toc_section_display": "block",
   "toc_window_display": false
  }
 },
 "nbformat": 4,
 "nbformat_minor": 2
}

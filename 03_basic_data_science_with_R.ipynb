{
 "cells": [
  {
   "cell_type": "code",
   "execution_count": null,
   "metadata": {},
   "outputs": [],
   "source": [
    "options(jupyter.rich_display = FALSE)"
   ]
  },
  {
   "cell_type": "markdown",
   "metadata": {},
   "source": [
    "# Basic data science with R"
   ]
  },
  {
   "cell_type": "markdown",
   "metadata": {},
   "source": [
    "## Reshaping data"
   ]
  },
  {
   "cell_type": "markdown",
   "metadata": {},
   "source": [
    "Multivariate data can be represented in wide or long format:\n",
    "\n",
    "- Reshaping a data in wide format into a long format is known as \"melting\"\n",
    "- Reshaping a data in long format into a wide format is known as \"casting\"\n",
    "\n",
    "Different shapes of data can be utilized for specific purposes"
   ]
  },
  {
   "cell_type": "markdown",
   "metadata": {},
   "source": [
    "### Melting"
   ]
  },
  {
   "cell_type": "markdown",
   "metadata": {},
   "source": [
    "A chessboard is in a 8x8 shape"
   ]
  },
  {
   "cell_type": "markdown",
   "metadata": {},
   "source": [
    "Suppose we have a chessboard with random configuration: Each of the 32 pieces by any player is given a unique number and empty squares are 0:"
   ]
  },
  {
   "cell_type": "markdown",
   "metadata": {},
   "source": [
    "First create a random vector:"
   ]
  },
  {
   "cell_type": "code",
   "execution_count": null,
   "metadata": {},
   "outputs": [],
   "source": [
    "chess_vec <- integer(64)\n",
    "chess_vec[1:32] <- 1:32\n",
    "chess_vec_r <- sample(chess_vec)\n",
    "chess_vec_r"
   ]
  },
  {
   "cell_type": "markdown",
   "metadata": {},
   "source": [
    "And convert to a matrix:"
   ]
  },
  {
   "cell_type": "code",
   "execution_count": null,
   "metadata": {},
   "outputs": [],
   "source": [
    "chess_mat <- matrix(chess_vec_r, nrow = 8)\n",
    "chess_mat"
   ]
  },
  {
   "cell_type": "code",
   "execution_count": null,
   "metadata": {},
   "outputs": [],
   "source": [
    "chess_df <- as.data.frame(chess_mat)\n",
    "chess_df"
   ]
  },
  {
   "cell_type": "markdown",
   "metadata": {},
   "source": [
    "Our task is to create a function to convert this matrix into a format in which we have three columns:\n",
    "- One for the row index of the original matrix\n",
    "- One for the column index of the original matrix\n",
    "- One for the value"
   ]
  },
  {
   "cell_type": "markdown",
   "metadata": {},
   "source": [
    "We will use the base function reshape()"
   ]
  },
  {
   "cell_type": "code",
   "execution_count": null,
   "metadata": {},
   "outputs": [],
   "source": [
    "?reshape"
   ]
  },
  {
   "cell_type": "markdown",
   "metadata": {},
   "source": [
    "```\n",
    "reshape(data, varying = NULL, v.names = NULL, timevar = \"time\",\n",
    "             idvar = \"id\", ids = 1:NROW(data),\n",
    "             times = seq_along(varying[[1]]),\n",
    "             drop = NULL, direction, new.row.names = NULL,\n",
    "             sep = \".\",\n",
    "             split = if (sep == \"\") {\n",
    "                 list(regexp = \"[A-Za-z][0-9]\", include = TRUE)\n",
    "             } else {\n",
    "                 list(regexp = sep, include = FALSE, fixed = TRUE)}\n",
    "             )\n",
    "     \n",
    "Arguments:\n",
    "\n",
    "    data: a data frame\n",
    "\n",
    " varying: names of sets of variables in the wide format that correspond\n",
    "          to single variables in long format (‘time-varying’).  This is\n",
    "          canonically a list of vectors of variable names, but it can\n",
    "          optionally be a matrix of names, or a single vector of names.\n",
    "          In each case, the names can be replaced by indices which are\n",
    "          interpreted as referring to ‘names(data)’.  See ‘Details’ for\n",
    "          more details and options.\n",
    "\n",
    " v.names: names of variables in the long format that correspond to\n",
    "          multiple variables in the wide format.  See ‘Details’.\n",
    "\n",
    " timevar: the variable in long format that differentiates multiple\n",
    "          records from the same group or individual.  If more than one\n",
    "          record matches, the first will be taken (with a warning).\n",
    "\n",
    "   idvar: Names of one or more variables in long format that identify\n",
    "          multiple records from the same group/individual.  These\n",
    "          variables may also be present in wide format.\n",
    "\n",
    "     ids: the values to use for a newly created ‘idvar’ variable in\n",
    "          long format.\n",
    "\n",
    "   times: the values to use for a newly created ‘timevar’ variable in\n",
    "          long format.  See ‘Details’.\n",
    "\n",
    "    drop: a vector of names of variables to drop before reshaping.\n",
    "\n",
    "direction: character string, partially matched to either ‘\"wide\"’ to\n",
    "          reshape to wide format, or ‘\"long\"’ to reshape to long\n",
    "          format.\n",
    "```"
   ]
  },
  {
   "cell_type": "markdown",
   "metadata": {},
   "source": [
    "First, let's convert the matrix into a data.frame:"
   ]
  },
  {
   "cell_type": "code",
   "execution_count": null,
   "metadata": {},
   "outputs": [],
   "source": [
    "chess_df <- as.data.frame(chess_mat)\n",
    "chess_df"
   ]
  },
  {
   "cell_type": "markdown",
   "metadata": {},
   "source": [
    "- idvar is the variable which need to be left unaltered\n",
    "- varying are the ones that needs to converted from wide to long\n",
    "- v.names are the values that should be against the times in the resultant data frame.\n",
    "- new.row.names is used to assign row names to the resultant dataset\n",
    "- direction is, to which format the data needs to be transformed"
   ]
  },
  {
   "cell_type": "code",
   "execution_count": null,
   "metadata": {},
   "outputs": [],
   "source": [
    "chess_long <- reshape(chess_df,\n",
    "                      idvar = \"rows\",\n",
    "                      varying = 1:8,\n",
    "                      v.name = \"piece\",\n",
    "                      direction = \"long\")"
   ]
  },
  {
   "cell_type": "code",
   "execution_count": null,
   "metadata": {},
   "outputs": [],
   "source": [
    "chess_long"
   ]
  },
  {
   "cell_type": "markdown",
   "metadata": {},
   "source": [
    "We can change the default name of column \"time\" to \"cols\" and rearrange the columns: "
   ]
  },
  {
   "cell_type": "code",
   "execution_count": null,
   "metadata": {},
   "outputs": [],
   "source": [
    "names(chess_long)[1] <- \"cols\"\n",
    "chess_long <- chess_long[,c(\"cols\", \"rows\", \"piece\")]\n",
    "chess_long"
   ]
  },
  {
   "cell_type": "markdown",
   "metadata": {},
   "source": [
    "### Casting"
   ]
  },
  {
   "cell_type": "markdown",
   "metadata": {},
   "source": [
    "Now let's convert the long chessboard back to a wide 8x8 one:\n",
    "\n",
    "- idvar is the variable which need to be left unaltered\n",
    "- timevar are the variables that needs to converted to wide format\n",
    "- v.names are the value variable\n",
    "- direction is, to which format the data needs to be transformed"
   ]
  },
  {
   "cell_type": "code",
   "execution_count": null,
   "metadata": {},
   "outputs": [],
   "source": [
    "chess_wide <- reshape(chess_long,\n",
    "       idvar = \"rows\",\n",
    "       v.names = \"piece\",\n",
    "       timevar = \"cols\",\n",
    "       direction = \"wide\")\n",
    "\n",
    "chess_wide"
   ]
  },
  {
   "cell_type": "markdown",
   "metadata": {},
   "source": [
    "We delete the first column, which is unneccessary in our example:"
   ]
  },
  {
   "cell_type": "code",
   "execution_count": null,
   "metadata": {},
   "outputs": [],
   "source": [
    "chess_wide <- chess_wide[,-1]\n",
    "chess_wide"
   ]
  },
  {
   "cell_type": "markdown",
   "metadata": {},
   "source": [
    "and let's compare whether all values are unchanged vis-a-vis the original object:"
   ]
  },
  {
   "cell_type": "code",
   "execution_count": null,
   "metadata": {},
   "outputs": [],
   "source": [
    "all(chess_wide == chess_mat)"
   ]
  },
  {
   "cell_type": "markdown",
   "metadata": {},
   "source": [
    "### Real data example: Reshaping IMF WEO database"
   ]
  },
  {
   "cell_type": "markdown",
   "metadata": {},
   "source": [
    "First read the tsv data into R using read.delim() function (a read.table wrapper for tsv files):"
   ]
  },
  {
   "cell_type": "code",
   "execution_count": null,
   "metadata": {},
   "outputs": [],
   "source": [
    "?read.table"
   ]
  },
  {
   "cell_type": "code",
   "execution_count": null,
   "metadata": {},
   "outputs": [],
   "source": [
    "#weo <- read.table(\"data/WEO_Data.xls\", sep = \"\\t\", header = T, na.strings = c(\"n/a\", \"--\", \"\"), stringsAsFactors = T, dec = \".\")\n",
    "weo <- read.delim(\"data/WEO_Data.xls\", na.strings = c(\"n/a\", \"--\", \"\"), stringsAsFactors = T, dec = \".\")\n",
    "#weo <- read.delim(\"~/Downloads/WEO_Data.xls\", na.strings = c(\"n/a\", \"--\", \"\"), stringsAsFactors = T, dec = \".\")"
   ]
  },
  {
   "cell_type": "markdown",
   "metadata": {},
   "source": [
    "Let's view the structure of the data:"
   ]
  },
  {
   "cell_type": "code",
   "execution_count": null,
   "metadata": {},
   "outputs": [],
   "source": [
    "str(weo)"
   ]
  },
  {
   "cell_type": "markdown",
   "metadata": {},
   "source": [
    "Let's get the names and indices of factor variables:"
   ]
  },
  {
   "cell_type": "code",
   "execution_count": null,
   "metadata": {},
   "outputs": [],
   "source": [
    "factors <- which(sapply(weo, is.factor))\n",
    "factors"
   ]
  },
  {
   "cell_type": "markdown",
   "metadata": {},
   "source": [
    "And get the unique values (or levels) of each of these factor variables:"
   ]
  },
  {
   "cell_type": "code",
   "execution_count": null,
   "metadata": {},
   "outputs": [],
   "source": [
    "lapply(weo[, factors], levels)"
   ]
  },
  {
   "cell_type": "markdown",
   "metadata": {},
   "source": [
    "#### Melting GDP per capita (PPP)"
   ]
  },
  {
   "cell_type": "markdown",
   "metadata": {},
   "source": [
    "Now we are concerned with only the NGDPRPPPPC series \"Purchasing power parity; 2011 international dollar\"\n",
    "\n",
    "So we filter the dataset:"
   ]
  },
  {
   "cell_type": "code",
   "execution_count": null,
   "metadata": {},
   "outputs": [],
   "source": [
    "weo_ppp <- weo[weo$WEO.Subject.Code == \"NGDPRPPPPC\",]"
   ]
  },
  {
   "cell_type": "code",
   "execution_count": null,
   "metadata": {},
   "outputs": [],
   "source": [
    "str(weo_ppp)"
   ]
  },
  {
   "cell_type": "markdown",
   "metadata": {},
   "source": [
    "Now we want a long DF of four columns: Country names, country codes, years and per capita gdp in ppp values "
   ]
  },
  {
   "cell_type": "code",
   "execution_count": null,
   "metadata": {},
   "outputs": [],
   "source": [
    "names(weo_ppp)"
   ]
  },
  {
   "cell_type": "code",
   "execution_count": null,
   "metadata": {},
   "outputs": [],
   "source": [
    "cols <- sprintf(\"X%s\", 1980:2023)\n",
    "cols"
   ]
  },
  {
   "cell_type": "code",
   "execution_count": null,
   "metadata": {},
   "outputs": [],
   "source": [
    "weo_ppp_long <- reshape(weo_ppp,\n",
    "                      idvar = c(\"WEO.Country.Code\", \"Country\"),\n",
    "                      varying = cols,\n",
    "                        times = cols,\n",
    "                      v.name = \"NGDPRPPPPC\",\n",
    "                      direction = \"long\")"
   ]
  },
  {
   "cell_type": "code",
   "execution_count": null,
   "metadata": {},
   "outputs": [],
   "source": [
    "str(weo_ppp_long)"
   ]
  },
  {
   "cell_type": "markdown",
   "metadata": {},
   "source": [
    "We can clear rownames:"
   ]
  },
  {
   "cell_type": "code",
   "execution_count": null,
   "metadata": {},
   "outputs": [],
   "source": [
    "rownames(weo_ppp_long) <- NULL"
   ]
  },
  {
   "cell_type": "code",
   "execution_count": null,
   "metadata": {},
   "outputs": [],
   "source": [
    "weo_ppp_long_2 <- weo_ppp_long[,c(\"Country\", \"WEO.Country.Code\", \"ISO\", \"time\", \"NGDPRPPPPC\")]\n",
    "weo_ppp_long_2"
   ]
  },
  {
   "cell_type": "markdown",
   "metadata": {},
   "source": [
    "We can convert year values from X1980 to 1980 and make them numeric:"
   ]
  },
  {
   "cell_type": "code",
   "execution_count": null,
   "metadata": {},
   "outputs": [],
   "source": [
    "weo_ppp_long_2$time <- as.integer(gsub(\"X\", \"\", weo_ppp_long_2$time))\n",
    "weo_ppp_long_2"
   ]
  },
  {
   "cell_type": "markdown",
   "metadata": {},
   "source": [
    "#### Casting 2016 data"
   ]
  },
  {
   "cell_type": "markdown",
   "metadata": {},
   "source": [
    "Now let's select only a single year, e.g 2016 and create a wide matrix of subjects on the columns and countries on the rows:"
   ]
  },
  {
   "cell_type": "code",
   "execution_count": null,
   "metadata": {},
   "outputs": [],
   "source": [
    "names(weo_ppp)"
   ]
  },
  {
   "cell_type": "code",
   "execution_count": null,
   "metadata": {},
   "outputs": [],
   "source": [
    "weo_2016 <- weo[,c(names(weo_ppp)[1:7], \"X2016\")]"
   ]
  },
  {
   "cell_type": "code",
   "execution_count": null,
   "metadata": {},
   "outputs": [],
   "source": [
    "str(weo_2016)"
   ]
  },
  {
   "cell_type": "code",
   "execution_count": null,
   "metadata": {},
   "outputs": [],
   "source": [
    "?reshape"
   ]
  },
  {
   "cell_type": "code",
   "execution_count": null,
   "metadata": {},
   "outputs": [],
   "source": [
    "weo_2016_wide <- reshape(weo_2016,\n",
    "                      idvar = c(\"WEO.Country.Code\", \"Country\"),\n",
    "                      v.names = \"X2016\",\n",
    "                      timevar = \"WEO.Subject.Code\",\n",
    "                      drop = c(\"Subject.Descriptor\", \"Units\", \"Scale\"),\n",
    "                      direction = \"wide\")"
   ]
  },
  {
   "cell_type": "code",
   "execution_count": null,
   "metadata": {},
   "outputs": [],
   "source": [
    "str(weo_2016_wide)"
   ]
  },
  {
   "cell_type": "code",
   "execution_count": null,
   "metadata": {},
   "outputs": [],
   "source": [
    "weo_2016_wide"
   ]
  },
  {
   "cell_type": "markdown",
   "metadata": {},
   "source": [
    "We may have to correct column names:"
   ]
  },
  {
   "cell_type": "code",
   "execution_count": null,
   "metadata": {},
   "outputs": [],
   "source": [
    "names_2016 <- names(weo_2016_wide)\n",
    "names_2016"
   ]
  },
  {
   "cell_type": "code",
   "execution_count": null,
   "metadata": {},
   "outputs": [],
   "source": [
    "names(weo_2016_wide) <- gsub(\"X2016\\\\.\", \"\", names_2016)"
   ]
  },
  {
   "cell_type": "code",
   "execution_count": null,
   "metadata": {},
   "outputs": [],
   "source": [
    "str(weo_2016_wide)"
   ]
  },
  {
   "cell_type": "markdown",
   "metadata": {},
   "source": [
    "### Extension packages"
   ]
  },
  {
   "cell_type": "markdown",
   "metadata": {},
   "source": [
    "reshape2, tidy2 (from tidyverse) and data.table packages provide extended functionality on reshaping datasets"
   ]
  },
  {
   "cell_type": "markdown",
   "metadata": {},
   "source": [
    "## Discretize numeric data"
   ]
  },
  {
   "cell_type": "markdown",
   "metadata": {},
   "source": [
    "Now we may want to create factors on GDP per capita (PPP): Low income, middle income and high income countries  "
   ]
  },
  {
   "cell_type": "markdown",
   "metadata": {},
   "source": [
    "Let's say the cutting points are 3000 and 12000"
   ]
  },
  {
   "cell_type": "code",
   "execution_count": null,
   "metadata": {},
   "outputs": [],
   "source": [
    "str(weo_ppp_long_2)"
   ]
  },
  {
   "cell_type": "markdown",
   "metadata": {},
   "source": [
    "We will discretize the NGDPRPPPPC column with cut() function and add the results as a new factor variable:"
   ]
  },
  {
   "cell_type": "code",
   "execution_count": null,
   "metadata": {},
   "outputs": [],
   "source": [
    "max(weo_ppp_long_2$NGDPRPPPPC, na.rm = T)"
   ]
  },
  {
   "cell_type": "code",
   "execution_count": null,
   "metadata": {},
   "outputs": [],
   "source": [
    "weo_ppp_long_2$income_levels <- cut(weo_ppp_long_2$NGDPRPPPPC,\n",
    "                                    breaks = c(0, 5000, 20000, max(weo_ppp_long_2$NGDPRPPPPC, na.rm = T)),\n",
    "                                    labels = c(\"L\", \"M\", \"H\"))"
   ]
  },
  {
   "cell_type": "code",
   "execution_count": null,
   "metadata": {},
   "outputs": [],
   "source": [
    "weo_ppp_long_2[,3:6]"
   ]
  },
  {
   "cell_type": "markdown",
   "metadata": {},
   "source": [
    "classInt package offers alternative methods for discretizing numeric values"
   ]
  },
  {
   "cell_type": "markdown",
   "metadata": {},
   "source": [
    "## Joining data"
   ]
  },
  {
   "cell_type": "markdown",
   "metadata": {},
   "source": [
    "Now let's import a second IMF dataset: 2016 values of international investment position of all countries"
   ]
  },
  {
   "cell_type": "code",
   "execution_count": null,
   "metadata": {},
   "outputs": [],
   "source": [
    "iip <- read.csv(\"data/Data_in_US_Dollars.csv\")"
   ]
  },
  {
   "cell_type": "code",
   "execution_count": null,
   "metadata": {},
   "outputs": [],
   "source": [
    "str(iip)"
   ]
  },
  {
   "cell_type": "markdown",
   "metadata": {},
   "source": [
    "Now similar to SQL joins, we will \"merge\" the weo_2016_wide and iip datasets using common \"WEO.Country.Code\" variable:"
   ]
  },
  {
   "cell_type": "code",
   "execution_count": null,
   "metadata": {},
   "outputs": [],
   "source": [
    "?merge"
   ]
  },
  {
   "cell_type": "markdown",
   "metadata": {},
   "source": [
    "```\n",
    "merge(x, y, by = intersect(names(x), names(y)),\n",
    "           by.x = by, by.y = by, all = FALSE, all.x = all, all.y = all,\n",
    "           sort = TRUE, suffixes = c(\".x\",\".y\"), no.dups = TRUE,\n",
    "           incomparables = NULL, ...)\n",
    "     \n",
    "Arguments:\n",
    "\n",
    "    x, y: data frames, or objects to be coerced to one.\n",
    "\n",
    "by, by.x, by.y: specifications of the columns used for merging.  See\n",
    "          ‘Details’.\n",
    "\n",
    "     all: logical; ‘all = L’ is shorthand for ‘all.x = L’ and ‘all.y =\n",
    "          L’, where ‘L’ is either ‘TRUE’ or ‘FALSE’.\n",
    "\n",
    "   all.x: logical; if ‘TRUE’, then extra rows will be added to the\n",
    "          output, one for each row in ‘x’ that has no matching row in\n",
    "          ‘y’.  These rows will have ‘NA’s in those columns that are\n",
    "          usually filled with values from ‘y’.  The default is ‘FALSE’,\n",
    "          so that only rows with data from both ‘x’ and ‘y’ are\n",
    "          included in the output.\n",
    "\n",
    "   all.y: logical; analogous to ‘all.x’.\n",
    "\n",
    "```"
   ]
  },
  {
   "cell_type": "code",
   "execution_count": null,
   "metadata": {},
   "outputs": [],
   "source": [
    "nrow(weo_2016_wide)\n",
    "nrow(iip)"
   ]
  },
  {
   "cell_type": "markdown",
   "metadata": {},
   "source": [
    "As we see iip table has more rows"
   ]
  },
  {
   "cell_type": "markdown",
   "metadata": {},
   "source": [
    "Let's see the rows that are common, that only weo_2016_wide have or that only iip have:"
   ]
  },
  {
   "cell_type": "code",
   "execution_count": null,
   "metadata": {},
   "outputs": [],
   "source": [
    "codes_weo <- weo_2016_wide$WEO.Country.Code\n",
    "codes_iip <- iip$WEO.Country.Code"
   ]
  },
  {
   "cell_type": "code",
   "execution_count": null,
   "metadata": {},
   "outputs": [],
   "source": [
    "codes_L <- setdiff(codes_weo, codes_iip)\n",
    "length(codes_L)"
   ]
  },
  {
   "cell_type": "code",
   "execution_count": null,
   "metadata": {},
   "outputs": [],
   "source": [
    "codes_R <- setdiff(codes_iip, codes_weo)\n",
    "length(codes_R)"
   ]
  },
  {
   "cell_type": "code",
   "execution_count": null,
   "metadata": {},
   "outputs": [],
   "source": [
    "codes_I <- intersect(codes_iip, codes_weo)\n",
    "length(codes_I)"
   ]
  },
  {
   "cell_type": "code",
   "execution_count": null,
   "metadata": {},
   "outputs": [],
   "source": [
    "codes_O <- union(codes_iip, codes_weo)\n",
    "length(codes_O)"
   ]
  },
  {
   "cell_type": "markdown",
   "metadata": {},
   "source": [
    "So in a total of 213 country codes, 5 are unique to weo, 19 are unique to iip and 189 are common across"
   ]
  },
  {
   "cell_type": "markdown",
   "metadata": {},
   "source": [
    "### Left Join"
   ]
  },
  {
   "cell_type": "markdown",
   "metadata": {},
   "source": [
    "First we make a \"left join\": We keep the country codes that weo have and do not add the codes unique to iip"
   ]
  },
  {
   "cell_type": "code",
   "execution_count": null,
   "metadata": {},
   "outputs": [],
   "source": [
    "weo_iip_2016_L <- merge(x = weo_2016_wide,\n",
    "                        y = iip,\n",
    "                        by = \"WEO.Country.Code\",\n",
    "                       all.x = T)"
   ]
  },
  {
   "cell_type": "code",
   "execution_count": null,
   "metadata": {},
   "outputs": [],
   "source": [
    "str(weo_iip_2016_L)"
   ]
  },
  {
   "cell_type": "markdown",
   "metadata": {},
   "source": [
    "12 new variables are added from iip, and number of rows is equal to that of weo_2016_wide"
   ]
  },
  {
   "cell_type": "markdown",
   "metadata": {},
   "source": [
    "Now let's select those rows where codes are unique to weo:"
   ]
  },
  {
   "cell_type": "code",
   "execution_count": null,
   "metadata": {},
   "outputs": [],
   "source": [
    "weo_iip_2016_L[weo_iip_2016_L$WEO.Country.Code %in% codes_L,]"
   ]
  },
  {
   "cell_type": "markdown",
   "metadata": {},
   "source": [
    "As those rows do not appear in iip, they are shown as NA in columns imported from iip"
   ]
  },
  {
   "cell_type": "markdown",
   "metadata": {},
   "source": [
    "### Right Join"
   ]
  },
  {
   "cell_type": "markdown",
   "metadata": {},
   "source": [
    "We now take the codes in iip as a basis:"
   ]
  },
  {
   "cell_type": "code",
   "execution_count": null,
   "metadata": {},
   "outputs": [],
   "source": [
    "weo_iip_2016_R <- merge(x = weo_2016_wide,\n",
    "                        y = iip,\n",
    "                        by = \"WEO.Country.Code\",\n",
    "                       all.y = T)"
   ]
  },
  {
   "cell_type": "code",
   "execution_count": null,
   "metadata": {},
   "outputs": [],
   "source": [
    "str(weo_iip_2016_R)"
   ]
  },
  {
   "cell_type": "markdown",
   "metadata": {},
   "source": [
    "Number of rows is equal to that of iip"
   ]
  },
  {
   "cell_type": "code",
   "execution_count": null,
   "metadata": {},
   "outputs": [],
   "source": [
    "weo_iip_2016_R[weo_iip_2016_R$WEO.Country.Code %in% codes_R,]"
   ]
  },
  {
   "cell_type": "markdown",
   "metadata": {},
   "source": [
    "When we filter the rows for the codes unique to iip, all values in the columns inherited from weo have only NA values"
   ]
  },
  {
   "cell_type": "markdown",
   "metadata": {},
   "source": [
    "### Inner Join"
   ]
  },
  {
   "cell_type": "markdown",
   "metadata": {},
   "source": [
    "Now we only select those codes common to both:"
   ]
  },
  {
   "cell_type": "code",
   "execution_count": null,
   "metadata": {},
   "outputs": [],
   "source": [
    "weo_iip_2016_I <- merge(x = weo_2016_wide,\n",
    "                        y = iip,\n",
    "                        by = \"WEO.Country.Code\",\n",
    "                       all = F)"
   ]
  },
  {
   "cell_type": "code",
   "execution_count": null,
   "metadata": {},
   "outputs": [],
   "source": [
    "str(weo_iip_2016_I)"
   ]
  },
  {
   "cell_type": "markdown",
   "metadata": {},
   "source": [
    "Number of rows is equal to the number of common codes"
   ]
  },
  {
   "cell_type": "code",
   "execution_count": null,
   "metadata": {},
   "outputs": [],
   "source": [
    "weo_iip_2016_I[weo_iip_2016_I$WEO.Country.Code %in% codes_I,]"
   ]
  },
  {
   "cell_type": "markdown",
   "metadata": {},
   "source": [
    "Apart from the data missing in the original DF's, all rows have data for the weo and iip columns  "
   ]
  },
  {
   "cell_type": "markdown",
   "metadata": {},
   "source": [
    "### Full Outer Join "
   ]
  },
  {
   "cell_type": "markdown",
   "metadata": {},
   "source": [
    "Now we include all codes:"
   ]
  },
  {
   "cell_type": "code",
   "execution_count": null,
   "metadata": {},
   "outputs": [],
   "source": [
    "weo_iip_2016_O <- merge(x = weo_2016_wide,\n",
    "                        y = iip,\n",
    "                        by = \"WEO.Country.Code\",\n",
    "                       all = T)"
   ]
  },
  {
   "cell_type": "code",
   "execution_count": null,
   "metadata": {},
   "outputs": [],
   "source": [
    "str(weo_iip_2016_O)"
   ]
  },
  {
   "cell_type": "markdown",
   "metadata": {},
   "source": [
    "Number of rows is equal to the length of the union set of codes from both sources"
   ]
  },
  {
   "cell_type": "code",
   "execution_count": null,
   "metadata": {},
   "outputs": [],
   "source": [
    "weo_iip_2016_O[weo_iip_2016_O$WEO.Country.Code %in% c(codes_L, codes_R),]"
   ]
  },
  {
   "cell_type": "markdown",
   "metadata": {},
   "source": [
    "When we filter for codes that are unique to either of weo or iip, we see that empty rows for both tables exist"
   ]
  },
  {
   "cell_type": "markdown",
   "metadata": {},
   "source": [
    "### Join income levels"
   ]
  },
  {
   "cell_type": "markdown",
   "metadata": {},
   "source": [
    "Now we will join the income level factors from weo_ppp_long_2 into weo_iip_2016_I (inner joined DF)"
   ]
  },
  {
   "cell_type": "code",
   "execution_count": null,
   "metadata": {},
   "outputs": [],
   "source": [
    "weo_iip_2016_I2 <- merge(x = weo_iip_2016_O,\n",
    "                        y = weo_ppp_long_2[weo_ppp_long_2$time == 2016,],\n",
    "                        by = \"WEO.Country.Code\",\n",
    "                       all.x = T)"
   ]
  },
  {
   "cell_type": "code",
   "execution_count": null,
   "metadata": {},
   "outputs": [],
   "source": [
    "weo_iip_2016_I2"
   ]
  },
  {
   "cell_type": "markdown",
   "metadata": {},
   "source": [
    "### Extension packages"
   ]
  },
  {
   "cell_type": "markdown",
   "metadata": {},
   "source": [
    "- dplyr and data.table has advancedfunctionality for joining data objects\n",
    "- sqldf package provides a unified interface to database engines as well as data frames over SQL queries. So SQL joins can be done on data objects"
   ]
  },
  {
   "cell_type": "markdown",
   "metadata": {},
   "source": [
    "## Aggregating and summarizing data "
   ]
  },
  {
   "cell_type": "markdown",
   "metadata": {},
   "source": [
    "### Number of countries by year and income level"
   ]
  },
  {
   "cell_type": "markdown",
   "metadata": {},
   "source": [
    "Let's first get the distribution of countries across income levels for all years using aggregate function:"
   ]
  },
  {
   "cell_type": "code",
   "execution_count": null,
   "metadata": {},
   "outputs": [],
   "source": [
    "?aggregate"
   ]
  },
  {
   "cell_type": "markdown",
   "metadata": {},
   "source": [
    "```\n",
    "     aggregate(x, ...)\n",
    "     \n",
    "     ## Default S3 method:\n",
    "     aggregate(x, ...)\n",
    "     \n",
    "     ## S3 method for class 'data.frame'\n",
    "     aggregate(x, by, FUN, ..., simplify = TRUE, drop = TRUE)\n",
    "     \n",
    "     ## S3 method for class 'formula'\n",
    "     aggregate(formula, data, FUN, ...,\n",
    "               subset, na.action = na.omit)\n",
    "     \n",
    "     ## S3 method for class 'ts'\n",
    "     aggregate(x, nfrequency = 1, FUN = sum, ndeltat = 1,\n",
    "               ts.eps = getOption(\"ts.eps\"), ...)\n",
    "     \n",
    "Arguments:\n",
    "\n",
    "       x: an R object.\n",
    "\n",
    "      by: a list of grouping elements, each as long as the variables in\n",
    "          the data frame ‘x’.  The elements are coerced to factors\n",
    "          before use.\n",
    "\n",
    "     FUN: a function to compute the summary statistics which can be\n",
    "          applied to all data subsets.\n",
    "\n",
    "simplify: a logical indicating whether results should be simplified to\n",
    "          a vector or matrix if possible.\n",
    "\n",
    "    drop: a logical indicating whether to drop unused combinations of\n",
    "          grouping values.  The non-default case ‘drop=FALSE’ has been\n",
    "          amended for R 3.5.0 to drop unused combinations.\n",
    "\n",
    " formula: a formula, such as ‘y ~ x’ or ‘cbind(y1, y2) ~ x1 + x2’,\n",
    "          where the ‘y’ variables are numeric data to be split into\n",
    "          groups according to the grouping ‘x’ variables (usually\n",
    "          factors).\n",
    "\n",
    "    data: a data frame (or list) from which the variables in formula\n",
    "          should be taken.\n",
    "```"
   ]
  },
  {
   "cell_type": "code",
   "execution_count": null,
   "metadata": {},
   "outputs": [],
   "source": [
    "str(weo_ppp_long_2)"
   ]
  },
  {
   "cell_type": "code",
   "execution_count": null,
   "metadata": {},
   "outputs": [],
   "source": [
    "income_years <- aggregate(weo_ppp_long_2$Country,\n",
    "                          by = as.list(weo_ppp_long_2[,c(\"time\",\"income_levels\")]),\n",
    "                          FUN = length)"
   ]
  },
  {
   "cell_type": "code",
   "execution_count": null,
   "metadata": {},
   "outputs": [],
   "source": [
    "str(income_years)"
   ]
  },
  {
   "cell_type": "markdown",
   "metadata": {},
   "source": [
    "Now let's reshape this object into a wide format so that we see levels on columns and years on rows:"
   ]
  },
  {
   "cell_type": "code",
   "execution_count": null,
   "metadata": {},
   "outputs": [],
   "source": [
    "income_years_wide <- reshape(income_years,\n",
    "                      idvar = \"time\",\n",
    "                      v.names = \"x\",\n",
    "                      timevar = \"income_levels\",\n",
    "                      direction = \"wide\")"
   ]
  },
  {
   "cell_type": "code",
   "execution_count": null,
   "metadata": {},
   "outputs": [],
   "source": [
    "income_years_wide"
   ]
  },
  {
   "cell_type": "code",
   "execution_count": null,
   "metadata": {
    "scrolled": false
   },
   "outputs": [],
   "source": [
    "plot(x = income_years_wide$time, y = income_years_wide$x.L, col = \"red\", type = \"l\", ylim = c(0, 110))\n",
    "lines(x = income_years_wide$time, income_years_wide$x.M, col = \"green\")\n",
    "lines(x = income_years_wide$time, income_years_wide$x.H, col = \"blue\")"
   ]
  },
  {
   "cell_type": "markdown",
   "metadata": {},
   "source": [
    "Over the last decade, while number of middle-income countries was stable, number of high-income countries increased and number of low-income countries decreased\n",
    "\n",
    "Since LI countries cannot promote to HI countries directly, this can be interpreted as the number of countries promoted from MI to HI is more or less equal to countries promoted from LI to MI "
   ]
  },
  {
   "cell_type": "markdown",
   "metadata": {},
   "source": [
    "### Average foreign asset and foreign liabilities"
   ]
  },
  {
   "cell_type": "code",
   "execution_count": null,
   "metadata": {},
   "outputs": [],
   "source": [
    "weo_iip_2016_I2"
   ]
  },
  {
   "cell_type": "code",
   "execution_count": null,
   "metadata": {},
   "outputs": [],
   "source": [
    "names(weo_iip_2016_I2)"
   ]
  },
  {
   "cell_type": "code",
   "execution_count": null,
   "metadata": {},
   "outputs": [],
   "source": [
    "str(weo_iip_2016_I2)"
   ]
  },
  {
   "cell_type": "markdown",
   "metadata": {},
   "source": [
    "Now three columns will be selected:\n",
    "\n",
    "- Assets\n",
    "- Direct.investment (in assets)\n",
    "- Liabilities\n",
    "- Direct.investment.1 (in liabilities)\n",
    "- Net.international.investment.position\n",
    "\n",
    "and they will be divided by GDP in USD (NGDPD) and the mean values for each income level will be found:"
   ]
  },
  {
   "cell_type": "code",
   "execution_count": null,
   "metadata": {},
   "outputs": [],
   "source": [
    "weo_iip_2016_I3 <- weo_iip_2016_I2[,c(\"Assets\", \"Direct.investment\", \"Liabilities\",\n",
    "                                      \"Direct.investment.1\",\n",
    "                                      \"Net.international.investment.position\")] /\n",
    "                                        weo_iip_2016_I2$NGDPD / 1000 * 100\n",
    "\n",
    "iip_level <- aggregate(weo_iip_2016_I3,\n",
    "                          by = list(weo_iip_2016_I2$income_levels),\n",
    "                          FUN = function(x) round(mean(x, na.rm = T), 2))"
   ]
  },
  {
   "cell_type": "code",
   "execution_count": null,
   "metadata": {},
   "outputs": [],
   "source": [
    "iip_level"
   ]
  },
  {
   "cell_type": "markdown",
   "metadata": {},
   "source": [
    "In low income countries net international investment position to GDP rations are highly negative and only a small portion of international assets is direct investments abroad. Total international investment openness is to a limited degree\n",
    "\n",
    "In high income countries, international investment position to GDP ratio is close to zero, however openness is extremely high: international assets is 7 times the GDP. Nearly half of international assets is of direct investment form and considering the sizes of their economies, the direct investment as assets and liabilities of high income countries must match each other (so they mostly invest in other high income countries)"
   ]
  },
  {
   "cell_type": "code",
   "execution_count": null,
   "metadata": {},
   "outputs": [],
   "source": []
  }
 ],
 "metadata": {
  "kernelspec": {
   "display_name": "R",
   "language": "R",
   "name": "ir"
  },
  "language_info": {
   "codemirror_mode": "r",
   "file_extension": ".r",
   "mimetype": "text/x-r-source",
   "name": "R",
   "pygments_lexer": "r",
   "version": "3.5.1"
  },
  "toc": {
   "base_numbering": 1,
   "nav_menu": {},
   "number_sections": true,
   "sideBar": true,
   "skip_h1_title": false,
   "title_cell": "Table of Contents",
   "title_sidebar": "Contents",
   "toc_cell": false,
   "toc_position": {
    "height": "646.8px",
    "left": "0px",
    "right": "1324px",
    "top": "135.2px",
    "width": "212px"
   },
   "toc_section_display": "block",
   "toc_window_display": false
  }
 },
 "nbformat": 4,
 "nbformat_minor": 2
}
